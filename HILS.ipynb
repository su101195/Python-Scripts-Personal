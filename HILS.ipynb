{
 "cells": [
  {
   "cell_type": "code",
   "execution_count": 73,
   "metadata": {},
   "outputs": [],
   "source": [
    "import yaml\n",
    "import copy\n",
    "import plotly.express as px\n",
    "import pandas as pd\n",
    "import numpy as np\n",
    "from scipy.spatial.transform import Rotation as R\n",
    "pd.options.plotting.backend = 'plotly'\n",
    "import plotly.graph_objects as go\n",
    "\n",
    "from mda_core import angle, constants as C, utils, expressions as E\n",
    "from mda_core.propagation import ephemeris, propagator\n",
    "from mda_core.propagation.state import State\n",
    "from mda_core.time import Time\n",
    "from pathlib import Path\n",
    "from mda_core import frames\n",
    "from mda_core.attitude import laws,attitude_providers\n",
    "from org.hipparchus.geometry.euclidean.threed import RotationConvention, Rotation,RotationOrder\n"
   ]
  },
  {
   "cell_type": "code",
   "execution_count": 74,
   "metadata": {},
   "outputs": [
    {
     "name": "stderr",
     "output_type": "stream",
     "text": [
      "\u001b[32m2024-07-01 18:32:42.301\u001b[0m | \u001b[34m\u001b[1mDEBUG   \u001b[0m | \u001b[36mmda_core.propagation.propagator\u001b[0m:\u001b[36m_get_integrator\u001b[0m:\u001b[36m85\u001b[0m - \u001b[34m\u001b[1mAdded Dormand Prince 853 integrator for propagation\u001b[0m\n",
      "\u001b[32m2024-07-01 18:32:42.361\u001b[0m | \u001b[34m\u001b[1mDEBUG   \u001b[0m | \u001b[36mmda_core.propagation.propagator\u001b[0m:\u001b[36m_get_numerical_forces_from_config\u001b[0m:\u001b[36m148\u001b[0m - \u001b[34m\u001b[1mAdded ITRF frame as earth body fixed frame\u001b[0m\n",
      "\u001b[32m2024-07-01 18:32:42.363\u001b[0m | \u001b[34m\u001b[1mDEBUG   \u001b[0m | \u001b[36mmda_core.propagation.propagator\u001b[0m:\u001b[36m_get_numerical_forces_from_config\u001b[0m:\u001b[36m156\u001b[0m - \u001b[34m\u001b[1mAdded gravity harmonics (model : eigen-6s, d x o : 33x33), for the body earth\u001b[0m\n",
      "\u001b[32m2024-07-01 18:32:42.363\u001b[0m | \u001b[34m\u001b[1mDEBUG   \u001b[0m | \u001b[36mmda_core.propagation.propagator\u001b[0m:\u001b[36m_get_numerical_forces_from_config\u001b[0m:\u001b[36m181\u001b[0m - \u001b[34m\u001b[1mAdded third body attraction force contribution from SUN\u001b[0m\n",
      "\u001b[32m2024-07-01 18:32:42.365\u001b[0m | \u001b[34m\u001b[1mDEBUG   \u001b[0m | \u001b[36mmda_core.propagation.propagator\u001b[0m:\u001b[36m_get_numerical_forces_from_config\u001b[0m:\u001b[36m181\u001b[0m - \u001b[34m\u001b[1mAdded third body attraction force contribution from MOON\u001b[0m\n",
      "\u001b[32m2024-07-01 18:32:42.367\u001b[0m | \u001b[34m\u001b[1mDEBUG   \u001b[0m | \u001b[36mmda_core.propagation.propagator\u001b[0m:\u001b[36m_get_numerical_forces_from_config\u001b[0m:\u001b[36m181\u001b[0m - \u001b[34m\u001b[1mAdded third body attraction force contribution from MARS\u001b[0m\n",
      "\u001b[32m2024-07-01 18:32:42.368\u001b[0m | \u001b[34m\u001b[1mDEBUG   \u001b[0m | \u001b[36mmda_core.propagation.propagator\u001b[0m:\u001b[36m_get_numerical_forces_from_config\u001b[0m:\u001b[36m181\u001b[0m - \u001b[34m\u001b[1mAdded third body attraction force contribution from JUPITER\u001b[0m\n",
      "\u001b[32m2024-07-01 18:32:42.369\u001b[0m | \u001b[34m\u001b[1mDEBUG   \u001b[0m | \u001b[36mmda_core.propagation.propagator\u001b[0m:\u001b[36m_get_numerical_forces_from_config\u001b[0m:\u001b[36m200\u001b[0m - \u001b[34m\u001b[1mAtmospheric activity set to AVERAGE\u001b[0m\n",
      "\u001b[32m2024-07-01 18:32:42.370\u001b[0m | \u001b[34m\u001b[1mDEBUG   \u001b[0m | \u001b[36mmda_core.propagation.propagator\u001b[0m:\u001b[36m_get_numerical_forces_from_config\u001b[0m:\u001b[36m215\u001b[0m - \u001b[34m\u001b[1mAdded drag force (model: NRLMSISE00) with area: 0.8, cd: 2.2\u001b[0m\n",
      "\u001b[32m2024-07-01 18:32:42.371\u001b[0m | \u001b[34m\u001b[1mDEBUG   \u001b[0m | \u001b[36mmda_core.propagation.propagator\u001b[0m:\u001b[36m_get_numerical_forces_from_config\u001b[0m:\u001b[36m239\u001b[0m - \u001b[34m\u001b[1mUsing single coefficient (reflection) model for SRP\u001b[0m\n",
      "\u001b[32m2024-07-01 18:32:42.372\u001b[0m | \u001b[34m\u001b[1mDEBUG   \u001b[0m | \u001b[36mmda_core.propagation.propagator\u001b[0m:\u001b[36m_get_numerical_forces_from_config\u001b[0m:\u001b[36m249\u001b[0m - \u001b[34m\u001b[1mAdded SRP force model with area 0.8\u001b[0m\n"
     ]
    }
   ],
   "source": [
    "altitude = 565.295\n",
    "MLTAN = \"22:30\"\n",
    "epoch = Time(\"2024-07-01\")\n",
    "state = State.build_from_sso_params(epoch, altitude, MLTAN)\n",
    "\n",
    "config_file = Path(\"C:/Users/Suraj/Documents/mda-core/tests/propagation/config_firefly.yml\")\n",
    "config = yaml.load(config_file.read_text(), yaml.FullLoader)\n",
    "\n",
    "    # Setting mass\n",
    "state.set_mass(55.0)\n",
    "prop = propagator.get_numerical_propagator(state, config, orbit_type=\"circular\")    "
   ]
  },
  {
   "cell_type": "code",
   "execution_count": 75,
   "metadata": {},
   "outputs": [],
   "source": [
    "date=Time(\"2024-07-01T12:40:00\")\n",
    "sun_axis=[0.2,-0.95,0.35]"
   ]
  },
  {
   "cell_type": "code",
   "execution_count": 76,
   "metadata": {},
   "outputs": [
    {
     "name": "stdout",
     "output_type": "stream",
     "text": [
      "Quaternion (q_w, q_x, q_y, q_z): (-0.5882930864743816, -0.5444713311314177, -0.3022973061703566, -0.515828026249615)\n"
     ]
    }
   ],
   "source": [
    "from org.orekit.utils import IERSConventions\n",
    "from org.orekit.frames import FramesFactory, TopocentricFrame\n",
    "from org.orekit.bodies import OneAxisEllipsoid, GeodeticPoint\n",
    "from org.orekit.time import AbsoluteDate\n",
    "# from org.orekit.orbits import PVCoordinates\n",
    "from org.orekit.utils import Constants\n",
    "# from org.orekit.utils import Rotation\n",
    "import numpy as np\n",
    "\n",
    "def enu_to_eci_quaternion(lat, lon, date):\n",
    "    # Set up the frames and ellipsoid\n",
    "    ITRF = FramesFactory.getITRF(IERSConventions.IERS_2010, True)\n",
    "    ECI = FramesFactory.getICRF()\n",
    "    ellipsoid = OneAxisEllipsoid(Constants.WGS84_EARTH_EQUATORIAL_RADIUS, \n",
    "                                 Constants.WGS84_EARTH_FLATTENING, ITRF)\n",
    "    \n",
    "    # Define the geodetic point\n",
    "    point = GeodeticPoint(lat,lon, 0.0)\n",
    "    topo = TopocentricFrame(ellipsoid, point, \"topo\")\n",
    "\n",
    "    # Get the transform from ECEF to ECI\n",
    "    ecef2eci_transform = ITRF.getTransformTo(ECI, date)\n",
    "    ecef2eci_rotation = ecef2eci_transform.getRotation()\n",
    "\n",
    "    # Get the transform from ENU to ECEF\n",
    "    enu2ecef_rotation = topo.getTransformTo(ITRF, date).getRotation()\n",
    "\n",
    "    # Combine the rotations\n",
    "    eci2enu_rotation = enu2ecef_rotation.compose(ecef2eci_rotation, RotationConvention.VECTOR_OPERATOR)    \n",
    "    # Convert to quaternion (w, x, y, z)\n",
    "    q = eci2enu_rotation.getQ0(), eci2enu_rotation.getQ1(), eci2enu_rotation.getQ2(), eci2enu_rotation.getQ3()\n",
    "    \n",
    "    return q\n",
    "\n",
    "# URSC lat, lon\n",
    "latitude = angle.deg2rad(12.961826)\n",
    "longitude = angle.deg2rad(77.654993)\n",
    "# date = AbsoluteDate.J2000_EPOCH  # Replace with the actual date you need\n",
    "\n",
    "quaternion = enu_to_eci_quaternion(latitude, longitude, date.get_absolutedate())\n",
    "print(\"Quaternion (q_w, q_x, q_y, q_z):\", quaternion)\n"
   ]
  },
  {
   "cell_type": "code",
   "execution_count": 77,
   "metadata": {},
   "outputs": [],
   "source": [
    "image=date+180"
   ]
  },
  {
   "cell_type": "code",
   "execution_count": 78,
   "metadata": {},
   "outputs": [
    {
     "data": {
      "text/plain": [
       "'2024-07-01T12:43:00.000000000'"
      ]
     },
     "execution_count": 78,
     "metadata": {},
     "output_type": "execute_result"
    }
   ],
   "source": [
    "image.get_isostring()"
   ]
  },
  {
   "cell_type": "code",
   "execution_count": 79,
   "metadata": {},
   "outputs": [
    {
     "data": {
      "text/plain": [
       "22.992937732003806"
      ]
     },
     "execution_count": 79,
     "metadata": {},
     "output_type": "execute_result"
    }
   ],
   "source": [
    "from org.hipparchus.geometry.euclidean.threed import Vector3D\n",
    "angle.rad2deg(Vector3D.angle(Vector3D.MINUS_J,utils.list_to_vector3d(sun_axis)))"
   ]
  },
  {
   "cell_type": "code",
   "execution_count": 80,
   "metadata": {},
   "outputs": [
    {
     "data": {
      "text/plain": [
       "78.82533155821795"
      ]
     },
     "execution_count": 80,
     "metadata": {},
     "output_type": "execute_result"
    }
   ],
   "source": [
    "from org.hipparchus.geometry.euclidean.threed import Vector3D\n",
    "angle.rad2deg(Vector3D.angle(Vector3D.PLUS_I,utils.list_to_vector3d(sun_axis)))"
   ]
  },
  {
   "cell_type": "code",
   "execution_count": 81,
   "metadata": {},
   "outputs": [
    {
     "data": {
      "text/plain": [
       "<Vector3D: {-925,445.9230522502; -6,141,661.938813525; -3,108,845.646783789}>"
      ]
     },
     "execution_count": 81,
     "metadata": {},
     "output_type": "execute_result"
    }
   ],
   "source": [
    "prop.getPVCoordinates(date.get_absolutedate(),frames.get_earth_J2000()).getPosition()"
   ]
  },
  {
   "cell_type": "code",
   "execution_count": 82,
   "metadata": {},
   "outputs": [
    {
     "data": {
      "text/plain": [
       "<Vector3D: {-1,614.1832571582; -3,143.6011899576; 6,697.1472504428}>"
      ]
     },
     "execution_count": 82,
     "metadata": {},
     "output_type": "execute_result"
    }
   ],
   "source": [
    "prop.getPVCoordinates(date.get_absolutedate(),frames.get_earth_J2000()).getVelocity()"
   ]
  },
  {
   "cell_type": "code",
   "execution_count": 83,
   "metadata": {},
   "outputs": [
    {
     "data": {
      "text/plain": [
       "[-0.2135184358755946,\n",
       " 0.558102237170169,\n",
       " 0.08845473572147133,\n",
       " 0.7969363400770081]"
      ]
     },
     "execution_count": 83,
     "metadata": {},
     "output_type": "execute_result"
    }
   ],
   "source": [
    "[laws.get_sun_pointing_with_nadir_phasing(sun_axis,[0,0,1]).getAttitude(prop,date.get_absolutedate(),frames.get_earth_J2000()).getRotation().getQ0(),laws.get_sun_pointing_with_nadir_phasing(sun_axis,[0,0,1]).getAttitude(prop,date.get_absolutedate(),frames.get_earth_J2000()).getRotation().getQ1(),laws.get_sun_pointing_with_nadir_phasing(sun_axis,[0,0,1]).getAttitude(prop,date.get_absolutedate(),frames.get_earth_J2000()).getRotation().getQ2(),laws.get_sun_pointing_with_nadir_phasing(sun_axis,[0,0,1]).getAttitude(prop,date.get_absolutedate(),frames.get_earth_J2000()).getRotation().getQ3()]"
   ]
  },
  {
   "cell_type": "code",
   "execution_count": 84,
   "metadata": {},
   "outputs": [
    {
     "data": {
      "text/plain": [
       "(-15.075274717042728, -68.02042583775888, -139.79833869900898)"
      ]
     },
     "execution_count": 84,
     "metadata": {},
     "output_type": "execute_result"
    }
   ],
   "source": [
    "RPYAngles=laws.get_sun_pointing_with_nadir_phasing(sun_axis,[0,0,1]).getAttitude(prop,date.get_absolutedate(),frames.get_earth_J2000()).getRotation().getAngles(RotationOrder.ZYX, RotationConvention.FRAME_TRANSFORM)\n",
    "#RPYAngles=laws.get_nadir_pointing().getAttitude(prop,date.get_absolutedate(),frames.get_earth_J2000()).getRotation().getAngles(RotationOrder.ZYX, RotationConvention.FRAME_TRANSFORM)\n",
    "R = angle.convert_angle(RPYAngles[2], \"rad\", \"deg\")\n",
    "P = angle.convert_angle(RPYAngles[1], \"rad\", \"deg\")\n",
    "Y = angle.convert_angle(RPYAngles[0], \"rad\", \"deg\")\n",
    "R,P,Y"
   ]
  },
  {
   "cell_type": "code",
   "execution_count": 85,
   "metadata": {},
   "outputs": [],
   "source": [
    "rot_body=laws.get_sun_pointing_with_nadir_phasing(sun_axis,[0,0,1]).getAttitude(prop,date.get_absolutedate(),frames.get_earth_J2000()).getRotation()"
   ]
  },
  {
   "cell_type": "code",
   "execution_count": 86,
   "metadata": {},
   "outputs": [],
   "source": [
    "from org.orekit.frames import LOFType\n",
    "from org.orekit.attitudes import LofOffset\n",
    "from org.hipparchus.geometry.euclidean.threed import RotationOrder\n",
    "lvlh  =LofOffset(frames.get_earth_J2000(),LOFType.LVLH_CCSDS)"
   ]
  },
  {
   "cell_type": "code",
   "execution_count": 87,
   "metadata": {},
   "outputs": [],
   "source": [
    "LVLH=lvlh.getAttitude(prop,date.get_absolutedate(),frames.get_earth_J2000()).getRotation()\n",
    "rotation = rot_body.applyTo(LVLH.revert())\n",
    "\n",
    "RPYAngles = rotation.getAngles(RotationOrder.ZYX, RotationConvention.FRAME_TRANSFORM)\n",
    "\n",
    "R = angle.convert_angle(RPYAngles[2], \"rad\", \"deg\")\n",
    "P = angle.convert_angle(RPYAngles[1], \"rad\", \"deg\")\n",
    "Y = angle.convert_angle(RPYAngles[0], \"rad\", \"deg\")"
   ]
  },
  {
   "cell_type": "code",
   "execution_count": 88,
   "metadata": {},
   "outputs": [
    {
     "data": {
      "text/plain": [
       "[-0.8936498693547003,\n",
       " 0.4382327430087806,\n",
       " 0.051193327320243696,\n",
       " 0.08198302992210973]"
      ]
     },
     "execution_count": 88,
     "metadata": {},
     "output_type": "execute_result"
    }
   ],
   "source": [
    "[rotation.getQ0(),rotation.getQ1(),rotation.getQ2(),rotation.getQ3()]"
   ]
  },
  {
   "cell_type": "code",
   "execution_count": 89,
   "metadata": {},
   "outputs": [
    {
     "data": {
      "text/plain": [
       "(-51.758538022018804, -9.401577015834905, -5.914437105677806)"
      ]
     },
     "execution_count": 89,
     "metadata": {},
     "output_type": "execute_result"
    }
   ],
   "source": [
    "R,P,Y"
   ]
  },
  {
   "cell_type": "code",
   "execution_count": 90,
   "metadata": {},
   "outputs": [
    {
     "data": {
      "text/plain": [
       "<Vector3D: {0.000000177; 0.000000071; -0.0000000255}>"
      ]
     },
     "execution_count": 90,
     "metadata": {},
     "output_type": "execute_result"
    }
   ],
   "source": [
    "laws.get_sun_pointing_with_nadir_phasing(sun_axis,[0,0,1]).getAttitude(prop,date.get_absolutedate(),frames.get_earth_J2000()).getSpin()"
   ]
  }
 ],
 "metadata": {
  "kernelspec": {
   "display_name": "Python 3",
   "language": "python",
   "name": "python3"
  },
  "language_info": {
   "codemirror_mode": {
    "name": "ipython",
    "version": 3
   },
   "file_extension": ".py",
   "mimetype": "text/x-python",
   "name": "python",
   "nbconvert_exporter": "python",
   "pygments_lexer": "ipython3",
   "version": "3.10.13"
  }
 },
 "nbformat": 4,
 "nbformat_minor": 2
}
