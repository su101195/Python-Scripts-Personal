{
 "cells": [
  {
   "cell_type": "code",
   "execution_count": 6,
   "metadata": {},
   "outputs": [],
   "source": [
    "import pandas as pd\n",
    "import numpy as np\n",
    "from pathlib import Path\n",
    "from mda_core.time import Time\n",
    "from mda_core import angle, utils\n",
    "from mda_core import constants as C\n",
    "from mda_core import frames\n",
    "from org.orekit.models.earth import GeoMagneticField,GeoMagneticFieldFactory\n",
    "from org.orekit.bodies import OneAxisEllipsoid"
   ]
  },
  {
   "cell_type": "code",
   "execution_count": 7,
   "metadata": {},
   "outputs": [],
   "source": [
    "Flag = 2\n",
    "if Flag == 1:\n",
    "    Filepath = r'../data/D2-FC-GeneralTM.csv'\n",
    "elif Flag == 2:\n",
    "    Filepath = r'../data/shakuntala-ADCS-20231222.csv'\n",
    "elif Flag == 3:\n",
    "    Filepath = r'../data/set7_true_data_sws.csv'\n",
    "else:\n",
    "    raise FileExistsError(\"File Not found!\")"
   ]
  },
  {
   "cell_type": "code",
   "execution_count": 8,
   "metadata": {},
   "outputs": [],
   "source": [
    "tm = pd.DataFrame()\n",
    "SunMag = pd.DataFrame()\n",
    "msmt = {\n",
    "'time':[],\n",
    "'BField': []\n",
    "}\n",
    "Sun_eph = {\n",
    "'time': [],\n",
    "'Px': [],\n",
    "'Py': [],\n",
    "'Pz': []\n",
    "}"
   ]
  },
  {
   "cell_type": "code",
   "execution_count": 9,
   "metadata": {},
   "outputs": [
    {
     "data": {
      "text/html": [
       "<div>\n",
       "<style scoped>\n",
       "    .dataframe tbody tr th:only-of-type {\n",
       "        vertical-align: middle;\n",
       "    }\n",
       "\n",
       "    .dataframe tbody tr th {\n",
       "        vertical-align: top;\n",
       "    }\n",
       "\n",
       "    .dataframe thead th {\n",
       "        text-align: right;\n",
       "    }\n",
       "</style>\n",
       "<table border=\"1\" class=\"dataframe\">\n",
       "  <thead>\n",
       "    <tr style=\"text-align: right;\">\n",
       "      <th></th>\n",
       "      <th>Version</th>\n",
       "      <th>VersionReserved</th>\n",
       "      <th>timestamp</th>\n",
       "      <th>SunSensor_0_Vector_0</th>\n",
       "      <th>SunSensor_0_Vector_1</th>\n",
       "      <th>SunSensor_0_Vector_2</th>\n",
       "      <th>SunSensor_0_Temperature</th>\n",
       "      <th>SunSensor_0_DataValid</th>\n",
       "      <th>SunSensor_0_TemperatureValid</th>\n",
       "      <th>SunSensor_0_dT_Ms</th>\n",
       "      <th>...</th>\n",
       "      <th>Debug_2</th>\n",
       "      <th>Debug_3</th>\n",
       "      <th>Debug_4</th>\n",
       "      <th>Debug_5</th>\n",
       "      <th>Debug_6</th>\n",
       "      <th>Debug_7</th>\n",
       "      <th>Debug_8</th>\n",
       "      <th>EndMarker</th>\n",
       "      <th>Allign</th>\n",
       "      <th>Unnamed: 309</th>\n",
       "    </tr>\n",
       "  </thead>\n",
       "  <tbody>\n",
       "    <tr>\n",
       "      <th>0</th>\n",
       "      <td>6</td>\n",
       "      <td>0</td>\n",
       "      <td>1703202720</td>\n",
       "      <td>0.0</td>\n",
       "      <td>0.0</td>\n",
       "      <td>0.0</td>\n",
       "      <td>-6.34375</td>\n",
       "      <td>1</td>\n",
       "      <td>1</td>\n",
       "      <td>0</td>\n",
       "      <td>...</td>\n",
       "      <td>0</td>\n",
       "      <td>0</td>\n",
       "      <td>0</td>\n",
       "      <td>0</td>\n",
       "      <td>0</td>\n",
       "      <td>0</td>\n",
       "      <td>0</td>\n",
       "      <td>4099975969</td>\n",
       "      <td>0</td>\n",
       "      <td>NaN</td>\n",
       "    </tr>\n",
       "    <tr>\n",
       "      <th>1</th>\n",
       "      <td>6</td>\n",
       "      <td>0</td>\n",
       "      <td>1703202780</td>\n",
       "      <td>0.0</td>\n",
       "      <td>0.0</td>\n",
       "      <td>0.0</td>\n",
       "      <td>-6.84375</td>\n",
       "      <td>1</td>\n",
       "      <td>1</td>\n",
       "      <td>0</td>\n",
       "      <td>...</td>\n",
       "      <td>0</td>\n",
       "      <td>0</td>\n",
       "      <td>0</td>\n",
       "      <td>0</td>\n",
       "      <td>0</td>\n",
       "      <td>0</td>\n",
       "      <td>0</td>\n",
       "      <td>4099975969</td>\n",
       "      <td>0</td>\n",
       "      <td>NaN</td>\n",
       "    </tr>\n",
       "    <tr>\n",
       "      <th>2</th>\n",
       "      <td>6</td>\n",
       "      <td>0</td>\n",
       "      <td>1703202840</td>\n",
       "      <td>0.0</td>\n",
       "      <td>0.0</td>\n",
       "      <td>0.0</td>\n",
       "      <td>-7.18750</td>\n",
       "      <td>1</td>\n",
       "      <td>1</td>\n",
       "      <td>0</td>\n",
       "      <td>...</td>\n",
       "      <td>0</td>\n",
       "      <td>0</td>\n",
       "      <td>0</td>\n",
       "      <td>0</td>\n",
       "      <td>0</td>\n",
       "      <td>0</td>\n",
       "      <td>0</td>\n",
       "      <td>4099975969</td>\n",
       "      <td>0</td>\n",
       "      <td>NaN</td>\n",
       "    </tr>\n",
       "    <tr>\n",
       "      <th>3</th>\n",
       "      <td>6</td>\n",
       "      <td>0</td>\n",
       "      <td>1703202900</td>\n",
       "      <td>0.0</td>\n",
       "      <td>0.0</td>\n",
       "      <td>0.0</td>\n",
       "      <td>-7.50000</td>\n",
       "      <td>1</td>\n",
       "      <td>1</td>\n",
       "      <td>0</td>\n",
       "      <td>...</td>\n",
       "      <td>0</td>\n",
       "      <td>0</td>\n",
       "      <td>0</td>\n",
       "      <td>0</td>\n",
       "      <td>0</td>\n",
       "      <td>0</td>\n",
       "      <td>0</td>\n",
       "      <td>4099975969</td>\n",
       "      <td>0</td>\n",
       "      <td>NaN</td>\n",
       "    </tr>\n",
       "    <tr>\n",
       "      <th>4</th>\n",
       "      <td>6</td>\n",
       "      <td>0</td>\n",
       "      <td>1703202960</td>\n",
       "      <td>0.0</td>\n",
       "      <td>0.0</td>\n",
       "      <td>0.0</td>\n",
       "      <td>-7.93750</td>\n",
       "      <td>1</td>\n",
       "      <td>1</td>\n",
       "      <td>0</td>\n",
       "      <td>...</td>\n",
       "      <td>0</td>\n",
       "      <td>0</td>\n",
       "      <td>0</td>\n",
       "      <td>0</td>\n",
       "      <td>0</td>\n",
       "      <td>0</td>\n",
       "      <td>0</td>\n",
       "      <td>4099975969</td>\n",
       "      <td>0</td>\n",
       "      <td>NaN</td>\n",
       "    </tr>\n",
       "  </tbody>\n",
       "</table>\n",
       "<p>5 rows × 310 columns</p>\n",
       "</div>"
      ],
      "text/plain": [
       "   Version  VersionReserved   timestamp  SunSensor_0_Vector_0  \\\n",
       "0        6                0  1703202720                   0.0   \n",
       "1        6                0  1703202780                   0.0   \n",
       "2        6                0  1703202840                   0.0   \n",
       "3        6                0  1703202900                   0.0   \n",
       "4        6                0  1703202960                   0.0   \n",
       "\n",
       "   SunSensor_0_Vector_1  SunSensor_0_Vector_2  SunSensor_0_Temperature  \\\n",
       "0                   0.0                   0.0                 -6.34375   \n",
       "1                   0.0                   0.0                 -6.84375   \n",
       "2                   0.0                   0.0                 -7.18750   \n",
       "3                   0.0                   0.0                 -7.50000   \n",
       "4                   0.0                   0.0                 -7.93750   \n",
       "\n",
       "   SunSensor_0_DataValid  SunSensor_0_TemperatureValid  SunSensor_0_dT_Ms  \\\n",
       "0                      1                             1                  0   \n",
       "1                      1                             1                  0   \n",
       "2                      1                             1                  0   \n",
       "3                      1                             1                  0   \n",
       "4                      1                             1                  0   \n",
       "\n",
       "   ...  Debug_2  Debug_3  Debug_4  Debug_5  Debug_6  Debug_7  Debug_8  \\\n",
       "0  ...        0        0        0        0        0        0        0   \n",
       "1  ...        0        0        0        0        0        0        0   \n",
       "2  ...        0        0        0        0        0        0        0   \n",
       "3  ...        0        0        0        0        0        0        0   \n",
       "4  ...        0        0        0        0        0        0        0   \n",
       "\n",
       "    EndMarker  Allign  Unnamed: 309  \n",
       "0  4099975969       0           NaN  \n",
       "1  4099975969       0           NaN  \n",
       "2  4099975969       0           NaN  \n",
       "3  4099975969       0           NaN  \n",
       "4  4099975969       0           NaN  \n",
       "\n",
       "[5 rows x 310 columns]"
      ]
     },
     "execution_count": 9,
     "metadata": {},
     "output_type": "execute_result"
    }
   ],
   "source": [
    "tm = pd.read_csv(Filepath)\n",
    "tm.head()"
   ]
  },
  {
   "cell_type": "code",
   "execution_count": 10,
   "metadata": {},
   "outputs": [
    {
     "data": {
      "text/plain": [
       "Index(['time', 'BField'], dtype='object')"
      ]
     },
     "execution_count": 10,
     "metadata": {},
     "output_type": "execute_result"
    }
   ],
   "source": [
    "igrfyear = GeoMagneticField.getDecimalYear(1,4,2024)\n",
    "model = GeoMagneticFieldFactory.getWMM(igrfyear)\n",
    "fr_gcrf = frames.get_earth_GCRF()\n",
    "earth = OneAxisEllipsoid(C.EARTH_RADIUS,C.EARTH_FLATTENING,frames.get_earth_GCRF())\n",
    "if Flag == 1:\n",
    "    for index,sample in tm.iterrows():\n",
    "        t = Time(pd.to_datetime(sample['timestamp'], unit='s'))\n",
    "        time = t.get_absolutedate()\n",
    "        lat_rad = float(angle.deg2rad(sample['gpsLatitude']))\n",
    "        long_rad = float(angle.deg2rad(sample['gpsLongitude']))\n",
    "        alt_m = float(sample['gpsAltitudeMeters'])\n",
    "        igrf = model.calculateField(lat_rad,long_rad,alt_m)\n",
    "        igrf = igrf.getFieldVector()\n",
    "        SunP = C.SUN_PV.getPVCoordinates(time,fr_gcrf).getPosition()\n",
    "        Sun_eph['time'].append(t.get_datetime())\n",
    "        Sun_eph['Px'].append(SunP.getX())\n",
    "        Sun_eph['Py'].append(SunP.getY())\n",
    "        Sun_eph['Pz'].append(SunP.getZ())\n",
    "        msmt['time'].append(t.get_datetime())\n",
    "        msmt['BField'].append(igrf)\n",
    "elif Flag == 2:\n",
    "    for index,sample in tm.iterrows():\n",
    "        t = Time(pd.to_datetime(sample['SatelitePosition_UnixTime'],unit='s'))\n",
    "        time = t.get_absolutedate()\n",
    "        posx = sample['SatelitePosition_ro_m_0']\n",
    "        posy = sample['SatelitePosition_ro_m_1']\n",
    "        posz = sample['SatelitePosition_ro_m_2']\n",
    "        position = utils.list_to_vector3d([posx,posy,posz])\n",
    "        gp = earth.transform(position,earth.getBodyFrame(),time)\n",
    "        lat_rad = float(gp.getLatitude())\n",
    "        long_rad = float(gp.getLongitude())\n",
    "        alt_m = float(gp.getAltitude())\n",
    "        igrf = model.calculateField(lat_rad,long_rad,alt_m)\n",
    "        igrf = igrf.getFieldVector()\n",
    "        SunP = C.SUN_PV.getPVCoordinates(time,fr_gcrf).getPosition()\n",
    "        Sun_eph['time'].append(t.get_datetime())\n",
    "        Sun_eph['Px'].append(SunP.getX())\n",
    "        Sun_eph['Py'].append(SunP.getY())\n",
    "        Sun_eph['Pz'].append(SunP.getZ())\n",
    "        msmt['time'].append(t.get_datetime())\n",
    "        msmt['BField'].append(igrf)\n",
    "elif Flag == 3:\n",
    "     for index,sample in tm.iterrows():\n",
    "        t = Time(pd.to_datetime(sample['time']))\n",
    "        time = t.get_absolutedate()\n",
    "        posx = sample['Px']\n",
    "        posy = sample['Py']\n",
    "        posz = sample['Pz']\n",
    "        position = utils.list_to_vector3d([posx,posy,posz])\n",
    "        gp = earth.transform(position,earth.getBodyFrame(),time)\n",
    "        lat_rad = float(gp.getLatitude())\n",
    "        long_rad = float(gp.getLongitude())\n",
    "        alt_m = float(gp.getAltitude())\n",
    "        igrf = model.calculateField(lat_rad,long_rad,alt_m)\n",
    "        igrf = igrf.getFieldVector()\n",
    "        SunP = C.SUN_PV.getPVCoordinates(time,fr_gcrf).getPosition()\n",
    "        Sun_eph['time'].append(t.get_datetime())\n",
    "        Sun_eph['Px'].append(SunP.getX())\n",
    "        Sun_eph['Py'].append(SunP.getY())\n",
    "        Sun_eph['Pz'].append(SunP.getZ())\n",
    "        msmt['time'].append(t.get_datetime())\n",
    "        msmt['BField'].append(igrf)    \n",
    "\n",
    "Suneph_df = pd.DataFrame(Sun_eph)\n",
    "Msmt_df = pd.DataFrame(msmt)\n",
    "Msmt_df.columns"
   ]
  },
  {
   "cell_type": "code",
   "execution_count": 11,
   "metadata": {},
   "outputs": [],
   "source": [
    "SunMag['Time'] = Suneph_df['time']\n",
    "SunMag['Sun PX'] = Suneph_df['Px']\n",
    "SunMag['Sun PY'] = Suneph_df['Py']\n",
    "SunMag['Sun PZ'] = Suneph_df['Pz']\n",
    "SunMag['Bfield (nT)'] = msmt['BField']"
   ]
  },
  {
   "cell_type": "code",
   "execution_count": 12,
   "metadata": {},
   "outputs": [],
   "source": [
    "SunMag.to_csv('ECIvector.csv',index=False)"
   ]
  },
  {
   "cell_type": "code",
   "execution_count": 13,
   "metadata": {},
   "outputs": [
    {
     "data": {
      "text/plain": [
       "<GeoMagneticElements: MagneticField[B={24,608.028; 1,814.723; 26,296.457},H=24,674.851,F=36,060.393,I=0.817,D=0.074]>"
      ]
     },
     "metadata": {},
     "output_type": "display_data"
    }
   ],
   "source": [
    "igrfyear = GeoMagneticField.getDecimalYear(1,4,2024)\n",
    "igrfyear\n",
    "mod = GeoMagneticFieldFactory.getWMM(2024.0)\n",
    "igrf = mod.calculateField(0.5570752098432994, 0.5061478466338231, 420562.46875)\n",
    "display(igrf)"
   ]
  },
  {
   "cell_type": "code",
   "execution_count": 14,
   "metadata": {},
   "outputs": [
    {
     "data": {
      "text/plain": [
       "2"
      ]
     },
     "execution_count": 14,
     "metadata": {},
     "output_type": "execute_result"
    }
   ],
   "source": [
    "len(msmt)"
   ]
  },
  {
   "cell_type": "code",
   "execution_count": 15,
   "metadata": {},
   "outputs": [
    {
     "data": {
      "text/plain": [
       "36060.393236608405"
      ]
     },
     "execution_count": 15,
     "metadata": {},
     "output_type": "execute_result"
    }
   ],
   "source": [
    "igrf.getTotalIntensity()"
   ]
  },
  {
   "cell_type": "code",
   "execution_count": 16,
   "metadata": {},
   "outputs": [
    {
     "data": {
      "text/plain": [
       "-0.6900801149673693"
      ]
     },
     "execution_count": 16,
     "metadata": {},
     "output_type": "execute_result"
    }
   ],
   "source": [
    "gp.getLatitude()"
   ]
  }
 ],
 "metadata": {
  "kernelspec": {
   "display_name": "fds-core-env",
   "language": "python",
   "name": "python3"
  },
  "language_info": {
   "codemirror_mode": {
    "name": "ipython",
    "version": 3
   },
   "file_extension": ".py",
   "mimetype": "text/x-python",
   "name": "python",
   "nbconvert_exporter": "python",
   "pygments_lexer": "ipython3",
   "version": "3.10.14"
  }
 },
 "nbformat": 4,
 "nbformat_minor": 2
}
