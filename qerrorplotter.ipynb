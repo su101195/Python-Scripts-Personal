{
 "cells": [
  {
   "cell_type": "code",
   "execution_count": 1,
   "metadata": {},
   "outputs": [],
   "source": [
    "from pathlib import Path\n",
    "from __future__ import annotations\n",
    "import yaml\n",
    "import pandas as pd\n",
    "import requests\n",
    "from io import StringIO\n",
    "import numpy as np\n",
    "from scipy.io import loadmat\n",
    "import plotly.express as px\n",
    "import plotly.graph_objects as go\n",
    "import os\n",
    "import h5py\n",
    "\n",
    "from mda_core import constants as C, utils\n",
    "from mda_core.attitude import laws\n",
    "from mda_core.propagation import  propagator\n",
    "from mda_core.time import Time\n",
    "\n",
    "from org.orekit.frames import FramesFactory\n",
    "from org.orekit.utils import TimeStampedPVCoordinates\n",
    "from org.orekit.propagation import SpacecraftState\n",
    "from org.orekit.orbits import CartesianOrbit\n",
    "from mda_core import frames\n",
    "from org.orekit.utils import IERSConventions, PVCoordinates\n",
    "from mda_core.attitude.attitude_providers import ManueverPointingL1,EclipsePointingL1\n",
    "from org.hipparchus.geometry.euclidean.threed import Rotation,Vector3D"
   ]
  },
  {
   "cell_type": "markdown",
   "metadata": {},
   "source": [
    "# Query files from HTTP Server"
   ]
  },
  {
   "cell_type": "code",
   "execution_count": 2,
   "metadata": {},
   "outputs": [],
   "source": [
    "month = '09'\n",
    "day = '19'\n",
    "hour = '17'\n",
    "min = '18'\n",
    "sec = '08'\n",
    "run_no = '3'\n",
    "\n",
    "sub_folder_path = f'../results/logs_2024_{month}_{day}_{hour}_{min}_{sec}/'\n",
    "\n",
    "# Create the folder if it doesn't exist\n",
    "os.makedirs(sub_folder_path, exist_ok=True)\n",
    "\n",
    "# All Basilisk files required for Analysis later\n",
    "url1 = f'http://localhost:8000/RefProfPathway{run_no}/logs_2024_{month}_{day}-{hour}_{min}_{sec}/csv/FswModels.aocsLayerModule.aocsDataMsg.q_BodyInertial_ref.csv'\n",
    "url2 = f'http://localhost:8000/RefProfPathway{run_no}/logs_2024_{month}_{day}-{hour}_{min}_{sec}/csv/FswModels.aocsLayerModule.aocsDataMsg.v_satPos_Inertial_est.csv'\n",
    "url3 = f'http://localhost:8000/RefProfPathway{run_no}/logs_2024_{month}_{day}-{hour}_{min}_{sec}/csv/FswModels.aocsLayerModule.aocsDataMsg.v_satVel_Inertial_est.csv'\n",
    "url4 = f'http://localhost:8000/RefProfPathway{run_no}/logs_2024_{month}_{day}-{hour}_{min}_{sec}/csv/FswModels.aocsLayerModule.aocsDataMsg.v_satPosJ2_calc.csv'\n",
    "url5 = f'http://localhost:8000/RefProfPathway{run_no}/logs_2024_{month}_{day}-{hour}_{min}_{sec}/csv/FswModels.aocsLayerModule.aocsDataMsg.v_satVelJ2_calc.csv'\n",
    "url6 = f'http://localhost:8000/RefProfPathway{run_no}/logs_2024_{month}_{day}-{hour}_{min}_{sec}/csv/FswModels.aocsLayerModule.aocsDataMsg.s_JulianDay_ref.csv'\n",
    "url7 = f'http://localhost:8000/RefProfPathway{run_no}/logs_2024_{month}_{day}-{hour}_{min}_{sec}/csv/FswModels.aocsLayerModule.aocsDataMsg.s_numberOperation.csv'"
   ]
  },
  {
   "cell_type": "code",
   "execution_count": 3,
   "metadata": {},
   "outputs": [],
   "source": [
    "# Fetch the CSV files\n",
    "response1 = requests.get(url1, verify=False)  # verify=False to bypass SSL verification if needed\n",
    "response2 = requests.get(url2, verify=False)\n",
    "response3 = requests.get(url3, verify=False)\n",
    "response4 = requests.get(url4, verify=False)\n",
    "response5 = requests.get(url5, verify=False)\n",
    "response6 = requests.get(url6, verify=False)\n",
    "response7 = requests.get(url7, verify=False)\n",
    "\n",
    "# Check if the requests were successful\n",
    "if response1.status_code == 200 and response2.status_code == 200 and response3.status_code == 200 and response4.status_code == 200 and response5.status_code == 200 and response6.status_code == 200:\n",
    "    # Convert the content to DataFrames\n",
    "    df_basilisk = pd.read_csv(StringIO(response1.text))\n",
    "    df3 = pd.read_csv(StringIO(response2.text))\n",
    "    df4 = pd.read_csv(StringIO(response3.text))\n",
    "    df2 = pd.read_csv(StringIO(response4.text))\n",
    "    df6 = pd.read_csv(StringIO(response5.text))\n",
    "    df7 = pd.read_csv(StringIO(response6.text))\n",
    "    df10 = pd.read_csv(StringIO(response7.text))\n",
    "else:\n",
    "    print(f\"Failed to fetch CSV files!\")"
   ]
  },
  {
   "cell_type": "code",
   "execution_count": 4,
   "metadata": {},
   "outputs": [
    {
     "data": {
      "text/html": [
       "<div>\n",
       "<style scoped>\n",
       "    .dataframe tbody tr th:only-of-type {\n",
       "        vertical-align: middle;\n",
       "    }\n",
       "\n",
       "    .dataframe tbody tr th {\n",
       "        vertical-align: top;\n",
       "    }\n",
       "\n",
       "    .dataframe thead th {\n",
       "        text-align: right;\n",
       "    }\n",
       "</style>\n",
       "<table border=\"1\" class=\"dataframe\">\n",
       "  <thead>\n",
       "    <tr style=\"text-align: right;\">\n",
       "      <th></th>\n",
       "      <th># Time (s)</th>\n",
       "      <th>q_BodyInertial_ref[0]</th>\n",
       "      <th>q_BodyInertial_ref[1]</th>\n",
       "      <th>q_BodyInertial_ref[2]</th>\n",
       "      <th>q_BodyInertial_ref[3]</th>\n",
       "    </tr>\n",
       "  </thead>\n",
       "  <tbody>\n",
       "    <tr>\n",
       "      <th>0</th>\n",
       "      <td>0.0</td>\n",
       "      <td>1.000000</td>\n",
       "      <td>0.000000</td>\n",
       "      <td>0.000000</td>\n",
       "      <td>0.000000</td>\n",
       "    </tr>\n",
       "    <tr>\n",
       "      <th>1</th>\n",
       "      <td>0.1</td>\n",
       "      <td>1.000000</td>\n",
       "      <td>0.000000</td>\n",
       "      <td>0.000000</td>\n",
       "      <td>0.000000</td>\n",
       "    </tr>\n",
       "    <tr>\n",
       "      <th>2</th>\n",
       "      <td>0.2</td>\n",
       "      <td>1.000000</td>\n",
       "      <td>0.000000</td>\n",
       "      <td>0.000000</td>\n",
       "      <td>0.000000</td>\n",
       "    </tr>\n",
       "    <tr>\n",
       "      <th>3</th>\n",
       "      <td>0.3</td>\n",
       "      <td>1.000000</td>\n",
       "      <td>0.000000</td>\n",
       "      <td>0.000000</td>\n",
       "      <td>0.000000</td>\n",
       "    </tr>\n",
       "    <tr>\n",
       "      <th>4</th>\n",
       "      <td>0.4</td>\n",
       "      <td>1.000000</td>\n",
       "      <td>0.000000</td>\n",
       "      <td>0.000000</td>\n",
       "      <td>0.000000</td>\n",
       "    </tr>\n",
       "    <tr>\n",
       "      <th>...</th>\n",
       "      <td>...</td>\n",
       "      <td>...</td>\n",
       "      <td>...</td>\n",
       "      <td>...</td>\n",
       "      <td>...</td>\n",
       "    </tr>\n",
       "    <tr>\n",
       "      <th>3596</th>\n",
       "      <td>359.6</td>\n",
       "      <td>0.180732</td>\n",
       "      <td>0.393434</td>\n",
       "      <td>0.299102</td>\n",
       "      <td>0.850344</td>\n",
       "    </tr>\n",
       "    <tr>\n",
       "      <th>3597</th>\n",
       "      <td>359.7</td>\n",
       "      <td>0.180676</td>\n",
       "      <td>0.393477</td>\n",
       "      <td>0.299090</td>\n",
       "      <td>0.850340</td>\n",
       "    </tr>\n",
       "    <tr>\n",
       "      <th>3598</th>\n",
       "      <td>359.8</td>\n",
       "      <td>0.180619</td>\n",
       "      <td>0.393519</td>\n",
       "      <td>0.299078</td>\n",
       "      <td>0.850336</td>\n",
       "    </tr>\n",
       "    <tr>\n",
       "      <th>3599</th>\n",
       "      <td>359.9</td>\n",
       "      <td>0.180563</td>\n",
       "      <td>0.393562</td>\n",
       "      <td>0.299067</td>\n",
       "      <td>0.850332</td>\n",
       "    </tr>\n",
       "    <tr>\n",
       "      <th>3600</th>\n",
       "      <td>360.0</td>\n",
       "      <td>0.180507</td>\n",
       "      <td>0.393605</td>\n",
       "      <td>0.299055</td>\n",
       "      <td>0.850328</td>\n",
       "    </tr>\n",
       "  </tbody>\n",
       "</table>\n",
       "<p>3601 rows × 5 columns</p>\n",
       "</div>"
      ],
      "text/plain": [
       "      # Time (s)  q_BodyInertial_ref[0]  q_BodyInertial_ref[1]  \\\n",
       "0            0.0               1.000000               0.000000   \n",
       "1            0.1               1.000000               0.000000   \n",
       "2            0.2               1.000000               0.000000   \n",
       "3            0.3               1.000000               0.000000   \n",
       "4            0.4               1.000000               0.000000   \n",
       "...          ...                    ...                    ...   \n",
       "3596       359.6               0.180732               0.393434   \n",
       "3597       359.7               0.180676               0.393477   \n",
       "3598       359.8               0.180619               0.393519   \n",
       "3599       359.9               0.180563               0.393562   \n",
       "3600       360.0               0.180507               0.393605   \n",
       "\n",
       "      q_BodyInertial_ref[2]  q_BodyInertial_ref[3]  \n",
       "0                  0.000000               0.000000  \n",
       "1                  0.000000               0.000000  \n",
       "2                  0.000000               0.000000  \n",
       "3                  0.000000               0.000000  \n",
       "4                  0.000000               0.000000  \n",
       "...                     ...                    ...  \n",
       "3596               0.299102               0.850344  \n",
       "3597               0.299090               0.850340  \n",
       "3598               0.299078               0.850336  \n",
       "3599               0.299067               0.850332  \n",
       "3600               0.299055               0.850328  \n",
       "\n",
       "[3601 rows x 5 columns]"
      ]
     },
     "execution_count": 4,
     "metadata": {},
     "output_type": "execute_result"
    }
   ],
   "source": [
    "df_basilisk"
   ]
  },
  {
   "cell_type": "code",
   "execution_count": 5,
   "metadata": {},
   "outputs": [
    {
     "data": {
      "text/html": [
       "<div>\n",
       "<style scoped>\n",
       "    .dataframe tbody tr th:only-of-type {\n",
       "        vertical-align: middle;\n",
       "    }\n",
       "\n",
       "    .dataframe tbody tr th {\n",
       "        vertical-align: top;\n",
       "    }\n",
       "\n",
       "    .dataframe thead th {\n",
       "        text-align: right;\n",
       "    }\n",
       "</style>\n",
       "<table border=\"1\" class=\"dataframe\">\n",
       "  <thead>\n",
       "    <tr style=\"text-align: right;\">\n",
       "      <th></th>\n",
       "      <th># Time (s)</th>\n",
       "      <th>s_numberOperation[0]</th>\n",
       "    </tr>\n",
       "  </thead>\n",
       "  <tbody>\n",
       "    <tr>\n",
       "      <th>0</th>\n",
       "      <td>0.0</td>\n",
       "      <td>0.0</td>\n",
       "    </tr>\n",
       "    <tr>\n",
       "      <th>1</th>\n",
       "      <td>0.1</td>\n",
       "      <td>6.0</td>\n",
       "    </tr>\n",
       "    <tr>\n",
       "      <th>2</th>\n",
       "      <td>0.2</td>\n",
       "      <td>6.0</td>\n",
       "    </tr>\n",
       "    <tr>\n",
       "      <th>3</th>\n",
       "      <td>0.3</td>\n",
       "      <td>6.0</td>\n",
       "    </tr>\n",
       "    <tr>\n",
       "      <th>4</th>\n",
       "      <td>0.4</td>\n",
       "      <td>6.0</td>\n",
       "    </tr>\n",
       "    <tr>\n",
       "      <th>...</th>\n",
       "      <td>...</td>\n",
       "      <td>...</td>\n",
       "    </tr>\n",
       "    <tr>\n",
       "      <th>3596</th>\n",
       "      <td>359.6</td>\n",
       "      <td>3.0</td>\n",
       "    </tr>\n",
       "    <tr>\n",
       "      <th>3597</th>\n",
       "      <td>359.7</td>\n",
       "      <td>3.0</td>\n",
       "    </tr>\n",
       "    <tr>\n",
       "      <th>3598</th>\n",
       "      <td>359.8</td>\n",
       "      <td>3.0</td>\n",
       "    </tr>\n",
       "    <tr>\n",
       "      <th>3599</th>\n",
       "      <td>359.9</td>\n",
       "      <td>3.0</td>\n",
       "    </tr>\n",
       "    <tr>\n",
       "      <th>3600</th>\n",
       "      <td>360.0</td>\n",
       "      <td>3.0</td>\n",
       "    </tr>\n",
       "  </tbody>\n",
       "</table>\n",
       "<p>3601 rows × 2 columns</p>\n",
       "</div>"
      ],
      "text/plain": [
       "      # Time (s)  s_numberOperation[0]\n",
       "0            0.0                   0.0\n",
       "1            0.1                   6.0\n",
       "2            0.2                   6.0\n",
       "3            0.3                   6.0\n",
       "4            0.4                   6.0\n",
       "...          ...                   ...\n",
       "3596       359.6                   3.0\n",
       "3597       359.7                   3.0\n",
       "3598       359.8                   3.0\n",
       "3599       359.9                   3.0\n",
       "3600       360.0                   3.0\n",
       "\n",
       "[3601 rows x 2 columns]"
      ]
     },
     "execution_count": 5,
     "metadata": {},
     "output_type": "execute_result"
    }
   ],
   "source": [
    "df10"
   ]
  },
  {
   "cell_type": "code",
   "execution_count": 6,
   "metadata": {},
   "outputs": [
    {
     "data": {
      "text/html": [
       "<div>\n",
       "<style scoped>\n",
       "    .dataframe tbody tr th:only-of-type {\n",
       "        vertical-align: middle;\n",
       "    }\n",
       "\n",
       "    .dataframe tbody tr th {\n",
       "        vertical-align: top;\n",
       "    }\n",
       "\n",
       "    .dataframe thead th {\n",
       "        text-align: right;\n",
       "    }\n",
       "</style>\n",
       "<table border=\"1\" class=\"dataframe\">\n",
       "  <thead>\n",
       "    <tr style=\"text-align: right;\">\n",
       "      <th></th>\n",
       "      <th># Time (s)</th>\n",
       "      <th>q_BodyInertial_ref[0]</th>\n",
       "      <th>q_BodyInertial_ref[1]</th>\n",
       "      <th>q_BodyInertial_ref[2]</th>\n",
       "      <th>q_BodyInertial_ref[3]</th>\n",
       "      <th>Operation</th>\n",
       "    </tr>\n",
       "  </thead>\n",
       "  <tbody>\n",
       "    <tr>\n",
       "      <th>0</th>\n",
       "      <td>0.0</td>\n",
       "      <td>1.000000</td>\n",
       "      <td>0.000000</td>\n",
       "      <td>0.000000</td>\n",
       "      <td>0.000000</td>\n",
       "      <td>0.0</td>\n",
       "    </tr>\n",
       "    <tr>\n",
       "      <th>1</th>\n",
       "      <td>0.1</td>\n",
       "      <td>1.000000</td>\n",
       "      <td>0.000000</td>\n",
       "      <td>0.000000</td>\n",
       "      <td>0.000000</td>\n",
       "      <td>6.0</td>\n",
       "    </tr>\n",
       "    <tr>\n",
       "      <th>2</th>\n",
       "      <td>0.2</td>\n",
       "      <td>1.000000</td>\n",
       "      <td>0.000000</td>\n",
       "      <td>0.000000</td>\n",
       "      <td>0.000000</td>\n",
       "      <td>6.0</td>\n",
       "    </tr>\n",
       "    <tr>\n",
       "      <th>3</th>\n",
       "      <td>0.3</td>\n",
       "      <td>1.000000</td>\n",
       "      <td>0.000000</td>\n",
       "      <td>0.000000</td>\n",
       "      <td>0.000000</td>\n",
       "      <td>6.0</td>\n",
       "    </tr>\n",
       "    <tr>\n",
       "      <th>4</th>\n",
       "      <td>0.4</td>\n",
       "      <td>1.000000</td>\n",
       "      <td>0.000000</td>\n",
       "      <td>0.000000</td>\n",
       "      <td>0.000000</td>\n",
       "      <td>6.0</td>\n",
       "    </tr>\n",
       "    <tr>\n",
       "      <th>...</th>\n",
       "      <td>...</td>\n",
       "      <td>...</td>\n",
       "      <td>...</td>\n",
       "      <td>...</td>\n",
       "      <td>...</td>\n",
       "      <td>...</td>\n",
       "    </tr>\n",
       "    <tr>\n",
       "      <th>3596</th>\n",
       "      <td>359.6</td>\n",
       "      <td>0.180732</td>\n",
       "      <td>0.393434</td>\n",
       "      <td>0.299102</td>\n",
       "      <td>0.850344</td>\n",
       "      <td>3.0</td>\n",
       "    </tr>\n",
       "    <tr>\n",
       "      <th>3597</th>\n",
       "      <td>359.7</td>\n",
       "      <td>0.180676</td>\n",
       "      <td>0.393477</td>\n",
       "      <td>0.299090</td>\n",
       "      <td>0.850340</td>\n",
       "      <td>3.0</td>\n",
       "    </tr>\n",
       "    <tr>\n",
       "      <th>3598</th>\n",
       "      <td>359.8</td>\n",
       "      <td>0.180619</td>\n",
       "      <td>0.393519</td>\n",
       "      <td>0.299078</td>\n",
       "      <td>0.850336</td>\n",
       "      <td>3.0</td>\n",
       "    </tr>\n",
       "    <tr>\n",
       "      <th>3599</th>\n",
       "      <td>359.9</td>\n",
       "      <td>0.180563</td>\n",
       "      <td>0.393562</td>\n",
       "      <td>0.299067</td>\n",
       "      <td>0.850332</td>\n",
       "      <td>3.0</td>\n",
       "    </tr>\n",
       "    <tr>\n",
       "      <th>3600</th>\n",
       "      <td>360.0</td>\n",
       "      <td>0.180507</td>\n",
       "      <td>0.393605</td>\n",
       "      <td>0.299055</td>\n",
       "      <td>0.850328</td>\n",
       "      <td>3.0</td>\n",
       "    </tr>\n",
       "  </tbody>\n",
       "</table>\n",
       "<p>3601 rows × 6 columns</p>\n",
       "</div>"
      ],
      "text/plain": [
       "      # Time (s)  q_BodyInertial_ref[0]  q_BodyInertial_ref[1]  \\\n",
       "0            0.0               1.000000               0.000000   \n",
       "1            0.1               1.000000               0.000000   \n",
       "2            0.2               1.000000               0.000000   \n",
       "3            0.3               1.000000               0.000000   \n",
       "4            0.4               1.000000               0.000000   \n",
       "...          ...                    ...                    ...   \n",
       "3596       359.6               0.180732               0.393434   \n",
       "3597       359.7               0.180676               0.393477   \n",
       "3598       359.8               0.180619               0.393519   \n",
       "3599       359.9               0.180563               0.393562   \n",
       "3600       360.0               0.180507               0.393605   \n",
       "\n",
       "      q_BodyInertial_ref[2]  q_BodyInertial_ref[3]  Operation  \n",
       "0                  0.000000               0.000000        0.0  \n",
       "1                  0.000000               0.000000        6.0  \n",
       "2                  0.000000               0.000000        6.0  \n",
       "3                  0.000000               0.000000        6.0  \n",
       "4                  0.000000               0.000000        6.0  \n",
       "...                     ...                    ...        ...  \n",
       "3596               0.299102               0.850344        3.0  \n",
       "3597               0.299090               0.850340        3.0  \n",
       "3598               0.299078               0.850336        3.0  \n",
       "3599               0.299067               0.850332        3.0  \n",
       "3600               0.299055               0.850328        3.0  \n",
       "\n",
       "[3601 rows x 6 columns]"
      ]
     },
     "execution_count": 6,
     "metadata": {},
     "output_type": "execute_result"
    }
   ],
   "source": [
    "df_basilisk['Operation'] = df10['s_numberOperation[0]']\n",
    "df_basilisk"
   ]
  },
  {
   "cell_type": "code",
   "execution_count": 7,
   "metadata": {},
   "outputs": [
    {
     "data": {
      "text/html": [
       "<div>\n",
       "<style scoped>\n",
       "    .dataframe tbody tr th:only-of-type {\n",
       "        vertical-align: middle;\n",
       "    }\n",
       "\n",
       "    .dataframe tbody tr th {\n",
       "        vertical-align: top;\n",
       "    }\n",
       "\n",
       "    .dataframe thead th {\n",
       "        text-align: right;\n",
       "    }\n",
       "</style>\n",
       "<table border=\"1\" class=\"dataframe\">\n",
       "  <thead>\n",
       "    <tr style=\"text-align: right;\">\n",
       "      <th></th>\n",
       "      <th># Time (s)</th>\n",
       "      <th>v_satVelJ2_calc[0]</th>\n",
       "      <th>v_satVelJ2_calc[1]</th>\n",
       "      <th>v_satVelJ2_calc[2]</th>\n",
       "    </tr>\n",
       "  </thead>\n",
       "  <tbody>\n",
       "    <tr>\n",
       "      <th>0</th>\n",
       "      <td>0.0</td>\n",
       "      <td>0.000000</td>\n",
       "      <td>0.000000</td>\n",
       "      <td>0.000000</td>\n",
       "    </tr>\n",
       "    <tr>\n",
       "      <th>1</th>\n",
       "      <td>0.1</td>\n",
       "      <td>0.000000</td>\n",
       "      <td>0.000000</td>\n",
       "      <td>0.000000</td>\n",
       "    </tr>\n",
       "    <tr>\n",
       "      <th>2</th>\n",
       "      <td>0.2</td>\n",
       "      <td>0.000000</td>\n",
       "      <td>0.000000</td>\n",
       "      <td>0.000000</td>\n",
       "    </tr>\n",
       "    <tr>\n",
       "      <th>3</th>\n",
       "      <td>0.3</td>\n",
       "      <td>0.000000</td>\n",
       "      <td>0.000000</td>\n",
       "      <td>0.000000</td>\n",
       "    </tr>\n",
       "    <tr>\n",
       "      <th>4</th>\n",
       "      <td>0.4</td>\n",
       "      <td>0.000000</td>\n",
       "      <td>0.000000</td>\n",
       "      <td>0.000000</td>\n",
       "    </tr>\n",
       "    <tr>\n",
       "      <th>...</th>\n",
       "      <td>...</td>\n",
       "      <td>...</td>\n",
       "      <td>...</td>\n",
       "      <td>...</td>\n",
       "    </tr>\n",
       "    <tr>\n",
       "      <th>3596</th>\n",
       "      <td>359.6</td>\n",
       "      <td>2484.416134</td>\n",
       "      <td>1750.615371</td>\n",
       "      <td>6928.349564</td>\n",
       "    </tr>\n",
       "    <tr>\n",
       "      <th>3597</th>\n",
       "      <td>359.7</td>\n",
       "      <td>2485.155291</td>\n",
       "      <td>1750.798582</td>\n",
       "      <td>6928.038636</td>\n",
       "    </tr>\n",
       "    <tr>\n",
       "      <th>3598</th>\n",
       "      <td>359.8</td>\n",
       "      <td>2485.894121</td>\n",
       "      <td>1750.981699</td>\n",
       "      <td>6927.727751</td>\n",
       "    </tr>\n",
       "    <tr>\n",
       "      <th>3599</th>\n",
       "      <td>359.9</td>\n",
       "      <td>2486.633219</td>\n",
       "      <td>1751.164869</td>\n",
       "      <td>6927.416660</td>\n",
       "    </tr>\n",
       "    <tr>\n",
       "      <th>3600</th>\n",
       "      <td>360.0</td>\n",
       "      <td>2487.371990</td>\n",
       "      <td>1751.347944</td>\n",
       "      <td>6927.105611</td>\n",
       "    </tr>\n",
       "  </tbody>\n",
       "</table>\n",
       "<p>3601 rows × 4 columns</p>\n",
       "</div>"
      ],
      "text/plain": [
       "      # Time (s)  v_satVelJ2_calc[0]  v_satVelJ2_calc[1]  v_satVelJ2_calc[2]\n",
       "0            0.0            0.000000            0.000000            0.000000\n",
       "1            0.1            0.000000            0.000000            0.000000\n",
       "2            0.2            0.000000            0.000000            0.000000\n",
       "3            0.3            0.000000            0.000000            0.000000\n",
       "4            0.4            0.000000            0.000000            0.000000\n",
       "...          ...                 ...                 ...                 ...\n",
       "3596       359.6         2484.416134         1750.615371         6928.349564\n",
       "3597       359.7         2485.155291         1750.798582         6928.038636\n",
       "3598       359.8         2485.894121         1750.981699         6927.727751\n",
       "3599       359.9         2486.633219         1751.164869         6927.416660\n",
       "3600       360.0         2487.371990         1751.347944         6927.105611\n",
       "\n",
       "[3601 rows x 4 columns]"
      ]
     },
     "execution_count": 7,
     "metadata": {},
     "output_type": "execute_result"
    }
   ],
   "source": [
    "df6['# Time (s)'] = df6['# Time (s)'].astype('float64')\n",
    "df6"
   ]
  },
  {
   "cell_type": "code",
   "execution_count": 8,
   "metadata": {},
   "outputs": [
    {
     "data": {
      "text/html": [
       "<div>\n",
       "<style scoped>\n",
       "    .dataframe tbody tr th:only-of-type {\n",
       "        vertical-align: middle;\n",
       "    }\n",
       "\n",
       "    .dataframe tbody tr th {\n",
       "        vertical-align: top;\n",
       "    }\n",
       "\n",
       "    .dataframe thead th {\n",
       "        text-align: right;\n",
       "    }\n",
       "</style>\n",
       "<table border=\"1\" class=\"dataframe\">\n",
       "  <thead>\n",
       "    <tr style=\"text-align: right;\">\n",
       "      <th></th>\n",
       "      <th># Time (s)</th>\n",
       "      <th>v_satPosJ2_calc[0]</th>\n",
       "      <th>v_satPosJ2_calc[1]</th>\n",
       "      <th>v_satPosJ2_calc[2]</th>\n",
       "    </tr>\n",
       "  </thead>\n",
       "  <tbody>\n",
       "    <tr>\n",
       "      <th>0</th>\n",
       "      <td>0.0</td>\n",
       "      <td>0.000000e+00</td>\n",
       "      <td>0.000000e+00</td>\n",
       "      <td>0.000000e+00</td>\n",
       "    </tr>\n",
       "    <tr>\n",
       "      <th>1</th>\n",
       "      <td>0.1</td>\n",
       "      <td>0.000000e+00</td>\n",
       "      <td>0.000000e+00</td>\n",
       "      <td>0.000000e+00</td>\n",
       "    </tr>\n",
       "    <tr>\n",
       "      <th>2</th>\n",
       "      <td>0.2</td>\n",
       "      <td>0.000000e+00</td>\n",
       "      <td>0.000000e+00</td>\n",
       "      <td>0.000000e+00</td>\n",
       "    </tr>\n",
       "    <tr>\n",
       "      <th>3</th>\n",
       "      <td>0.3</td>\n",
       "      <td>0.000000e+00</td>\n",
       "      <td>0.000000e+00</td>\n",
       "      <td>0.000000e+00</td>\n",
       "    </tr>\n",
       "    <tr>\n",
       "      <th>4</th>\n",
       "      <td>0.4</td>\n",
       "      <td>0.000000e+00</td>\n",
       "      <td>0.000000e+00</td>\n",
       "      <td>0.000000e+00</td>\n",
       "    </tr>\n",
       "    <tr>\n",
       "      <th>...</th>\n",
       "      <td>...</td>\n",
       "      <td>...</td>\n",
       "      <td>...</td>\n",
       "      <td>...</td>\n",
       "    </tr>\n",
       "    <tr>\n",
       "      <th>3596</th>\n",
       "      <td>359.6</td>\n",
       "      <td>-6.261060e+06</td>\n",
       "      <td>-1.551954e+06</td>\n",
       "      <td>2.626177e+06</td>\n",
       "    </tr>\n",
       "    <tr>\n",
       "      <th>3597</th>\n",
       "      <td>359.7</td>\n",
       "      <td>-6.260811e+06</td>\n",
       "      <td>-1.551779e+06</td>\n",
       "      <td>2.626870e+06</td>\n",
       "    </tr>\n",
       "    <tr>\n",
       "      <th>3598</th>\n",
       "      <td>359.8</td>\n",
       "      <td>-6.260563e+06</td>\n",
       "      <td>-1.551604e+06</td>\n",
       "      <td>2.627563e+06</td>\n",
       "    </tr>\n",
       "    <tr>\n",
       "      <th>3599</th>\n",
       "      <td>359.9</td>\n",
       "      <td>-6.260314e+06</td>\n",
       "      <td>-1.551429e+06</td>\n",
       "      <td>2.628255e+06</td>\n",
       "    </tr>\n",
       "    <tr>\n",
       "      <th>3600</th>\n",
       "      <td>360.0</td>\n",
       "      <td>-6.260066e+06</td>\n",
       "      <td>-1.551253e+06</td>\n",
       "      <td>2.628948e+06</td>\n",
       "    </tr>\n",
       "  </tbody>\n",
       "</table>\n",
       "<p>3601 rows × 4 columns</p>\n",
       "</div>"
      ],
      "text/plain": [
       "      # Time (s)  v_satPosJ2_calc[0]  v_satPosJ2_calc[1]  v_satPosJ2_calc[2]\n",
       "0            0.0        0.000000e+00        0.000000e+00        0.000000e+00\n",
       "1            0.1        0.000000e+00        0.000000e+00        0.000000e+00\n",
       "2            0.2        0.000000e+00        0.000000e+00        0.000000e+00\n",
       "3            0.3        0.000000e+00        0.000000e+00        0.000000e+00\n",
       "4            0.4        0.000000e+00        0.000000e+00        0.000000e+00\n",
       "...          ...                 ...                 ...                 ...\n",
       "3596       359.6       -6.261060e+06       -1.551954e+06        2.626177e+06\n",
       "3597       359.7       -6.260811e+06       -1.551779e+06        2.626870e+06\n",
       "3598       359.8       -6.260563e+06       -1.551604e+06        2.627563e+06\n",
       "3599       359.9       -6.260314e+06       -1.551429e+06        2.628255e+06\n",
       "3600       360.0       -6.260066e+06       -1.551253e+06        2.628948e+06\n",
       "\n",
       "[3601 rows x 4 columns]"
      ]
     },
     "execution_count": 8,
     "metadata": {},
     "output_type": "execute_result"
    }
   ],
   "source": [
    "df2"
   ]
  },
  {
   "cell_type": "markdown",
   "metadata": {},
   "source": [
    "# Plot Reference Profile Q Error against Orekit"
   ]
  },
  {
   "cell_type": "markdown",
   "metadata": {},
   "source": [
    "## Generate Orekit q's"
   ]
  },
  {
   "cell_type": "code",
   "execution_count": 9,
   "metadata": {},
   "outputs": [],
   "source": [
    "data = {\n",
    "  \"epoch\": \"2022-05-01T16:47:50\",\n",
    "  \"time_step\": 0.1,\n",
    "  \"duration\": 360,\n",
    "  \"initial_position\": {\n",
    "    \"x\": -6660190.6221287325,\n",
    "    \"y\": -2048579.8185718404,\n",
    "    \"z\": 2.3283064365386963e-10\n",
    "  },\n",
    "  \"initial_velocity\": {\n",
    "    \"vx\": -292.1105417444446,\n",
    "    \"vy\": 976.9787086991639,\n",
    "    \"vz\": 7494.238898865543\n",
    "  },\n",
    "  \"operation_changes\": [\n",
    "    # { \n",
    "    #   \"time\": \"2022-05-01T16:49:00\",\n",
    "    #   \"operation_number\": 7,\n",
    "    #   \"sunlit_status\": 0,\n",
    "    #   \"pathway\":2,\n",
    "    #   \"u1\":[0.7727280528,0.2142570623,0.4108934332],\n",
    "    #   \"u2\":[0.1594123506,0.671248554,0.9256773739],\n",
    "    #   \"v1\":[0.8759942102,0.8174424877,0.3384834078],\n",
    "    #   \"v2\":[0.9898995846, 0.9250801576, 0.4289896406]\n",
    "    # },\n",
    "    {\n",
    "      \"time\": \"2022-05-01T16:49:00\",\n",
    "      \"operation_number\": 2,\n",
    "      \"pathway\":3,\n",
    "      \"sunlit_status\":0\n",
    "    },\n",
    "    {\n",
    "      \"time\": \"2022-05-01T16:51:00\",\n",
    "      \"operation_number\": 3,\n",
    "      \"pathway\":3,\n",
    "      \"latitude\": 78.2315,\n",
    "      \"longitude\":15.4111\n",
    "    }\n",
    "    # {\n",
    "    #    \"time\": \"2022-05-01T16:51:00\",\n",
    "    #   \"operation_number\": 7,\n",
    "    #   \"pathway\":3,\n",
    "    #   \"maneuver_direction\": 'positive'\n",
    "    # }\n",
    "    # {\n",
    "    #   \"time\": \"2022-05-01T16:50:00\",\n",
    "    #   \"operation_number\": 2,\n",
    "    #   \"pathway\": 3,\n",
    "    #   \"roll_angle\": 20.0\n",
    "    # }\n",
    "    \n",
    "  ]\n",
    "}"
   ]
  },
  {
   "cell_type": "code",
   "execution_count": 10,
   "metadata": {},
   "outputs": [],
   "source": [
    "eme_frame = FramesFactory.getEME2000()\n",
    "\n",
    "ITRF = FramesFactory.getITRF(IERSConventions.IERS_2010, False)"
   ]
  },
  {
   "cell_type": "code",
   "execution_count": 11,
   "metadata": {},
   "outputs": [],
   "source": [
    "config_file = Path(\"../../mda-core/tests/propagation/config_firefly.yml\")\n",
    "config = yaml.load(config_file.read_text(), yaml.FullLoader)"
   ]
  },
  {
   "cell_type": "code",
   "execution_count": 12,
   "metadata": {},
   "outputs": [],
   "source": [
    "time  = data['epoch']\n",
    "time_step = 0.1\n",
    "p_eci = utils.list_to_vector3d([data['initial_position']['x'],data['initial_position']['y'],data['initial_position']['z']])\n",
    "v_eci = utils.list_to_vector3d([data['initial_velocity']['vx'],data['initial_velocity']['vy'],data['initial_velocity']['vz']])"
   ]
  },
  {
   "cell_type": "code",
   "execution_count": 13,
   "metadata": {},
   "outputs": [
    {
     "name": "stderr",
     "output_type": "stream",
     "text": [
      "\u001b[32m2024-09-19 17:21:04.987\u001b[0m | \u001b[34m\u001b[1mDEBUG   \u001b[0m | \u001b[36mmda_core.propagation.propagator\u001b[0m:\u001b[36m_get_integrator\u001b[0m:\u001b[36m85\u001b[0m - \u001b[34m\u001b[1mAdded Dormand Prince 853 integrator for propagation\u001b[0m\n"
     ]
    },
    {
     "name": "stderr",
     "output_type": "stream",
     "text": [
      "\u001b[32m2024-09-19 17:21:05.124\u001b[0m | \u001b[34m\u001b[1mDEBUG   \u001b[0m | \u001b[36mmda_core.propagation.propagator\u001b[0m:\u001b[36m_get_numerical_forces_from_config\u001b[0m:\u001b[36m148\u001b[0m - \u001b[34m\u001b[1mAdded ITRF frame as earth body fixed frame\u001b[0m\n",
      "\u001b[32m2024-09-19 17:21:05.126\u001b[0m | \u001b[34m\u001b[1mDEBUG   \u001b[0m | \u001b[36mmda_core.propagation.propagator\u001b[0m:\u001b[36m_get_numerical_forces_from_config\u001b[0m:\u001b[36m156\u001b[0m - \u001b[34m\u001b[1mAdded gravity harmonics (model : eigen-6s, d x o : 33x33), for the body earth\u001b[0m\n",
      "\u001b[32m2024-09-19 17:21:05.128\u001b[0m | \u001b[34m\u001b[1mDEBUG   \u001b[0m | \u001b[36mmda_core.propagation.propagator\u001b[0m:\u001b[36m_get_numerical_forces_from_config\u001b[0m:\u001b[36m181\u001b[0m - \u001b[34m\u001b[1mAdded third body attraction force contribution from SUN\u001b[0m\n",
      "\u001b[32m2024-09-19 17:21:05.128\u001b[0m | \u001b[34m\u001b[1mDEBUG   \u001b[0m | \u001b[36mmda_core.propagation.propagator\u001b[0m:\u001b[36m_get_numerical_forces_from_config\u001b[0m:\u001b[36m181\u001b[0m - \u001b[34m\u001b[1mAdded third body attraction force contribution from MOON\u001b[0m\n",
      "\u001b[32m2024-09-19 17:21:05.130\u001b[0m | \u001b[34m\u001b[1mDEBUG   \u001b[0m | \u001b[36mmda_core.propagation.propagator\u001b[0m:\u001b[36m_get_numerical_forces_from_config\u001b[0m:\u001b[36m181\u001b[0m - \u001b[34m\u001b[1mAdded third body attraction force contribution from MARS\u001b[0m\n",
      "\u001b[32m2024-09-19 17:21:05.132\u001b[0m | \u001b[34m\u001b[1mDEBUG   \u001b[0m | \u001b[36mmda_core.propagation.propagator\u001b[0m:\u001b[36m_get_numerical_forces_from_config\u001b[0m:\u001b[36m181\u001b[0m - \u001b[34m\u001b[1mAdded third body attraction force contribution from JUPITER\u001b[0m\n",
      "\u001b[32m2024-09-19 17:21:05.132\u001b[0m | \u001b[34m\u001b[1mDEBUG   \u001b[0m | \u001b[36mmda_core.propagation.propagator\u001b[0m:\u001b[36m_get_numerical_forces_from_config\u001b[0m:\u001b[36m200\u001b[0m - \u001b[34m\u001b[1mAtmospheric activity set to AVERAGE\u001b[0m\n",
      "\u001b[32m2024-09-19 17:21:05.137\u001b[0m | \u001b[34m\u001b[1mDEBUG   \u001b[0m | \u001b[36mmda_core.propagation.propagator\u001b[0m:\u001b[36m_get_numerical_forces_from_config\u001b[0m:\u001b[36m215\u001b[0m - \u001b[34m\u001b[1mAdded drag force (model: NRLMSISE00) with area: 0.8, cd: 2.2\u001b[0m\n",
      "\u001b[32m2024-09-19 17:21:05.138\u001b[0m | \u001b[34m\u001b[1mDEBUG   \u001b[0m | \u001b[36mmda_core.propagation.propagator\u001b[0m:\u001b[36m_get_numerical_forces_from_config\u001b[0m:\u001b[36m239\u001b[0m - \u001b[34m\u001b[1mUsing single coefficient (reflection) model for SRP\u001b[0m\n",
      "\u001b[32m2024-09-19 17:21:05.140\u001b[0m | \u001b[34m\u001b[1mDEBUG   \u001b[0m | \u001b[36mmda_core.propagation.propagator\u001b[0m:\u001b[36m_get_numerical_forces_from_config\u001b[0m:\u001b[36m249\u001b[0m - \u001b[34m\u001b[1mAdded SRP force model with area 0.8\u001b[0m\n"
     ]
    }
   ],
   "source": [
    "epoch= Time(time)\n",
    "duration = data['duration']\n",
    "time_step = data['time_step']\n",
    "PV_eci  =PVCoordinates(p_eci,v_eci)\n",
    "orbit = CartesianOrbit(TimeStampedPVCoordinates(epoch.get_absolutedate(),PV_eci),frames.get_earth_J2000(),C.EARTH_MU)\n",
    "true_prop = propagator.get_numerical_propagator(SpacecraftState(orbit), config, orbit_type=\"cartesian\")"
   ]
  },
  {
   "cell_type": "code",
   "execution_count": 14,
   "metadata": {},
   "outputs": [],
   "source": [
    "def get_atttitude_profile(mode_description):\n",
    "    operation_number = mode_description['operation_number']\n",
    "    if operation_number ==1:\n",
    "        if mode_description['sunlit_status']==1:\n",
    "            return laws.get_sun_pointing_with_nadir_phasing(sun_pointing_axis=[0,-1,0],nadir_phasing_axis=[0,0,1])\n",
    "        else:\n",
    "            return EclipsePointingL1(sun_pointing_axis=[0,-1,0],nadir_phasing_axis=[0,0,1])\n",
    "    if operation_number ==2:\n",
    "        if mode_description['sunlit_status']==1:\n",
    "            return laws.get_sun_pointing_with_nadir_phasing(sun_pointing_axis=[0,-1,0],nadir_phasing_axis=[0,0,1])\n",
    "        else:\n",
    "            return EclipsePointingL1(sun_pointing_axis=[0,-1,0],nadir_phasing_axis=[0,0,1])\n",
    "    if operation_number == 3:\n",
    "        return laws.get_gs_pointing(latitude=mode_description['latitude'],longitude=mode_description['latitude'],altitude=484.0,yaw_steering=True)\n",
    "    if operation_number == 4:\n",
    "        return laws.get_off_nadir_pointing(roll_angle=mode_description['roll_angle'])\n",
    "    if operation_number == 6:\n",
    "        if mode_description['sunlit_status']==1:\n",
    "            return laws.get_sun_pointing_with_nadir_phasing(sun_pointing_axis=[0,-1,0],nadir_phasing_axis=[0,0,1])\n",
    "        else:\n",
    "            return EclipsePointingL1(sun_pointing_axis=[0,-1,0],nadir_phasing_axis=[0,0,1])\n",
    "    if operation_number == 7:\n",
    "        return ManueverPointingL1(star_tracker_dir=[0, 0.766, -0.642],manuever_dir=mode_description['maneuver_direction'])"
   ]
  },
  {
   "cell_type": "code",
   "execution_count": 15,
   "metadata": {},
   "outputs": [],
   "source": [
    "def append_TQ_to_dict(dict,operation, Rotation, t, truestate):\n",
    "    dict[\"time\"].append(t.get_datetime())\n",
    "    dict[\"operation\"].append(operation)\n",
    "    dict[\"q0\"].append(Rotation.getQ0())\n",
    "    dict[\"q1\"].append(Rotation.getQ1())\n",
    "    dict[\"q2\"].append(Rotation.getQ2())\n",
    "    dict[\"q3\"].append(Rotation.getQ3())\n",
    "    dict[\"px\"].append(truestate.getPVCoordinates().getPosition().getX())\n",
    "    dict[\"py\"].append(truestate.getPVCoordinates().getPosition().getY())\n",
    "    dict[\"pz\"].append(truestate.getPVCoordinates().getPosition().getZ())\n",
    "    dict[\"vx\"].append(truestate.getPVCoordinates().getVelocity().getX())\n",
    "    dict[\"vy\"].append(truestate.getPVCoordinates().getVelocity().getY())\n",
    "    dict[\"vz\"].append(truestate.getPVCoordinates().getVelocity().getZ())\n",
    "\n",
    "quaternion_data = {\n",
    "    \"time\":[],\n",
    "    \"operation\":[],\n",
    "    \"q0\": [],\n",
    "    \"q1\": [],\n",
    "    \"q2\": [],\n",
    "    \"q3\": [],\n",
    "    \"px\": [],\n",
    "    \"py\": [],\n",
    "    \"pz\": [],\n",
    "    \"vx\": [],\n",
    "    \"vy\": [],\n",
    "    \"vz\": [],\n",
    "}"
   ]
  },
  {
   "cell_type": "code",
   "execution_count": 16,
   "metadata": {},
   "outputs": [
    {
     "name": "stdout",
     "output_type": "stream",
     "text": [
      "3\n"
     ]
    }
   ],
   "source": [
    "num_operation = len(data['operation_changes'])\n",
    "if num_operation == 1:\n",
    "    epoch_start = Time(data['operation_changes'][0]['time'])\n",
    "    epoch_end = epoch+duration\n",
    "    operation_number = data['operation_changes'][0]['operation_number']\n",
    "    time_iterator= Time.iterator(epoch_start, epoch_end, time_step)\n",
    "    for t in time_iterator:\n",
    "        true_state= true_prop.propagate(t.get_absolutedate())\n",
    "        rot = get_atttitude_profile(data['operation_changes'][0]).getAttitude(true_prop,t.get_absolutedate(),frames.get_earth_J2000()).getRotation()\n",
    "        if data['operation_changes'][0]['pathway'] ==2:\n",
    "            R = Rotation(utils.list_to_vector3d(data['operation_changes'][0]['u1']),utils.list_to_vector3d(data['operation_changes'][0]['u2']),utils.list_to_vector3d(data['operation_changes'][0]['v1']),utils.list_to_vector3d(data['operation_changes'][0]['v2']))\n",
    "            rot = R.applyTo(rot)\n",
    "        append_TQ_to_dict(quaternion_data,operation_number,rot,t,true_state)\n",
    "else:\n",
    "    for i in range(len(data['operation_changes'])-1):\n",
    "        epoch_start = Time(data['operation_changes'][i]['time'])\n",
    "        epoch_end = Time(data['operation_changes'][i+1]['time'])-time_step\n",
    "        operation_number = data['operation_changes'][i]['operation_number']\n",
    "        time_iterator= Time.iterator(epoch_start, epoch_end, time_step)\n",
    "        for t in time_iterator:\n",
    "            true_state= true_prop.propagate(t.get_absolutedate())\n",
    "            rot = get_atttitude_profile(data['operation_changes'][i]).getAttitude(true_prop,t.get_absolutedate(),frames.get_earth_J2000()).getRotation()\n",
    "            if data['operation_changes'][0]['pathway'] ==2:\n",
    "                R = Rotation(utils.list_to_vector3d(data['operation_changes'][i]['u1']),utils.list_to_vector3d(data['operation_changes'][i]['u2']),utils.list_to_vector3d(data['operation_changes'][i]['v1']),utils.list_to_vector3d(data['operation_changes'][i]['v2']))\n",
    "                rot = R.applyTo(rot)\n",
    "            append_TQ_to_dict(quaternion_data,operation_number,rot,t,true_state)\n",
    "    epoch_start = Time(data['operation_changes'][num_operation-1]['time'])\n",
    "    epoch_end = epoch+duration\n",
    "    operation_number = data['operation_changes'][num_operation-1]['operation_number']\n",
    "    print(operation_number)\n",
    "    time_iterator= Time.iterator(epoch_start, epoch_end, time_step)\n",
    "    for t in time_iterator:\n",
    "        true_state= true_prop.propagate(t.get_absolutedate())\n",
    "        rot = get_atttitude_profile(data['operation_changes'][num_operation-1]).getAttitude(true_prop,t.get_absolutedate(),frames.get_earth_J2000()).getRotation()\n",
    "        if data['operation_changes'][0]['pathway'] ==2:\n",
    "            R = Rotation(utils.list_to_vector3d(data['operation_changes'][num_operation-1]['u1']),utils.list_to_vector3d(data['operation_changes'][num_operation-1]['u2']),utils.list_to_vector3d(data['operation_changes'][num_operation-1]['v1']),utils.list_to_vector3d(data['operation_changes'][num_operation-1]['v2']))\n",
    "            rot = R.applyTo(rot)\n",
    "        append_TQ_to_dict(quaternion_data,operation_number,rot,t,true_state)\n",
    "df_orekit = pd.DataFrame(quaternion_data)"
   ]
  },
  {
   "cell_type": "code",
   "execution_count": 17,
   "metadata": {},
   "outputs": [
    {
     "data": {
      "text/html": [
       "<div>\n",
       "<style scoped>\n",
       "    .dataframe tbody tr th:only-of-type {\n",
       "        vertical-align: middle;\n",
       "    }\n",
       "\n",
       "    .dataframe tbody tr th {\n",
       "        vertical-align: top;\n",
       "    }\n",
       "\n",
       "    .dataframe thead th {\n",
       "        text-align: right;\n",
       "    }\n",
       "</style>\n",
       "<table border=\"1\" class=\"dataframe\">\n",
       "  <thead>\n",
       "    <tr style=\"text-align: right;\">\n",
       "      <th></th>\n",
       "      <th>time</th>\n",
       "      <th>operation</th>\n",
       "      <th>q0</th>\n",
       "      <th>q1</th>\n",
       "      <th>q2</th>\n",
       "      <th>q3</th>\n",
       "      <th>px</th>\n",
       "      <th>py</th>\n",
       "      <th>pz</th>\n",
       "      <th>vx</th>\n",
       "      <th>vy</th>\n",
       "      <th>vz</th>\n",
       "    </tr>\n",
       "  </thead>\n",
       "  <tbody>\n",
       "    <tr>\n",
       "      <th>0</th>\n",
       "      <td>2022-05-01 16:49:00.000</td>\n",
       "      <td>2</td>\n",
       "      <td>-0.332746</td>\n",
       "      <td>0.715020</td>\n",
       "      <td>-0.162281</td>\n",
       "      <td>0.593036</td>\n",
       "      <td>-6.661377e+06</td>\n",
       "      <td>-1.974339e+06</td>\n",
       "      <td>5.240901e+05</td>\n",
       "      <td>258.249282</td>\n",
       "      <td>1143.166043</td>\n",
       "      <td>7472.528932</td>\n",
       "    </tr>\n",
       "    <tr>\n",
       "      <th>1</th>\n",
       "      <td>2022-05-01 16:49:00.100</td>\n",
       "      <td>2</td>\n",
       "      <td>-0.332759</td>\n",
       "      <td>0.715044</td>\n",
       "      <td>-0.162339</td>\n",
       "      <td>0.592983</td>\n",
       "      <td>-6.661351e+06</td>\n",
       "      <td>-1.974225e+06</td>\n",
       "      <td>5.248373e+05</td>\n",
       "      <td>259.035280</td>\n",
       "      <td>1143.398978</td>\n",
       "      <td>7472.466885</td>\n",
       "    </tr>\n",
       "    <tr>\n",
       "      <th>2</th>\n",
       "      <td>2022-05-01 16:49:00.200</td>\n",
       "      <td>2</td>\n",
       "      <td>-0.332772</td>\n",
       "      <td>0.715069</td>\n",
       "      <td>-0.162396</td>\n",
       "      <td>0.592931</td>\n",
       "      <td>-6.661325e+06</td>\n",
       "      <td>-1.974111e+06</td>\n",
       "      <td>5.255846e+05</td>\n",
       "      <td>259.821276</td>\n",
       "      <td>1143.631899</td>\n",
       "      <td>7472.404749</td>\n",
       "    </tr>\n",
       "    <tr>\n",
       "      <th>3</th>\n",
       "      <td>2022-05-01 16:49:00.300</td>\n",
       "      <td>2</td>\n",
       "      <td>-0.332785</td>\n",
       "      <td>0.715093</td>\n",
       "      <td>-0.162454</td>\n",
       "      <td>0.592878</td>\n",
       "      <td>-6.661299e+06</td>\n",
       "      <td>-1.973996e+06</td>\n",
       "      <td>5.263318e+05</td>\n",
       "      <td>260.607268</td>\n",
       "      <td>1143.864807</td>\n",
       "      <td>7472.342524</td>\n",
       "    </tr>\n",
       "    <tr>\n",
       "      <th>4</th>\n",
       "      <td>2022-05-01 16:49:00.400</td>\n",
       "      <td>2</td>\n",
       "      <td>-0.332798</td>\n",
       "      <td>0.715118</td>\n",
       "      <td>-0.162511</td>\n",
       "      <td>0.592826</td>\n",
       "      <td>-6.661273e+06</td>\n",
       "      <td>-1.973882e+06</td>\n",
       "      <td>5.270790e+05</td>\n",
       "      <td>261.393258</td>\n",
       "      <td>1144.097701</td>\n",
       "      <td>7472.280211</td>\n",
       "    </tr>\n",
       "    <tr>\n",
       "      <th>...</th>\n",
       "      <td>...</td>\n",
       "      <td>...</td>\n",
       "      <td>...</td>\n",
       "      <td>...</td>\n",
       "      <td>...</td>\n",
       "      <td>...</td>\n",
       "      <td>...</td>\n",
       "      <td>...</td>\n",
       "      <td>...</td>\n",
       "      <td>...</td>\n",
       "      <td>...</td>\n",
       "      <td>...</td>\n",
       "    </tr>\n",
       "    <tr>\n",
       "      <th>2896</th>\n",
       "      <td>2022-05-01 16:53:49.600</td>\n",
       "      <td>3</td>\n",
       "      <td>0.168757</td>\n",
       "      <td>0.417183</td>\n",
       "      <td>0.199856</td>\n",
       "      <td>0.870366</td>\n",
       "      <td>-6.260864e+06</td>\n",
       "      <td>-1.551814e+06</td>\n",
       "      <td>2.626725e+06</td>\n",
       "      <td>2484.998344</td>\n",
       "      <td>1750.759235</td>\n",
       "      <td>6928.103551</td>\n",
       "    </tr>\n",
       "    <tr>\n",
       "      <th>2897</th>\n",
       "      <td>2022-05-01 16:53:49.700</td>\n",
       "      <td>3</td>\n",
       "      <td>0.168710</td>\n",
       "      <td>0.417223</td>\n",
       "      <td>0.199837</td>\n",
       "      <td>0.870360</td>\n",
       "      <td>-6.260615e+06</td>\n",
       "      <td>-1.551639e+06</td>\n",
       "      <td>2.627417e+06</td>\n",
       "      <td>2485.737322</td>\n",
       "      <td>1750.942390</td>\n",
       "      <td>6927.792638</td>\n",
       "    </tr>\n",
       "    <tr>\n",
       "      <th>2898</th>\n",
       "      <td>2022-05-01 16:53:49.800</td>\n",
       "      <td>3</td>\n",
       "      <td>0.168662</td>\n",
       "      <td>0.417264</td>\n",
       "      <td>0.199819</td>\n",
       "      <td>0.870354</td>\n",
       "      <td>-6.260367e+06</td>\n",
       "      <td>-1.551464e+06</td>\n",
       "      <td>2.628110e+06</td>\n",
       "      <td>2486.476271</td>\n",
       "      <td>1751.125524</td>\n",
       "      <td>6927.481643</td>\n",
       "    </tr>\n",
       "    <tr>\n",
       "      <th>2899</th>\n",
       "      <td>2022-05-01 16:53:49.900</td>\n",
       "      <td>3</td>\n",
       "      <td>0.168615</td>\n",
       "      <td>0.417304</td>\n",
       "      <td>0.199800</td>\n",
       "      <td>0.870348</td>\n",
       "      <td>-6.260118e+06</td>\n",
       "      <td>-1.551289e+06</td>\n",
       "      <td>2.628803e+06</td>\n",
       "      <td>2487.215190</td>\n",
       "      <td>1751.308637</td>\n",
       "      <td>6927.170566</td>\n",
       "    </tr>\n",
       "    <tr>\n",
       "      <th>2900</th>\n",
       "      <td>2022-05-01 16:53:50.000</td>\n",
       "      <td>3</td>\n",
       "      <td>0.168567</td>\n",
       "      <td>0.417345</td>\n",
       "      <td>0.199782</td>\n",
       "      <td>0.870342</td>\n",
       "      <td>-6.259869e+06</td>\n",
       "      <td>-1.551114e+06</td>\n",
       "      <td>2.629496e+06</td>\n",
       "      <td>2487.954079</td>\n",
       "      <td>1751.491729</td>\n",
       "      <td>6926.859407</td>\n",
       "    </tr>\n",
       "  </tbody>\n",
       "</table>\n",
       "<p>2901 rows × 12 columns</p>\n",
       "</div>"
      ],
      "text/plain": [
       "                        time  operation        q0        q1        q2  \\\n",
       "0    2022-05-01 16:49:00.000          2 -0.332746  0.715020 -0.162281   \n",
       "1    2022-05-01 16:49:00.100          2 -0.332759  0.715044 -0.162339   \n",
       "2    2022-05-01 16:49:00.200          2 -0.332772  0.715069 -0.162396   \n",
       "3    2022-05-01 16:49:00.300          2 -0.332785  0.715093 -0.162454   \n",
       "4    2022-05-01 16:49:00.400          2 -0.332798  0.715118 -0.162511   \n",
       "...                      ...        ...       ...       ...       ...   \n",
       "2896 2022-05-01 16:53:49.600          3  0.168757  0.417183  0.199856   \n",
       "2897 2022-05-01 16:53:49.700          3  0.168710  0.417223  0.199837   \n",
       "2898 2022-05-01 16:53:49.800          3  0.168662  0.417264  0.199819   \n",
       "2899 2022-05-01 16:53:49.900          3  0.168615  0.417304  0.199800   \n",
       "2900 2022-05-01 16:53:50.000          3  0.168567  0.417345  0.199782   \n",
       "\n",
       "            q3            px            py            pz           vx  \\\n",
       "0     0.593036 -6.661377e+06 -1.974339e+06  5.240901e+05   258.249282   \n",
       "1     0.592983 -6.661351e+06 -1.974225e+06  5.248373e+05   259.035280   \n",
       "2     0.592931 -6.661325e+06 -1.974111e+06  5.255846e+05   259.821276   \n",
       "3     0.592878 -6.661299e+06 -1.973996e+06  5.263318e+05   260.607268   \n",
       "4     0.592826 -6.661273e+06 -1.973882e+06  5.270790e+05   261.393258   \n",
       "...        ...           ...           ...           ...          ...   \n",
       "2896  0.870366 -6.260864e+06 -1.551814e+06  2.626725e+06  2484.998344   \n",
       "2897  0.870360 -6.260615e+06 -1.551639e+06  2.627417e+06  2485.737322   \n",
       "2898  0.870354 -6.260367e+06 -1.551464e+06  2.628110e+06  2486.476271   \n",
       "2899  0.870348 -6.260118e+06 -1.551289e+06  2.628803e+06  2487.215190   \n",
       "2900  0.870342 -6.259869e+06 -1.551114e+06  2.629496e+06  2487.954079   \n",
       "\n",
       "               vy           vz  \n",
       "0     1143.166043  7472.528932  \n",
       "1     1143.398978  7472.466885  \n",
       "2     1143.631899  7472.404749  \n",
       "3     1143.864807  7472.342524  \n",
       "4     1144.097701  7472.280211  \n",
       "...           ...          ...  \n",
       "2896  1750.759235  6928.103551  \n",
       "2897  1750.942390  6927.792638  \n",
       "2898  1751.125524  6927.481643  \n",
       "2899  1751.308637  6927.170566  \n",
       "2900  1751.491729  6926.859407  \n",
       "\n",
       "[2901 rows x 12 columns]"
      ]
     },
     "execution_count": 17,
     "metadata": {},
     "output_type": "execute_result"
    }
   ],
   "source": [
    "df_orekit"
   ]
  },
  {
   "cell_type": "markdown",
   "metadata": {},
   "source": [
    "## Load the Orekit q file"
   ]
  },
  {
   "cell_type": "code",
   "execution_count": 18,
   "metadata": {},
   "outputs": [],
   "source": [
    "# Load the CSV file into a DataFrame\n",
    "# filepathh = f'../data/qref.csv'\n",
    "# df_orekit = pd.read_csv(filepathh)\n",
    "error = pd.DataFrame()\n",
    "start_epoch = Time(\"2022-05-01T16:47:50\")"
   ]
  },
  {
   "cell_type": "markdown",
   "metadata": {},
   "source": [
    "## Process both CSV"
   ]
  },
  {
   "cell_type": "code",
   "execution_count": 19,
   "metadata": {},
   "outputs": [
    {
     "data": {
      "text/html": [
       "<div>\n",
       "<style scoped>\n",
       "    .dataframe tbody tr th:only-of-type {\n",
       "        vertical-align: middle;\n",
       "    }\n",
       "\n",
       "    .dataframe tbody tr th {\n",
       "        vertical-align: top;\n",
       "    }\n",
       "\n",
       "    .dataframe thead th {\n",
       "        text-align: right;\n",
       "    }\n",
       "</style>\n",
       "<table border=\"1\" class=\"dataframe\">\n",
       "  <thead>\n",
       "    <tr style=\"text-align: right;\">\n",
       "      <th></th>\n",
       "      <th># Time (s)</th>\n",
       "      <th>Operation</th>\n",
       "      <th>quaternion</th>\n",
       "    </tr>\n",
       "  </thead>\n",
       "  <tbody>\n",
       "    <tr>\n",
       "      <th>0</th>\n",
       "      <td>2022-05-01 16:47:50.000</td>\n",
       "      <td>0.0</td>\n",
       "      <td>(1.0, 0.0, 0.0, 0.0)</td>\n",
       "    </tr>\n",
       "    <tr>\n",
       "      <th>1</th>\n",
       "      <td>2022-05-01 16:47:50.100</td>\n",
       "      <td>6.0</td>\n",
       "      <td>(1.0, 0.0, 0.0, 0.0)</td>\n",
       "    </tr>\n",
       "    <tr>\n",
       "      <th>2</th>\n",
       "      <td>2022-05-01 16:47:50.200</td>\n",
       "      <td>6.0</td>\n",
       "      <td>(1.0, 0.0, 0.0, 0.0)</td>\n",
       "    </tr>\n",
       "    <tr>\n",
       "      <th>3</th>\n",
       "      <td>2022-05-01 16:47:50.300</td>\n",
       "      <td>6.0</td>\n",
       "      <td>(1.0, 0.0, 0.0, 0.0)</td>\n",
       "    </tr>\n",
       "    <tr>\n",
       "      <th>4</th>\n",
       "      <td>2022-05-01 16:47:50.400</td>\n",
       "      <td>6.0</td>\n",
       "      <td>(1.0, 0.0, 0.0, 0.0)</td>\n",
       "    </tr>\n",
       "    <tr>\n",
       "      <th>...</th>\n",
       "      <td>...</td>\n",
       "      <td>...</td>\n",
       "      <td>...</td>\n",
       "    </tr>\n",
       "    <tr>\n",
       "      <th>3596</th>\n",
       "      <td>2022-05-01 16:53:49.600</td>\n",
       "      <td>3.0</td>\n",
       "      <td>(0.18073168897396064, 0.3934337363151429, 0.29...</td>\n",
       "    </tr>\n",
       "    <tr>\n",
       "      <th>3597</th>\n",
       "      <td>2022-05-01 16:53:49.700</td>\n",
       "      <td>3.0</td>\n",
       "      <td>(0.18067550425533344, 0.3934765952510808, 0.29...</td>\n",
       "    </tr>\n",
       "    <tr>\n",
       "      <th>3598</th>\n",
       "      <td>2022-05-01 16:53:49.800</td>\n",
       "      <td>3.0</td>\n",
       "      <td>(0.18061932863924168, 0.3935194421147498, 0.29...</td>\n",
       "    </tr>\n",
       "    <tr>\n",
       "      <th>3599</th>\n",
       "      <td>2022-05-01 16:53:49.900</td>\n",
       "      <td>3.0</td>\n",
       "      <td>(0.1805631169099877, 0.39356231139137776, 0.29...</td>\n",
       "    </tr>\n",
       "    <tr>\n",
       "      <th>3600</th>\n",
       "      <td>2022-05-01 16:53:50.000</td>\n",
       "      <td>3.0</td>\n",
       "      <td>(0.18050691428658416, 0.39360516859302175, 0.2...</td>\n",
       "    </tr>\n",
       "  </tbody>\n",
       "</table>\n",
       "<p>3601 rows × 3 columns</p>\n",
       "</div>"
      ],
      "text/plain": [
       "                  # Time (s)  Operation  \\\n",
       "0    2022-05-01 16:47:50.000        0.0   \n",
       "1    2022-05-01 16:47:50.100        6.0   \n",
       "2    2022-05-01 16:47:50.200        6.0   \n",
       "3    2022-05-01 16:47:50.300        6.0   \n",
       "4    2022-05-01 16:47:50.400        6.0   \n",
       "...                      ...        ...   \n",
       "3596 2022-05-01 16:53:49.600        3.0   \n",
       "3597 2022-05-01 16:53:49.700        3.0   \n",
       "3598 2022-05-01 16:53:49.800        3.0   \n",
       "3599 2022-05-01 16:53:49.900        3.0   \n",
       "3600 2022-05-01 16:53:50.000        3.0   \n",
       "\n",
       "                                             quaternion  \n",
       "0                                  (1.0, 0.0, 0.0, 0.0)  \n",
       "1                                  (1.0, 0.0, 0.0, 0.0)  \n",
       "2                                  (1.0, 0.0, 0.0, 0.0)  \n",
       "3                                  (1.0, 0.0, 0.0, 0.0)  \n",
       "4                                  (1.0, 0.0, 0.0, 0.0)  \n",
       "...                                                 ...  \n",
       "3596  (0.18073168897396064, 0.3934337363151429, 0.29...  \n",
       "3597  (0.18067550425533344, 0.3934765952510808, 0.29...  \n",
       "3598  (0.18061932863924168, 0.3935194421147498, 0.29...  \n",
       "3599  (0.1805631169099877, 0.39356231139137776, 0.29...  \n",
       "3600  (0.18050691428658416, 0.39360516859302175, 0.2...  \n",
       "\n",
       "[3601 rows x 3 columns]"
      ]
     },
     "execution_count": 19,
     "metadata": {},
     "output_type": "execute_result"
    }
   ],
   "source": [
    "epoch = []\n",
    "start_specific_timestamp = pd.Timestamp('2022-05-01 16:50:00.000')\n",
    "end_specific_timestamp = pd.Timestamp('2022-05-01 17:07:50.000')\n",
    "time = start_epoch\n",
    "for i in range (len(df_basilisk)):\n",
    "    time = start_epoch + df_basilisk['# Time (s)'][i]\n",
    "    epoch.append(pd.Timestamp(time.get_datetime()))\n",
    "df_basilisk['# Time (s)'] = epoch\n",
    "# df_basilisk = df_basilisk[(df_basilisk['# Time (s)'] >= start_specific_timestamp) & (df_basilisk['# Time (s)'] <= end_specific_timestamp)]\n",
    "df_basilisk = df_basilisk.reset_index(drop=True)\n",
    "df_basilisk['quaternion'] = df_basilisk.apply(lambda row: (row['q_BodyInertial_ref[0]'], row['q_BodyInertial_ref[1]'], row['q_BodyInertial_ref[2]'], row['q_BodyInertial_ref[3]']), axis=1)\n",
    "df_basilisk = df_basilisk.drop(columns=['q_BodyInertial_ref[0]','q_BodyInertial_ref[1]','q_BodyInertial_ref[2]','q_BodyInertial_ref[3]'])\n",
    "df_basilisk"
   ]
  },
  {
   "cell_type": "code",
   "execution_count": 20,
   "metadata": {},
   "outputs": [],
   "source": [
    "# Function to check and adjust quaternion sign\n",
    "def adjust_quaternion(row):\n",
    "    if row['q0'] < 0:\n",
    "        return [-row['q0'], -row['q1'], -row['q2'], -row['q3']]\n",
    "    else:\n",
    "        return [row['q0'], row['q1'], row['q2'], row['q3']]"
   ]
  },
  {
   "cell_type": "code",
   "execution_count": 21,
   "metadata": {},
   "outputs": [
    {
     "data": {
      "text/html": [
       "<div>\n",
       "<style scoped>\n",
       "    .dataframe tbody tr th:only-of-type {\n",
       "        vertical-align: middle;\n",
       "    }\n",
       "\n",
       "    .dataframe tbody tr th {\n",
       "        vertical-align: top;\n",
       "    }\n",
       "\n",
       "    .dataframe thead th {\n",
       "        text-align: right;\n",
       "    }\n",
       "</style>\n",
       "<table border=\"1\" class=\"dataframe\">\n",
       "  <thead>\n",
       "    <tr style=\"text-align: right;\">\n",
       "      <th></th>\n",
       "      <th>time</th>\n",
       "      <th>operation</th>\n",
       "      <th>px</th>\n",
       "      <th>py</th>\n",
       "      <th>pz</th>\n",
       "      <th>vx</th>\n",
       "      <th>vy</th>\n",
       "      <th>vz</th>\n",
       "      <th>Quaternion</th>\n",
       "      <th>Quaternion_conjugate</th>\n",
       "    </tr>\n",
       "  </thead>\n",
       "  <tbody>\n",
       "    <tr>\n",
       "      <th>0</th>\n",
       "      <td>2022-05-01 16:49:00.000</td>\n",
       "      <td>2</td>\n",
       "      <td>-6.661377e+06</td>\n",
       "      <td>-1.974339e+06</td>\n",
       "      <td>5.240901e+05</td>\n",
       "      <td>258.249282</td>\n",
       "      <td>1143.166043</td>\n",
       "      <td>7472.528932</td>\n",
       "      <td>[0.33274616344217567, -0.7150199292146033, 0.1...</td>\n",
       "      <td>[0.33274616344217567, 0.7150199292146033, -0.1...</td>\n",
       "    </tr>\n",
       "    <tr>\n",
       "      <th>1</th>\n",
       "      <td>2022-05-01 16:49:00.100</td>\n",
       "      <td>2</td>\n",
       "      <td>-6.661351e+06</td>\n",
       "      <td>-1.974225e+06</td>\n",
       "      <td>5.248373e+05</td>\n",
       "      <td>259.035280</td>\n",
       "      <td>1143.398978</td>\n",
       "      <td>7472.466885</td>\n",
       "      <td>[0.33275921572583744, -0.7150443320666561, 0.1...</td>\n",
       "      <td>[0.33275921572583744, 0.7150443320666561, -0.1...</td>\n",
       "    </tr>\n",
       "    <tr>\n",
       "      <th>2</th>\n",
       "      <td>2022-05-01 16:49:00.200</td>\n",
       "      <td>2</td>\n",
       "      <td>-6.661325e+06</td>\n",
       "      <td>-1.974111e+06</td>\n",
       "      <td>5.255846e+05</td>\n",
       "      <td>259.821276</td>\n",
       "      <td>1143.631899</td>\n",
       "      <td>7472.404749</td>\n",
       "      <td>[0.3327722490821401, -0.7150687318893885, 0.16...</td>\n",
       "      <td>[0.3327722490821401, 0.7150687318893885, -0.16...</td>\n",
       "    </tr>\n",
       "    <tr>\n",
       "      <th>3</th>\n",
       "      <td>2022-05-01 16:49:00.300</td>\n",
       "      <td>2</td>\n",
       "      <td>-6.661299e+06</td>\n",
       "      <td>-1.973996e+06</td>\n",
       "      <td>5.263318e+05</td>\n",
       "      <td>260.607268</td>\n",
       "      <td>1143.864807</td>\n",
       "      <td>7472.342524</td>\n",
       "      <td>[0.33278526351913523, -0.7150931286848025, 0.1...</td>\n",
       "      <td>[0.33278526351913523, 0.7150931286848025, -0.1...</td>\n",
       "    </tr>\n",
       "    <tr>\n",
       "      <th>4</th>\n",
       "      <td>2022-05-01 16:49:00.400</td>\n",
       "      <td>2</td>\n",
       "      <td>-6.661273e+06</td>\n",
       "      <td>-1.973882e+06</td>\n",
       "      <td>5.270790e+05</td>\n",
       "      <td>261.393258</td>\n",
       "      <td>1144.097701</td>\n",
       "      <td>7472.280211</td>\n",
       "      <td>[0.3327982590448696, -0.7151175224548967, 0.16...</td>\n",
       "      <td>[0.3327982590448696, 0.7151175224548967, -0.16...</td>\n",
       "    </tr>\n",
       "    <tr>\n",
       "      <th>...</th>\n",
       "      <td>...</td>\n",
       "      <td>...</td>\n",
       "      <td>...</td>\n",
       "      <td>...</td>\n",
       "      <td>...</td>\n",
       "      <td>...</td>\n",
       "      <td>...</td>\n",
       "      <td>...</td>\n",
       "      <td>...</td>\n",
       "      <td>...</td>\n",
       "    </tr>\n",
       "    <tr>\n",
       "      <th>2896</th>\n",
       "      <td>2022-05-01 16:53:49.600</td>\n",
       "      <td>3</td>\n",
       "      <td>-6.260864e+06</td>\n",
       "      <td>-1.551814e+06</td>\n",
       "      <td>2.626725e+06</td>\n",
       "      <td>2484.998344</td>\n",
       "      <td>1750.759235</td>\n",
       "      <td>6928.103551</td>\n",
       "      <td>[0.16875716886500877, 0.4171825123486509, 0.19...</td>\n",
       "      <td>[0.16875716886500877, -0.4171825123486509, -0....</td>\n",
       "    </tr>\n",
       "    <tr>\n",
       "      <th>2897</th>\n",
       "      <td>2022-05-01 16:53:49.700</td>\n",
       "      <td>3</td>\n",
       "      <td>-6.260615e+06</td>\n",
       "      <td>-1.551639e+06</td>\n",
       "      <td>2.627417e+06</td>\n",
       "      <td>2485.737322</td>\n",
       "      <td>1750.942390</td>\n",
       "      <td>6927.792638</td>\n",
       "      <td>[0.16870968038079007, 0.4172230074156076, 0.19...</td>\n",
       "      <td>[0.16870968038079007, -0.4172230074156076, -0....</td>\n",
       "    </tr>\n",
       "    <tr>\n",
       "      <th>2898</th>\n",
       "      <td>2022-05-01 16:53:49.800</td>\n",
       "      <td>3</td>\n",
       "      <td>-6.260367e+06</td>\n",
       "      <td>-1.551464e+06</td>\n",
       "      <td>2.628110e+06</td>\n",
       "      <td>2486.476271</td>\n",
       "      <td>1751.125524</td>\n",
       "      <td>6927.481643</td>\n",
       "      <td>[0.1686621860205569, 0.41726350445575905, 0.19...</td>\n",
       "      <td>[0.1686621860205569, -0.41726350445575905, -0....</td>\n",
       "    </tr>\n",
       "    <tr>\n",
       "      <th>2899</th>\n",
       "      <td>2022-05-01 16:53:49.900</td>\n",
       "      <td>3</td>\n",
       "      <td>-6.260118e+06</td>\n",
       "      <td>-1.551289e+06</td>\n",
       "      <td>2.628803e+06</td>\n",
       "      <td>2487.215190</td>\n",
       "      <td>1751.308637</td>\n",
       "      <td>6927.170566</td>\n",
       "      <td>[0.16861468578428412, 0.41730400346946056, 0.1...</td>\n",
       "      <td>[0.16861468578428412, -0.41730400346946056, -0...</td>\n",
       "    </tr>\n",
       "    <tr>\n",
       "      <th>2900</th>\n",
       "      <td>2022-05-01 16:53:50.000</td>\n",
       "      <td>3</td>\n",
       "      <td>-6.259869e+06</td>\n",
       "      <td>-1.551114e+06</td>\n",
       "      <td>2.629496e+06</td>\n",
       "      <td>2487.954079</td>\n",
       "      <td>1751.491729</td>\n",
       "      <td>6926.859407</td>\n",
       "      <td>[0.1685671796730935, 0.4173445044555649, 0.199...</td>\n",
       "      <td>[0.1685671796730935, -0.4173445044555649, -0.1...</td>\n",
       "    </tr>\n",
       "  </tbody>\n",
       "</table>\n",
       "<p>2901 rows × 10 columns</p>\n",
       "</div>"
      ],
      "text/plain": [
       "                        time  operation            px            py  \\\n",
       "0    2022-05-01 16:49:00.000          2 -6.661377e+06 -1.974339e+06   \n",
       "1    2022-05-01 16:49:00.100          2 -6.661351e+06 -1.974225e+06   \n",
       "2    2022-05-01 16:49:00.200          2 -6.661325e+06 -1.974111e+06   \n",
       "3    2022-05-01 16:49:00.300          2 -6.661299e+06 -1.973996e+06   \n",
       "4    2022-05-01 16:49:00.400          2 -6.661273e+06 -1.973882e+06   \n",
       "...                      ...        ...           ...           ...   \n",
       "2896 2022-05-01 16:53:49.600          3 -6.260864e+06 -1.551814e+06   \n",
       "2897 2022-05-01 16:53:49.700          3 -6.260615e+06 -1.551639e+06   \n",
       "2898 2022-05-01 16:53:49.800          3 -6.260367e+06 -1.551464e+06   \n",
       "2899 2022-05-01 16:53:49.900          3 -6.260118e+06 -1.551289e+06   \n",
       "2900 2022-05-01 16:53:50.000          3 -6.259869e+06 -1.551114e+06   \n",
       "\n",
       "                pz           vx           vy           vz  \\\n",
       "0     5.240901e+05   258.249282  1143.166043  7472.528932   \n",
       "1     5.248373e+05   259.035280  1143.398978  7472.466885   \n",
       "2     5.255846e+05   259.821276  1143.631899  7472.404749   \n",
       "3     5.263318e+05   260.607268  1143.864807  7472.342524   \n",
       "4     5.270790e+05   261.393258  1144.097701  7472.280211   \n",
       "...            ...          ...          ...          ...   \n",
       "2896  2.626725e+06  2484.998344  1750.759235  6928.103551   \n",
       "2897  2.627417e+06  2485.737322  1750.942390  6927.792638   \n",
       "2898  2.628110e+06  2486.476271  1751.125524  6927.481643   \n",
       "2899  2.628803e+06  2487.215190  1751.308637  6927.170566   \n",
       "2900  2.629496e+06  2487.954079  1751.491729  6926.859407   \n",
       "\n",
       "                                             Quaternion  \\\n",
       "0     [0.33274616344217567, -0.7150199292146033, 0.1...   \n",
       "1     [0.33275921572583744, -0.7150443320666561, 0.1...   \n",
       "2     [0.3327722490821401, -0.7150687318893885, 0.16...   \n",
       "3     [0.33278526351913523, -0.7150931286848025, 0.1...   \n",
       "4     [0.3327982590448696, -0.7151175224548967, 0.16...   \n",
       "...                                                 ...   \n",
       "2896  [0.16875716886500877, 0.4171825123486509, 0.19...   \n",
       "2897  [0.16870968038079007, 0.4172230074156076, 0.19...   \n",
       "2898  [0.1686621860205569, 0.41726350445575905, 0.19...   \n",
       "2899  [0.16861468578428412, 0.41730400346946056, 0.1...   \n",
       "2900  [0.1685671796730935, 0.4173445044555649, 0.199...   \n",
       "\n",
       "                                   Quaternion_conjugate  \n",
       "0     [0.33274616344217567, 0.7150199292146033, -0.1...  \n",
       "1     [0.33275921572583744, 0.7150443320666561, -0.1...  \n",
       "2     [0.3327722490821401, 0.7150687318893885, -0.16...  \n",
       "3     [0.33278526351913523, 0.7150931286848025, -0.1...  \n",
       "4     [0.3327982590448696, 0.7151175224548967, -0.16...  \n",
       "...                                                 ...  \n",
       "2896  [0.16875716886500877, -0.4171825123486509, -0....  \n",
       "2897  [0.16870968038079007, -0.4172230074156076, -0....  \n",
       "2898  [0.1686621860205569, -0.41726350445575905, -0....  \n",
       "2899  [0.16861468578428412, -0.41730400346946056, -0...  \n",
       "2900  [0.1685671796730935, -0.4173445044555649, -0.1...  \n",
       "\n",
       "[2901 rows x 10 columns]"
      ]
     },
     "execution_count": 21,
     "metadata": {},
     "output_type": "execute_result"
    }
   ],
   "source": [
    "epoch1 = []\n",
    "q0 = []\n",
    "q = []\n",
    "for i in range(len(df_orekit)):\n",
    "    t = df_orekit['time'][i]\n",
    "    epoch1.append(pd.Timestamp(t))\n",
    "df_orekit['time'] = epoch1\n",
    "# df_orekit = df_orekit[(df_orekit['time'] >= start_specific_timestamp) & (df_orekit['time'] <= end_specific_timestamp)]\n",
    "df_orekit = df_orekit.reset_index(drop=True)\n",
    "# dff = pd.DataFrame()\n",
    "# dff = df_orekit[['q0', 'q1', 'q2', 'q3']]\n",
    "# df_orekit['quaternion'] = df_orekit.apply(lambda row: (row['q0'], row['q1'], row['q2'], row['q3']), axis=1)\n",
    "df_orekit['Quaternion'] = df_orekit.apply(adjust_quaternion, axis = 1)\n",
    "df_orekit['Quaternion_conjugate'] = df_orekit['Quaternion'].apply(lambda q: np.array([q[0], -q[1], -q[2], -q[3]]))\n",
    "# df_orekit = df_orekit.drop(df_orekit.index[-1])\n",
    "df_orekit = df_orekit.drop(columns=['q0','q1','q2','q3'])\n",
    "df_orekit"
   ]
  },
  {
   "cell_type": "markdown",
   "metadata": {},
   "source": [
    "## Save the file to the results folder"
   ]
  },
  {
   "cell_type": "code",
   "execution_count": 22,
   "metadata": {},
   "outputs": [],
   "source": [
    "file_path = os.path.join(sub_folder_path, 'Basilisk_q.csv')\n",
    "file_path_orekit = os.path.join(sub_folder_path,'Orekit_q.csv')\n",
    "\n",
    "df_basilisk.to_csv(file_path, index=False)\n",
    "df_orekit.to_csv(file_path_orekit, index=False)"
   ]
  },
  {
   "cell_type": "markdown",
   "metadata": {},
   "source": [
    "## Plot the error!"
   ]
  },
  {
   "cell_type": "code",
   "execution_count": 23,
   "metadata": {},
   "outputs": [],
   "source": [
    "def error_angle_generator(q, r):\n",
    "    # Extract the values from Q0\n",
    "    w0 = q[0]\n",
    "    x0 = q[1]\n",
    "    y0 = q[2]\n",
    "    z0 = q[3]\n",
    "     \n",
    "    # Extract the values from Q1\n",
    "    w1 = r[0]\n",
    "    x1 = r[1]\n",
    "    y1 = r[2]\n",
    "    z1 = r[3]\n",
    "     \n",
    "    # Computer the product of the two quaternions, term by term\n",
    "    q12_w = w0 * w1 - x0 * x1 - y0 * y1 - z0 * z1\n",
    "    q12_x = w0 * x1 + x0 * w1 + y0 * z1 - z0 * y1\n",
    "    q12_y = w0 * y1 - x0 * z1 + y0 * w1 + z0 * x1\n",
    "    q12_z = w0 * z1 + x0 * y1 - y0 * x1 + z0 * w1\n",
    "\n",
    "    q12 = np.array([q12_w, q12_x, q12_y, q12_z])\n",
    "    angle_error = 2 * (np.arctan2(np.linalg.norm(q12[1:3]),q12[0]) * (180/np.pi))\n",
    "    if angle_error <= 180:\n",
    "        angle_error = angle_error\n",
    "    elif angle_error > 180:\n",
    "        angle_error = 360 - angle_error\n",
    "\n",
    "        \n",
    "    return angle_error"
   ]
  },
  {
   "cell_type": "code",
   "execution_count": 24,
   "metadata": {},
   "outputs": [
    {
     "data": {
      "text/plain": [
       "Index(['time', 'operation', 'px', 'py', 'pz', 'vx', 'vy', 'vz', 'Quaternion',\n",
       "       'Quaternion_conjugate', '# Time (s)', 'Operation', 'quaternion'],\n",
       "      dtype='object')"
      ]
     },
     "execution_count": 24,
     "metadata": {},
     "output_type": "execute_result"
    }
   ],
   "source": [
    "merged_df = pd.DataFrame()\n",
    "merged_df = pd.merge_asof(df_orekit,df_basilisk,left_on='time',right_on='# Time (s)')\n",
    "\n",
    "merged_df.columns"
   ]
  },
  {
   "cell_type": "code",
   "execution_count": 25,
   "metadata": {},
   "outputs": [
    {
     "data": {
      "text/html": [
       "<div>\n",
       "<style scoped>\n",
       "    .dataframe tbody tr th:only-of-type {\n",
       "        vertical-align: middle;\n",
       "    }\n",
       "\n",
       "    .dataframe tbody tr th {\n",
       "        vertical-align: top;\n",
       "    }\n",
       "\n",
       "    .dataframe thead th {\n",
       "        text-align: right;\n",
       "    }\n",
       "</style>\n",
       "<table border=\"1\" class=\"dataframe\">\n",
       "  <thead>\n",
       "    <tr style=\"text-align: right;\">\n",
       "      <th></th>\n",
       "      <th>Time</th>\n",
       "      <th>angle error</th>\n",
       "      <th>operation</th>\n",
       "    </tr>\n",
       "  </thead>\n",
       "  <tbody>\n",
       "    <tr>\n",
       "      <th>0</th>\n",
       "      <td>2022-05-01 16:49:00.000</td>\n",
       "      <td>131.180571</td>\n",
       "      <td>1.0</td>\n",
       "    </tr>\n",
       "    <tr>\n",
       "      <th>1</th>\n",
       "      <td>2022-05-01 16:49:00.100</td>\n",
       "      <td>131.181029</td>\n",
       "      <td>2.0</td>\n",
       "    </tr>\n",
       "    <tr>\n",
       "      <th>2</th>\n",
       "      <td>2022-05-01 16:49:00.200</td>\n",
       "      <td>0.002572</td>\n",
       "      <td>2.0</td>\n",
       "    </tr>\n",
       "    <tr>\n",
       "      <th>3</th>\n",
       "      <td>2022-05-01 16:49:00.300</td>\n",
       "      <td>0.002568</td>\n",
       "      <td>2.0</td>\n",
       "    </tr>\n",
       "    <tr>\n",
       "      <th>4</th>\n",
       "      <td>2022-05-01 16:49:00.400</td>\n",
       "      <td>0.002566</td>\n",
       "      <td>2.0</td>\n",
       "    </tr>\n",
       "    <tr>\n",
       "      <th>...</th>\n",
       "      <td>...</td>\n",
       "      <td>...</td>\n",
       "      <td>...</td>\n",
       "    </tr>\n",
       "    <tr>\n",
       "      <th>2896</th>\n",
       "      <td>2022-05-01 16:53:49.600</td>\n",
       "      <td>9.843215</td>\n",
       "      <td>3.0</td>\n",
       "    </tr>\n",
       "    <tr>\n",
       "      <th>2897</th>\n",
       "      <td>2022-05-01 16:53:49.700</td>\n",
       "      <td>9.844082</td>\n",
       "      <td>3.0</td>\n",
       "    </tr>\n",
       "    <tr>\n",
       "      <th>2898</th>\n",
       "      <td>2022-05-01 16:53:49.800</td>\n",
       "      <td>9.844949</td>\n",
       "      <td>3.0</td>\n",
       "    </tr>\n",
       "    <tr>\n",
       "      <th>2899</th>\n",
       "      <td>2022-05-01 16:53:49.900</td>\n",
       "      <td>9.845817</td>\n",
       "      <td>3.0</td>\n",
       "    </tr>\n",
       "    <tr>\n",
       "      <th>2900</th>\n",
       "      <td>2022-05-01 16:53:50.000</td>\n",
       "      <td>9.846684</td>\n",
       "      <td>3.0</td>\n",
       "    </tr>\n",
       "  </tbody>\n",
       "</table>\n",
       "<p>2901 rows × 3 columns</p>\n",
       "</div>"
      ],
      "text/plain": [
       "                        Time  angle error  operation\n",
       "0    2022-05-01 16:49:00.000   131.180571        1.0\n",
       "1    2022-05-01 16:49:00.100   131.181029        2.0\n",
       "2    2022-05-01 16:49:00.200     0.002572        2.0\n",
       "3    2022-05-01 16:49:00.300     0.002568        2.0\n",
       "4    2022-05-01 16:49:00.400     0.002566        2.0\n",
       "...                      ...          ...        ...\n",
       "2896 2022-05-01 16:53:49.600     9.843215        3.0\n",
       "2897 2022-05-01 16:53:49.700     9.844082        3.0\n",
       "2898 2022-05-01 16:53:49.800     9.844949        3.0\n",
       "2899 2022-05-01 16:53:49.900     9.845817        3.0\n",
       "2900 2022-05-01 16:53:50.000     9.846684        3.0\n",
       "\n",
       "[2901 rows x 3 columns]"
      ]
     },
     "execution_count": 25,
     "metadata": {},
     "output_type": "execute_result"
    }
   ],
   "source": [
    "error1 = []\n",
    "for i in range(len(merged_df)):\n",
    "    q1 = merged_df['quaternion'][i]\n",
    "    q2 = merged_df['Quaternion_conjugate'][i]\n",
    "    angle_error = error_angle_generator(q2,q1)\n",
    "    error1.append(angle_error)\n",
    "error['Time'] = merged_df['time']\n",
    "error['angle error'] = error1\n",
    "error['operation'] = merged_df['Operation']\n",
    "error "
   ]
  },
  {
   "cell_type": "code",
   "execution_count": 27,
   "metadata": {},
   "outputs": [
    {
     "data": {
      "text/plain": [
       "np.float64(12.1961531856319)"
      ]
     },
     "execution_count": 27,
     "metadata": {},
     "output_type": "execute_result"
    }
   ],
   "source": [
    "simulink_q = [0.2809089,-0.306867,-0.304860,-0.856727]\n",
    "basilisk_q = [0.2405719,0.351735,0.219754,0.877562]\n",
    "\n",
    "ang_error = error_angle_generator(basilisk_q,simulink_q)\n",
    "\n",
    "ang_error\n"
   ]
  },
  {
   "cell_type": "code",
   "execution_count": 26,
   "metadata": {},
   "outputs": [
    {
     "data": {
      "application/vnd.plotly.v1+json": {
       "config": {
        "plotlyServerURL": "https://plot.ly"
       },
       "data": [
        {
         "customdata": [
          [
           1
          ],
          [
           2
          ],
          [
           2
          ],
          [
           2
          ],
          [
           2
          ],
          [
           2
          ],
          [
           2
          ],
          [
           2
          ],
          [
           2
          ],
          [
           2
          ],
          [
           2
          ],
          [
           2
          ],
          [
           2
          ],
          [
           2
          ],
          [
           2
          ],
          [
           2
          ],
          [
           2
          ],
          [
           2
          ],
          [
           2
          ],
          [
           2
          ],
          [
           2
          ],
          [
           2
          ],
          [
           2
          ],
          [
           2
          ],
          [
           2
          ],
          [
           2
          ],
          [
           2
          ],
          [
           2
          ],
          [
           2
          ],
          [
           2
          ],
          [
           2
          ],
          [
           2
          ],
          [
           2
          ],
          [
           2
          ],
          [
           2
          ],
          [
           2
          ],
          [
           2
          ],
          [
           2
          ],
          [
           2
          ],
          [
           2
          ],
          [
           2
          ],
          [
           2
          ],
          [
           2
          ],
          [
           2
          ],
          [
           2
          ],
          [
           2
          ],
          [
           2
          ],
          [
           2
          ],
          [
           2
          ],
          [
           2
          ],
          [
           2
          ],
          [
           2
          ],
          [
           2
          ],
          [
           2
          ],
          [
           2
          ],
          [
           2
          ],
          [
           2
          ],
          [
           2
          ],
          [
           2
          ],
          [
           2
          ],
          [
           2
          ],
          [
           2
          ],
          [
           2
          ],
          [
           2
          ],
          [
           2
          ],
          [
           2
          ],
          [
           2
          ],
          [
           2
          ],
          [
           2
          ],
          [
           2
          ],
          [
           2
          ],
          [
           2
          ],
          [
           2
          ],
          [
           2
          ],
          [
           2
          ],
          [
           2
          ],
          [
           2
          ],
          [
           2
          ],
          [
           2
          ],
          [
           2
          ],
          [
           2
          ],
          [
           2
          ],
          [
           2
          ],
          [
           2
          ],
          [
           2
          ],
          [
           2
          ],
          [
           2
          ],
          [
           2
          ],
          [
           2
          ],
          [
           2
          ],
          [
           2
          ],
          [
           2
          ],
          [
           2
          ],
          [
           2
          ],
          [
           2
          ],
          [
           2
          ],
          [
           2
          ],
          [
           2
          ],
          [
           2
          ],
          [
           2
          ],
          [
           2
          ],
          [
           2
          ],
          [
           2
          ],
          [
           2
          ],
          [
           2
          ],
          [
           2
          ],
          [
           2
          ],
          [
           2
          ],
          [
           2
          ],
          [
           2
          ],
          [
           2
          ],
          [
           2
          ],
          [
           2
          ],
          [
           2
          ],
          [
           2
          ],
          [
           2
          ],
          [
           2
          ],
          [
           2
          ],
          [
           2
          ],
          [
           2
          ],
          [
           2
          ],
          [
           2
          ],
          [
           2
          ],
          [
           2
          ],
          [
           2
          ],
          [
           2
          ],
          [
           2
          ],
          [
           2
          ],
          [
           2
          ],
          [
           2
          ],
          [
           2
          ],
          [
           2
          ],
          [
           2
          ],
          [
           2
          ],
          [
           2
          ],
          [
           2
          ],
          [
           2
          ],
          [
           2
          ],
          [
           2
          ],
          [
           2
          ],
          [
           2
          ],
          [
           2
          ],
          [
           2
          ],
          [
           2
          ],
          [
           2
          ],
          [
           2
          ],
          [
           2
          ],
          [
           2
          ],
          [
           2
          ],
          [
           2
          ],
          [
           2
          ],
          [
           2
          ],
          [
           2
          ],
          [
           2
          ],
          [
           2
          ],
          [
           2
          ],
          [
           2
          ],
          [
           2
          ],
          [
           2
          ],
          [
           2
          ],
          [
           2
          ],
          [
           2
          ],
          [
           2
          ],
          [
           2
          ],
          [
           2
          ],
          [
           2
          ],
          [
           2
          ],
          [
           2
          ],
          [
           2
          ],
          [
           2
          ],
          [
           2
          ],
          [
           2
          ],
          [
           2
          ],
          [
           2
          ],
          [
           2
          ],
          [
           2
          ],
          [
           2
          ],
          [
           2
          ],
          [
           2
          ],
          [
           2
          ],
          [
           2
          ],
          [
           2
          ],
          [
           2
          ],
          [
           2
          ],
          [
           2
          ],
          [
           2
          ],
          [
           2
          ],
          [
           2
          ],
          [
           2
          ],
          [
           2
          ],
          [
           2
          ],
          [
           2
          ],
          [
           2
          ],
          [
           2
          ],
          [
           2
          ],
          [
           2
          ],
          [
           2
          ],
          [
           2
          ],
          [
           2
          ],
          [
           2
          ],
          [
           2
          ],
          [
           2
          ],
          [
           2
          ],
          [
           2
          ],
          [
           2
          ],
          [
           2
          ],
          [
           2
          ],
          [
           2
          ],
          [
           2
          ],
          [
           2
          ],
          [
           2
          ],
          [
           2
          ],
          [
           2
          ],
          [
           2
          ],
          [
           2
          ],
          [
           2
          ],
          [
           2
          ],
          [
           2
          ],
          [
           2
          ],
          [
           2
          ],
          [
           2
          ],
          [
           2
          ],
          [
           2
          ],
          [
           2
          ],
          [
           2
          ],
          [
           2
          ],
          [
           2
          ],
          [
           2
          ],
          [
           2
          ],
          [
           2
          ],
          [
           2
          ],
          [
           2
          ],
          [
           2
          ],
          [
           2
          ],
          [
           2
          ],
          [
           2
          ],
          [
           2
          ],
          [
           2
          ],
          [
           2
          ],
          [
           2
          ],
          [
           2
          ],
          [
           2
          ],
          [
           2
          ],
          [
           2
          ],
          [
           2
          ],
          [
           2
          ],
          [
           2
          ],
          [
           2
          ],
          [
           2
          ],
          [
           2
          ],
          [
           2
          ],
          [
           2
          ],
          [
           2
          ],
          [
           2
          ],
          [
           2
          ],
          [
           2
          ],
          [
           2
          ],
          [
           2
          ],
          [
           2
          ],
          [
           2
          ],
          [
           2
          ],
          [
           2
          ],
          [
           2
          ],
          [
           2
          ],
          [
           2
          ],
          [
           2
          ],
          [
           2
          ],
          [
           2
          ],
          [
           2
          ],
          [
           2
          ],
          [
           2
          ],
          [
           2
          ],
          [
           2
          ],
          [
           2
          ],
          [
           2
          ],
          [
           2
          ],
          [
           2
          ],
          [
           2
          ],
          [
           2
          ],
          [
           2
          ],
          [
           2
          ],
          [
           2
          ],
          [
           2
          ],
          [
           2
          ],
          [
           2
          ],
          [
           2
          ],
          [
           2
          ],
          [
           2
          ],
          [
           2
          ],
          [
           2
          ],
          [
           2
          ],
          [
           2
          ],
          [
           2
          ],
          [
           2
          ],
          [
           2
          ],
          [
           2
          ],
          [
           2
          ],
          [
           2
          ],
          [
           2
          ],
          [
           2
          ],
          [
           2
          ],
          [
           2
          ],
          [
           2
          ],
          [
           2
          ],
          [
           2
          ],
          [
           2
          ],
          [
           2
          ],
          [
           2
          ],
          [
           2
          ],
          [
           2
          ],
          [
           2
          ],
          [
           2
          ],
          [
           2
          ],
          [
           2
          ],
          [
           2
          ],
          [
           2
          ],
          [
           2
          ],
          [
           2
          ],
          [
           2
          ],
          [
           2
          ],
          [
           2
          ],
          [
           2
          ],
          [
           2
          ],
          [
           2
          ],
          [
           2
          ],
          [
           2
          ],
          [
           2
          ],
          [
           2
          ],
          [
           2
          ],
          [
           2
          ],
          [
           2
          ],
          [
           2
          ],
          [
           2
          ],
          [
           2
          ],
          [
           2
          ],
          [
           2
          ],
          [
           2
          ],
          [
           2
          ],
          [
           2
          ],
          [
           2
          ],
          [
           2
          ],
          [
           2
          ],
          [
           2
          ],
          [
           2
          ],
          [
           2
          ],
          [
           2
          ],
          [
           2
          ],
          [
           2
          ],
          [
           2
          ],
          [
           2
          ],
          [
           2
          ],
          [
           2
          ],
          [
           2
          ],
          [
           2
          ],
          [
           2
          ],
          [
           2
          ],
          [
           2
          ],
          [
           2
          ],
          [
           2
          ],
          [
           2
          ],
          [
           2
          ],
          [
           2
          ],
          [
           2
          ],
          [
           2
          ],
          [
           2
          ],
          [
           2
          ],
          [
           2
          ],
          [
           2
          ],
          [
           2
          ],
          [
           2
          ],
          [
           2
          ],
          [
           2
          ],
          [
           2
          ],
          [
           2
          ],
          [
           2
          ],
          [
           2
          ],
          [
           2
          ],
          [
           2
          ],
          [
           2
          ],
          [
           2
          ],
          [
           2
          ],
          [
           2
          ],
          [
           2
          ],
          [
           2
          ],
          [
           2
          ],
          [
           2
          ],
          [
           2
          ],
          [
           2
          ],
          [
           2
          ],
          [
           2
          ],
          [
           2
          ],
          [
           2
          ],
          [
           2
          ],
          [
           2
          ],
          [
           2
          ],
          [
           2
          ],
          [
           2
          ],
          [
           2
          ],
          [
           2
          ],
          [
           2
          ],
          [
           2
          ],
          [
           2
          ],
          [
           2
          ],
          [
           2
          ],
          [
           2
          ],
          [
           2
          ],
          [
           2
          ],
          [
           2
          ],
          [
           2
          ],
          [
           2
          ],
          [
           2
          ],
          [
           2
          ],
          [
           2
          ],
          [
           2
          ],
          [
           2
          ],
          [
           2
          ],
          [
           2
          ],
          [
           2
          ],
          [
           2
          ],
          [
           2
          ],
          [
           2
          ],
          [
           2
          ],
          [
           2
          ],
          [
           2
          ],
          [
           2
          ],
          [
           2
          ],
          [
           2
          ],
          [
           2
          ],
          [
           2
          ],
          [
           2
          ],
          [
           2
          ],
          [
           2
          ],
          [
           2
          ],
          [
           2
          ],
          [
           2
          ],
          [
           2
          ],
          [
           2
          ],
          [
           2
          ],
          [
           2
          ],
          [
           2
          ],
          [
           2
          ],
          [
           2
          ],
          [
           2
          ],
          [
           2
          ],
          [
           2
          ],
          [
           2
          ],
          [
           2
          ],
          [
           2
          ],
          [
           2
          ],
          [
           2
          ],
          [
           2
          ],
          [
           2
          ],
          [
           2
          ],
          [
           2
          ],
          [
           2
          ],
          [
           2
          ],
          [
           2
          ],
          [
           2
          ],
          [
           2
          ],
          [
           2
          ],
          [
           2
          ],
          [
           2
          ],
          [
           2
          ],
          [
           2
          ],
          [
           2
          ],
          [
           2
          ],
          [
           2
          ],
          [
           2
          ],
          [
           2
          ],
          [
           2
          ],
          [
           2
          ],
          [
           2
          ],
          [
           2
          ],
          [
           2
          ],
          [
           2
          ],
          [
           2
          ],
          [
           2
          ],
          [
           2
          ],
          [
           2
          ],
          [
           2
          ],
          [
           2
          ],
          [
           2
          ],
          [
           2
          ],
          [
           2
          ],
          [
           2
          ],
          [
           2
          ],
          [
           2
          ],
          [
           2
          ],
          [
           2
          ],
          [
           2
          ],
          [
           2
          ],
          [
           2
          ],
          [
           2
          ],
          [
           2
          ],
          [
           2
          ],
          [
           2
          ],
          [
           2
          ],
          [
           2
          ],
          [
           2
          ],
          [
           2
          ],
          [
           2
          ],
          [
           2
          ],
          [
           2
          ],
          [
           2
          ],
          [
           2
          ],
          [
           2
          ],
          [
           2
          ],
          [
           2
          ],
          [
           2
          ],
          [
           2
          ],
          [
           2
          ],
          [
           2
          ],
          [
           2
          ],
          [
           2
          ],
          [
           2
          ],
          [
           2
          ],
          [
           2
          ],
          [
           2
          ],
          [
           2
          ],
          [
           2
          ],
          [
           2
          ],
          [
           2
          ],
          [
           2
          ],
          [
           2
          ],
          [
           2
          ],
          [
           2
          ],
          [
           2
          ],
          [
           2
          ],
          [
           2
          ],
          [
           2
          ],
          [
           2
          ],
          [
           2
          ],
          [
           2
          ],
          [
           2
          ],
          [
           2
          ],
          [
           2
          ],
          [
           2
          ],
          [
           2
          ],
          [
           2
          ],
          [
           2
          ],
          [
           2
          ],
          [
           2
          ],
          [
           2
          ],
          [
           2
          ],
          [
           2
          ],
          [
           2
          ],
          [
           2
          ],
          [
           2
          ],
          [
           2
          ],
          [
           2
          ],
          [
           2
          ],
          [
           2
          ],
          [
           2
          ],
          [
           2
          ],
          [
           2
          ],
          [
           2
          ],
          [
           2
          ],
          [
           2
          ],
          [
           2
          ],
          [
           2
          ],
          [
           2
          ],
          [
           2
          ],
          [
           2
          ],
          [
           2
          ],
          [
           2
          ],
          [
           2
          ],
          [
           2
          ],
          [
           2
          ],
          [
           2
          ],
          [
           2
          ],
          [
           2
          ],
          [
           2
          ],
          [
           2
          ],
          [
           2
          ],
          [
           2
          ],
          [
           2
          ],
          [
           2
          ],
          [
           2
          ],
          [
           2
          ],
          [
           2
          ],
          [
           2
          ],
          [
           2
          ],
          [
           2
          ],
          [
           2
          ],
          [
           2
          ],
          [
           2
          ],
          [
           2
          ],
          [
           2
          ],
          [
           2
          ],
          [
           2
          ],
          [
           2
          ],
          [
           2
          ],
          [
           2
          ],
          [
           2
          ],
          [
           2
          ],
          [
           2
          ],
          [
           2
          ],
          [
           2
          ],
          [
           2
          ],
          [
           2
          ],
          [
           2
          ],
          [
           2
          ],
          [
           2
          ],
          [
           2
          ],
          [
           2
          ],
          [
           2
          ],
          [
           2
          ],
          [
           2
          ],
          [
           2
          ],
          [
           2
          ],
          [
           2
          ],
          [
           2
          ],
          [
           2
          ],
          [
           2
          ],
          [
           2
          ],
          [
           2
          ],
          [
           2
          ],
          [
           2
          ],
          [
           2
          ],
          [
           2
          ],
          [
           2
          ],
          [
           2
          ],
          [
           2
          ],
          [
           2
          ],
          [
           2
          ],
          [
           2
          ],
          [
           2
          ],
          [
           2
          ],
          [
           2
          ],
          [
           2
          ],
          [
           2
          ],
          [
           2
          ],
          [
           2
          ],
          [
           2
          ],
          [
           2
          ],
          [
           2
          ],
          [
           2
          ],
          [
           2
          ],
          [
           2
          ],
          [
           2
          ],
          [
           2
          ],
          [
           2
          ],
          [
           2
          ],
          [
           2
          ],
          [
           2
          ],
          [
           2
          ],
          [
           2
          ],
          [
           2
          ],
          [
           2
          ],
          [
           2
          ],
          [
           2
          ],
          [
           2
          ],
          [
           2
          ],
          [
           2
          ],
          [
           2
          ],
          [
           2
          ],
          [
           2
          ],
          [
           2
          ],
          [
           2
          ],
          [
           2
          ],
          [
           2
          ],
          [
           2
          ],
          [
           2
          ],
          [
           2
          ],
          [
           2
          ],
          [
           2
          ],
          [
           2
          ],
          [
           2
          ],
          [
           2
          ],
          [
           2
          ],
          [
           2
          ],
          [
           2
          ],
          [
           2
          ],
          [
           2
          ],
          [
           2
          ],
          [
           2
          ],
          [
           2
          ],
          [
           2
          ],
          [
           2
          ],
          [
           2
          ],
          [
           2
          ],
          [
           2
          ],
          [
           2
          ],
          [
           2
          ],
          [
           2
          ],
          [
           2
          ],
          [
           2
          ],
          [
           2
          ],
          [
           2
          ],
          [
           2
          ],
          [
           2
          ],
          [
           2
          ],
          [
           2
          ],
          [
           2
          ],
          [
           2
          ],
          [
           2
          ],
          [
           2
          ],
          [
           2
          ],
          [
           2
          ],
          [
           2
          ],
          [
           2
          ],
          [
           2
          ],
          [
           2
          ],
          [
           2
          ],
          [
           2
          ],
          [
           2
          ],
          [
           2
          ],
          [
           2
          ],
          [
           2
          ],
          [
           2
          ],
          [
           2
          ],
          [
           2
          ],
          [
           2
          ],
          [
           2
          ],
          [
           2
          ],
          [
           2
          ],
          [
           2
          ],
          [
           2
          ],
          [
           2
          ],
          [
           2
          ],
          [
           2
          ],
          [
           2
          ],
          [
           2
          ],
          [
           2
          ],
          [
           2
          ],
          [
           2
          ],
          [
           2
          ],
          [
           2
          ],
          [
           2
          ],
          [
           2
          ],
          [
           2
          ],
          [
           2
          ],
          [
           2
          ],
          [
           2
          ],
          [
           2
          ],
          [
           2
          ],
          [
           2
          ],
          [
           2
          ],
          [
           2
          ],
          [
           2
          ],
          [
           2
          ],
          [
           2
          ],
          [
           2
          ],
          [
           2
          ],
          [
           2
          ],
          [
           2
          ],
          [
           2
          ],
          [
           2
          ],
          [
           2
          ],
          [
           2
          ],
          [
           2
          ],
          [
           2
          ],
          [
           2
          ],
          [
           2
          ],
          [
           2
          ],
          [
           2
          ],
          [
           2
          ],
          [
           2
          ],
          [
           2
          ],
          [
           2
          ],
          [
           2
          ],
          [
           2
          ],
          [
           2
          ],
          [
           2
          ],
          [
           2
          ],
          [
           2
          ],
          [
           2
          ],
          [
           2
          ],
          [
           2
          ],
          [
           2
          ],
          [
           2
          ],
          [
           2
          ],
          [
           2
          ],
          [
           2
          ],
          [
           2
          ],
          [
           2
          ],
          [
           2
          ],
          [
           2
          ],
          [
           2
          ],
          [
           2
          ],
          [
           2
          ],
          [
           2
          ],
          [
           2
          ],
          [
           2
          ],
          [
           2
          ],
          [
           2
          ],
          [
           2
          ],
          [
           2
          ],
          [
           2
          ],
          [
           2
          ],
          [
           2
          ],
          [
           2
          ],
          [
           2
          ],
          [
           2
          ],
          [
           2
          ],
          [
           2
          ],
          [
           2
          ],
          [
           2
          ],
          [
           2
          ],
          [
           2
          ],
          [
           2
          ],
          [
           2
          ],
          [
           2
          ],
          [
           2
          ],
          [
           2
          ],
          [
           2
          ],
          [
           2
          ],
          [
           2
          ],
          [
           2
          ],
          [
           2
          ],
          [
           2
          ],
          [
           2
          ],
          [
           2
          ],
          [
           2
          ],
          [
           2
          ],
          [
           2
          ],
          [
           2
          ],
          [
           2
          ],
          [
           2
          ],
          [
           2
          ],
          [
           2
          ],
          [
           2
          ],
          [
           2
          ],
          [
           2
          ],
          [
           2
          ],
          [
           2
          ],
          [
           2
          ],
          [
           2
          ],
          [
           2
          ],
          [
           2
          ],
          [
           2
          ],
          [
           2
          ],
          [
           2
          ],
          [
           2
          ],
          [
           2
          ],
          [
           2
          ],
          [
           2
          ],
          [
           2
          ],
          [
           2
          ],
          [
           2
          ],
          [
           2
          ],
          [
           2
          ],
          [
           2
          ],
          [
           2
          ],
          [
           2
          ],
          [
           2
          ],
          [
           2
          ],
          [
           2
          ],
          [
           2
          ],
          [
           2
          ],
          [
           2
          ],
          [
           2
          ],
          [
           2
          ],
          [
           2
          ],
          [
           2
          ],
          [
           2
          ],
          [
           2
          ],
          [
           2
          ],
          [
           2
          ],
          [
           2
          ],
          [
           2
          ],
          [
           2
          ],
          [
           2
          ],
          [
           2
          ],
          [
           2
          ],
          [
           2
          ],
          [
           2
          ],
          [
           2
          ],
          [
           2
          ],
          [
           2
          ],
          [
           2
          ],
          [
           2
          ],
          [
           2
          ],
          [
           2
          ],
          [
           2
          ],
          [
           2
          ],
          [
           2
          ],
          [
           2
          ],
          [
           2
          ],
          [
           2
          ],
          [
           2
          ],
          [
           2
          ],
          [
           2
          ],
          [
           2
          ],
          [
           2
          ],
          [
           2
          ],
          [
           2
          ],
          [
           2
          ],
          [
           2
          ],
          [
           2
          ],
          [
           2
          ],
          [
           2
          ],
          [
           2
          ],
          [
           2
          ],
          [
           2
          ],
          [
           2
          ],
          [
           2
          ],
          [
           2
          ],
          [
           2
          ],
          [
           2
          ],
          [
           2
          ],
          [
           2
          ],
          [
           2
          ],
          [
           2
          ],
          [
           2
          ],
          [
           2
          ],
          [
           2
          ],
          [
           2
          ],
          [
           2
          ],
          [
           2
          ],
          [
           2
          ],
          [
           2
          ],
          [
           2
          ],
          [
           2
          ],
          [
           2
          ],
          [
           2
          ],
          [
           2
          ],
          [
           2
          ],
          [
           2
          ],
          [
           2
          ],
          [
           2
          ],
          [
           2
          ],
          [
           2
          ],
          [
           2
          ],
          [
           2
          ],
          [
           2
          ],
          [
           2
          ],
          [
           2
          ],
          [
           2
          ],
          [
           2
          ],
          [
           2
          ],
          [
           2
          ],
          [
           2
          ],
          [
           2
          ],
          [
           2
          ],
          [
           2
          ],
          [
           2
          ],
          [
           2
          ],
          [
           2
          ],
          [
           2
          ],
          [
           2
          ],
          [
           2
          ],
          [
           2
          ],
          [
           2
          ],
          [
           2
          ],
          [
           2
          ],
          [
           2
          ],
          [
           2
          ],
          [
           2
          ],
          [
           2
          ],
          [
           2
          ],
          [
           2
          ],
          [
           2
          ],
          [
           2
          ],
          [
           2
          ],
          [
           2
          ],
          [
           2
          ],
          [
           2
          ],
          [
           2
          ],
          [
           2
          ],
          [
           2
          ],
          [
           2
          ],
          [
           2
          ],
          [
           2
          ],
          [
           2
          ],
          [
           2
          ],
          [
           2
          ],
          [
           2
          ],
          [
           2
          ],
          [
           2
          ],
          [
           2
          ],
          [
           2
          ],
          [
           2
          ],
          [
           2
          ],
          [
           2
          ],
          [
           2
          ],
          [
           2
          ],
          [
           2
          ],
          [
           2
          ],
          [
           2
          ],
          [
           2
          ],
          [
           2
          ],
          [
           2
          ],
          [
           2
          ],
          [
           2
          ],
          [
           2
          ],
          [
           2
          ],
          [
           2
          ],
          [
           2
          ],
          [
           2
          ],
          [
           2
          ],
          [
           2
          ],
          [
           2
          ],
          [
           2
          ],
          [
           2
          ],
          [
           2
          ],
          [
           2
          ],
          [
           2
          ],
          [
           2
          ],
          [
           2
          ],
          [
           2
          ],
          [
           2
          ],
          [
           2
          ],
          [
           2
          ],
          [
           2
          ],
          [
           2
          ],
          [
           2
          ],
          [
           2
          ],
          [
           2
          ],
          [
           2
          ],
          [
           2
          ],
          [
           2
          ],
          [
           2
          ],
          [
           2
          ],
          [
           2
          ],
          [
           2
          ],
          [
           2
          ],
          [
           2
          ],
          [
           2
          ],
          [
           2
          ],
          [
           2
          ],
          [
           2
          ],
          [
           2
          ],
          [
           2
          ],
          [
           2
          ],
          [
           2
          ],
          [
           2
          ],
          [
           2
          ],
          [
           2
          ],
          [
           2
          ],
          [
           2
          ],
          [
           2
          ],
          [
           2
          ],
          [
           2
          ],
          [
           2
          ],
          [
           2
          ],
          [
           2
          ],
          [
           2
          ],
          [
           2
          ],
          [
           2
          ],
          [
           2
          ],
          [
           2
          ],
          [
           2
          ],
          [
           2
          ],
          [
           2
          ],
          [
           2
          ],
          [
           2
          ],
          [
           2
          ],
          [
           2
          ],
          [
           2
          ],
          [
           2
          ],
          [
           2
          ],
          [
           2
          ],
          [
           2
          ],
          [
           2
          ],
          [
           2
          ],
          [
           2
          ],
          [
           2
          ],
          [
           2
          ],
          [
           2
          ],
          [
           2
          ],
          [
           2
          ],
          [
           2
          ],
          [
           2
          ],
          [
           2
          ],
          [
           2
          ],
          [
           2
          ],
          [
           2
          ],
          [
           2
          ],
          [
           2
          ],
          [
           2
          ],
          [
           2
          ],
          [
           2
          ],
          [
           2
          ],
          [
           2
          ],
          [
           2
          ],
          [
           2
          ],
          [
           2
          ],
          [
           2
          ],
          [
           2
          ],
          [
           2
          ],
          [
           2
          ],
          [
           2
          ],
          [
           2
          ],
          [
           2
          ],
          [
           2
          ],
          [
           2
          ],
          [
           2
          ],
          [
           2
          ],
          [
           2
          ],
          [
           2
          ],
          [
           2
          ],
          [
           2
          ],
          [
           2
          ],
          [
           2
          ],
          [
           2
          ],
          [
           2
          ],
          [
           2
          ],
          [
           2
          ],
          [
           2
          ],
          [
           2
          ],
          [
           2
          ],
          [
           2
          ],
          [
           2
          ],
          [
           2
          ],
          [
           2
          ],
          [
           2
          ],
          [
           2
          ],
          [
           2
          ],
          [
           2
          ],
          [
           2
          ],
          [
           2
          ],
          [
           2
          ],
          [
           2
          ],
          [
           2
          ],
          [
           2
          ],
          [
           2
          ],
          [
           2
          ],
          [
           2
          ],
          [
           2
          ],
          [
           2
          ],
          [
           2
          ],
          [
           2
          ],
          [
           2
          ],
          [
           2
          ],
          [
           2
          ],
          [
           2
          ],
          [
           2
          ],
          [
           2
          ],
          [
           2
          ],
          [
           2
          ],
          [
           2
          ],
          [
           2
          ],
          [
           2
          ],
          [
           2
          ],
          [
           2
          ],
          [
           2
          ],
          [
           2
          ],
          [
           2
          ],
          [
           2
          ],
          [
           2
          ],
          [
           2
          ],
          [
           2
          ],
          [
           2
          ],
          [
           2
          ],
          [
           2
          ],
          [
           2
          ],
          [
           2
          ],
          [
           2
          ],
          [
           2
          ],
          [
           2
          ],
          [
           2
          ],
          [
           2
          ],
          [
           2
          ],
          [
           2
          ],
          [
           2
          ],
          [
           2
          ],
          [
           2
          ],
          [
           2
          ],
          [
           2
          ],
          [
           2
          ],
          [
           2
          ],
          [
           2
          ],
          [
           2
          ],
          [
           2
          ],
          [
           2
          ],
          [
           2
          ],
          [
           2
          ],
          [
           2
          ],
          [
           2
          ],
          [
           2
          ],
          [
           2
          ],
          [
           2
          ],
          [
           2
          ],
          [
           2
          ],
          [
           2
          ],
          [
           2
          ],
          [
           2
          ],
          [
           2
          ],
          [
           2
          ],
          [
           2
          ],
          [
           2
          ],
          [
           2
          ],
          [
           2
          ],
          [
           2
          ],
          [
           2
          ],
          [
           2
          ],
          [
           2
          ],
          [
           2
          ],
          [
           2
          ],
          [
           2
          ],
          [
           2
          ],
          [
           2
          ],
          [
           2
          ],
          [
           2
          ],
          [
           2
          ],
          [
           2
          ],
          [
           2
          ],
          [
           2
          ],
          [
           2
          ],
          [
           2
          ],
          [
           3
          ],
          [
           3
          ],
          [
           3
          ],
          [
           3
          ],
          [
           3
          ],
          [
           3
          ],
          [
           3
          ],
          [
           3
          ],
          [
           3
          ],
          [
           3
          ],
          [
           3
          ],
          [
           3
          ],
          [
           3
          ],
          [
           3
          ],
          [
           3
          ],
          [
           3
          ],
          [
           3
          ],
          [
           3
          ],
          [
           3
          ],
          [
           3
          ],
          [
           3
          ],
          [
           3
          ],
          [
           3
          ],
          [
           3
          ],
          [
           3
          ],
          [
           3
          ],
          [
           3
          ],
          [
           3
          ],
          [
           3
          ],
          [
           3
          ],
          [
           3
          ],
          [
           3
          ],
          [
           3
          ],
          [
           3
          ],
          [
           3
          ],
          [
           3
          ],
          [
           3
          ],
          [
           3
          ],
          [
           3
          ],
          [
           3
          ],
          [
           3
          ],
          [
           3
          ],
          [
           3
          ],
          [
           3
          ],
          [
           3
          ],
          [
           3
          ],
          [
           3
          ],
          [
           3
          ],
          [
           3
          ],
          [
           3
          ],
          [
           3
          ],
          [
           3
          ],
          [
           3
          ],
          [
           3
          ],
          [
           3
          ],
          [
           3
          ],
          [
           3
          ],
          [
           3
          ],
          [
           3
          ],
          [
           3
          ],
          [
           3
          ],
          [
           3
          ],
          [
           3
          ],
          [
           3
          ],
          [
           3
          ],
          [
           3
          ],
          [
           3
          ],
          [
           3
          ],
          [
           3
          ],
          [
           3
          ],
          [
           3
          ],
          [
           3
          ],
          [
           3
          ],
          [
           3
          ],
          [
           3
          ],
          [
           3
          ],
          [
           3
          ],
          [
           3
          ],
          [
           3
          ],
          [
           3
          ],
          [
           3
          ],
          [
           3
          ],
          [
           3
          ],
          [
           3
          ],
          [
           3
          ],
          [
           3
          ],
          [
           3
          ],
          [
           3
          ],
          [
           3
          ],
          [
           3
          ],
          [
           3
          ],
          [
           3
          ],
          [
           3
          ],
          [
           3
          ],
          [
           3
          ],
          [
           3
          ],
          [
           3
          ],
          [
           3
          ],
          [
           3
          ],
          [
           3
          ],
          [
           3
          ],
          [
           3
          ],
          [
           3
          ],
          [
           3
          ],
          [
           3
          ],
          [
           3
          ],
          [
           3
          ],
          [
           3
          ],
          [
           3
          ],
          [
           3
          ],
          [
           3
          ],
          [
           3
          ],
          [
           3
          ],
          [
           3
          ],
          [
           3
          ],
          [
           3
          ],
          [
           3
          ],
          [
           3
          ],
          [
           3
          ],
          [
           3
          ],
          [
           3
          ],
          [
           3
          ],
          [
           3
          ],
          [
           3
          ],
          [
           3
          ],
          [
           3
          ],
          [
           3
          ],
          [
           3
          ],
          [
           3
          ],
          [
           3
          ],
          [
           3
          ],
          [
           3
          ],
          [
           3
          ],
          [
           3
          ],
          [
           3
          ],
          [
           3
          ],
          [
           3
          ],
          [
           3
          ],
          [
           3
          ],
          [
           3
          ],
          [
           3
          ],
          [
           3
          ],
          [
           3
          ],
          [
           3
          ],
          [
           3
          ],
          [
           3
          ],
          [
           3
          ],
          [
           3
          ],
          [
           3
          ],
          [
           3
          ],
          [
           3
          ],
          [
           3
          ],
          [
           3
          ],
          [
           3
          ],
          [
           3
          ],
          [
           3
          ],
          [
           3
          ],
          [
           3
          ],
          [
           3
          ],
          [
           3
          ],
          [
           3
          ],
          [
           3
          ],
          [
           3
          ],
          [
           3
          ],
          [
           3
          ],
          [
           3
          ],
          [
           3
          ],
          [
           3
          ],
          [
           3
          ],
          [
           3
          ],
          [
           3
          ],
          [
           3
          ],
          [
           3
          ],
          [
           3
          ],
          [
           3
          ],
          [
           3
          ],
          [
           3
          ],
          [
           3
          ],
          [
           3
          ],
          [
           3
          ],
          [
           3
          ],
          [
           3
          ],
          [
           3
          ],
          [
           3
          ],
          [
           3
          ],
          [
           3
          ],
          [
           3
          ],
          [
           3
          ],
          [
           3
          ],
          [
           3
          ],
          [
           3
          ],
          [
           3
          ],
          [
           3
          ],
          [
           3
          ],
          [
           3
          ],
          [
           3
          ],
          [
           3
          ],
          [
           3
          ],
          [
           3
          ],
          [
           3
          ],
          [
           3
          ],
          [
           3
          ],
          [
           3
          ],
          [
           3
          ],
          [
           3
          ],
          [
           3
          ],
          [
           3
          ],
          [
           3
          ],
          [
           3
          ],
          [
           3
          ],
          [
           3
          ],
          [
           3
          ],
          [
           3
          ],
          [
           3
          ],
          [
           3
          ],
          [
           3
          ],
          [
           3
          ],
          [
           3
          ],
          [
           3
          ],
          [
           3
          ],
          [
           3
          ],
          [
           3
          ],
          [
           3
          ],
          [
           3
          ],
          [
           3
          ],
          [
           3
          ],
          [
           3
          ],
          [
           3
          ],
          [
           3
          ],
          [
           3
          ],
          [
           3
          ],
          [
           3
          ],
          [
           3
          ],
          [
           3
          ],
          [
           3
          ],
          [
           3
          ],
          [
           3
          ],
          [
           3
          ],
          [
           3
          ],
          [
           3
          ],
          [
           3
          ],
          [
           3
          ],
          [
           3
          ],
          [
           3
          ],
          [
           3
          ],
          [
           3
          ],
          [
           3
          ],
          [
           3
          ],
          [
           3
          ],
          [
           3
          ],
          [
           3
          ],
          [
           3
          ],
          [
           3
          ],
          [
           3
          ],
          [
           3
          ],
          [
           3
          ],
          [
           3
          ],
          [
           3
          ],
          [
           3
          ],
          [
           3
          ],
          [
           3
          ],
          [
           3
          ],
          [
           3
          ],
          [
           3
          ],
          [
           3
          ],
          [
           3
          ],
          [
           3
          ],
          [
           3
          ],
          [
           3
          ],
          [
           3
          ],
          [
           3
          ],
          [
           3
          ],
          [
           3
          ],
          [
           3
          ],
          [
           3
          ],
          [
           3
          ],
          [
           3
          ],
          [
           3
          ],
          [
           3
          ],
          [
           3
          ],
          [
           3
          ],
          [
           3
          ],
          [
           3
          ],
          [
           3
          ],
          [
           3
          ],
          [
           3
          ],
          [
           3
          ],
          [
           3
          ],
          [
           3
          ],
          [
           3
          ],
          [
           3
          ],
          [
           3
          ],
          [
           3
          ],
          [
           3
          ],
          [
           3
          ],
          [
           3
          ],
          [
           3
          ],
          [
           3
          ],
          [
           3
          ],
          [
           3
          ],
          [
           3
          ],
          [
           3
          ],
          [
           3
          ],
          [
           3
          ],
          [
           3
          ],
          [
           3
          ],
          [
           3
          ],
          [
           3
          ],
          [
           3
          ],
          [
           3
          ],
          [
           3
          ],
          [
           3
          ],
          [
           3
          ],
          [
           3
          ],
          [
           3
          ],
          [
           3
          ],
          [
           3
          ],
          [
           3
          ],
          [
           3
          ],
          [
           3
          ],
          [
           3
          ],
          [
           3
          ],
          [
           3
          ],
          [
           3
          ],
          [
           3
          ],
          [
           3
          ],
          [
           3
          ],
          [
           3
          ],
          [
           3
          ],
          [
           3
          ],
          [
           3
          ],
          [
           3
          ],
          [
           3
          ],
          [
           3
          ],
          [
           3
          ],
          [
           3
          ],
          [
           3
          ],
          [
           3
          ],
          [
           3
          ],
          [
           3
          ],
          [
           3
          ],
          [
           3
          ],
          [
           3
          ],
          [
           3
          ],
          [
           3
          ],
          [
           3
          ],
          [
           3
          ],
          [
           3
          ],
          [
           3
          ],
          [
           3
          ],
          [
           3
          ],
          [
           3
          ],
          [
           3
          ],
          [
           3
          ],
          [
           3
          ],
          [
           3
          ],
          [
           3
          ],
          [
           3
          ],
          [
           3
          ],
          [
           3
          ],
          [
           3
          ],
          [
           3
          ],
          [
           3
          ],
          [
           3
          ],
          [
           3
          ],
          [
           3
          ],
          [
           3
          ],
          [
           3
          ],
          [
           3
          ],
          [
           3
          ],
          [
           3
          ],
          [
           3
          ],
          [
           3
          ],
          [
           3
          ],
          [
           3
          ],
          [
           3
          ],
          [
           3
          ],
          [
           3
          ],
          [
           3
          ],
          [
           3
          ],
          [
           3
          ],
          [
           3
          ],
          [
           3
          ],
          [
           3
          ],
          [
           3
          ],
          [
           3
          ],
          [
           3
          ],
          [
           3
          ],
          [
           3
          ],
          [
           3
          ],
          [
           3
          ],
          [
           3
          ],
          [
           3
          ],
          [
           3
          ],
          [
           3
          ],
          [
           3
          ],
          [
           3
          ],
          [
           3
          ],
          [
           3
          ],
          [
           3
          ],
          [
           3
          ],
          [
           3
          ],
          [
           3
          ],
          [
           3
          ],
          [
           3
          ],
          [
           3
          ],
          [
           3
          ],
          [
           3
          ],
          [
           3
          ],
          [
           3
          ],
          [
           3
          ],
          [
           3
          ],
          [
           3
          ],
          [
           3
          ],
          [
           3
          ],
          [
           3
          ],
          [
           3
          ],
          [
           3
          ],
          [
           3
          ],
          [
           3
          ],
          [
           3
          ],
          [
           3
          ],
          [
           3
          ],
          [
           3
          ],
          [
           3
          ],
          [
           3
          ],
          [
           3
          ],
          [
           3
          ],
          [
           3
          ],
          [
           3
          ],
          [
           3
          ],
          [
           3
          ],
          [
           3
          ],
          [
           3
          ],
          [
           3
          ],
          [
           3
          ],
          [
           3
          ],
          [
           3
          ],
          [
           3
          ],
          [
           3
          ],
          [
           3
          ],
          [
           3
          ],
          [
           3
          ],
          [
           3
          ],
          [
           3
          ],
          [
           3
          ],
          [
           3
          ],
          [
           3
          ],
          [
           3
          ],
          [
           3
          ],
          [
           3
          ],
          [
           3
          ],
          [
           3
          ],
          [
           3
          ],
          [
           3
          ],
          [
           3
          ],
          [
           3
          ],
          [
           3
          ],
          [
           3
          ],
          [
           3
          ],
          [
           3
          ],
          [
           3
          ],
          [
           3
          ],
          [
           3
          ],
          [
           3
          ],
          [
           3
          ],
          [
           3
          ],
          [
           3
          ],
          [
           3
          ],
          [
           3
          ],
          [
           3
          ],
          [
           3
          ],
          [
           3
          ],
          [
           3
          ],
          [
           3
          ],
          [
           3
          ],
          [
           3
          ],
          [
           3
          ],
          [
           3
          ],
          [
           3
          ],
          [
           3
          ],
          [
           3
          ],
          [
           3
          ],
          [
           3
          ],
          [
           3
          ],
          [
           3
          ],
          [
           3
          ],
          [
           3
          ],
          [
           3
          ],
          [
           3
          ],
          [
           3
          ],
          [
           3
          ],
          [
           3
          ],
          [
           3
          ],
          [
           3
          ],
          [
           3
          ],
          [
           3
          ],
          [
           3
          ],
          [
           3
          ],
          [
           3
          ],
          [
           3
          ],
          [
           3
          ],
          [
           3
          ],
          [
           3
          ],
          [
           3
          ],
          [
           3
          ],
          [
           3
          ],
          [
           3
          ],
          [
           3
          ],
          [
           3
          ],
          [
           3
          ],
          [
           3
          ],
          [
           3
          ],
          [
           3
          ],
          [
           3
          ],
          [
           3
          ],
          [
           3
          ],
          [
           3
          ],
          [
           3
          ],
          [
           3
          ],
          [
           3
          ],
          [
           3
          ],
          [
           3
          ],
          [
           3
          ],
          [
           3
          ],
          [
           3
          ],
          [
           3
          ],
          [
           3
          ],
          [
           3
          ],
          [
           3
          ],
          [
           3
          ],
          [
           3
          ],
          [
           3
          ],
          [
           3
          ],
          [
           3
          ],
          [
           3
          ],
          [
           3
          ],
          [
           3
          ],
          [
           3
          ],
          [
           3
          ],
          [
           3
          ],
          [
           3
          ],
          [
           3
          ],
          [
           3
          ],
          [
           3
          ],
          [
           3
          ],
          [
           3
          ],
          [
           3
          ],
          [
           3
          ],
          [
           3
          ],
          [
           3
          ],
          [
           3
          ],
          [
           3
          ],
          [
           3
          ],
          [
           3
          ],
          [
           3
          ],
          [
           3
          ],
          [
           3
          ],
          [
           3
          ],
          [
           3
          ],
          [
           3
          ],
          [
           3
          ],
          [
           3
          ],
          [
           3
          ],
          [
           3
          ],
          [
           3
          ],
          [
           3
          ],
          [
           3
          ],
          [
           3
          ],
          [
           3
          ],
          [
           3
          ],
          [
           3
          ],
          [
           3
          ],
          [
           3
          ],
          [
           3
          ],
          [
           3
          ],
          [
           3
          ],
          [
           3
          ],
          [
           3
          ],
          [
           3
          ],
          [
           3
          ],
          [
           3
          ],
          [
           3
          ],
          [
           3
          ],
          [
           3
          ],
          [
           3
          ],
          [
           3
          ],
          [
           3
          ],
          [
           3
          ],
          [
           3
          ],
          [
           3
          ],
          [
           3
          ],
          [
           3
          ],
          [
           3
          ],
          [
           3
          ],
          [
           3
          ],
          [
           3
          ],
          [
           3
          ],
          [
           3
          ],
          [
           3
          ],
          [
           3
          ],
          [
           3
          ],
          [
           3
          ],
          [
           3
          ],
          [
           3
          ],
          [
           3
          ],
          [
           3
          ],
          [
           3
          ],
          [
           3
          ],
          [
           3
          ],
          [
           3
          ],
          [
           3
          ],
          [
           3
          ],
          [
           3
          ],
          [
           3
          ],
          [
           3
          ],
          [
           3
          ],
          [
           3
          ],
          [
           3
          ],
          [
           3
          ],
          [
           3
          ],
          [
           3
          ],
          [
           3
          ],
          [
           3
          ],
          [
           3
          ],
          [
           3
          ],
          [
           3
          ],
          [
           3
          ],
          [
           3
          ],
          [
           3
          ],
          [
           3
          ],
          [
           3
          ],
          [
           3
          ],
          [
           3
          ],
          [
           3
          ],
          [
           3
          ],
          [
           3
          ],
          [
           3
          ],
          [
           3
          ],
          [
           3
          ],
          [
           3
          ],
          [
           3
          ],
          [
           3
          ],
          [
           3
          ],
          [
           3
          ],
          [
           3
          ],
          [
           3
          ],
          [
           3
          ],
          [
           3
          ],
          [
           3
          ],
          [
           3
          ],
          [
           3
          ],
          [
           3
          ],
          [
           3
          ],
          [
           3
          ],
          [
           3
          ],
          [
           3
          ],
          [
           3
          ],
          [
           3
          ],
          [
           3
          ],
          [
           3
          ],
          [
           3
          ],
          [
           3
          ],
          [
           3
          ],
          [
           3
          ],
          [
           3
          ],
          [
           3
          ],
          [
           3
          ],
          [
           3
          ],
          [
           3
          ],
          [
           3
          ],
          [
           3
          ],
          [
           3
          ],
          [
           3
          ],
          [
           3
          ],
          [
           3
          ],
          [
           3
          ],
          [
           3
          ],
          [
           3
          ],
          [
           3
          ],
          [
           3
          ],
          [
           3
          ],
          [
           3
          ],
          [
           3
          ],
          [
           3
          ],
          [
           3
          ],
          [
           3
          ],
          [
           3
          ],
          [
           3
          ],
          [
           3
          ],
          [
           3
          ],
          [
           3
          ],
          [
           3
          ],
          [
           3
          ],
          [
           3
          ],
          [
           3
          ],
          [
           3
          ],
          [
           3
          ],
          [
           3
          ],
          [
           3
          ],
          [
           3
          ],
          [
           3
          ],
          [
           3
          ],
          [
           3
          ],
          [
           3
          ],
          [
           3
          ],
          [
           3
          ],
          [
           3
          ],
          [
           3
          ],
          [
           3
          ],
          [
           3
          ],
          [
           3
          ],
          [
           3
          ],
          [
           3
          ],
          [
           3
          ],
          [
           3
          ],
          [
           3
          ],
          [
           3
          ],
          [
           3
          ],
          [
           3
          ],
          [
           3
          ],
          [
           3
          ],
          [
           3
          ],
          [
           3
          ],
          [
           3
          ],
          [
           3
          ],
          [
           3
          ],
          [
           3
          ],
          [
           3
          ],
          [
           3
          ],
          [
           3
          ],
          [
           3
          ],
          [
           3
          ],
          [
           3
          ],
          [
           3
          ],
          [
           3
          ],
          [
           3
          ],
          [
           3
          ],
          [
           3
          ],
          [
           3
          ],
          [
           3
          ],
          [
           3
          ],
          [
           3
          ],
          [
           3
          ],
          [
           3
          ],
          [
           3
          ],
          [
           3
          ],
          [
           3
          ],
          [
           3
          ],
          [
           3
          ],
          [
           3
          ],
          [
           3
          ],
          [
           3
          ],
          [
           3
          ],
          [
           3
          ],
          [
           3
          ],
          [
           3
          ],
          [
           3
          ],
          [
           3
          ],
          [
           3
          ],
          [
           3
          ],
          [
           3
          ],
          [
           3
          ],
          [
           3
          ],
          [
           3
          ],
          [
           3
          ],
          [
           3
          ],
          [
           3
          ],
          [
           3
          ],
          [
           3
          ],
          [
           3
          ],
          [
           3
          ],
          [
           3
          ],
          [
           3
          ],
          [
           3
          ],
          [
           3
          ],
          [
           3
          ],
          [
           3
          ],
          [
           3
          ],
          [
           3
          ],
          [
           3
          ],
          [
           3
          ],
          [
           3
          ],
          [
           3
          ],
          [
           3
          ],
          [
           3
          ],
          [
           3
          ],
          [
           3
          ],
          [
           3
          ],
          [
           3
          ],
          [
           3
          ],
          [
           3
          ],
          [
           3
          ],
          [
           3
          ],
          [
           3
          ],
          [
           3
          ],
          [
           3
          ],
          [
           3
          ],
          [
           3
          ],
          [
           3
          ],
          [
           3
          ],
          [
           3
          ],
          [
           3
          ],
          [
           3
          ],
          [
           3
          ],
          [
           3
          ],
          [
           3
          ],
          [
           3
          ],
          [
           3
          ],
          [
           3
          ],
          [
           3
          ],
          [
           3
          ],
          [
           3
          ],
          [
           3
          ],
          [
           3
          ],
          [
           3
          ],
          [
           3
          ],
          [
           3
          ],
          [
           3
          ],
          [
           3
          ],
          [
           3
          ],
          [
           3
          ],
          [
           3
          ],
          [
           3
          ],
          [
           3
          ],
          [
           3
          ],
          [
           3
          ],
          [
           3
          ],
          [
           3
          ],
          [
           3
          ],
          [
           3
          ],
          [
           3
          ],
          [
           3
          ],
          [
           3
          ],
          [
           3
          ],
          [
           3
          ],
          [
           3
          ],
          [
           3
          ],
          [
           3
          ],
          [
           3
          ],
          [
           3
          ],
          [
           3
          ],
          [
           3
          ],
          [
           3
          ],
          [
           3
          ],
          [
           3
          ],
          [
           3
          ],
          [
           3
          ],
          [
           3
          ],
          [
           3
          ],
          [
           3
          ],
          [
           3
          ],
          [
           3
          ],
          [
           3
          ],
          [
           3
          ],
          [
           3
          ],
          [
           3
          ],
          [
           3
          ],
          [
           3
          ],
          [
           3
          ],
          [
           3
          ],
          [
           3
          ],
          [
           3
          ],
          [
           3
          ],
          [
           3
          ],
          [
           3
          ],
          [
           3
          ],
          [
           3
          ],
          [
           3
          ],
          [
           3
          ],
          [
           3
          ],
          [
           3
          ],
          [
           3
          ],
          [
           3
          ],
          [
           3
          ],
          [
           3
          ],
          [
           3
          ],
          [
           3
          ],
          [
           3
          ],
          [
           3
          ],
          [
           3
          ],
          [
           3
          ],
          [
           3
          ],
          [
           3
          ],
          [
           3
          ],
          [
           3
          ],
          [
           3
          ],
          [
           3
          ],
          [
           3
          ],
          [
           3
          ],
          [
           3
          ],
          [
           3
          ],
          [
           3
          ],
          [
           3
          ],
          [
           3
          ],
          [
           3
          ],
          [
           3
          ],
          [
           3
          ],
          [
           3
          ],
          [
           3
          ],
          [
           3
          ],
          [
           3
          ],
          [
           3
          ],
          [
           3
          ],
          [
           3
          ],
          [
           3
          ],
          [
           3
          ],
          [
           3
          ],
          [
           3
          ],
          [
           3
          ],
          [
           3
          ],
          [
           3
          ],
          [
           3
          ],
          [
           3
          ],
          [
           3
          ],
          [
           3
          ],
          [
           3
          ],
          [
           3
          ],
          [
           3
          ],
          [
           3
          ],
          [
           3
          ],
          [
           3
          ],
          [
           3
          ],
          [
           3
          ],
          [
           3
          ],
          [
           3
          ],
          [
           3
          ],
          [
           3
          ],
          [
           3
          ],
          [
           3
          ],
          [
           3
          ],
          [
           3
          ],
          [
           3
          ],
          [
           3
          ],
          [
           3
          ],
          [
           3
          ],
          [
           3
          ],
          [
           3
          ],
          [
           3
          ],
          [
           3
          ],
          [
           3
          ],
          [
           3
          ],
          [
           3
          ],
          [
           3
          ],
          [
           3
          ],
          [
           3
          ],
          [
           3
          ],
          [
           3
          ],
          [
           3
          ],
          [
           3
          ],
          [
           3
          ],
          [
           3
          ],
          [
           3
          ],
          [
           3
          ],
          [
           3
          ],
          [
           3
          ],
          [
           3
          ],
          [
           3
          ],
          [
           3
          ],
          [
           3
          ],
          [
           3
          ],
          [
           3
          ],
          [
           3
          ],
          [
           3
          ],
          [
           3
          ],
          [
           3
          ],
          [
           3
          ],
          [
           3
          ],
          [
           3
          ],
          [
           3
          ],
          [
           3
          ],
          [
           3
          ],
          [
           3
          ],
          [
           3
          ],
          [
           3
          ],
          [
           3
          ],
          [
           3
          ],
          [
           3
          ],
          [
           3
          ],
          [
           3
          ],
          [
           3
          ],
          [
           3
          ],
          [
           3
          ],
          [
           3
          ],
          [
           3
          ],
          [
           3
          ],
          [
           3
          ],
          [
           3
          ],
          [
           3
          ],
          [
           3
          ],
          [
           3
          ],
          [
           3
          ],
          [
           3
          ],
          [
           3
          ],
          [
           3
          ],
          [
           3
          ],
          [
           3
          ],
          [
           3
          ],
          [
           3
          ],
          [
           3
          ],
          [
           3
          ],
          [
           3
          ],
          [
           3
          ],
          [
           3
          ],
          [
           3
          ],
          [
           3
          ],
          [
           3
          ],
          [
           3
          ],
          [
           3
          ],
          [
           3
          ],
          [
           3
          ],
          [
           3
          ],
          [
           3
          ],
          [
           3
          ],
          [
           3
          ],
          [
           3
          ],
          [
           3
          ],
          [
           3
          ],
          [
           3
          ],
          [
           3
          ],
          [
           3
          ],
          [
           3
          ],
          [
           3
          ],
          [
           3
          ],
          [
           3
          ],
          [
           3
          ],
          [
           3
          ],
          [
           3
          ],
          [
           3
          ],
          [
           3
          ],
          [
           3
          ],
          [
           3
          ],
          [
           3
          ],
          [
           3
          ],
          [
           3
          ],
          [
           3
          ],
          [
           3
          ],
          [
           3
          ],
          [
           3
          ],
          [
           3
          ],
          [
           3
          ],
          [
           3
          ],
          [
           3
          ],
          [
           3
          ],
          [
           3
          ],
          [
           3
          ],
          [
           3
          ],
          [
           3
          ],
          [
           3
          ],
          [
           3
          ],
          [
           3
          ],
          [
           3
          ],
          [
           3
          ],
          [
           3
          ],
          [
           3
          ],
          [
           3
          ],
          [
           3
          ],
          [
           3
          ],
          [
           3
          ],
          [
           3
          ],
          [
           3
          ],
          [
           3
          ],
          [
           3
          ],
          [
           3
          ],
          [
           3
          ],
          [
           3
          ],
          [
           3
          ],
          [
           3
          ],
          [
           3
          ],
          [
           3
          ],
          [
           3
          ],
          [
           3
          ],
          [
           3
          ],
          [
           3
          ],
          [
           3
          ],
          [
           3
          ],
          [
           3
          ],
          [
           3
          ],
          [
           3
          ],
          [
           3
          ],
          [
           3
          ],
          [
           3
          ],
          [
           3
          ],
          [
           3
          ],
          [
           3
          ],
          [
           3
          ],
          [
           3
          ],
          [
           3
          ],
          [
           3
          ],
          [
           3
          ],
          [
           3
          ],
          [
           3
          ],
          [
           3
          ],
          [
           3
          ],
          [
           3
          ],
          [
           3
          ],
          [
           3
          ],
          [
           3
          ],
          [
           3
          ],
          [
           3
          ],
          [
           3
          ],
          [
           3
          ],
          [
           3
          ],
          [
           3
          ],
          [
           3
          ],
          [
           3
          ],
          [
           3
          ],
          [
           3
          ],
          [
           3
          ],
          [
           3
          ],
          [
           3
          ],
          [
           3
          ],
          [
           3
          ],
          [
           3
          ],
          [
           3
          ],
          [
           3
          ],
          [
           3
          ],
          [
           3
          ],
          [
           3
          ],
          [
           3
          ],
          [
           3
          ],
          [
           3
          ],
          [
           3
          ],
          [
           3
          ],
          [
           3
          ],
          [
           3
          ],
          [
           3
          ],
          [
           3
          ],
          [
           3
          ],
          [
           3
          ],
          [
           3
          ],
          [
           3
          ],
          [
           3
          ],
          [
           3
          ],
          [
           3
          ],
          [
           3
          ],
          [
           3
          ],
          [
           3
          ],
          [
           3
          ],
          [
           3
          ],
          [
           3
          ],
          [
           3
          ],
          [
           3
          ],
          [
           3
          ],
          [
           3
          ],
          [
           3
          ],
          [
           3
          ],
          [
           3
          ],
          [
           3
          ],
          [
           3
          ],
          [
           3
          ],
          [
           3
          ],
          [
           3
          ],
          [
           3
          ],
          [
           3
          ],
          [
           3
          ],
          [
           3
          ],
          [
           3
          ],
          [
           3
          ],
          [
           3
          ],
          [
           3
          ],
          [
           3
          ],
          [
           3
          ],
          [
           3
          ],
          [
           3
          ],
          [
           3
          ],
          [
           3
          ],
          [
           3
          ],
          [
           3
          ],
          [
           3
          ],
          [
           3
          ],
          [
           3
          ],
          [
           3
          ],
          [
           3
          ],
          [
           3
          ],
          [
           3
          ],
          [
           3
          ],
          [
           3
          ],
          [
           3
          ],
          [
           3
          ],
          [
           3
          ],
          [
           3
          ],
          [
           3
          ],
          [
           3
          ],
          [
           3
          ],
          [
           3
          ],
          [
           3
          ],
          [
           3
          ],
          [
           3
          ],
          [
           3
          ],
          [
           3
          ],
          [
           3
          ],
          [
           3
          ],
          [
           3
          ],
          [
           3
          ],
          [
           3
          ],
          [
           3
          ],
          [
           3
          ],
          [
           3
          ],
          [
           3
          ],
          [
           3
          ],
          [
           3
          ],
          [
           3
          ],
          [
           3
          ],
          [
           3
          ],
          [
           3
          ],
          [
           3
          ],
          [
           3
          ],
          [
           3
          ],
          [
           3
          ],
          [
           3
          ],
          [
           3
          ],
          [
           3
          ],
          [
           3
          ],
          [
           3
          ],
          [
           3
          ],
          [
           3
          ],
          [
           3
          ],
          [
           3
          ],
          [
           3
          ],
          [
           3
          ],
          [
           3
          ],
          [
           3
          ],
          [
           3
          ],
          [
           3
          ],
          [
           3
          ],
          [
           3
          ],
          [
           3
          ],
          [
           3
          ],
          [
           3
          ],
          [
           3
          ],
          [
           3
          ],
          [
           3
          ],
          [
           3
          ],
          [
           3
          ],
          [
           3
          ],
          [
           3
          ],
          [
           3
          ],
          [
           3
          ],
          [
           3
          ],
          [
           3
          ],
          [
           3
          ],
          [
           3
          ],
          [
           3
          ],
          [
           3
          ],
          [
           3
          ],
          [
           3
          ],
          [
           3
          ],
          [
           3
          ],
          [
           3
          ],
          [
           3
          ],
          [
           3
          ],
          [
           3
          ],
          [
           3
          ],
          [
           3
          ],
          [
           3
          ],
          [
           3
          ],
          [
           3
          ],
          [
           3
          ],
          [
           3
          ],
          [
           3
          ],
          [
           3
          ],
          [
           3
          ],
          [
           3
          ],
          [
           3
          ],
          [
           3
          ],
          [
           3
          ],
          [
           3
          ],
          [
           3
          ],
          [
           3
          ],
          [
           3
          ],
          [
           3
          ],
          [
           3
          ],
          [
           3
          ],
          [
           3
          ],
          [
           3
          ],
          [
           3
          ],
          [
           3
          ],
          [
           3
          ],
          [
           3
          ],
          [
           3
          ],
          [
           3
          ],
          [
           3
          ],
          [
           3
          ],
          [
           3
          ],
          [
           3
          ],
          [
           3
          ],
          [
           3
          ],
          [
           3
          ],
          [
           3
          ],
          [
           3
          ],
          [
           3
          ],
          [
           3
          ],
          [
           3
          ],
          [
           3
          ],
          [
           3
          ],
          [
           3
          ],
          [
           3
          ],
          [
           3
          ],
          [
           3
          ],
          [
           3
          ],
          [
           3
          ],
          [
           3
          ],
          [
           3
          ],
          [
           3
          ],
          [
           3
          ],
          [
           3
          ],
          [
           3
          ],
          [
           3
          ],
          [
           3
          ],
          [
           3
          ],
          [
           3
          ],
          [
           3
          ],
          [
           3
          ],
          [
           3
          ],
          [
           3
          ],
          [
           3
          ],
          [
           3
          ],
          [
           3
          ],
          [
           3
          ],
          [
           3
          ],
          [
           3
          ],
          [
           3
          ],
          [
           3
          ],
          [
           3
          ],
          [
           3
          ],
          [
           3
          ],
          [
           3
          ],
          [
           3
          ],
          [
           3
          ],
          [
           3
          ],
          [
           3
          ],
          [
           3
          ],
          [
           3
          ],
          [
           3
          ],
          [
           3
          ],
          [
           3
          ],
          [
           3
          ],
          [
           3
          ],
          [
           3
          ],
          [
           3
          ],
          [
           3
          ],
          [
           3
          ],
          [
           3
          ],
          [
           3
          ],
          [
           3
          ],
          [
           3
          ],
          [
           3
          ],
          [
           3
          ],
          [
           3
          ],
          [
           3
          ],
          [
           3
          ],
          [
           3
          ],
          [
           3
          ],
          [
           3
          ],
          [
           3
          ],
          [
           3
          ],
          [
           3
          ],
          [
           3
          ],
          [
           3
          ],
          [
           3
          ],
          [
           3
          ],
          [
           3
          ],
          [
           3
          ],
          [
           3
          ],
          [
           3
          ],
          [
           3
          ],
          [
           3
          ],
          [
           3
          ],
          [
           3
          ],
          [
           3
          ],
          [
           3
          ],
          [
           3
          ],
          [
           3
          ],
          [
           3
          ],
          [
           3
          ],
          [
           3
          ],
          [
           3
          ],
          [
           3
          ],
          [
           3
          ],
          [
           3
          ],
          [
           3
          ],
          [
           3
          ],
          [
           3
          ],
          [
           3
          ],
          [
           3
          ],
          [
           3
          ],
          [
           3
          ],
          [
           3
          ],
          [
           3
          ],
          [
           3
          ],
          [
           3
          ],
          [
           3
          ],
          [
           3
          ],
          [
           3
          ],
          [
           3
          ],
          [
           3
          ],
          [
           3
          ],
          [
           3
          ],
          [
           3
          ],
          [
           3
          ],
          [
           3
          ],
          [
           3
          ],
          [
           3
          ],
          [
           3
          ],
          [
           3
          ],
          [
           3
          ],
          [
           3
          ],
          [
           3
          ],
          [
           3
          ],
          [
           3
          ],
          [
           3
          ],
          [
           3
          ],
          [
           3
          ],
          [
           3
          ],
          [
           3
          ],
          [
           3
          ],
          [
           3
          ],
          [
           3
          ],
          [
           3
          ],
          [
           3
          ],
          [
           3
          ],
          [
           3
          ],
          [
           3
          ],
          [
           3
          ],
          [
           3
          ],
          [
           3
          ],
          [
           3
          ],
          [
           3
          ],
          [
           3
          ],
          [
           3
          ],
          [
           3
          ],
          [
           3
          ],
          [
           3
          ],
          [
           3
          ],
          [
           3
          ],
          [
           3
          ],
          [
           3
          ],
          [
           3
          ],
          [
           3
          ],
          [
           3
          ],
          [
           3
          ],
          [
           3
          ],
          [
           3
          ],
          [
           3
          ],
          [
           3
          ],
          [
           3
          ],
          [
           3
          ],
          [
           3
          ],
          [
           3
          ],
          [
           3
          ],
          [
           3
          ],
          [
           3
          ],
          [
           3
          ],
          [
           3
          ],
          [
           3
          ],
          [
           3
          ],
          [
           3
          ],
          [
           3
          ],
          [
           3
          ],
          [
           3
          ],
          [
           3
          ],
          [
           3
          ],
          [
           3
          ],
          [
           3
          ],
          [
           3
          ],
          [
           3
          ],
          [
           3
          ],
          [
           3
          ],
          [
           3
          ],
          [
           3
          ],
          [
           3
          ],
          [
           3
          ],
          [
           3
          ],
          [
           3
          ],
          [
           3
          ],
          [
           3
          ],
          [
           3
          ],
          [
           3
          ],
          [
           3
          ],
          [
           3
          ],
          [
           3
          ],
          [
           3
          ],
          [
           3
          ],
          [
           3
          ],
          [
           3
          ],
          [
           3
          ],
          [
           3
          ],
          [
           3
          ],
          [
           3
          ],
          [
           3
          ],
          [
           3
          ],
          [
           3
          ],
          [
           3
          ],
          [
           3
          ],
          [
           3
          ],
          [
           3
          ],
          [
           3
          ],
          [
           3
          ],
          [
           3
          ],
          [
           3
          ],
          [
           3
          ],
          [
           3
          ],
          [
           3
          ],
          [
           3
          ],
          [
           3
          ],
          [
           3
          ],
          [
           3
          ],
          [
           3
          ],
          [
           3
          ],
          [
           3
          ],
          [
           3
          ],
          [
           3
          ],
          [
           3
          ],
          [
           3
          ],
          [
           3
          ],
          [
           3
          ],
          [
           3
          ],
          [
           3
          ],
          [
           3
          ],
          [
           3
          ],
          [
           3
          ],
          [
           3
          ],
          [
           3
          ],
          [
           3
          ],
          [
           3
          ],
          [
           3
          ],
          [
           3
          ],
          [
           3
          ],
          [
           3
          ],
          [
           3
          ],
          [
           3
          ],
          [
           3
          ],
          [
           3
          ],
          [
           3
          ],
          [
           3
          ],
          [
           3
          ],
          [
           3
          ],
          [
           3
          ],
          [
           3
          ],
          [
           3
          ],
          [
           3
          ],
          [
           3
          ],
          [
           3
          ],
          [
           3
          ],
          [
           3
          ],
          [
           3
          ],
          [
           3
          ],
          [
           3
          ],
          [
           3
          ],
          [
           3
          ],
          [
           3
          ],
          [
           3
          ],
          [
           3
          ],
          [
           3
          ],
          [
           3
          ],
          [
           3
          ],
          [
           3
          ],
          [
           3
          ],
          [
           3
          ],
          [
           3
          ],
          [
           3
          ],
          [
           3
          ],
          [
           3
          ],
          [
           3
          ],
          [
           3
          ],
          [
           3
          ],
          [
           3
          ],
          [
           3
          ],
          [
           3
          ],
          [
           3
          ],
          [
           3
          ],
          [
           3
          ],
          [
           3
          ],
          [
           3
          ],
          [
           3
          ],
          [
           3
          ],
          [
           3
          ],
          [
           3
          ],
          [
           3
          ],
          [
           3
          ],
          [
           3
          ],
          [
           3
          ],
          [
           3
          ],
          [
           3
          ],
          [
           3
          ],
          [
           3
          ],
          [
           3
          ],
          [
           3
          ],
          [
           3
          ],
          [
           3
          ],
          [
           3
          ],
          [
           3
          ],
          [
           3
          ],
          [
           3
          ],
          [
           3
          ],
          [
           3
          ],
          [
           3
          ],
          [
           3
          ],
          [
           3
          ],
          [
           3
          ],
          [
           3
          ],
          [
           3
          ],
          [
           3
          ],
          [
           3
          ],
          [
           3
          ],
          [
           3
          ],
          [
           3
          ],
          [
           3
          ],
          [
           3
          ],
          [
           3
          ],
          [
           3
          ],
          [
           3
          ],
          [
           3
          ],
          [
           3
          ],
          [
           3
          ],
          [
           3
          ],
          [
           3
          ],
          [
           3
          ],
          [
           3
          ],
          [
           3
          ],
          [
           3
          ],
          [
           3
          ],
          [
           3
          ],
          [
           3
          ],
          [
           3
          ],
          [
           3
          ],
          [
           3
          ],
          [
           3
          ],
          [
           3
          ],
          [
           3
          ],
          [
           3
          ],
          [
           3
          ],
          [
           3
          ],
          [
           3
          ],
          [
           3
          ],
          [
           3
          ],
          [
           3
          ],
          [
           3
          ],
          [
           3
          ],
          [
           3
          ],
          [
           3
          ],
          [
           3
          ],
          [
           3
          ],
          [
           3
          ],
          [
           3
          ],
          [
           3
          ],
          [
           3
          ],
          [
           3
          ],
          [
           3
          ],
          [
           3
          ],
          [
           3
          ],
          [
           3
          ],
          [
           3
          ],
          [
           3
          ],
          [
           3
          ],
          [
           3
          ],
          [
           3
          ],
          [
           3
          ],
          [
           3
          ],
          [
           3
          ],
          [
           3
          ],
          [
           3
          ],
          [
           3
          ],
          [
           3
          ],
          [
           3
          ],
          [
           3
          ],
          [
           3
          ],
          [
           3
          ],
          [
           3
          ],
          [
           3
          ],
          [
           3
          ],
          [
           3
          ],
          [
           3
          ],
          [
           3
          ],
          [
           3
          ],
          [
           3
          ],
          [
           3
          ],
          [
           3
          ],
          [
           3
          ],
          [
           3
          ],
          [
           3
          ],
          [
           3
          ],
          [
           3
          ],
          [
           3
          ],
          [
           3
          ],
          [
           3
          ],
          [
           3
          ],
          [
           3
          ],
          [
           3
          ],
          [
           3
          ],
          [
           3
          ],
          [
           3
          ],
          [
           3
          ],
          [
           3
          ],
          [
           3
          ],
          [
           3
          ],
          [
           3
          ],
          [
           3
          ],
          [
           3
          ]
         ],
         "hovertemplate": "Time=%{x}<br>angle error=%{y}<br>operation=%{customdata[0]}<extra></extra>",
         "legendgroup": "",
         "marker": {
          "color": "#636efa",
          "symbol": "circle"
         },
         "mode": "markers",
         "name": "",
         "showlegend": false,
         "type": "scattergl",
         "x": [
          "2022-05-01T16:49:00",
          "2022-05-01T16:49:00.100000",
          "2022-05-01T16:49:00.200000",
          "2022-05-01T16:49:00.300000",
          "2022-05-01T16:49:00.400000",
          "2022-05-01T16:49:00.500000",
          "2022-05-01T16:49:00.600000",
          "2022-05-01T16:49:00.700000",
          "2022-05-01T16:49:00.800000",
          "2022-05-01T16:49:00.900000",
          "2022-05-01T16:49:01",
          "2022-05-01T16:49:01.100000",
          "2022-05-01T16:49:01.200000",
          "2022-05-01T16:49:01.300000",
          "2022-05-01T16:49:01.400000",
          "2022-05-01T16:49:01.500000",
          "2022-05-01T16:49:01.600000",
          "2022-05-01T16:49:01.700000",
          "2022-05-01T16:49:01.800000",
          "2022-05-01T16:49:01.900000",
          "2022-05-01T16:49:02",
          "2022-05-01T16:49:02.100000",
          "2022-05-01T16:49:02.200000",
          "2022-05-01T16:49:02.300000",
          "2022-05-01T16:49:02.400000",
          "2022-05-01T16:49:02.500000",
          "2022-05-01T16:49:02.600000",
          "2022-05-01T16:49:02.700000",
          "2022-05-01T16:49:02.800000",
          "2022-05-01T16:49:02.900000",
          "2022-05-01T16:49:03",
          "2022-05-01T16:49:03.100000",
          "2022-05-01T16:49:03.200000",
          "2022-05-01T16:49:03.300000",
          "2022-05-01T16:49:03.400000",
          "2022-05-01T16:49:03.500000",
          "2022-05-01T16:49:03.600000",
          "2022-05-01T16:49:03.700000",
          "2022-05-01T16:49:03.800000",
          "2022-05-01T16:49:03.900000",
          "2022-05-01T16:49:04",
          "2022-05-01T16:49:04.100000",
          "2022-05-01T16:49:04.200000",
          "2022-05-01T16:49:04.300000",
          "2022-05-01T16:49:04.400000",
          "2022-05-01T16:49:04.500000",
          "2022-05-01T16:49:04.600000",
          "2022-05-01T16:49:04.700000",
          "2022-05-01T16:49:04.800000",
          "2022-05-01T16:49:04.900000",
          "2022-05-01T16:49:05",
          "2022-05-01T16:49:05.100000",
          "2022-05-01T16:49:05.200000",
          "2022-05-01T16:49:05.300000",
          "2022-05-01T16:49:05.400000",
          "2022-05-01T16:49:05.500000",
          "2022-05-01T16:49:05.600000",
          "2022-05-01T16:49:05.700000",
          "2022-05-01T16:49:05.800000",
          "2022-05-01T16:49:05.900000",
          "2022-05-01T16:49:06",
          "2022-05-01T16:49:06.100000",
          "2022-05-01T16:49:06.200000",
          "2022-05-01T16:49:06.300000",
          "2022-05-01T16:49:06.400000",
          "2022-05-01T16:49:06.500000",
          "2022-05-01T16:49:06.600000",
          "2022-05-01T16:49:06.700000",
          "2022-05-01T16:49:06.800000",
          "2022-05-01T16:49:06.900000",
          "2022-05-01T16:49:07",
          "2022-05-01T16:49:07.100000",
          "2022-05-01T16:49:07.200000",
          "2022-05-01T16:49:07.300000",
          "2022-05-01T16:49:07.400000",
          "2022-05-01T16:49:07.500000",
          "2022-05-01T16:49:07.600000",
          "2022-05-01T16:49:07.700000",
          "2022-05-01T16:49:07.800000",
          "2022-05-01T16:49:07.900000",
          "2022-05-01T16:49:08",
          "2022-05-01T16:49:08.100000",
          "2022-05-01T16:49:08.200000",
          "2022-05-01T16:49:08.300000",
          "2022-05-01T16:49:08.400000",
          "2022-05-01T16:49:08.500000",
          "2022-05-01T16:49:08.600000",
          "2022-05-01T16:49:08.700000",
          "2022-05-01T16:49:08.800000",
          "2022-05-01T16:49:08.900000",
          "2022-05-01T16:49:09",
          "2022-05-01T16:49:09.100000",
          "2022-05-01T16:49:09.200000",
          "2022-05-01T16:49:09.300000",
          "2022-05-01T16:49:09.400000",
          "2022-05-01T16:49:09.500000",
          "2022-05-01T16:49:09.600000",
          "2022-05-01T16:49:09.700000",
          "2022-05-01T16:49:09.800000",
          "2022-05-01T16:49:09.900000",
          "2022-05-01T16:49:10",
          "2022-05-01T16:49:10.100000",
          "2022-05-01T16:49:10.200000",
          "2022-05-01T16:49:10.300000",
          "2022-05-01T16:49:10.400000",
          "2022-05-01T16:49:10.500000",
          "2022-05-01T16:49:10.600000",
          "2022-05-01T16:49:10.700000",
          "2022-05-01T16:49:10.800000",
          "2022-05-01T16:49:10.900000",
          "2022-05-01T16:49:11",
          "2022-05-01T16:49:11.100000",
          "2022-05-01T16:49:11.200000",
          "2022-05-01T16:49:11.300000",
          "2022-05-01T16:49:11.400000",
          "2022-05-01T16:49:11.500000",
          "2022-05-01T16:49:11.600000",
          "2022-05-01T16:49:11.700000",
          "2022-05-01T16:49:11.800000",
          "2022-05-01T16:49:11.900000",
          "2022-05-01T16:49:12",
          "2022-05-01T16:49:12.100000",
          "2022-05-01T16:49:12.200000",
          "2022-05-01T16:49:12.300000",
          "2022-05-01T16:49:12.400000",
          "2022-05-01T16:49:12.500000",
          "2022-05-01T16:49:12.600000",
          "2022-05-01T16:49:12.700000",
          "2022-05-01T16:49:12.800000",
          "2022-05-01T16:49:12.900000",
          "2022-05-01T16:49:13",
          "2022-05-01T16:49:13.100000",
          "2022-05-01T16:49:13.200000",
          "2022-05-01T16:49:13.300000",
          "2022-05-01T16:49:13.400000",
          "2022-05-01T16:49:13.500000",
          "2022-05-01T16:49:13.600000",
          "2022-05-01T16:49:13.700000",
          "2022-05-01T16:49:13.800000",
          "2022-05-01T16:49:13.900000",
          "2022-05-01T16:49:14",
          "2022-05-01T16:49:14.100000",
          "2022-05-01T16:49:14.200000",
          "2022-05-01T16:49:14.300000",
          "2022-05-01T16:49:14.400000",
          "2022-05-01T16:49:14.500000",
          "2022-05-01T16:49:14.600000",
          "2022-05-01T16:49:14.700000",
          "2022-05-01T16:49:14.800000",
          "2022-05-01T16:49:14.900000",
          "2022-05-01T16:49:15",
          "2022-05-01T16:49:15.100000",
          "2022-05-01T16:49:15.200000",
          "2022-05-01T16:49:15.300000",
          "2022-05-01T16:49:15.400000",
          "2022-05-01T16:49:15.500000",
          "2022-05-01T16:49:15.600000",
          "2022-05-01T16:49:15.700000",
          "2022-05-01T16:49:15.800000",
          "2022-05-01T16:49:15.900000",
          "2022-05-01T16:49:16",
          "2022-05-01T16:49:16.100000",
          "2022-05-01T16:49:16.200000",
          "2022-05-01T16:49:16.300000",
          "2022-05-01T16:49:16.400000",
          "2022-05-01T16:49:16.500000",
          "2022-05-01T16:49:16.600000",
          "2022-05-01T16:49:16.700000",
          "2022-05-01T16:49:16.800000",
          "2022-05-01T16:49:16.900000",
          "2022-05-01T16:49:17",
          "2022-05-01T16:49:17.100000",
          "2022-05-01T16:49:17.200000",
          "2022-05-01T16:49:17.300000",
          "2022-05-01T16:49:17.400000",
          "2022-05-01T16:49:17.500000",
          "2022-05-01T16:49:17.600000",
          "2022-05-01T16:49:17.700000",
          "2022-05-01T16:49:17.800000",
          "2022-05-01T16:49:17.900000",
          "2022-05-01T16:49:18",
          "2022-05-01T16:49:18.100000",
          "2022-05-01T16:49:18.200000",
          "2022-05-01T16:49:18.300000",
          "2022-05-01T16:49:18.400000",
          "2022-05-01T16:49:18.500000",
          "2022-05-01T16:49:18.600000",
          "2022-05-01T16:49:18.700000",
          "2022-05-01T16:49:18.800000",
          "2022-05-01T16:49:18.900000",
          "2022-05-01T16:49:19",
          "2022-05-01T16:49:19.100000",
          "2022-05-01T16:49:19.200000",
          "2022-05-01T16:49:19.300000",
          "2022-05-01T16:49:19.400000",
          "2022-05-01T16:49:19.500000",
          "2022-05-01T16:49:19.600000",
          "2022-05-01T16:49:19.700000",
          "2022-05-01T16:49:19.800000",
          "2022-05-01T16:49:19.900000",
          "2022-05-01T16:49:20",
          "2022-05-01T16:49:20.100000",
          "2022-05-01T16:49:20.200000",
          "2022-05-01T16:49:20.300000",
          "2022-05-01T16:49:20.400000",
          "2022-05-01T16:49:20.500000",
          "2022-05-01T16:49:20.600000",
          "2022-05-01T16:49:20.700000",
          "2022-05-01T16:49:20.800000",
          "2022-05-01T16:49:20.900000",
          "2022-05-01T16:49:21",
          "2022-05-01T16:49:21.100000",
          "2022-05-01T16:49:21.200000",
          "2022-05-01T16:49:21.300000",
          "2022-05-01T16:49:21.400000",
          "2022-05-01T16:49:21.500000",
          "2022-05-01T16:49:21.600000",
          "2022-05-01T16:49:21.700000",
          "2022-05-01T16:49:21.800000",
          "2022-05-01T16:49:21.900000",
          "2022-05-01T16:49:22",
          "2022-05-01T16:49:22.100000",
          "2022-05-01T16:49:22.200000",
          "2022-05-01T16:49:22.300000",
          "2022-05-01T16:49:22.400000",
          "2022-05-01T16:49:22.500000",
          "2022-05-01T16:49:22.600000",
          "2022-05-01T16:49:22.700000",
          "2022-05-01T16:49:22.800000",
          "2022-05-01T16:49:22.900000",
          "2022-05-01T16:49:23",
          "2022-05-01T16:49:23.100000",
          "2022-05-01T16:49:23.200000",
          "2022-05-01T16:49:23.300000",
          "2022-05-01T16:49:23.400000",
          "2022-05-01T16:49:23.500000",
          "2022-05-01T16:49:23.600000",
          "2022-05-01T16:49:23.700000",
          "2022-05-01T16:49:23.800000",
          "2022-05-01T16:49:23.900000",
          "2022-05-01T16:49:24",
          "2022-05-01T16:49:24.100000",
          "2022-05-01T16:49:24.200000",
          "2022-05-01T16:49:24.300000",
          "2022-05-01T16:49:24.400000",
          "2022-05-01T16:49:24.500000",
          "2022-05-01T16:49:24.600000",
          "2022-05-01T16:49:24.700000",
          "2022-05-01T16:49:24.800000",
          "2022-05-01T16:49:24.900000",
          "2022-05-01T16:49:25",
          "2022-05-01T16:49:25.100000",
          "2022-05-01T16:49:25.200000",
          "2022-05-01T16:49:25.300000",
          "2022-05-01T16:49:25.400000",
          "2022-05-01T16:49:25.500000",
          "2022-05-01T16:49:25.600000",
          "2022-05-01T16:49:25.700000",
          "2022-05-01T16:49:25.800000",
          "2022-05-01T16:49:25.900000",
          "2022-05-01T16:49:26",
          "2022-05-01T16:49:26.100000",
          "2022-05-01T16:49:26.200000",
          "2022-05-01T16:49:26.300000",
          "2022-05-01T16:49:26.400000",
          "2022-05-01T16:49:26.500000",
          "2022-05-01T16:49:26.600000",
          "2022-05-01T16:49:26.700000",
          "2022-05-01T16:49:26.800000",
          "2022-05-01T16:49:26.900000",
          "2022-05-01T16:49:27",
          "2022-05-01T16:49:27.100000",
          "2022-05-01T16:49:27.200000",
          "2022-05-01T16:49:27.300000",
          "2022-05-01T16:49:27.400000",
          "2022-05-01T16:49:27.500000",
          "2022-05-01T16:49:27.600000",
          "2022-05-01T16:49:27.700000",
          "2022-05-01T16:49:27.800000",
          "2022-05-01T16:49:27.900000",
          "2022-05-01T16:49:28",
          "2022-05-01T16:49:28.100000",
          "2022-05-01T16:49:28.200000",
          "2022-05-01T16:49:28.300000",
          "2022-05-01T16:49:28.400000",
          "2022-05-01T16:49:28.500000",
          "2022-05-01T16:49:28.600000",
          "2022-05-01T16:49:28.700000",
          "2022-05-01T16:49:28.800000",
          "2022-05-01T16:49:28.900000",
          "2022-05-01T16:49:29",
          "2022-05-01T16:49:29.100000",
          "2022-05-01T16:49:29.200000",
          "2022-05-01T16:49:29.300000",
          "2022-05-01T16:49:29.400000",
          "2022-05-01T16:49:29.500000",
          "2022-05-01T16:49:29.600000",
          "2022-05-01T16:49:29.700000",
          "2022-05-01T16:49:29.800000",
          "2022-05-01T16:49:29.900000",
          "2022-05-01T16:49:30",
          "2022-05-01T16:49:30.100000",
          "2022-05-01T16:49:30.200000",
          "2022-05-01T16:49:30.300000",
          "2022-05-01T16:49:30.400000",
          "2022-05-01T16:49:30.500000",
          "2022-05-01T16:49:30.600000",
          "2022-05-01T16:49:30.700000",
          "2022-05-01T16:49:30.800000",
          "2022-05-01T16:49:30.900000",
          "2022-05-01T16:49:31",
          "2022-05-01T16:49:31.100000",
          "2022-05-01T16:49:31.200000",
          "2022-05-01T16:49:31.300000",
          "2022-05-01T16:49:31.400000",
          "2022-05-01T16:49:31.500000",
          "2022-05-01T16:49:31.600000",
          "2022-05-01T16:49:31.700000",
          "2022-05-01T16:49:31.800000",
          "2022-05-01T16:49:31.900000",
          "2022-05-01T16:49:32",
          "2022-05-01T16:49:32.100000",
          "2022-05-01T16:49:32.200000",
          "2022-05-01T16:49:32.300000",
          "2022-05-01T16:49:32.400000",
          "2022-05-01T16:49:32.500000",
          "2022-05-01T16:49:32.600000",
          "2022-05-01T16:49:32.700000",
          "2022-05-01T16:49:32.800000",
          "2022-05-01T16:49:32.900000",
          "2022-05-01T16:49:33",
          "2022-05-01T16:49:33.100000",
          "2022-05-01T16:49:33.200000",
          "2022-05-01T16:49:33.300000",
          "2022-05-01T16:49:33.400000",
          "2022-05-01T16:49:33.500000",
          "2022-05-01T16:49:33.600000",
          "2022-05-01T16:49:33.700000",
          "2022-05-01T16:49:33.800000",
          "2022-05-01T16:49:33.900000",
          "2022-05-01T16:49:34",
          "2022-05-01T16:49:34.100000",
          "2022-05-01T16:49:34.200000",
          "2022-05-01T16:49:34.300000",
          "2022-05-01T16:49:34.400000",
          "2022-05-01T16:49:34.500000",
          "2022-05-01T16:49:34.600000",
          "2022-05-01T16:49:34.700000",
          "2022-05-01T16:49:34.800000",
          "2022-05-01T16:49:34.900000",
          "2022-05-01T16:49:35",
          "2022-05-01T16:49:35.100000",
          "2022-05-01T16:49:35.200000",
          "2022-05-01T16:49:35.300000",
          "2022-05-01T16:49:35.400000",
          "2022-05-01T16:49:35.500000",
          "2022-05-01T16:49:35.600000",
          "2022-05-01T16:49:35.700000",
          "2022-05-01T16:49:35.800000",
          "2022-05-01T16:49:35.900000",
          "2022-05-01T16:49:36",
          "2022-05-01T16:49:36.100000",
          "2022-05-01T16:49:36.200000",
          "2022-05-01T16:49:36.300000",
          "2022-05-01T16:49:36.400000",
          "2022-05-01T16:49:36.500000",
          "2022-05-01T16:49:36.600000",
          "2022-05-01T16:49:36.700000",
          "2022-05-01T16:49:36.800000",
          "2022-05-01T16:49:36.900000",
          "2022-05-01T16:49:37",
          "2022-05-01T16:49:37.100000",
          "2022-05-01T16:49:37.200000",
          "2022-05-01T16:49:37.300000",
          "2022-05-01T16:49:37.400000",
          "2022-05-01T16:49:37.500000",
          "2022-05-01T16:49:37.600000",
          "2022-05-01T16:49:37.700000",
          "2022-05-01T16:49:37.800000",
          "2022-05-01T16:49:37.900000",
          "2022-05-01T16:49:38",
          "2022-05-01T16:49:38.100000",
          "2022-05-01T16:49:38.200000",
          "2022-05-01T16:49:38.300000",
          "2022-05-01T16:49:38.400000",
          "2022-05-01T16:49:38.500000",
          "2022-05-01T16:49:38.600000",
          "2022-05-01T16:49:38.700000",
          "2022-05-01T16:49:38.800000",
          "2022-05-01T16:49:38.900000",
          "2022-05-01T16:49:39",
          "2022-05-01T16:49:39.100000",
          "2022-05-01T16:49:39.200000",
          "2022-05-01T16:49:39.300000",
          "2022-05-01T16:49:39.400000",
          "2022-05-01T16:49:39.500000",
          "2022-05-01T16:49:39.600000",
          "2022-05-01T16:49:39.700000",
          "2022-05-01T16:49:39.800000",
          "2022-05-01T16:49:39.900000",
          "2022-05-01T16:49:40",
          "2022-05-01T16:49:40.100000",
          "2022-05-01T16:49:40.200000",
          "2022-05-01T16:49:40.300000",
          "2022-05-01T16:49:40.400000",
          "2022-05-01T16:49:40.500000",
          "2022-05-01T16:49:40.600000",
          "2022-05-01T16:49:40.700000",
          "2022-05-01T16:49:40.800000",
          "2022-05-01T16:49:40.900000",
          "2022-05-01T16:49:41",
          "2022-05-01T16:49:41.100000",
          "2022-05-01T16:49:41.200000",
          "2022-05-01T16:49:41.300000",
          "2022-05-01T16:49:41.400000",
          "2022-05-01T16:49:41.500000",
          "2022-05-01T16:49:41.600000",
          "2022-05-01T16:49:41.700000",
          "2022-05-01T16:49:41.800000",
          "2022-05-01T16:49:41.900000",
          "2022-05-01T16:49:42",
          "2022-05-01T16:49:42.100000",
          "2022-05-01T16:49:42.200000",
          "2022-05-01T16:49:42.300000",
          "2022-05-01T16:49:42.400000",
          "2022-05-01T16:49:42.500000",
          "2022-05-01T16:49:42.600000",
          "2022-05-01T16:49:42.700000",
          "2022-05-01T16:49:42.800000",
          "2022-05-01T16:49:42.900000",
          "2022-05-01T16:49:43",
          "2022-05-01T16:49:43.100000",
          "2022-05-01T16:49:43.200000",
          "2022-05-01T16:49:43.300000",
          "2022-05-01T16:49:43.400000",
          "2022-05-01T16:49:43.500000",
          "2022-05-01T16:49:43.600000",
          "2022-05-01T16:49:43.700000",
          "2022-05-01T16:49:43.800000",
          "2022-05-01T16:49:43.900000",
          "2022-05-01T16:49:44",
          "2022-05-01T16:49:44.100000",
          "2022-05-01T16:49:44.200000",
          "2022-05-01T16:49:44.300000",
          "2022-05-01T16:49:44.400000",
          "2022-05-01T16:49:44.500000",
          "2022-05-01T16:49:44.600000",
          "2022-05-01T16:49:44.700000",
          "2022-05-01T16:49:44.800000",
          "2022-05-01T16:49:44.900000",
          "2022-05-01T16:49:45",
          "2022-05-01T16:49:45.100000",
          "2022-05-01T16:49:45.200000",
          "2022-05-01T16:49:45.300000",
          "2022-05-01T16:49:45.400000",
          "2022-05-01T16:49:45.500000",
          "2022-05-01T16:49:45.600000",
          "2022-05-01T16:49:45.700000",
          "2022-05-01T16:49:45.800000",
          "2022-05-01T16:49:45.900000",
          "2022-05-01T16:49:46",
          "2022-05-01T16:49:46.100000",
          "2022-05-01T16:49:46.200000",
          "2022-05-01T16:49:46.300000",
          "2022-05-01T16:49:46.400000",
          "2022-05-01T16:49:46.500000",
          "2022-05-01T16:49:46.600000",
          "2022-05-01T16:49:46.700000",
          "2022-05-01T16:49:46.800000",
          "2022-05-01T16:49:46.900000",
          "2022-05-01T16:49:47",
          "2022-05-01T16:49:47.100000",
          "2022-05-01T16:49:47.200000",
          "2022-05-01T16:49:47.300000",
          "2022-05-01T16:49:47.400000",
          "2022-05-01T16:49:47.500000",
          "2022-05-01T16:49:47.600000",
          "2022-05-01T16:49:47.700000",
          "2022-05-01T16:49:47.800000",
          "2022-05-01T16:49:47.900000",
          "2022-05-01T16:49:48",
          "2022-05-01T16:49:48.100000",
          "2022-05-01T16:49:48.200000",
          "2022-05-01T16:49:48.300000",
          "2022-05-01T16:49:48.400000",
          "2022-05-01T16:49:48.500000",
          "2022-05-01T16:49:48.600000",
          "2022-05-01T16:49:48.700000",
          "2022-05-01T16:49:48.800000",
          "2022-05-01T16:49:48.900000",
          "2022-05-01T16:49:49",
          "2022-05-01T16:49:49.100000",
          "2022-05-01T16:49:49.200000",
          "2022-05-01T16:49:49.300000",
          "2022-05-01T16:49:49.400000",
          "2022-05-01T16:49:49.500000",
          "2022-05-01T16:49:49.600000",
          "2022-05-01T16:49:49.700000",
          "2022-05-01T16:49:49.800000",
          "2022-05-01T16:49:49.900000",
          "2022-05-01T16:49:50",
          "2022-05-01T16:49:50.100000",
          "2022-05-01T16:49:50.200000",
          "2022-05-01T16:49:50.300000",
          "2022-05-01T16:49:50.400000",
          "2022-05-01T16:49:50.500000",
          "2022-05-01T16:49:50.600000",
          "2022-05-01T16:49:50.700000",
          "2022-05-01T16:49:50.800000",
          "2022-05-01T16:49:50.900000",
          "2022-05-01T16:49:51",
          "2022-05-01T16:49:51.100000",
          "2022-05-01T16:49:51.200000",
          "2022-05-01T16:49:51.300000",
          "2022-05-01T16:49:51.400000",
          "2022-05-01T16:49:51.500000",
          "2022-05-01T16:49:51.600000",
          "2022-05-01T16:49:51.700000",
          "2022-05-01T16:49:51.800000",
          "2022-05-01T16:49:51.900000",
          "2022-05-01T16:49:52",
          "2022-05-01T16:49:52.100000",
          "2022-05-01T16:49:52.200000",
          "2022-05-01T16:49:52.300000",
          "2022-05-01T16:49:52.400000",
          "2022-05-01T16:49:52.500000",
          "2022-05-01T16:49:52.600000",
          "2022-05-01T16:49:52.700000",
          "2022-05-01T16:49:52.800000",
          "2022-05-01T16:49:52.900000",
          "2022-05-01T16:49:53",
          "2022-05-01T16:49:53.100000",
          "2022-05-01T16:49:53.200000",
          "2022-05-01T16:49:53.300000",
          "2022-05-01T16:49:53.400000",
          "2022-05-01T16:49:53.500000",
          "2022-05-01T16:49:53.600000",
          "2022-05-01T16:49:53.700000",
          "2022-05-01T16:49:53.800000",
          "2022-05-01T16:49:53.900000",
          "2022-05-01T16:49:54",
          "2022-05-01T16:49:54.100000",
          "2022-05-01T16:49:54.200000",
          "2022-05-01T16:49:54.300000",
          "2022-05-01T16:49:54.400000",
          "2022-05-01T16:49:54.500000",
          "2022-05-01T16:49:54.600000",
          "2022-05-01T16:49:54.700000",
          "2022-05-01T16:49:54.800000",
          "2022-05-01T16:49:54.900000",
          "2022-05-01T16:49:55",
          "2022-05-01T16:49:55.100000",
          "2022-05-01T16:49:55.200000",
          "2022-05-01T16:49:55.300000",
          "2022-05-01T16:49:55.400000",
          "2022-05-01T16:49:55.500000",
          "2022-05-01T16:49:55.600000",
          "2022-05-01T16:49:55.700000",
          "2022-05-01T16:49:55.800000",
          "2022-05-01T16:49:55.900000",
          "2022-05-01T16:49:56",
          "2022-05-01T16:49:56.100000",
          "2022-05-01T16:49:56.200000",
          "2022-05-01T16:49:56.300000",
          "2022-05-01T16:49:56.400000",
          "2022-05-01T16:49:56.500000",
          "2022-05-01T16:49:56.600000",
          "2022-05-01T16:49:56.700000",
          "2022-05-01T16:49:56.800000",
          "2022-05-01T16:49:56.900000",
          "2022-05-01T16:49:57",
          "2022-05-01T16:49:57.100000",
          "2022-05-01T16:49:57.200000",
          "2022-05-01T16:49:57.300000",
          "2022-05-01T16:49:57.400000",
          "2022-05-01T16:49:57.500000",
          "2022-05-01T16:49:57.600000",
          "2022-05-01T16:49:57.700000",
          "2022-05-01T16:49:57.800000",
          "2022-05-01T16:49:57.900000",
          "2022-05-01T16:49:58",
          "2022-05-01T16:49:58.100000",
          "2022-05-01T16:49:58.200000",
          "2022-05-01T16:49:58.300000",
          "2022-05-01T16:49:58.400000",
          "2022-05-01T16:49:58.500000",
          "2022-05-01T16:49:58.600000",
          "2022-05-01T16:49:58.700000",
          "2022-05-01T16:49:58.800000",
          "2022-05-01T16:49:58.900000",
          "2022-05-01T16:49:59",
          "2022-05-01T16:49:59.100000",
          "2022-05-01T16:49:59.200000",
          "2022-05-01T16:49:59.300000",
          "2022-05-01T16:49:59.400000",
          "2022-05-01T16:49:59.500000",
          "2022-05-01T16:49:59.600000",
          "2022-05-01T16:49:59.700000",
          "2022-05-01T16:49:59.800000",
          "2022-05-01T16:49:59.900000",
          "2022-05-01T16:50:00",
          "2022-05-01T16:50:00.100000",
          "2022-05-01T16:50:00.200000",
          "2022-05-01T16:50:00.300000",
          "2022-05-01T16:50:00.400000",
          "2022-05-01T16:50:00.500000",
          "2022-05-01T16:50:00.600000",
          "2022-05-01T16:50:00.700000",
          "2022-05-01T16:50:00.800000",
          "2022-05-01T16:50:00.900000",
          "2022-05-01T16:50:01",
          "2022-05-01T16:50:01.100000",
          "2022-05-01T16:50:01.200000",
          "2022-05-01T16:50:01.300000",
          "2022-05-01T16:50:01.400000",
          "2022-05-01T16:50:01.500000",
          "2022-05-01T16:50:01.600000",
          "2022-05-01T16:50:01.700000",
          "2022-05-01T16:50:01.800000",
          "2022-05-01T16:50:01.900000",
          "2022-05-01T16:50:02",
          "2022-05-01T16:50:02.100000",
          "2022-05-01T16:50:02.200000",
          "2022-05-01T16:50:02.300000",
          "2022-05-01T16:50:02.400000",
          "2022-05-01T16:50:02.500000",
          "2022-05-01T16:50:02.600000",
          "2022-05-01T16:50:02.700000",
          "2022-05-01T16:50:02.800000",
          "2022-05-01T16:50:02.900000",
          "2022-05-01T16:50:03",
          "2022-05-01T16:50:03.100000",
          "2022-05-01T16:50:03.200000",
          "2022-05-01T16:50:03.300000",
          "2022-05-01T16:50:03.400000",
          "2022-05-01T16:50:03.500000",
          "2022-05-01T16:50:03.600000",
          "2022-05-01T16:50:03.700000",
          "2022-05-01T16:50:03.800000",
          "2022-05-01T16:50:03.900000",
          "2022-05-01T16:50:04",
          "2022-05-01T16:50:04.100000",
          "2022-05-01T16:50:04.200000",
          "2022-05-01T16:50:04.300000",
          "2022-05-01T16:50:04.400000",
          "2022-05-01T16:50:04.500000",
          "2022-05-01T16:50:04.600000",
          "2022-05-01T16:50:04.700000",
          "2022-05-01T16:50:04.800000",
          "2022-05-01T16:50:04.900000",
          "2022-05-01T16:50:05",
          "2022-05-01T16:50:05.100000",
          "2022-05-01T16:50:05.200000",
          "2022-05-01T16:50:05.300000",
          "2022-05-01T16:50:05.400000",
          "2022-05-01T16:50:05.500000",
          "2022-05-01T16:50:05.600000",
          "2022-05-01T16:50:05.700000",
          "2022-05-01T16:50:05.800000",
          "2022-05-01T16:50:05.900000",
          "2022-05-01T16:50:06",
          "2022-05-01T16:50:06.100000",
          "2022-05-01T16:50:06.200000",
          "2022-05-01T16:50:06.300000",
          "2022-05-01T16:50:06.400000",
          "2022-05-01T16:50:06.500000",
          "2022-05-01T16:50:06.600000",
          "2022-05-01T16:50:06.700000",
          "2022-05-01T16:50:06.800000",
          "2022-05-01T16:50:06.900000",
          "2022-05-01T16:50:07",
          "2022-05-01T16:50:07.100000",
          "2022-05-01T16:50:07.200000",
          "2022-05-01T16:50:07.300000",
          "2022-05-01T16:50:07.400000",
          "2022-05-01T16:50:07.500000",
          "2022-05-01T16:50:07.600000",
          "2022-05-01T16:50:07.700000",
          "2022-05-01T16:50:07.800000",
          "2022-05-01T16:50:07.900000",
          "2022-05-01T16:50:08",
          "2022-05-01T16:50:08.100000",
          "2022-05-01T16:50:08.200000",
          "2022-05-01T16:50:08.300000",
          "2022-05-01T16:50:08.400000",
          "2022-05-01T16:50:08.500000",
          "2022-05-01T16:50:08.600000",
          "2022-05-01T16:50:08.700000",
          "2022-05-01T16:50:08.800000",
          "2022-05-01T16:50:08.900000",
          "2022-05-01T16:50:09",
          "2022-05-01T16:50:09.100000",
          "2022-05-01T16:50:09.200000",
          "2022-05-01T16:50:09.300000",
          "2022-05-01T16:50:09.400000",
          "2022-05-01T16:50:09.500000",
          "2022-05-01T16:50:09.600000",
          "2022-05-01T16:50:09.700000",
          "2022-05-01T16:50:09.800000",
          "2022-05-01T16:50:09.900000",
          "2022-05-01T16:50:10",
          "2022-05-01T16:50:10.100000",
          "2022-05-01T16:50:10.200000",
          "2022-05-01T16:50:10.300000",
          "2022-05-01T16:50:10.400000",
          "2022-05-01T16:50:10.500000",
          "2022-05-01T16:50:10.600000",
          "2022-05-01T16:50:10.700000",
          "2022-05-01T16:50:10.800000",
          "2022-05-01T16:50:10.900000",
          "2022-05-01T16:50:11",
          "2022-05-01T16:50:11.100000",
          "2022-05-01T16:50:11.200000",
          "2022-05-01T16:50:11.300000",
          "2022-05-01T16:50:11.400000",
          "2022-05-01T16:50:11.500000",
          "2022-05-01T16:50:11.600000",
          "2022-05-01T16:50:11.700000",
          "2022-05-01T16:50:11.800000",
          "2022-05-01T16:50:11.900000",
          "2022-05-01T16:50:12",
          "2022-05-01T16:50:12.100000",
          "2022-05-01T16:50:12.200000",
          "2022-05-01T16:50:12.300000",
          "2022-05-01T16:50:12.400000",
          "2022-05-01T16:50:12.500000",
          "2022-05-01T16:50:12.600000",
          "2022-05-01T16:50:12.700000",
          "2022-05-01T16:50:12.800000",
          "2022-05-01T16:50:12.900000",
          "2022-05-01T16:50:13",
          "2022-05-01T16:50:13.100000",
          "2022-05-01T16:50:13.200000",
          "2022-05-01T16:50:13.300000",
          "2022-05-01T16:50:13.400000",
          "2022-05-01T16:50:13.500000",
          "2022-05-01T16:50:13.600000",
          "2022-05-01T16:50:13.700000",
          "2022-05-01T16:50:13.800000",
          "2022-05-01T16:50:13.900000",
          "2022-05-01T16:50:14",
          "2022-05-01T16:50:14.100000",
          "2022-05-01T16:50:14.200000",
          "2022-05-01T16:50:14.300000",
          "2022-05-01T16:50:14.400000",
          "2022-05-01T16:50:14.500000",
          "2022-05-01T16:50:14.600000",
          "2022-05-01T16:50:14.700000",
          "2022-05-01T16:50:14.800000",
          "2022-05-01T16:50:14.900000",
          "2022-05-01T16:50:15",
          "2022-05-01T16:50:15.100000",
          "2022-05-01T16:50:15.200000",
          "2022-05-01T16:50:15.300000",
          "2022-05-01T16:50:15.400000",
          "2022-05-01T16:50:15.500000",
          "2022-05-01T16:50:15.600000",
          "2022-05-01T16:50:15.700000",
          "2022-05-01T16:50:15.800000",
          "2022-05-01T16:50:15.900000",
          "2022-05-01T16:50:16",
          "2022-05-01T16:50:16.100000",
          "2022-05-01T16:50:16.200000",
          "2022-05-01T16:50:16.300000",
          "2022-05-01T16:50:16.400000",
          "2022-05-01T16:50:16.500000",
          "2022-05-01T16:50:16.600000",
          "2022-05-01T16:50:16.700000",
          "2022-05-01T16:50:16.800000",
          "2022-05-01T16:50:16.900000",
          "2022-05-01T16:50:17",
          "2022-05-01T16:50:17.100000",
          "2022-05-01T16:50:17.200000",
          "2022-05-01T16:50:17.300000",
          "2022-05-01T16:50:17.400000",
          "2022-05-01T16:50:17.500000",
          "2022-05-01T16:50:17.600000",
          "2022-05-01T16:50:17.700000",
          "2022-05-01T16:50:17.800000",
          "2022-05-01T16:50:17.900000",
          "2022-05-01T16:50:18",
          "2022-05-01T16:50:18.100000",
          "2022-05-01T16:50:18.200000",
          "2022-05-01T16:50:18.300000",
          "2022-05-01T16:50:18.400000",
          "2022-05-01T16:50:18.500000",
          "2022-05-01T16:50:18.600000",
          "2022-05-01T16:50:18.700000",
          "2022-05-01T16:50:18.800000",
          "2022-05-01T16:50:18.900000",
          "2022-05-01T16:50:19",
          "2022-05-01T16:50:19.100000",
          "2022-05-01T16:50:19.200000",
          "2022-05-01T16:50:19.300000",
          "2022-05-01T16:50:19.400000",
          "2022-05-01T16:50:19.500000",
          "2022-05-01T16:50:19.600000",
          "2022-05-01T16:50:19.700000",
          "2022-05-01T16:50:19.800000",
          "2022-05-01T16:50:19.900000",
          "2022-05-01T16:50:20",
          "2022-05-01T16:50:20.100000",
          "2022-05-01T16:50:20.200000",
          "2022-05-01T16:50:20.300000",
          "2022-05-01T16:50:20.400000",
          "2022-05-01T16:50:20.500000",
          "2022-05-01T16:50:20.600000",
          "2022-05-01T16:50:20.700000",
          "2022-05-01T16:50:20.800000",
          "2022-05-01T16:50:20.900000",
          "2022-05-01T16:50:21",
          "2022-05-01T16:50:21.100000",
          "2022-05-01T16:50:21.200000",
          "2022-05-01T16:50:21.300000",
          "2022-05-01T16:50:21.400000",
          "2022-05-01T16:50:21.500000",
          "2022-05-01T16:50:21.600000",
          "2022-05-01T16:50:21.700000",
          "2022-05-01T16:50:21.800000",
          "2022-05-01T16:50:21.900000",
          "2022-05-01T16:50:22",
          "2022-05-01T16:50:22.100000",
          "2022-05-01T16:50:22.200000",
          "2022-05-01T16:50:22.300000",
          "2022-05-01T16:50:22.400000",
          "2022-05-01T16:50:22.500000",
          "2022-05-01T16:50:22.600000",
          "2022-05-01T16:50:22.700000",
          "2022-05-01T16:50:22.800000",
          "2022-05-01T16:50:22.900000",
          "2022-05-01T16:50:23",
          "2022-05-01T16:50:23.100000",
          "2022-05-01T16:50:23.200000",
          "2022-05-01T16:50:23.300000",
          "2022-05-01T16:50:23.400000",
          "2022-05-01T16:50:23.500000",
          "2022-05-01T16:50:23.600000",
          "2022-05-01T16:50:23.700000",
          "2022-05-01T16:50:23.800000",
          "2022-05-01T16:50:23.900000",
          "2022-05-01T16:50:24",
          "2022-05-01T16:50:24.100000",
          "2022-05-01T16:50:24.200000",
          "2022-05-01T16:50:24.300000",
          "2022-05-01T16:50:24.400000",
          "2022-05-01T16:50:24.500000",
          "2022-05-01T16:50:24.600000",
          "2022-05-01T16:50:24.700000",
          "2022-05-01T16:50:24.800000",
          "2022-05-01T16:50:24.900000",
          "2022-05-01T16:50:25",
          "2022-05-01T16:50:25.100000",
          "2022-05-01T16:50:25.200000",
          "2022-05-01T16:50:25.300000",
          "2022-05-01T16:50:25.400000",
          "2022-05-01T16:50:25.500000",
          "2022-05-01T16:50:25.600000",
          "2022-05-01T16:50:25.700000",
          "2022-05-01T16:50:25.800000",
          "2022-05-01T16:50:25.900000",
          "2022-05-01T16:50:26",
          "2022-05-01T16:50:26.100000",
          "2022-05-01T16:50:26.200000",
          "2022-05-01T16:50:26.300000",
          "2022-05-01T16:50:26.400000",
          "2022-05-01T16:50:26.500000",
          "2022-05-01T16:50:26.600000",
          "2022-05-01T16:50:26.700000",
          "2022-05-01T16:50:26.800000",
          "2022-05-01T16:50:26.900000",
          "2022-05-01T16:50:27",
          "2022-05-01T16:50:27.100000",
          "2022-05-01T16:50:27.200000",
          "2022-05-01T16:50:27.300000",
          "2022-05-01T16:50:27.400000",
          "2022-05-01T16:50:27.500000",
          "2022-05-01T16:50:27.600000",
          "2022-05-01T16:50:27.700000",
          "2022-05-01T16:50:27.800000",
          "2022-05-01T16:50:27.900000",
          "2022-05-01T16:50:28",
          "2022-05-01T16:50:28.100000",
          "2022-05-01T16:50:28.200000",
          "2022-05-01T16:50:28.300000",
          "2022-05-01T16:50:28.400000",
          "2022-05-01T16:50:28.500000",
          "2022-05-01T16:50:28.600000",
          "2022-05-01T16:50:28.700000",
          "2022-05-01T16:50:28.800000",
          "2022-05-01T16:50:28.900000",
          "2022-05-01T16:50:29",
          "2022-05-01T16:50:29.100000",
          "2022-05-01T16:50:29.200000",
          "2022-05-01T16:50:29.300000",
          "2022-05-01T16:50:29.400000",
          "2022-05-01T16:50:29.500000",
          "2022-05-01T16:50:29.600000",
          "2022-05-01T16:50:29.700000",
          "2022-05-01T16:50:29.800000",
          "2022-05-01T16:50:29.900000",
          "2022-05-01T16:50:30",
          "2022-05-01T16:50:30.100000",
          "2022-05-01T16:50:30.200000",
          "2022-05-01T16:50:30.300000",
          "2022-05-01T16:50:30.400000",
          "2022-05-01T16:50:30.500000",
          "2022-05-01T16:50:30.600000",
          "2022-05-01T16:50:30.700000",
          "2022-05-01T16:50:30.800000",
          "2022-05-01T16:50:30.900000",
          "2022-05-01T16:50:31",
          "2022-05-01T16:50:31.100000",
          "2022-05-01T16:50:31.200000",
          "2022-05-01T16:50:31.300000",
          "2022-05-01T16:50:31.400000",
          "2022-05-01T16:50:31.500000",
          "2022-05-01T16:50:31.600000",
          "2022-05-01T16:50:31.700000",
          "2022-05-01T16:50:31.800000",
          "2022-05-01T16:50:31.900000",
          "2022-05-01T16:50:32",
          "2022-05-01T16:50:32.100000",
          "2022-05-01T16:50:32.200000",
          "2022-05-01T16:50:32.300000",
          "2022-05-01T16:50:32.400000",
          "2022-05-01T16:50:32.500000",
          "2022-05-01T16:50:32.600000",
          "2022-05-01T16:50:32.700000",
          "2022-05-01T16:50:32.800000",
          "2022-05-01T16:50:32.900000",
          "2022-05-01T16:50:33",
          "2022-05-01T16:50:33.100000",
          "2022-05-01T16:50:33.200000",
          "2022-05-01T16:50:33.300000",
          "2022-05-01T16:50:33.400000",
          "2022-05-01T16:50:33.500000",
          "2022-05-01T16:50:33.600000",
          "2022-05-01T16:50:33.700000",
          "2022-05-01T16:50:33.800000",
          "2022-05-01T16:50:33.900000",
          "2022-05-01T16:50:34",
          "2022-05-01T16:50:34.100000",
          "2022-05-01T16:50:34.200000",
          "2022-05-01T16:50:34.300000",
          "2022-05-01T16:50:34.400000",
          "2022-05-01T16:50:34.500000",
          "2022-05-01T16:50:34.600000",
          "2022-05-01T16:50:34.700000",
          "2022-05-01T16:50:34.800000",
          "2022-05-01T16:50:34.900000",
          "2022-05-01T16:50:35",
          "2022-05-01T16:50:35.100000",
          "2022-05-01T16:50:35.200000",
          "2022-05-01T16:50:35.300000",
          "2022-05-01T16:50:35.400000",
          "2022-05-01T16:50:35.500000",
          "2022-05-01T16:50:35.600000",
          "2022-05-01T16:50:35.700000",
          "2022-05-01T16:50:35.800000",
          "2022-05-01T16:50:35.900000",
          "2022-05-01T16:50:36",
          "2022-05-01T16:50:36.100000",
          "2022-05-01T16:50:36.200000",
          "2022-05-01T16:50:36.300000",
          "2022-05-01T16:50:36.400000",
          "2022-05-01T16:50:36.500000",
          "2022-05-01T16:50:36.600000",
          "2022-05-01T16:50:36.700000",
          "2022-05-01T16:50:36.800000",
          "2022-05-01T16:50:36.900000",
          "2022-05-01T16:50:37",
          "2022-05-01T16:50:37.100000",
          "2022-05-01T16:50:37.200000",
          "2022-05-01T16:50:37.300000",
          "2022-05-01T16:50:37.400000",
          "2022-05-01T16:50:37.500000",
          "2022-05-01T16:50:37.600000",
          "2022-05-01T16:50:37.700000",
          "2022-05-01T16:50:37.800000",
          "2022-05-01T16:50:37.900000",
          "2022-05-01T16:50:38",
          "2022-05-01T16:50:38.100000",
          "2022-05-01T16:50:38.200000",
          "2022-05-01T16:50:38.300000",
          "2022-05-01T16:50:38.400000",
          "2022-05-01T16:50:38.500000",
          "2022-05-01T16:50:38.600000",
          "2022-05-01T16:50:38.700000",
          "2022-05-01T16:50:38.800000",
          "2022-05-01T16:50:38.900000",
          "2022-05-01T16:50:39",
          "2022-05-01T16:50:39.100000",
          "2022-05-01T16:50:39.200000",
          "2022-05-01T16:50:39.300000",
          "2022-05-01T16:50:39.400000",
          "2022-05-01T16:50:39.500000",
          "2022-05-01T16:50:39.600000",
          "2022-05-01T16:50:39.700000",
          "2022-05-01T16:50:39.800000",
          "2022-05-01T16:50:39.900000",
          "2022-05-01T16:50:40",
          "2022-05-01T16:50:40.100000",
          "2022-05-01T16:50:40.200000",
          "2022-05-01T16:50:40.300000",
          "2022-05-01T16:50:40.400000",
          "2022-05-01T16:50:40.500000",
          "2022-05-01T16:50:40.600000",
          "2022-05-01T16:50:40.700000",
          "2022-05-01T16:50:40.800000",
          "2022-05-01T16:50:40.900000",
          "2022-05-01T16:50:41",
          "2022-05-01T16:50:41.100000",
          "2022-05-01T16:50:41.200000",
          "2022-05-01T16:50:41.300000",
          "2022-05-01T16:50:41.400000",
          "2022-05-01T16:50:41.500000",
          "2022-05-01T16:50:41.600000",
          "2022-05-01T16:50:41.700000",
          "2022-05-01T16:50:41.800000",
          "2022-05-01T16:50:41.900000",
          "2022-05-01T16:50:42",
          "2022-05-01T16:50:42.100000",
          "2022-05-01T16:50:42.200000",
          "2022-05-01T16:50:42.300000",
          "2022-05-01T16:50:42.400000",
          "2022-05-01T16:50:42.500000",
          "2022-05-01T16:50:42.600000",
          "2022-05-01T16:50:42.700000",
          "2022-05-01T16:50:42.800000",
          "2022-05-01T16:50:42.900000",
          "2022-05-01T16:50:43",
          "2022-05-01T16:50:43.100000",
          "2022-05-01T16:50:43.200000",
          "2022-05-01T16:50:43.300000",
          "2022-05-01T16:50:43.400000",
          "2022-05-01T16:50:43.500000",
          "2022-05-01T16:50:43.600000",
          "2022-05-01T16:50:43.700000",
          "2022-05-01T16:50:43.800000",
          "2022-05-01T16:50:43.900000",
          "2022-05-01T16:50:44",
          "2022-05-01T16:50:44.100000",
          "2022-05-01T16:50:44.200000",
          "2022-05-01T16:50:44.300000",
          "2022-05-01T16:50:44.400000",
          "2022-05-01T16:50:44.500000",
          "2022-05-01T16:50:44.600000",
          "2022-05-01T16:50:44.700000",
          "2022-05-01T16:50:44.800000",
          "2022-05-01T16:50:44.900000",
          "2022-05-01T16:50:45",
          "2022-05-01T16:50:45.100000",
          "2022-05-01T16:50:45.200000",
          "2022-05-01T16:50:45.300000",
          "2022-05-01T16:50:45.400000",
          "2022-05-01T16:50:45.500000",
          "2022-05-01T16:50:45.600000",
          "2022-05-01T16:50:45.700000",
          "2022-05-01T16:50:45.800000",
          "2022-05-01T16:50:45.900000",
          "2022-05-01T16:50:46",
          "2022-05-01T16:50:46.100000",
          "2022-05-01T16:50:46.200000",
          "2022-05-01T16:50:46.300000",
          "2022-05-01T16:50:46.400000",
          "2022-05-01T16:50:46.500000",
          "2022-05-01T16:50:46.600000",
          "2022-05-01T16:50:46.700000",
          "2022-05-01T16:50:46.800000",
          "2022-05-01T16:50:46.900000",
          "2022-05-01T16:50:47",
          "2022-05-01T16:50:47.100000",
          "2022-05-01T16:50:47.200000",
          "2022-05-01T16:50:47.300000",
          "2022-05-01T16:50:47.400000",
          "2022-05-01T16:50:47.500000",
          "2022-05-01T16:50:47.600000",
          "2022-05-01T16:50:47.700000",
          "2022-05-01T16:50:47.800000",
          "2022-05-01T16:50:47.900000",
          "2022-05-01T16:50:48",
          "2022-05-01T16:50:48.100000",
          "2022-05-01T16:50:48.200000",
          "2022-05-01T16:50:48.300000",
          "2022-05-01T16:50:48.400000",
          "2022-05-01T16:50:48.500000",
          "2022-05-01T16:50:48.600000",
          "2022-05-01T16:50:48.700000",
          "2022-05-01T16:50:48.800000",
          "2022-05-01T16:50:48.900000",
          "2022-05-01T16:50:49",
          "2022-05-01T16:50:49.100000",
          "2022-05-01T16:50:49.200000",
          "2022-05-01T16:50:49.300000",
          "2022-05-01T16:50:49.400000",
          "2022-05-01T16:50:49.500000",
          "2022-05-01T16:50:49.600000",
          "2022-05-01T16:50:49.700000",
          "2022-05-01T16:50:49.800000",
          "2022-05-01T16:50:49.900000",
          "2022-05-01T16:50:50",
          "2022-05-01T16:50:50.100000",
          "2022-05-01T16:50:50.200000",
          "2022-05-01T16:50:50.300000",
          "2022-05-01T16:50:50.400000",
          "2022-05-01T16:50:50.500000",
          "2022-05-01T16:50:50.600000",
          "2022-05-01T16:50:50.700000",
          "2022-05-01T16:50:50.800000",
          "2022-05-01T16:50:50.900000",
          "2022-05-01T16:50:51",
          "2022-05-01T16:50:51.100000",
          "2022-05-01T16:50:51.200000",
          "2022-05-01T16:50:51.300000",
          "2022-05-01T16:50:51.400000",
          "2022-05-01T16:50:51.500000",
          "2022-05-01T16:50:51.600000",
          "2022-05-01T16:50:51.700000",
          "2022-05-01T16:50:51.800000",
          "2022-05-01T16:50:51.900000",
          "2022-05-01T16:50:52",
          "2022-05-01T16:50:52.100000",
          "2022-05-01T16:50:52.200000",
          "2022-05-01T16:50:52.300000",
          "2022-05-01T16:50:52.400000",
          "2022-05-01T16:50:52.500000",
          "2022-05-01T16:50:52.600000",
          "2022-05-01T16:50:52.700000",
          "2022-05-01T16:50:52.800000",
          "2022-05-01T16:50:52.900000",
          "2022-05-01T16:50:53",
          "2022-05-01T16:50:53.100000",
          "2022-05-01T16:50:53.200000",
          "2022-05-01T16:50:53.300000",
          "2022-05-01T16:50:53.400000",
          "2022-05-01T16:50:53.500000",
          "2022-05-01T16:50:53.600000",
          "2022-05-01T16:50:53.700000",
          "2022-05-01T16:50:53.800000",
          "2022-05-01T16:50:53.900000",
          "2022-05-01T16:50:54",
          "2022-05-01T16:50:54.100000",
          "2022-05-01T16:50:54.200000",
          "2022-05-01T16:50:54.300000",
          "2022-05-01T16:50:54.400000",
          "2022-05-01T16:50:54.500000",
          "2022-05-01T16:50:54.600000",
          "2022-05-01T16:50:54.700000",
          "2022-05-01T16:50:54.800000",
          "2022-05-01T16:50:54.900000",
          "2022-05-01T16:50:55",
          "2022-05-01T16:50:55.100000",
          "2022-05-01T16:50:55.200000",
          "2022-05-01T16:50:55.300000",
          "2022-05-01T16:50:55.400000",
          "2022-05-01T16:50:55.500000",
          "2022-05-01T16:50:55.600000",
          "2022-05-01T16:50:55.700000",
          "2022-05-01T16:50:55.800000",
          "2022-05-01T16:50:55.900000",
          "2022-05-01T16:50:56",
          "2022-05-01T16:50:56.100000",
          "2022-05-01T16:50:56.200000",
          "2022-05-01T16:50:56.300000",
          "2022-05-01T16:50:56.400000",
          "2022-05-01T16:50:56.500000",
          "2022-05-01T16:50:56.600000",
          "2022-05-01T16:50:56.700000",
          "2022-05-01T16:50:56.800000",
          "2022-05-01T16:50:56.900000",
          "2022-05-01T16:50:57",
          "2022-05-01T16:50:57.100000",
          "2022-05-01T16:50:57.200000",
          "2022-05-01T16:50:57.300000",
          "2022-05-01T16:50:57.400000",
          "2022-05-01T16:50:57.500000",
          "2022-05-01T16:50:57.600000",
          "2022-05-01T16:50:57.700000",
          "2022-05-01T16:50:57.800000",
          "2022-05-01T16:50:57.900000",
          "2022-05-01T16:50:58",
          "2022-05-01T16:50:58.100000",
          "2022-05-01T16:50:58.200000",
          "2022-05-01T16:50:58.300000",
          "2022-05-01T16:50:58.400000",
          "2022-05-01T16:50:58.500000",
          "2022-05-01T16:50:58.600000",
          "2022-05-01T16:50:58.700000",
          "2022-05-01T16:50:58.800000",
          "2022-05-01T16:50:58.900000",
          "2022-05-01T16:50:59",
          "2022-05-01T16:50:59.100000",
          "2022-05-01T16:50:59.200000",
          "2022-05-01T16:50:59.300000",
          "2022-05-01T16:50:59.400000",
          "2022-05-01T16:50:59.500000",
          "2022-05-01T16:50:59.600000",
          "2022-05-01T16:50:59.700000",
          "2022-05-01T16:50:59.800000",
          "2022-05-01T16:50:59.900000",
          "2022-05-01T16:51:00",
          "2022-05-01T16:51:00.100000",
          "2022-05-01T16:51:00.200000",
          "2022-05-01T16:51:00.300000",
          "2022-05-01T16:51:00.400000",
          "2022-05-01T16:51:00.500000",
          "2022-05-01T16:51:00.600000",
          "2022-05-01T16:51:00.700000",
          "2022-05-01T16:51:00.800000",
          "2022-05-01T16:51:00.900000",
          "2022-05-01T16:51:01",
          "2022-05-01T16:51:01.100000",
          "2022-05-01T16:51:01.200000",
          "2022-05-01T16:51:01.300000",
          "2022-05-01T16:51:01.400000",
          "2022-05-01T16:51:01.500000",
          "2022-05-01T16:51:01.600000",
          "2022-05-01T16:51:01.700000",
          "2022-05-01T16:51:01.800000",
          "2022-05-01T16:51:01.900000",
          "2022-05-01T16:51:02",
          "2022-05-01T16:51:02.100000",
          "2022-05-01T16:51:02.200000",
          "2022-05-01T16:51:02.300000",
          "2022-05-01T16:51:02.400000",
          "2022-05-01T16:51:02.500000",
          "2022-05-01T16:51:02.600000",
          "2022-05-01T16:51:02.700000",
          "2022-05-01T16:51:02.800000",
          "2022-05-01T16:51:02.900000",
          "2022-05-01T16:51:03",
          "2022-05-01T16:51:03.100000",
          "2022-05-01T16:51:03.200000",
          "2022-05-01T16:51:03.300000",
          "2022-05-01T16:51:03.400000",
          "2022-05-01T16:51:03.500000",
          "2022-05-01T16:51:03.600000",
          "2022-05-01T16:51:03.700000",
          "2022-05-01T16:51:03.800000",
          "2022-05-01T16:51:03.900000",
          "2022-05-01T16:51:04",
          "2022-05-01T16:51:04.100000",
          "2022-05-01T16:51:04.200000",
          "2022-05-01T16:51:04.300000",
          "2022-05-01T16:51:04.400000",
          "2022-05-01T16:51:04.500000",
          "2022-05-01T16:51:04.600000",
          "2022-05-01T16:51:04.700000",
          "2022-05-01T16:51:04.800000",
          "2022-05-01T16:51:04.900000",
          "2022-05-01T16:51:05",
          "2022-05-01T16:51:05.100000",
          "2022-05-01T16:51:05.200000",
          "2022-05-01T16:51:05.300000",
          "2022-05-01T16:51:05.400000",
          "2022-05-01T16:51:05.500000",
          "2022-05-01T16:51:05.600000",
          "2022-05-01T16:51:05.700000",
          "2022-05-01T16:51:05.800000",
          "2022-05-01T16:51:05.900000",
          "2022-05-01T16:51:06",
          "2022-05-01T16:51:06.100000",
          "2022-05-01T16:51:06.200000",
          "2022-05-01T16:51:06.300000",
          "2022-05-01T16:51:06.400000",
          "2022-05-01T16:51:06.500000",
          "2022-05-01T16:51:06.600000",
          "2022-05-01T16:51:06.700000",
          "2022-05-01T16:51:06.800000",
          "2022-05-01T16:51:06.900000",
          "2022-05-01T16:51:07",
          "2022-05-01T16:51:07.100000",
          "2022-05-01T16:51:07.200000",
          "2022-05-01T16:51:07.300000",
          "2022-05-01T16:51:07.400000",
          "2022-05-01T16:51:07.500000",
          "2022-05-01T16:51:07.600000",
          "2022-05-01T16:51:07.700000",
          "2022-05-01T16:51:07.800000",
          "2022-05-01T16:51:07.900000",
          "2022-05-01T16:51:08",
          "2022-05-01T16:51:08.100000",
          "2022-05-01T16:51:08.200000",
          "2022-05-01T16:51:08.300000",
          "2022-05-01T16:51:08.400000",
          "2022-05-01T16:51:08.500000",
          "2022-05-01T16:51:08.600000",
          "2022-05-01T16:51:08.700000",
          "2022-05-01T16:51:08.800000",
          "2022-05-01T16:51:08.900000",
          "2022-05-01T16:51:09",
          "2022-05-01T16:51:09.100000",
          "2022-05-01T16:51:09.200000",
          "2022-05-01T16:51:09.300000",
          "2022-05-01T16:51:09.400000",
          "2022-05-01T16:51:09.500000",
          "2022-05-01T16:51:09.600000",
          "2022-05-01T16:51:09.700000",
          "2022-05-01T16:51:09.800000",
          "2022-05-01T16:51:09.900000",
          "2022-05-01T16:51:10",
          "2022-05-01T16:51:10.100000",
          "2022-05-01T16:51:10.200000",
          "2022-05-01T16:51:10.300000",
          "2022-05-01T16:51:10.400000",
          "2022-05-01T16:51:10.500000",
          "2022-05-01T16:51:10.600000",
          "2022-05-01T16:51:10.700000",
          "2022-05-01T16:51:10.800000",
          "2022-05-01T16:51:10.900000",
          "2022-05-01T16:51:11",
          "2022-05-01T16:51:11.100000",
          "2022-05-01T16:51:11.200000",
          "2022-05-01T16:51:11.300000",
          "2022-05-01T16:51:11.400000",
          "2022-05-01T16:51:11.500000",
          "2022-05-01T16:51:11.600000",
          "2022-05-01T16:51:11.700000",
          "2022-05-01T16:51:11.800000",
          "2022-05-01T16:51:11.900000",
          "2022-05-01T16:51:12",
          "2022-05-01T16:51:12.100000",
          "2022-05-01T16:51:12.200000",
          "2022-05-01T16:51:12.300000",
          "2022-05-01T16:51:12.400000",
          "2022-05-01T16:51:12.500000",
          "2022-05-01T16:51:12.600000",
          "2022-05-01T16:51:12.700000",
          "2022-05-01T16:51:12.800000",
          "2022-05-01T16:51:12.900000",
          "2022-05-01T16:51:13",
          "2022-05-01T16:51:13.100000",
          "2022-05-01T16:51:13.200000",
          "2022-05-01T16:51:13.300000",
          "2022-05-01T16:51:13.400000",
          "2022-05-01T16:51:13.500000",
          "2022-05-01T16:51:13.600000",
          "2022-05-01T16:51:13.700000",
          "2022-05-01T16:51:13.800000",
          "2022-05-01T16:51:13.900000",
          "2022-05-01T16:51:14",
          "2022-05-01T16:51:14.100000",
          "2022-05-01T16:51:14.200000",
          "2022-05-01T16:51:14.300000",
          "2022-05-01T16:51:14.400000",
          "2022-05-01T16:51:14.500000",
          "2022-05-01T16:51:14.600000",
          "2022-05-01T16:51:14.700000",
          "2022-05-01T16:51:14.800000",
          "2022-05-01T16:51:14.900000",
          "2022-05-01T16:51:15",
          "2022-05-01T16:51:15.100000",
          "2022-05-01T16:51:15.200000",
          "2022-05-01T16:51:15.300000",
          "2022-05-01T16:51:15.400000",
          "2022-05-01T16:51:15.500000",
          "2022-05-01T16:51:15.600000",
          "2022-05-01T16:51:15.700000",
          "2022-05-01T16:51:15.800000",
          "2022-05-01T16:51:15.900000",
          "2022-05-01T16:51:16",
          "2022-05-01T16:51:16.100000",
          "2022-05-01T16:51:16.200000",
          "2022-05-01T16:51:16.300000",
          "2022-05-01T16:51:16.400000",
          "2022-05-01T16:51:16.500000",
          "2022-05-01T16:51:16.600000",
          "2022-05-01T16:51:16.700000",
          "2022-05-01T16:51:16.800000",
          "2022-05-01T16:51:16.900000",
          "2022-05-01T16:51:17",
          "2022-05-01T16:51:17.100000",
          "2022-05-01T16:51:17.200000",
          "2022-05-01T16:51:17.300000",
          "2022-05-01T16:51:17.400000",
          "2022-05-01T16:51:17.500000",
          "2022-05-01T16:51:17.600000",
          "2022-05-01T16:51:17.700000",
          "2022-05-01T16:51:17.800000",
          "2022-05-01T16:51:17.900000",
          "2022-05-01T16:51:18",
          "2022-05-01T16:51:18.100000",
          "2022-05-01T16:51:18.200000",
          "2022-05-01T16:51:18.300000",
          "2022-05-01T16:51:18.400000",
          "2022-05-01T16:51:18.500000",
          "2022-05-01T16:51:18.600000",
          "2022-05-01T16:51:18.700000",
          "2022-05-01T16:51:18.800000",
          "2022-05-01T16:51:18.900000",
          "2022-05-01T16:51:19",
          "2022-05-01T16:51:19.100000",
          "2022-05-01T16:51:19.200000",
          "2022-05-01T16:51:19.300000",
          "2022-05-01T16:51:19.400000",
          "2022-05-01T16:51:19.500000",
          "2022-05-01T16:51:19.600000",
          "2022-05-01T16:51:19.700000",
          "2022-05-01T16:51:19.800000",
          "2022-05-01T16:51:19.900000",
          "2022-05-01T16:51:20",
          "2022-05-01T16:51:20.100000",
          "2022-05-01T16:51:20.200000",
          "2022-05-01T16:51:20.300000",
          "2022-05-01T16:51:20.400000",
          "2022-05-01T16:51:20.500000",
          "2022-05-01T16:51:20.600000",
          "2022-05-01T16:51:20.700000",
          "2022-05-01T16:51:20.800000",
          "2022-05-01T16:51:20.900000",
          "2022-05-01T16:51:21",
          "2022-05-01T16:51:21.100000",
          "2022-05-01T16:51:21.200000",
          "2022-05-01T16:51:21.300000",
          "2022-05-01T16:51:21.400000",
          "2022-05-01T16:51:21.500000",
          "2022-05-01T16:51:21.600000",
          "2022-05-01T16:51:21.700000",
          "2022-05-01T16:51:21.800000",
          "2022-05-01T16:51:21.900000",
          "2022-05-01T16:51:22",
          "2022-05-01T16:51:22.100000",
          "2022-05-01T16:51:22.200000",
          "2022-05-01T16:51:22.300000",
          "2022-05-01T16:51:22.400000",
          "2022-05-01T16:51:22.500000",
          "2022-05-01T16:51:22.600000",
          "2022-05-01T16:51:22.700000",
          "2022-05-01T16:51:22.800000",
          "2022-05-01T16:51:22.900000",
          "2022-05-01T16:51:23",
          "2022-05-01T16:51:23.100000",
          "2022-05-01T16:51:23.200000",
          "2022-05-01T16:51:23.300000",
          "2022-05-01T16:51:23.400000",
          "2022-05-01T16:51:23.500000",
          "2022-05-01T16:51:23.600000",
          "2022-05-01T16:51:23.700000",
          "2022-05-01T16:51:23.800000",
          "2022-05-01T16:51:23.900000",
          "2022-05-01T16:51:24",
          "2022-05-01T16:51:24.100000",
          "2022-05-01T16:51:24.200000",
          "2022-05-01T16:51:24.300000",
          "2022-05-01T16:51:24.400000",
          "2022-05-01T16:51:24.500000",
          "2022-05-01T16:51:24.600000",
          "2022-05-01T16:51:24.700000",
          "2022-05-01T16:51:24.800000",
          "2022-05-01T16:51:24.900000",
          "2022-05-01T16:51:25",
          "2022-05-01T16:51:25.100000",
          "2022-05-01T16:51:25.200000",
          "2022-05-01T16:51:25.300000",
          "2022-05-01T16:51:25.400000",
          "2022-05-01T16:51:25.500000",
          "2022-05-01T16:51:25.600000",
          "2022-05-01T16:51:25.700000",
          "2022-05-01T16:51:25.800000",
          "2022-05-01T16:51:25.900000",
          "2022-05-01T16:51:26",
          "2022-05-01T16:51:26.100000",
          "2022-05-01T16:51:26.200000",
          "2022-05-01T16:51:26.300000",
          "2022-05-01T16:51:26.400000",
          "2022-05-01T16:51:26.500000",
          "2022-05-01T16:51:26.600000",
          "2022-05-01T16:51:26.700000",
          "2022-05-01T16:51:26.800000",
          "2022-05-01T16:51:26.900000",
          "2022-05-01T16:51:27",
          "2022-05-01T16:51:27.100000",
          "2022-05-01T16:51:27.200000",
          "2022-05-01T16:51:27.300000",
          "2022-05-01T16:51:27.400000",
          "2022-05-01T16:51:27.500000",
          "2022-05-01T16:51:27.600000",
          "2022-05-01T16:51:27.700000",
          "2022-05-01T16:51:27.800000",
          "2022-05-01T16:51:27.900000",
          "2022-05-01T16:51:28",
          "2022-05-01T16:51:28.100000",
          "2022-05-01T16:51:28.200000",
          "2022-05-01T16:51:28.300000",
          "2022-05-01T16:51:28.400000",
          "2022-05-01T16:51:28.500000",
          "2022-05-01T16:51:28.600000",
          "2022-05-01T16:51:28.700000",
          "2022-05-01T16:51:28.800000",
          "2022-05-01T16:51:28.900000",
          "2022-05-01T16:51:29",
          "2022-05-01T16:51:29.100000",
          "2022-05-01T16:51:29.200000",
          "2022-05-01T16:51:29.300000",
          "2022-05-01T16:51:29.400000",
          "2022-05-01T16:51:29.500000",
          "2022-05-01T16:51:29.600000",
          "2022-05-01T16:51:29.700000",
          "2022-05-01T16:51:29.800000",
          "2022-05-01T16:51:29.900000",
          "2022-05-01T16:51:30",
          "2022-05-01T16:51:30.100000",
          "2022-05-01T16:51:30.200000",
          "2022-05-01T16:51:30.300000",
          "2022-05-01T16:51:30.400000",
          "2022-05-01T16:51:30.500000",
          "2022-05-01T16:51:30.600000",
          "2022-05-01T16:51:30.700000",
          "2022-05-01T16:51:30.800000",
          "2022-05-01T16:51:30.900000",
          "2022-05-01T16:51:31",
          "2022-05-01T16:51:31.100000",
          "2022-05-01T16:51:31.200000",
          "2022-05-01T16:51:31.300000",
          "2022-05-01T16:51:31.400000",
          "2022-05-01T16:51:31.500000",
          "2022-05-01T16:51:31.600000",
          "2022-05-01T16:51:31.700000",
          "2022-05-01T16:51:31.800000",
          "2022-05-01T16:51:31.900000",
          "2022-05-01T16:51:32",
          "2022-05-01T16:51:32.100000",
          "2022-05-01T16:51:32.200000",
          "2022-05-01T16:51:32.300000",
          "2022-05-01T16:51:32.400000",
          "2022-05-01T16:51:32.500000",
          "2022-05-01T16:51:32.600000",
          "2022-05-01T16:51:32.700000",
          "2022-05-01T16:51:32.800000",
          "2022-05-01T16:51:32.900000",
          "2022-05-01T16:51:33",
          "2022-05-01T16:51:33.100000",
          "2022-05-01T16:51:33.200000",
          "2022-05-01T16:51:33.300000",
          "2022-05-01T16:51:33.400000",
          "2022-05-01T16:51:33.500000",
          "2022-05-01T16:51:33.600000",
          "2022-05-01T16:51:33.700000",
          "2022-05-01T16:51:33.800000",
          "2022-05-01T16:51:33.900000",
          "2022-05-01T16:51:34",
          "2022-05-01T16:51:34.100000",
          "2022-05-01T16:51:34.200000",
          "2022-05-01T16:51:34.300000",
          "2022-05-01T16:51:34.400000",
          "2022-05-01T16:51:34.500000",
          "2022-05-01T16:51:34.600000",
          "2022-05-01T16:51:34.700000",
          "2022-05-01T16:51:34.800000",
          "2022-05-01T16:51:34.900000",
          "2022-05-01T16:51:35",
          "2022-05-01T16:51:35.100000",
          "2022-05-01T16:51:35.200000",
          "2022-05-01T16:51:35.300000",
          "2022-05-01T16:51:35.400000",
          "2022-05-01T16:51:35.500000",
          "2022-05-01T16:51:35.600000",
          "2022-05-01T16:51:35.700000",
          "2022-05-01T16:51:35.800000",
          "2022-05-01T16:51:35.900000",
          "2022-05-01T16:51:36",
          "2022-05-01T16:51:36.100000",
          "2022-05-01T16:51:36.200000",
          "2022-05-01T16:51:36.300000",
          "2022-05-01T16:51:36.400000",
          "2022-05-01T16:51:36.500000",
          "2022-05-01T16:51:36.600000",
          "2022-05-01T16:51:36.700000",
          "2022-05-01T16:51:36.800000",
          "2022-05-01T16:51:36.900000",
          "2022-05-01T16:51:37",
          "2022-05-01T16:51:37.100000",
          "2022-05-01T16:51:37.200000",
          "2022-05-01T16:51:37.300000",
          "2022-05-01T16:51:37.400000",
          "2022-05-01T16:51:37.500000",
          "2022-05-01T16:51:37.600000",
          "2022-05-01T16:51:37.700000",
          "2022-05-01T16:51:37.800000",
          "2022-05-01T16:51:37.900000",
          "2022-05-01T16:51:38",
          "2022-05-01T16:51:38.100000",
          "2022-05-01T16:51:38.200000",
          "2022-05-01T16:51:38.300000",
          "2022-05-01T16:51:38.400000",
          "2022-05-01T16:51:38.500000",
          "2022-05-01T16:51:38.600000",
          "2022-05-01T16:51:38.700000",
          "2022-05-01T16:51:38.800000",
          "2022-05-01T16:51:38.900000",
          "2022-05-01T16:51:39",
          "2022-05-01T16:51:39.100000",
          "2022-05-01T16:51:39.200000",
          "2022-05-01T16:51:39.300000",
          "2022-05-01T16:51:39.400000",
          "2022-05-01T16:51:39.500000",
          "2022-05-01T16:51:39.600000",
          "2022-05-01T16:51:39.700000",
          "2022-05-01T16:51:39.800000",
          "2022-05-01T16:51:39.900000",
          "2022-05-01T16:51:40",
          "2022-05-01T16:51:40.100000",
          "2022-05-01T16:51:40.200000",
          "2022-05-01T16:51:40.300000",
          "2022-05-01T16:51:40.400000",
          "2022-05-01T16:51:40.500000",
          "2022-05-01T16:51:40.600000",
          "2022-05-01T16:51:40.700000",
          "2022-05-01T16:51:40.800000",
          "2022-05-01T16:51:40.900000",
          "2022-05-01T16:51:41",
          "2022-05-01T16:51:41.100000",
          "2022-05-01T16:51:41.200000",
          "2022-05-01T16:51:41.300000",
          "2022-05-01T16:51:41.400000",
          "2022-05-01T16:51:41.500000",
          "2022-05-01T16:51:41.600000",
          "2022-05-01T16:51:41.700000",
          "2022-05-01T16:51:41.800000",
          "2022-05-01T16:51:41.900000",
          "2022-05-01T16:51:42",
          "2022-05-01T16:51:42.100000",
          "2022-05-01T16:51:42.200000",
          "2022-05-01T16:51:42.300000",
          "2022-05-01T16:51:42.400000",
          "2022-05-01T16:51:42.500000",
          "2022-05-01T16:51:42.600000",
          "2022-05-01T16:51:42.700000",
          "2022-05-01T16:51:42.800000",
          "2022-05-01T16:51:42.900000",
          "2022-05-01T16:51:43",
          "2022-05-01T16:51:43.100000",
          "2022-05-01T16:51:43.200000",
          "2022-05-01T16:51:43.300000",
          "2022-05-01T16:51:43.400000",
          "2022-05-01T16:51:43.500000",
          "2022-05-01T16:51:43.600000",
          "2022-05-01T16:51:43.700000",
          "2022-05-01T16:51:43.800000",
          "2022-05-01T16:51:43.900000",
          "2022-05-01T16:51:44",
          "2022-05-01T16:51:44.100000",
          "2022-05-01T16:51:44.200000",
          "2022-05-01T16:51:44.300000",
          "2022-05-01T16:51:44.400000",
          "2022-05-01T16:51:44.500000",
          "2022-05-01T16:51:44.600000",
          "2022-05-01T16:51:44.700000",
          "2022-05-01T16:51:44.800000",
          "2022-05-01T16:51:44.900000",
          "2022-05-01T16:51:45",
          "2022-05-01T16:51:45.100000",
          "2022-05-01T16:51:45.200000",
          "2022-05-01T16:51:45.300000",
          "2022-05-01T16:51:45.400000",
          "2022-05-01T16:51:45.500000",
          "2022-05-01T16:51:45.600000",
          "2022-05-01T16:51:45.700000",
          "2022-05-01T16:51:45.800000",
          "2022-05-01T16:51:45.900000",
          "2022-05-01T16:51:46",
          "2022-05-01T16:51:46.100000",
          "2022-05-01T16:51:46.200000",
          "2022-05-01T16:51:46.300000",
          "2022-05-01T16:51:46.400000",
          "2022-05-01T16:51:46.500000",
          "2022-05-01T16:51:46.600000",
          "2022-05-01T16:51:46.700000",
          "2022-05-01T16:51:46.800000",
          "2022-05-01T16:51:46.900000",
          "2022-05-01T16:51:47",
          "2022-05-01T16:51:47.100000",
          "2022-05-01T16:51:47.200000",
          "2022-05-01T16:51:47.300000",
          "2022-05-01T16:51:47.400000",
          "2022-05-01T16:51:47.500000",
          "2022-05-01T16:51:47.600000",
          "2022-05-01T16:51:47.700000",
          "2022-05-01T16:51:47.800000",
          "2022-05-01T16:51:47.900000",
          "2022-05-01T16:51:48",
          "2022-05-01T16:51:48.100000",
          "2022-05-01T16:51:48.200000",
          "2022-05-01T16:51:48.300000",
          "2022-05-01T16:51:48.400000",
          "2022-05-01T16:51:48.500000",
          "2022-05-01T16:51:48.600000",
          "2022-05-01T16:51:48.700000",
          "2022-05-01T16:51:48.800000",
          "2022-05-01T16:51:48.900000",
          "2022-05-01T16:51:49",
          "2022-05-01T16:51:49.100000",
          "2022-05-01T16:51:49.200000",
          "2022-05-01T16:51:49.300000",
          "2022-05-01T16:51:49.400000",
          "2022-05-01T16:51:49.500000",
          "2022-05-01T16:51:49.600000",
          "2022-05-01T16:51:49.700000",
          "2022-05-01T16:51:49.800000",
          "2022-05-01T16:51:49.900000",
          "2022-05-01T16:51:50",
          "2022-05-01T16:51:50.100000",
          "2022-05-01T16:51:50.200000",
          "2022-05-01T16:51:50.300000",
          "2022-05-01T16:51:50.400000",
          "2022-05-01T16:51:50.500000",
          "2022-05-01T16:51:50.600000",
          "2022-05-01T16:51:50.700000",
          "2022-05-01T16:51:50.800000",
          "2022-05-01T16:51:50.900000",
          "2022-05-01T16:51:51",
          "2022-05-01T16:51:51.100000",
          "2022-05-01T16:51:51.200000",
          "2022-05-01T16:51:51.300000",
          "2022-05-01T16:51:51.400000",
          "2022-05-01T16:51:51.500000",
          "2022-05-01T16:51:51.600000",
          "2022-05-01T16:51:51.700000",
          "2022-05-01T16:51:51.800000",
          "2022-05-01T16:51:51.900000",
          "2022-05-01T16:51:52",
          "2022-05-01T16:51:52.100000",
          "2022-05-01T16:51:52.200000",
          "2022-05-01T16:51:52.300000",
          "2022-05-01T16:51:52.400000",
          "2022-05-01T16:51:52.500000",
          "2022-05-01T16:51:52.600000",
          "2022-05-01T16:51:52.700000",
          "2022-05-01T16:51:52.800000",
          "2022-05-01T16:51:52.900000",
          "2022-05-01T16:51:53",
          "2022-05-01T16:51:53.100000",
          "2022-05-01T16:51:53.200000",
          "2022-05-01T16:51:53.300000",
          "2022-05-01T16:51:53.400000",
          "2022-05-01T16:51:53.500000",
          "2022-05-01T16:51:53.600000",
          "2022-05-01T16:51:53.700000",
          "2022-05-01T16:51:53.800000",
          "2022-05-01T16:51:53.900000",
          "2022-05-01T16:51:54",
          "2022-05-01T16:51:54.100000",
          "2022-05-01T16:51:54.200000",
          "2022-05-01T16:51:54.300000",
          "2022-05-01T16:51:54.400000",
          "2022-05-01T16:51:54.500000",
          "2022-05-01T16:51:54.600000",
          "2022-05-01T16:51:54.700000",
          "2022-05-01T16:51:54.800000",
          "2022-05-01T16:51:54.900000",
          "2022-05-01T16:51:55",
          "2022-05-01T16:51:55.100000",
          "2022-05-01T16:51:55.200000",
          "2022-05-01T16:51:55.300000",
          "2022-05-01T16:51:55.400000",
          "2022-05-01T16:51:55.500000",
          "2022-05-01T16:51:55.600000",
          "2022-05-01T16:51:55.700000",
          "2022-05-01T16:51:55.800000",
          "2022-05-01T16:51:55.900000",
          "2022-05-01T16:51:56",
          "2022-05-01T16:51:56.100000",
          "2022-05-01T16:51:56.200000",
          "2022-05-01T16:51:56.300000",
          "2022-05-01T16:51:56.400000",
          "2022-05-01T16:51:56.500000",
          "2022-05-01T16:51:56.600000",
          "2022-05-01T16:51:56.700000",
          "2022-05-01T16:51:56.800000",
          "2022-05-01T16:51:56.900000",
          "2022-05-01T16:51:57",
          "2022-05-01T16:51:57.100000",
          "2022-05-01T16:51:57.200000",
          "2022-05-01T16:51:57.300000",
          "2022-05-01T16:51:57.400000",
          "2022-05-01T16:51:57.500000",
          "2022-05-01T16:51:57.600000",
          "2022-05-01T16:51:57.700000",
          "2022-05-01T16:51:57.800000",
          "2022-05-01T16:51:57.900000",
          "2022-05-01T16:51:58",
          "2022-05-01T16:51:58.100000",
          "2022-05-01T16:51:58.200000",
          "2022-05-01T16:51:58.300000",
          "2022-05-01T16:51:58.400000",
          "2022-05-01T16:51:58.500000",
          "2022-05-01T16:51:58.600000",
          "2022-05-01T16:51:58.700000",
          "2022-05-01T16:51:58.800000",
          "2022-05-01T16:51:58.900000",
          "2022-05-01T16:51:59",
          "2022-05-01T16:51:59.100000",
          "2022-05-01T16:51:59.200000",
          "2022-05-01T16:51:59.300000",
          "2022-05-01T16:51:59.400000",
          "2022-05-01T16:51:59.500000",
          "2022-05-01T16:51:59.600000",
          "2022-05-01T16:51:59.700000",
          "2022-05-01T16:51:59.800000",
          "2022-05-01T16:51:59.900000",
          "2022-05-01T16:52:00",
          "2022-05-01T16:52:00.100000",
          "2022-05-01T16:52:00.200000",
          "2022-05-01T16:52:00.300000",
          "2022-05-01T16:52:00.400000",
          "2022-05-01T16:52:00.500000",
          "2022-05-01T16:52:00.600000",
          "2022-05-01T16:52:00.700000",
          "2022-05-01T16:52:00.800000",
          "2022-05-01T16:52:00.900000",
          "2022-05-01T16:52:01",
          "2022-05-01T16:52:01.100000",
          "2022-05-01T16:52:01.200000",
          "2022-05-01T16:52:01.300000",
          "2022-05-01T16:52:01.400000",
          "2022-05-01T16:52:01.500000",
          "2022-05-01T16:52:01.600000",
          "2022-05-01T16:52:01.700000",
          "2022-05-01T16:52:01.800000",
          "2022-05-01T16:52:01.900000",
          "2022-05-01T16:52:02",
          "2022-05-01T16:52:02.100000",
          "2022-05-01T16:52:02.200000",
          "2022-05-01T16:52:02.300000",
          "2022-05-01T16:52:02.400000",
          "2022-05-01T16:52:02.500000",
          "2022-05-01T16:52:02.600000",
          "2022-05-01T16:52:02.700000",
          "2022-05-01T16:52:02.800000",
          "2022-05-01T16:52:02.900000",
          "2022-05-01T16:52:03",
          "2022-05-01T16:52:03.100000",
          "2022-05-01T16:52:03.200000",
          "2022-05-01T16:52:03.300000",
          "2022-05-01T16:52:03.400000",
          "2022-05-01T16:52:03.500000",
          "2022-05-01T16:52:03.600000",
          "2022-05-01T16:52:03.700000",
          "2022-05-01T16:52:03.800000",
          "2022-05-01T16:52:03.900000",
          "2022-05-01T16:52:04",
          "2022-05-01T16:52:04.100000",
          "2022-05-01T16:52:04.200000",
          "2022-05-01T16:52:04.300000",
          "2022-05-01T16:52:04.400000",
          "2022-05-01T16:52:04.500000",
          "2022-05-01T16:52:04.600000",
          "2022-05-01T16:52:04.700000",
          "2022-05-01T16:52:04.800000",
          "2022-05-01T16:52:04.900000",
          "2022-05-01T16:52:05",
          "2022-05-01T16:52:05.100000",
          "2022-05-01T16:52:05.200000",
          "2022-05-01T16:52:05.300000",
          "2022-05-01T16:52:05.400000",
          "2022-05-01T16:52:05.500000",
          "2022-05-01T16:52:05.600000",
          "2022-05-01T16:52:05.700000",
          "2022-05-01T16:52:05.800000",
          "2022-05-01T16:52:05.900000",
          "2022-05-01T16:52:06",
          "2022-05-01T16:52:06.100000",
          "2022-05-01T16:52:06.200000",
          "2022-05-01T16:52:06.300000",
          "2022-05-01T16:52:06.400000",
          "2022-05-01T16:52:06.500000",
          "2022-05-01T16:52:06.600000",
          "2022-05-01T16:52:06.700000",
          "2022-05-01T16:52:06.800000",
          "2022-05-01T16:52:06.900000",
          "2022-05-01T16:52:07",
          "2022-05-01T16:52:07.100000",
          "2022-05-01T16:52:07.200000",
          "2022-05-01T16:52:07.300000",
          "2022-05-01T16:52:07.400000",
          "2022-05-01T16:52:07.500000",
          "2022-05-01T16:52:07.600000",
          "2022-05-01T16:52:07.700000",
          "2022-05-01T16:52:07.800000",
          "2022-05-01T16:52:07.900000",
          "2022-05-01T16:52:08",
          "2022-05-01T16:52:08.100000",
          "2022-05-01T16:52:08.200000",
          "2022-05-01T16:52:08.300000",
          "2022-05-01T16:52:08.400000",
          "2022-05-01T16:52:08.500000",
          "2022-05-01T16:52:08.600000",
          "2022-05-01T16:52:08.700000",
          "2022-05-01T16:52:08.800000",
          "2022-05-01T16:52:08.900000",
          "2022-05-01T16:52:09",
          "2022-05-01T16:52:09.100000",
          "2022-05-01T16:52:09.200000",
          "2022-05-01T16:52:09.300000",
          "2022-05-01T16:52:09.400000",
          "2022-05-01T16:52:09.500000",
          "2022-05-01T16:52:09.600000",
          "2022-05-01T16:52:09.700000",
          "2022-05-01T16:52:09.800000",
          "2022-05-01T16:52:09.900000",
          "2022-05-01T16:52:10",
          "2022-05-01T16:52:10.100000",
          "2022-05-01T16:52:10.200000",
          "2022-05-01T16:52:10.300000",
          "2022-05-01T16:52:10.400000",
          "2022-05-01T16:52:10.500000",
          "2022-05-01T16:52:10.600000",
          "2022-05-01T16:52:10.700000",
          "2022-05-01T16:52:10.800000",
          "2022-05-01T16:52:10.900000",
          "2022-05-01T16:52:11",
          "2022-05-01T16:52:11.100000",
          "2022-05-01T16:52:11.200000",
          "2022-05-01T16:52:11.300000",
          "2022-05-01T16:52:11.400000",
          "2022-05-01T16:52:11.500000",
          "2022-05-01T16:52:11.600000",
          "2022-05-01T16:52:11.700000",
          "2022-05-01T16:52:11.800000",
          "2022-05-01T16:52:11.900000",
          "2022-05-01T16:52:12",
          "2022-05-01T16:52:12.100000",
          "2022-05-01T16:52:12.200000",
          "2022-05-01T16:52:12.300000",
          "2022-05-01T16:52:12.400000",
          "2022-05-01T16:52:12.500000",
          "2022-05-01T16:52:12.600000",
          "2022-05-01T16:52:12.700000",
          "2022-05-01T16:52:12.800000",
          "2022-05-01T16:52:12.900000",
          "2022-05-01T16:52:13",
          "2022-05-01T16:52:13.100000",
          "2022-05-01T16:52:13.200000",
          "2022-05-01T16:52:13.300000",
          "2022-05-01T16:52:13.400000",
          "2022-05-01T16:52:13.500000",
          "2022-05-01T16:52:13.600000",
          "2022-05-01T16:52:13.700000",
          "2022-05-01T16:52:13.800000",
          "2022-05-01T16:52:13.900000",
          "2022-05-01T16:52:14",
          "2022-05-01T16:52:14.100000",
          "2022-05-01T16:52:14.200000",
          "2022-05-01T16:52:14.300000",
          "2022-05-01T16:52:14.400000",
          "2022-05-01T16:52:14.500000",
          "2022-05-01T16:52:14.600000",
          "2022-05-01T16:52:14.700000",
          "2022-05-01T16:52:14.800000",
          "2022-05-01T16:52:14.900000",
          "2022-05-01T16:52:15",
          "2022-05-01T16:52:15.100000",
          "2022-05-01T16:52:15.200000",
          "2022-05-01T16:52:15.300000",
          "2022-05-01T16:52:15.400000",
          "2022-05-01T16:52:15.500000",
          "2022-05-01T16:52:15.600000",
          "2022-05-01T16:52:15.700000",
          "2022-05-01T16:52:15.800000",
          "2022-05-01T16:52:15.900000",
          "2022-05-01T16:52:16",
          "2022-05-01T16:52:16.100000",
          "2022-05-01T16:52:16.200000",
          "2022-05-01T16:52:16.300000",
          "2022-05-01T16:52:16.400000",
          "2022-05-01T16:52:16.500000",
          "2022-05-01T16:52:16.600000",
          "2022-05-01T16:52:16.700000",
          "2022-05-01T16:52:16.800000",
          "2022-05-01T16:52:16.900000",
          "2022-05-01T16:52:17",
          "2022-05-01T16:52:17.100000",
          "2022-05-01T16:52:17.200000",
          "2022-05-01T16:52:17.300000",
          "2022-05-01T16:52:17.400000",
          "2022-05-01T16:52:17.500000",
          "2022-05-01T16:52:17.600000",
          "2022-05-01T16:52:17.700000",
          "2022-05-01T16:52:17.800000",
          "2022-05-01T16:52:17.900000",
          "2022-05-01T16:52:18",
          "2022-05-01T16:52:18.100000",
          "2022-05-01T16:52:18.200000",
          "2022-05-01T16:52:18.300000",
          "2022-05-01T16:52:18.400000",
          "2022-05-01T16:52:18.500000",
          "2022-05-01T16:52:18.600000",
          "2022-05-01T16:52:18.700000",
          "2022-05-01T16:52:18.800000",
          "2022-05-01T16:52:18.900000",
          "2022-05-01T16:52:19",
          "2022-05-01T16:52:19.100000",
          "2022-05-01T16:52:19.200000",
          "2022-05-01T16:52:19.300000",
          "2022-05-01T16:52:19.400000",
          "2022-05-01T16:52:19.500000",
          "2022-05-01T16:52:19.600000",
          "2022-05-01T16:52:19.700000",
          "2022-05-01T16:52:19.800000",
          "2022-05-01T16:52:19.900000",
          "2022-05-01T16:52:20",
          "2022-05-01T16:52:20.100000",
          "2022-05-01T16:52:20.200000",
          "2022-05-01T16:52:20.300000",
          "2022-05-01T16:52:20.400000",
          "2022-05-01T16:52:20.500000",
          "2022-05-01T16:52:20.600000",
          "2022-05-01T16:52:20.700000",
          "2022-05-01T16:52:20.800000",
          "2022-05-01T16:52:20.900000",
          "2022-05-01T16:52:21",
          "2022-05-01T16:52:21.100000",
          "2022-05-01T16:52:21.200000",
          "2022-05-01T16:52:21.300000",
          "2022-05-01T16:52:21.400000",
          "2022-05-01T16:52:21.500000",
          "2022-05-01T16:52:21.600000",
          "2022-05-01T16:52:21.700000",
          "2022-05-01T16:52:21.800000",
          "2022-05-01T16:52:21.900000",
          "2022-05-01T16:52:22",
          "2022-05-01T16:52:22.100000",
          "2022-05-01T16:52:22.200000",
          "2022-05-01T16:52:22.300000",
          "2022-05-01T16:52:22.400000",
          "2022-05-01T16:52:22.500000",
          "2022-05-01T16:52:22.600000",
          "2022-05-01T16:52:22.700000",
          "2022-05-01T16:52:22.800000",
          "2022-05-01T16:52:22.900000",
          "2022-05-01T16:52:23",
          "2022-05-01T16:52:23.100000",
          "2022-05-01T16:52:23.200000",
          "2022-05-01T16:52:23.300000",
          "2022-05-01T16:52:23.400000",
          "2022-05-01T16:52:23.500000",
          "2022-05-01T16:52:23.600000",
          "2022-05-01T16:52:23.700000",
          "2022-05-01T16:52:23.800000",
          "2022-05-01T16:52:23.900000",
          "2022-05-01T16:52:24",
          "2022-05-01T16:52:24.100000",
          "2022-05-01T16:52:24.200000",
          "2022-05-01T16:52:24.300000",
          "2022-05-01T16:52:24.400000",
          "2022-05-01T16:52:24.500000",
          "2022-05-01T16:52:24.600000",
          "2022-05-01T16:52:24.700000",
          "2022-05-01T16:52:24.800000",
          "2022-05-01T16:52:24.900000",
          "2022-05-01T16:52:25",
          "2022-05-01T16:52:25.100000",
          "2022-05-01T16:52:25.200000",
          "2022-05-01T16:52:25.300000",
          "2022-05-01T16:52:25.400000",
          "2022-05-01T16:52:25.500000",
          "2022-05-01T16:52:25.600000",
          "2022-05-01T16:52:25.700000",
          "2022-05-01T16:52:25.800000",
          "2022-05-01T16:52:25.900000",
          "2022-05-01T16:52:26",
          "2022-05-01T16:52:26.100000",
          "2022-05-01T16:52:26.200000",
          "2022-05-01T16:52:26.300000",
          "2022-05-01T16:52:26.400000",
          "2022-05-01T16:52:26.500000",
          "2022-05-01T16:52:26.600000",
          "2022-05-01T16:52:26.700000",
          "2022-05-01T16:52:26.800000",
          "2022-05-01T16:52:26.900000",
          "2022-05-01T16:52:27",
          "2022-05-01T16:52:27.100000",
          "2022-05-01T16:52:27.200000",
          "2022-05-01T16:52:27.300000",
          "2022-05-01T16:52:27.400000",
          "2022-05-01T16:52:27.500000",
          "2022-05-01T16:52:27.600000",
          "2022-05-01T16:52:27.700000",
          "2022-05-01T16:52:27.800000",
          "2022-05-01T16:52:27.900000",
          "2022-05-01T16:52:28",
          "2022-05-01T16:52:28.100000",
          "2022-05-01T16:52:28.200000",
          "2022-05-01T16:52:28.300000",
          "2022-05-01T16:52:28.400000",
          "2022-05-01T16:52:28.500000",
          "2022-05-01T16:52:28.600000",
          "2022-05-01T16:52:28.700000",
          "2022-05-01T16:52:28.800000",
          "2022-05-01T16:52:28.900000",
          "2022-05-01T16:52:29",
          "2022-05-01T16:52:29.100000",
          "2022-05-01T16:52:29.200000",
          "2022-05-01T16:52:29.300000",
          "2022-05-01T16:52:29.400000",
          "2022-05-01T16:52:29.500000",
          "2022-05-01T16:52:29.600000",
          "2022-05-01T16:52:29.700000",
          "2022-05-01T16:52:29.800000",
          "2022-05-01T16:52:29.900000",
          "2022-05-01T16:52:30",
          "2022-05-01T16:52:30.100000",
          "2022-05-01T16:52:30.200000",
          "2022-05-01T16:52:30.300000",
          "2022-05-01T16:52:30.400000",
          "2022-05-01T16:52:30.500000",
          "2022-05-01T16:52:30.600000",
          "2022-05-01T16:52:30.700000",
          "2022-05-01T16:52:30.800000",
          "2022-05-01T16:52:30.900000",
          "2022-05-01T16:52:31",
          "2022-05-01T16:52:31.100000",
          "2022-05-01T16:52:31.200000",
          "2022-05-01T16:52:31.300000",
          "2022-05-01T16:52:31.400000",
          "2022-05-01T16:52:31.500000",
          "2022-05-01T16:52:31.600000",
          "2022-05-01T16:52:31.700000",
          "2022-05-01T16:52:31.800000",
          "2022-05-01T16:52:31.900000",
          "2022-05-01T16:52:32",
          "2022-05-01T16:52:32.100000",
          "2022-05-01T16:52:32.200000",
          "2022-05-01T16:52:32.300000",
          "2022-05-01T16:52:32.400000",
          "2022-05-01T16:52:32.500000",
          "2022-05-01T16:52:32.600000",
          "2022-05-01T16:52:32.700000",
          "2022-05-01T16:52:32.800000",
          "2022-05-01T16:52:32.900000",
          "2022-05-01T16:52:33",
          "2022-05-01T16:52:33.100000",
          "2022-05-01T16:52:33.200000",
          "2022-05-01T16:52:33.300000",
          "2022-05-01T16:52:33.400000",
          "2022-05-01T16:52:33.500000",
          "2022-05-01T16:52:33.600000",
          "2022-05-01T16:52:33.700000",
          "2022-05-01T16:52:33.800000",
          "2022-05-01T16:52:33.900000",
          "2022-05-01T16:52:34",
          "2022-05-01T16:52:34.100000",
          "2022-05-01T16:52:34.200000",
          "2022-05-01T16:52:34.300000",
          "2022-05-01T16:52:34.400000",
          "2022-05-01T16:52:34.500000",
          "2022-05-01T16:52:34.600000",
          "2022-05-01T16:52:34.700000",
          "2022-05-01T16:52:34.800000",
          "2022-05-01T16:52:34.900000",
          "2022-05-01T16:52:35",
          "2022-05-01T16:52:35.100000",
          "2022-05-01T16:52:35.200000",
          "2022-05-01T16:52:35.300000",
          "2022-05-01T16:52:35.400000",
          "2022-05-01T16:52:35.500000",
          "2022-05-01T16:52:35.600000",
          "2022-05-01T16:52:35.700000",
          "2022-05-01T16:52:35.800000",
          "2022-05-01T16:52:35.900000",
          "2022-05-01T16:52:36",
          "2022-05-01T16:52:36.100000",
          "2022-05-01T16:52:36.200000",
          "2022-05-01T16:52:36.300000",
          "2022-05-01T16:52:36.400000",
          "2022-05-01T16:52:36.500000",
          "2022-05-01T16:52:36.600000",
          "2022-05-01T16:52:36.700000",
          "2022-05-01T16:52:36.800000",
          "2022-05-01T16:52:36.900000",
          "2022-05-01T16:52:37",
          "2022-05-01T16:52:37.100000",
          "2022-05-01T16:52:37.200000",
          "2022-05-01T16:52:37.300000",
          "2022-05-01T16:52:37.400000",
          "2022-05-01T16:52:37.500000",
          "2022-05-01T16:52:37.600000",
          "2022-05-01T16:52:37.700000",
          "2022-05-01T16:52:37.800000",
          "2022-05-01T16:52:37.900000",
          "2022-05-01T16:52:38",
          "2022-05-01T16:52:38.100000",
          "2022-05-01T16:52:38.200000",
          "2022-05-01T16:52:38.300000",
          "2022-05-01T16:52:38.400000",
          "2022-05-01T16:52:38.500000",
          "2022-05-01T16:52:38.600000",
          "2022-05-01T16:52:38.700000",
          "2022-05-01T16:52:38.800000",
          "2022-05-01T16:52:38.900000",
          "2022-05-01T16:52:39",
          "2022-05-01T16:52:39.100000",
          "2022-05-01T16:52:39.200000",
          "2022-05-01T16:52:39.300000",
          "2022-05-01T16:52:39.400000",
          "2022-05-01T16:52:39.500000",
          "2022-05-01T16:52:39.600000",
          "2022-05-01T16:52:39.700000",
          "2022-05-01T16:52:39.800000",
          "2022-05-01T16:52:39.900000",
          "2022-05-01T16:52:40",
          "2022-05-01T16:52:40.100000",
          "2022-05-01T16:52:40.200000",
          "2022-05-01T16:52:40.300000",
          "2022-05-01T16:52:40.400000",
          "2022-05-01T16:52:40.500000",
          "2022-05-01T16:52:40.600000",
          "2022-05-01T16:52:40.700000",
          "2022-05-01T16:52:40.800000",
          "2022-05-01T16:52:40.900000",
          "2022-05-01T16:52:41",
          "2022-05-01T16:52:41.100000",
          "2022-05-01T16:52:41.200000",
          "2022-05-01T16:52:41.300000",
          "2022-05-01T16:52:41.400000",
          "2022-05-01T16:52:41.500000",
          "2022-05-01T16:52:41.600000",
          "2022-05-01T16:52:41.700000",
          "2022-05-01T16:52:41.800000",
          "2022-05-01T16:52:41.900000",
          "2022-05-01T16:52:42",
          "2022-05-01T16:52:42.100000",
          "2022-05-01T16:52:42.200000",
          "2022-05-01T16:52:42.300000",
          "2022-05-01T16:52:42.400000",
          "2022-05-01T16:52:42.500000",
          "2022-05-01T16:52:42.600000",
          "2022-05-01T16:52:42.700000",
          "2022-05-01T16:52:42.800000",
          "2022-05-01T16:52:42.900000",
          "2022-05-01T16:52:43",
          "2022-05-01T16:52:43.100000",
          "2022-05-01T16:52:43.200000",
          "2022-05-01T16:52:43.300000",
          "2022-05-01T16:52:43.400000",
          "2022-05-01T16:52:43.500000",
          "2022-05-01T16:52:43.600000",
          "2022-05-01T16:52:43.700000",
          "2022-05-01T16:52:43.800000",
          "2022-05-01T16:52:43.900000",
          "2022-05-01T16:52:44",
          "2022-05-01T16:52:44.100000",
          "2022-05-01T16:52:44.200000",
          "2022-05-01T16:52:44.300000",
          "2022-05-01T16:52:44.400000",
          "2022-05-01T16:52:44.500000",
          "2022-05-01T16:52:44.600000",
          "2022-05-01T16:52:44.700000",
          "2022-05-01T16:52:44.800000",
          "2022-05-01T16:52:44.900000",
          "2022-05-01T16:52:45",
          "2022-05-01T16:52:45.100000",
          "2022-05-01T16:52:45.200000",
          "2022-05-01T16:52:45.300000",
          "2022-05-01T16:52:45.400000",
          "2022-05-01T16:52:45.500000",
          "2022-05-01T16:52:45.600000",
          "2022-05-01T16:52:45.700000",
          "2022-05-01T16:52:45.800000",
          "2022-05-01T16:52:45.900000",
          "2022-05-01T16:52:46",
          "2022-05-01T16:52:46.100000",
          "2022-05-01T16:52:46.200000",
          "2022-05-01T16:52:46.300000",
          "2022-05-01T16:52:46.400000",
          "2022-05-01T16:52:46.500000",
          "2022-05-01T16:52:46.600000",
          "2022-05-01T16:52:46.700000",
          "2022-05-01T16:52:46.800000",
          "2022-05-01T16:52:46.900000",
          "2022-05-01T16:52:47",
          "2022-05-01T16:52:47.100000",
          "2022-05-01T16:52:47.200000",
          "2022-05-01T16:52:47.300000",
          "2022-05-01T16:52:47.400000",
          "2022-05-01T16:52:47.500000",
          "2022-05-01T16:52:47.600000",
          "2022-05-01T16:52:47.700000",
          "2022-05-01T16:52:47.800000",
          "2022-05-01T16:52:47.900000",
          "2022-05-01T16:52:48",
          "2022-05-01T16:52:48.100000",
          "2022-05-01T16:52:48.200000",
          "2022-05-01T16:52:48.300000",
          "2022-05-01T16:52:48.400000",
          "2022-05-01T16:52:48.500000",
          "2022-05-01T16:52:48.600000",
          "2022-05-01T16:52:48.700000",
          "2022-05-01T16:52:48.800000",
          "2022-05-01T16:52:48.900000",
          "2022-05-01T16:52:49",
          "2022-05-01T16:52:49.100000",
          "2022-05-01T16:52:49.200000",
          "2022-05-01T16:52:49.300000",
          "2022-05-01T16:52:49.400000",
          "2022-05-01T16:52:49.500000",
          "2022-05-01T16:52:49.600000",
          "2022-05-01T16:52:49.700000",
          "2022-05-01T16:52:49.800000",
          "2022-05-01T16:52:49.900000",
          "2022-05-01T16:52:50",
          "2022-05-01T16:52:50.100000",
          "2022-05-01T16:52:50.200000",
          "2022-05-01T16:52:50.300000",
          "2022-05-01T16:52:50.400000",
          "2022-05-01T16:52:50.500000",
          "2022-05-01T16:52:50.600000",
          "2022-05-01T16:52:50.700000",
          "2022-05-01T16:52:50.800000",
          "2022-05-01T16:52:50.900000",
          "2022-05-01T16:52:51",
          "2022-05-01T16:52:51.100000",
          "2022-05-01T16:52:51.200000",
          "2022-05-01T16:52:51.300000",
          "2022-05-01T16:52:51.400000",
          "2022-05-01T16:52:51.500000",
          "2022-05-01T16:52:51.600000",
          "2022-05-01T16:52:51.700000",
          "2022-05-01T16:52:51.800000",
          "2022-05-01T16:52:51.900000",
          "2022-05-01T16:52:52",
          "2022-05-01T16:52:52.100000",
          "2022-05-01T16:52:52.200000",
          "2022-05-01T16:52:52.300000",
          "2022-05-01T16:52:52.400000",
          "2022-05-01T16:52:52.500000",
          "2022-05-01T16:52:52.600000",
          "2022-05-01T16:52:52.700000",
          "2022-05-01T16:52:52.800000",
          "2022-05-01T16:52:52.900000",
          "2022-05-01T16:52:53",
          "2022-05-01T16:52:53.100000",
          "2022-05-01T16:52:53.200000",
          "2022-05-01T16:52:53.300000",
          "2022-05-01T16:52:53.400000",
          "2022-05-01T16:52:53.500000",
          "2022-05-01T16:52:53.600000",
          "2022-05-01T16:52:53.700000",
          "2022-05-01T16:52:53.800000",
          "2022-05-01T16:52:53.900000",
          "2022-05-01T16:52:54",
          "2022-05-01T16:52:54.100000",
          "2022-05-01T16:52:54.200000",
          "2022-05-01T16:52:54.300000",
          "2022-05-01T16:52:54.400000",
          "2022-05-01T16:52:54.500000",
          "2022-05-01T16:52:54.600000",
          "2022-05-01T16:52:54.700000",
          "2022-05-01T16:52:54.800000",
          "2022-05-01T16:52:54.900000",
          "2022-05-01T16:52:55",
          "2022-05-01T16:52:55.100000",
          "2022-05-01T16:52:55.200000",
          "2022-05-01T16:52:55.300000",
          "2022-05-01T16:52:55.400000",
          "2022-05-01T16:52:55.500000",
          "2022-05-01T16:52:55.600000",
          "2022-05-01T16:52:55.700000",
          "2022-05-01T16:52:55.800000",
          "2022-05-01T16:52:55.900000",
          "2022-05-01T16:52:56",
          "2022-05-01T16:52:56.100000",
          "2022-05-01T16:52:56.200000",
          "2022-05-01T16:52:56.300000",
          "2022-05-01T16:52:56.400000",
          "2022-05-01T16:52:56.500000",
          "2022-05-01T16:52:56.600000",
          "2022-05-01T16:52:56.700000",
          "2022-05-01T16:52:56.800000",
          "2022-05-01T16:52:56.900000",
          "2022-05-01T16:52:57",
          "2022-05-01T16:52:57.100000",
          "2022-05-01T16:52:57.200000",
          "2022-05-01T16:52:57.300000",
          "2022-05-01T16:52:57.400000",
          "2022-05-01T16:52:57.500000",
          "2022-05-01T16:52:57.600000",
          "2022-05-01T16:52:57.700000",
          "2022-05-01T16:52:57.800000",
          "2022-05-01T16:52:57.900000",
          "2022-05-01T16:52:58",
          "2022-05-01T16:52:58.100000",
          "2022-05-01T16:52:58.200000",
          "2022-05-01T16:52:58.300000",
          "2022-05-01T16:52:58.400000",
          "2022-05-01T16:52:58.500000",
          "2022-05-01T16:52:58.600000",
          "2022-05-01T16:52:58.700000",
          "2022-05-01T16:52:58.800000",
          "2022-05-01T16:52:58.900000",
          "2022-05-01T16:52:59",
          "2022-05-01T16:52:59.100000",
          "2022-05-01T16:52:59.200000",
          "2022-05-01T16:52:59.300000",
          "2022-05-01T16:52:59.400000",
          "2022-05-01T16:52:59.500000",
          "2022-05-01T16:52:59.600000",
          "2022-05-01T16:52:59.700000",
          "2022-05-01T16:52:59.800000",
          "2022-05-01T16:52:59.900000",
          "2022-05-01T16:53:00",
          "2022-05-01T16:53:00.100000",
          "2022-05-01T16:53:00.200000",
          "2022-05-01T16:53:00.300000",
          "2022-05-01T16:53:00.400000",
          "2022-05-01T16:53:00.500000",
          "2022-05-01T16:53:00.600000",
          "2022-05-01T16:53:00.700000",
          "2022-05-01T16:53:00.800000",
          "2022-05-01T16:53:00.900000",
          "2022-05-01T16:53:01",
          "2022-05-01T16:53:01.100000",
          "2022-05-01T16:53:01.200000",
          "2022-05-01T16:53:01.300000",
          "2022-05-01T16:53:01.400000",
          "2022-05-01T16:53:01.500000",
          "2022-05-01T16:53:01.600000",
          "2022-05-01T16:53:01.700000",
          "2022-05-01T16:53:01.800000",
          "2022-05-01T16:53:01.900000",
          "2022-05-01T16:53:02",
          "2022-05-01T16:53:02.100000",
          "2022-05-01T16:53:02.200000",
          "2022-05-01T16:53:02.300000",
          "2022-05-01T16:53:02.400000",
          "2022-05-01T16:53:02.500000",
          "2022-05-01T16:53:02.600000",
          "2022-05-01T16:53:02.700000",
          "2022-05-01T16:53:02.800000",
          "2022-05-01T16:53:02.900000",
          "2022-05-01T16:53:03",
          "2022-05-01T16:53:03.100000",
          "2022-05-01T16:53:03.200000",
          "2022-05-01T16:53:03.300000",
          "2022-05-01T16:53:03.400000",
          "2022-05-01T16:53:03.500000",
          "2022-05-01T16:53:03.600000",
          "2022-05-01T16:53:03.700000",
          "2022-05-01T16:53:03.800000",
          "2022-05-01T16:53:03.900000",
          "2022-05-01T16:53:04",
          "2022-05-01T16:53:04.100000",
          "2022-05-01T16:53:04.200000",
          "2022-05-01T16:53:04.300000",
          "2022-05-01T16:53:04.400000",
          "2022-05-01T16:53:04.500000",
          "2022-05-01T16:53:04.600000",
          "2022-05-01T16:53:04.700000",
          "2022-05-01T16:53:04.800000",
          "2022-05-01T16:53:04.900000",
          "2022-05-01T16:53:05",
          "2022-05-01T16:53:05.100000",
          "2022-05-01T16:53:05.200000",
          "2022-05-01T16:53:05.300000",
          "2022-05-01T16:53:05.400000",
          "2022-05-01T16:53:05.500000",
          "2022-05-01T16:53:05.600000",
          "2022-05-01T16:53:05.700000",
          "2022-05-01T16:53:05.800000",
          "2022-05-01T16:53:05.900000",
          "2022-05-01T16:53:06",
          "2022-05-01T16:53:06.100000",
          "2022-05-01T16:53:06.200000",
          "2022-05-01T16:53:06.300000",
          "2022-05-01T16:53:06.400000",
          "2022-05-01T16:53:06.500000",
          "2022-05-01T16:53:06.600000",
          "2022-05-01T16:53:06.700000",
          "2022-05-01T16:53:06.800000",
          "2022-05-01T16:53:06.900000",
          "2022-05-01T16:53:07",
          "2022-05-01T16:53:07.100000",
          "2022-05-01T16:53:07.200000",
          "2022-05-01T16:53:07.300000",
          "2022-05-01T16:53:07.400000",
          "2022-05-01T16:53:07.500000",
          "2022-05-01T16:53:07.600000",
          "2022-05-01T16:53:07.700000",
          "2022-05-01T16:53:07.800000",
          "2022-05-01T16:53:07.900000",
          "2022-05-01T16:53:08",
          "2022-05-01T16:53:08.100000",
          "2022-05-01T16:53:08.200000",
          "2022-05-01T16:53:08.300000",
          "2022-05-01T16:53:08.400000",
          "2022-05-01T16:53:08.500000",
          "2022-05-01T16:53:08.600000",
          "2022-05-01T16:53:08.700000",
          "2022-05-01T16:53:08.800000",
          "2022-05-01T16:53:08.900000",
          "2022-05-01T16:53:09",
          "2022-05-01T16:53:09.100000",
          "2022-05-01T16:53:09.200000",
          "2022-05-01T16:53:09.300000",
          "2022-05-01T16:53:09.400000",
          "2022-05-01T16:53:09.500000",
          "2022-05-01T16:53:09.600000",
          "2022-05-01T16:53:09.700000",
          "2022-05-01T16:53:09.800000",
          "2022-05-01T16:53:09.900000",
          "2022-05-01T16:53:10",
          "2022-05-01T16:53:10.100000",
          "2022-05-01T16:53:10.200000",
          "2022-05-01T16:53:10.300000",
          "2022-05-01T16:53:10.400000",
          "2022-05-01T16:53:10.500000",
          "2022-05-01T16:53:10.600000",
          "2022-05-01T16:53:10.700000",
          "2022-05-01T16:53:10.800000",
          "2022-05-01T16:53:10.900000",
          "2022-05-01T16:53:11",
          "2022-05-01T16:53:11.100000",
          "2022-05-01T16:53:11.200000",
          "2022-05-01T16:53:11.300000",
          "2022-05-01T16:53:11.400000",
          "2022-05-01T16:53:11.500000",
          "2022-05-01T16:53:11.600000",
          "2022-05-01T16:53:11.700000",
          "2022-05-01T16:53:11.800000",
          "2022-05-01T16:53:11.900000",
          "2022-05-01T16:53:12",
          "2022-05-01T16:53:12.100000",
          "2022-05-01T16:53:12.200000",
          "2022-05-01T16:53:12.300000",
          "2022-05-01T16:53:12.400000",
          "2022-05-01T16:53:12.500000",
          "2022-05-01T16:53:12.600000",
          "2022-05-01T16:53:12.700000",
          "2022-05-01T16:53:12.800000",
          "2022-05-01T16:53:12.900000",
          "2022-05-01T16:53:13",
          "2022-05-01T16:53:13.100000",
          "2022-05-01T16:53:13.200000",
          "2022-05-01T16:53:13.300000",
          "2022-05-01T16:53:13.400000",
          "2022-05-01T16:53:13.500000",
          "2022-05-01T16:53:13.600000",
          "2022-05-01T16:53:13.700000",
          "2022-05-01T16:53:13.800000",
          "2022-05-01T16:53:13.900000",
          "2022-05-01T16:53:14",
          "2022-05-01T16:53:14.100000",
          "2022-05-01T16:53:14.200000",
          "2022-05-01T16:53:14.300000",
          "2022-05-01T16:53:14.400000",
          "2022-05-01T16:53:14.500000",
          "2022-05-01T16:53:14.600000",
          "2022-05-01T16:53:14.700000",
          "2022-05-01T16:53:14.800000",
          "2022-05-01T16:53:14.900000",
          "2022-05-01T16:53:15",
          "2022-05-01T16:53:15.100000",
          "2022-05-01T16:53:15.200000",
          "2022-05-01T16:53:15.300000",
          "2022-05-01T16:53:15.400000",
          "2022-05-01T16:53:15.500000",
          "2022-05-01T16:53:15.600000",
          "2022-05-01T16:53:15.700000",
          "2022-05-01T16:53:15.800000",
          "2022-05-01T16:53:15.900000",
          "2022-05-01T16:53:16",
          "2022-05-01T16:53:16.100000",
          "2022-05-01T16:53:16.200000",
          "2022-05-01T16:53:16.300000",
          "2022-05-01T16:53:16.400000",
          "2022-05-01T16:53:16.500000",
          "2022-05-01T16:53:16.600000",
          "2022-05-01T16:53:16.700000",
          "2022-05-01T16:53:16.800000",
          "2022-05-01T16:53:16.900000",
          "2022-05-01T16:53:17",
          "2022-05-01T16:53:17.100000",
          "2022-05-01T16:53:17.200000",
          "2022-05-01T16:53:17.300000",
          "2022-05-01T16:53:17.400000",
          "2022-05-01T16:53:17.500000",
          "2022-05-01T16:53:17.600000",
          "2022-05-01T16:53:17.700000",
          "2022-05-01T16:53:17.800000",
          "2022-05-01T16:53:17.900000",
          "2022-05-01T16:53:18",
          "2022-05-01T16:53:18.100000",
          "2022-05-01T16:53:18.200000",
          "2022-05-01T16:53:18.300000",
          "2022-05-01T16:53:18.400000",
          "2022-05-01T16:53:18.500000",
          "2022-05-01T16:53:18.600000",
          "2022-05-01T16:53:18.700000",
          "2022-05-01T16:53:18.800000",
          "2022-05-01T16:53:18.900000",
          "2022-05-01T16:53:19",
          "2022-05-01T16:53:19.100000",
          "2022-05-01T16:53:19.200000",
          "2022-05-01T16:53:19.300000",
          "2022-05-01T16:53:19.400000",
          "2022-05-01T16:53:19.500000",
          "2022-05-01T16:53:19.600000",
          "2022-05-01T16:53:19.700000",
          "2022-05-01T16:53:19.800000",
          "2022-05-01T16:53:19.900000",
          "2022-05-01T16:53:20",
          "2022-05-01T16:53:20.100000",
          "2022-05-01T16:53:20.200000",
          "2022-05-01T16:53:20.300000",
          "2022-05-01T16:53:20.400000",
          "2022-05-01T16:53:20.500000",
          "2022-05-01T16:53:20.600000",
          "2022-05-01T16:53:20.700000",
          "2022-05-01T16:53:20.800000",
          "2022-05-01T16:53:20.900000",
          "2022-05-01T16:53:21",
          "2022-05-01T16:53:21.100000",
          "2022-05-01T16:53:21.200000",
          "2022-05-01T16:53:21.300000",
          "2022-05-01T16:53:21.400000",
          "2022-05-01T16:53:21.500000",
          "2022-05-01T16:53:21.600000",
          "2022-05-01T16:53:21.700000",
          "2022-05-01T16:53:21.800000",
          "2022-05-01T16:53:21.900000",
          "2022-05-01T16:53:22",
          "2022-05-01T16:53:22.100000",
          "2022-05-01T16:53:22.200000",
          "2022-05-01T16:53:22.300000",
          "2022-05-01T16:53:22.400000",
          "2022-05-01T16:53:22.500000",
          "2022-05-01T16:53:22.600000",
          "2022-05-01T16:53:22.700000",
          "2022-05-01T16:53:22.800000",
          "2022-05-01T16:53:22.900000",
          "2022-05-01T16:53:23",
          "2022-05-01T16:53:23.100000",
          "2022-05-01T16:53:23.200000",
          "2022-05-01T16:53:23.300000",
          "2022-05-01T16:53:23.400000",
          "2022-05-01T16:53:23.500000",
          "2022-05-01T16:53:23.600000",
          "2022-05-01T16:53:23.700000",
          "2022-05-01T16:53:23.800000",
          "2022-05-01T16:53:23.900000",
          "2022-05-01T16:53:24",
          "2022-05-01T16:53:24.100000",
          "2022-05-01T16:53:24.200000",
          "2022-05-01T16:53:24.300000",
          "2022-05-01T16:53:24.400000",
          "2022-05-01T16:53:24.500000",
          "2022-05-01T16:53:24.600000",
          "2022-05-01T16:53:24.700000",
          "2022-05-01T16:53:24.800000",
          "2022-05-01T16:53:24.900000",
          "2022-05-01T16:53:25",
          "2022-05-01T16:53:25.100000",
          "2022-05-01T16:53:25.200000",
          "2022-05-01T16:53:25.300000",
          "2022-05-01T16:53:25.400000",
          "2022-05-01T16:53:25.500000",
          "2022-05-01T16:53:25.600000",
          "2022-05-01T16:53:25.700000",
          "2022-05-01T16:53:25.800000",
          "2022-05-01T16:53:25.900000",
          "2022-05-01T16:53:26",
          "2022-05-01T16:53:26.100000",
          "2022-05-01T16:53:26.200000",
          "2022-05-01T16:53:26.300000",
          "2022-05-01T16:53:26.400000",
          "2022-05-01T16:53:26.500000",
          "2022-05-01T16:53:26.600000",
          "2022-05-01T16:53:26.700000",
          "2022-05-01T16:53:26.800000",
          "2022-05-01T16:53:26.900000",
          "2022-05-01T16:53:27",
          "2022-05-01T16:53:27.100000",
          "2022-05-01T16:53:27.200000",
          "2022-05-01T16:53:27.300000",
          "2022-05-01T16:53:27.400000",
          "2022-05-01T16:53:27.500000",
          "2022-05-01T16:53:27.600000",
          "2022-05-01T16:53:27.700000",
          "2022-05-01T16:53:27.800000",
          "2022-05-01T16:53:27.900000",
          "2022-05-01T16:53:28",
          "2022-05-01T16:53:28.100000",
          "2022-05-01T16:53:28.200000",
          "2022-05-01T16:53:28.300000",
          "2022-05-01T16:53:28.400000",
          "2022-05-01T16:53:28.500000",
          "2022-05-01T16:53:28.600000",
          "2022-05-01T16:53:28.700000",
          "2022-05-01T16:53:28.800000",
          "2022-05-01T16:53:28.900000",
          "2022-05-01T16:53:29",
          "2022-05-01T16:53:29.100000",
          "2022-05-01T16:53:29.200000",
          "2022-05-01T16:53:29.300000",
          "2022-05-01T16:53:29.400000",
          "2022-05-01T16:53:29.500000",
          "2022-05-01T16:53:29.600000",
          "2022-05-01T16:53:29.700000",
          "2022-05-01T16:53:29.800000",
          "2022-05-01T16:53:29.900000",
          "2022-05-01T16:53:30",
          "2022-05-01T16:53:30.100000",
          "2022-05-01T16:53:30.200000",
          "2022-05-01T16:53:30.300000",
          "2022-05-01T16:53:30.400000",
          "2022-05-01T16:53:30.500000",
          "2022-05-01T16:53:30.600000",
          "2022-05-01T16:53:30.700000",
          "2022-05-01T16:53:30.800000",
          "2022-05-01T16:53:30.900000",
          "2022-05-01T16:53:31",
          "2022-05-01T16:53:31.100000",
          "2022-05-01T16:53:31.200000",
          "2022-05-01T16:53:31.300000",
          "2022-05-01T16:53:31.400000",
          "2022-05-01T16:53:31.500000",
          "2022-05-01T16:53:31.600000",
          "2022-05-01T16:53:31.700000",
          "2022-05-01T16:53:31.800000",
          "2022-05-01T16:53:31.900000",
          "2022-05-01T16:53:32",
          "2022-05-01T16:53:32.100000",
          "2022-05-01T16:53:32.200000",
          "2022-05-01T16:53:32.300000",
          "2022-05-01T16:53:32.400000",
          "2022-05-01T16:53:32.500000",
          "2022-05-01T16:53:32.600000",
          "2022-05-01T16:53:32.700000",
          "2022-05-01T16:53:32.800000",
          "2022-05-01T16:53:32.900000",
          "2022-05-01T16:53:33",
          "2022-05-01T16:53:33.100000",
          "2022-05-01T16:53:33.200000",
          "2022-05-01T16:53:33.300000",
          "2022-05-01T16:53:33.400000",
          "2022-05-01T16:53:33.500000",
          "2022-05-01T16:53:33.600000",
          "2022-05-01T16:53:33.700000",
          "2022-05-01T16:53:33.800000",
          "2022-05-01T16:53:33.900000",
          "2022-05-01T16:53:34",
          "2022-05-01T16:53:34.100000",
          "2022-05-01T16:53:34.200000",
          "2022-05-01T16:53:34.300000",
          "2022-05-01T16:53:34.400000",
          "2022-05-01T16:53:34.500000",
          "2022-05-01T16:53:34.600000",
          "2022-05-01T16:53:34.700000",
          "2022-05-01T16:53:34.800000",
          "2022-05-01T16:53:34.900000",
          "2022-05-01T16:53:35",
          "2022-05-01T16:53:35.100000",
          "2022-05-01T16:53:35.200000",
          "2022-05-01T16:53:35.300000",
          "2022-05-01T16:53:35.400000",
          "2022-05-01T16:53:35.500000",
          "2022-05-01T16:53:35.600000",
          "2022-05-01T16:53:35.700000",
          "2022-05-01T16:53:35.800000",
          "2022-05-01T16:53:35.900000",
          "2022-05-01T16:53:36",
          "2022-05-01T16:53:36.100000",
          "2022-05-01T16:53:36.200000",
          "2022-05-01T16:53:36.300000",
          "2022-05-01T16:53:36.400000",
          "2022-05-01T16:53:36.500000",
          "2022-05-01T16:53:36.600000",
          "2022-05-01T16:53:36.700000",
          "2022-05-01T16:53:36.800000",
          "2022-05-01T16:53:36.900000",
          "2022-05-01T16:53:37",
          "2022-05-01T16:53:37.100000",
          "2022-05-01T16:53:37.200000",
          "2022-05-01T16:53:37.300000",
          "2022-05-01T16:53:37.400000",
          "2022-05-01T16:53:37.500000",
          "2022-05-01T16:53:37.600000",
          "2022-05-01T16:53:37.700000",
          "2022-05-01T16:53:37.800000",
          "2022-05-01T16:53:37.900000",
          "2022-05-01T16:53:38",
          "2022-05-01T16:53:38.100000",
          "2022-05-01T16:53:38.200000",
          "2022-05-01T16:53:38.300000",
          "2022-05-01T16:53:38.400000",
          "2022-05-01T16:53:38.500000",
          "2022-05-01T16:53:38.600000",
          "2022-05-01T16:53:38.700000",
          "2022-05-01T16:53:38.800000",
          "2022-05-01T16:53:38.900000",
          "2022-05-01T16:53:39",
          "2022-05-01T16:53:39.100000",
          "2022-05-01T16:53:39.200000",
          "2022-05-01T16:53:39.300000",
          "2022-05-01T16:53:39.400000",
          "2022-05-01T16:53:39.500000",
          "2022-05-01T16:53:39.600000",
          "2022-05-01T16:53:39.700000",
          "2022-05-01T16:53:39.800000",
          "2022-05-01T16:53:39.900000",
          "2022-05-01T16:53:40",
          "2022-05-01T16:53:40.100000",
          "2022-05-01T16:53:40.200000",
          "2022-05-01T16:53:40.300000",
          "2022-05-01T16:53:40.400000",
          "2022-05-01T16:53:40.500000",
          "2022-05-01T16:53:40.600000",
          "2022-05-01T16:53:40.700000",
          "2022-05-01T16:53:40.800000",
          "2022-05-01T16:53:40.900000",
          "2022-05-01T16:53:41",
          "2022-05-01T16:53:41.100000",
          "2022-05-01T16:53:41.200000",
          "2022-05-01T16:53:41.300000",
          "2022-05-01T16:53:41.400000",
          "2022-05-01T16:53:41.500000",
          "2022-05-01T16:53:41.600000",
          "2022-05-01T16:53:41.700000",
          "2022-05-01T16:53:41.800000",
          "2022-05-01T16:53:41.900000",
          "2022-05-01T16:53:42",
          "2022-05-01T16:53:42.100000",
          "2022-05-01T16:53:42.200000",
          "2022-05-01T16:53:42.300000",
          "2022-05-01T16:53:42.400000",
          "2022-05-01T16:53:42.500000",
          "2022-05-01T16:53:42.600000",
          "2022-05-01T16:53:42.700000",
          "2022-05-01T16:53:42.800000",
          "2022-05-01T16:53:42.900000",
          "2022-05-01T16:53:43",
          "2022-05-01T16:53:43.100000",
          "2022-05-01T16:53:43.200000",
          "2022-05-01T16:53:43.300000",
          "2022-05-01T16:53:43.400000",
          "2022-05-01T16:53:43.500000",
          "2022-05-01T16:53:43.600000",
          "2022-05-01T16:53:43.700000",
          "2022-05-01T16:53:43.800000",
          "2022-05-01T16:53:43.900000",
          "2022-05-01T16:53:44",
          "2022-05-01T16:53:44.100000",
          "2022-05-01T16:53:44.200000",
          "2022-05-01T16:53:44.300000",
          "2022-05-01T16:53:44.400000",
          "2022-05-01T16:53:44.500000",
          "2022-05-01T16:53:44.600000",
          "2022-05-01T16:53:44.700000",
          "2022-05-01T16:53:44.800000",
          "2022-05-01T16:53:44.900000",
          "2022-05-01T16:53:45",
          "2022-05-01T16:53:45.100000",
          "2022-05-01T16:53:45.200000",
          "2022-05-01T16:53:45.300000",
          "2022-05-01T16:53:45.400000",
          "2022-05-01T16:53:45.500000",
          "2022-05-01T16:53:45.600000",
          "2022-05-01T16:53:45.700000",
          "2022-05-01T16:53:45.800000",
          "2022-05-01T16:53:45.900000",
          "2022-05-01T16:53:46",
          "2022-05-01T16:53:46.100000",
          "2022-05-01T16:53:46.200000",
          "2022-05-01T16:53:46.300000",
          "2022-05-01T16:53:46.400000",
          "2022-05-01T16:53:46.500000",
          "2022-05-01T16:53:46.600000",
          "2022-05-01T16:53:46.700000",
          "2022-05-01T16:53:46.800000",
          "2022-05-01T16:53:46.900000",
          "2022-05-01T16:53:47",
          "2022-05-01T16:53:47.100000",
          "2022-05-01T16:53:47.200000",
          "2022-05-01T16:53:47.300000",
          "2022-05-01T16:53:47.400000",
          "2022-05-01T16:53:47.500000",
          "2022-05-01T16:53:47.600000",
          "2022-05-01T16:53:47.700000",
          "2022-05-01T16:53:47.800000",
          "2022-05-01T16:53:47.900000",
          "2022-05-01T16:53:48",
          "2022-05-01T16:53:48.100000",
          "2022-05-01T16:53:48.200000",
          "2022-05-01T16:53:48.300000",
          "2022-05-01T16:53:48.400000",
          "2022-05-01T16:53:48.500000",
          "2022-05-01T16:53:48.600000",
          "2022-05-01T16:53:48.700000",
          "2022-05-01T16:53:48.800000",
          "2022-05-01T16:53:48.900000",
          "2022-05-01T16:53:49",
          "2022-05-01T16:53:49.100000",
          "2022-05-01T16:53:49.200000",
          "2022-05-01T16:53:49.300000",
          "2022-05-01T16:53:49.400000",
          "2022-05-01T16:53:49.500000",
          "2022-05-01T16:53:49.600000",
          "2022-05-01T16:53:49.700000",
          "2022-05-01T16:53:49.800000",
          "2022-05-01T16:53:49.900000",
          "2022-05-01T16:53:50"
         ],
         "xaxis": "x",
         "y": [
          131.18057123751822,
          131.18102933236435,
          0.0025723241839014244,
          0.0025677689845614413,
          0.0025656949760758134,
          0.0025611407775656993,
          0.0025590675378152935,
          0.0025545143469470214,
          0.0025524418802558013,
          0.0025478897039536716,
          0.0025458180146773987,
          0.0025410597211432888,
          0.002538989072397321,
          0.0025344392095540957,
          0.002532369347577146,
          0.002527820520745253,
          0.002525751450011879,
          0.0025212036663107523,
          0.002519135391403001,
          0.0025145886580126265,
          0.0025125211834452358,
          0.0025074572788745322,
          0.002505390645533668,
          0.0025008461202344666,
          0.00249878029772872,
          0.0024942368465755175,
          0.002492171839591503,
          0.002487629470035336,
          0.0024830877233036233,
          0.0024810240029291258,
          0.0024764833500922397,
          0.002474147454005919,
          0.0024696081653494194,
          0.0024675463890921766,
          0.0024630082094380507,
          0.0024609472707558403,
          0.002456410207965845,
          0.002454350111735836,
          0.0024498141737323773,
          0.0024477549249266707,
          0.0024432201196335707,
          0.002440821961762834,
          0.002436288370360387,
          0.0024342308990821216,
          0.0024296984569625846,
          0.002427641848376837,
          0.0024231105637185376,
          0.0024210548230031506,
          0.0024165247041172135,
          0.0024144698364567687,
          0.002409940891760914,
          0.0024078877628155655,
          0.002403360762312221,
          0.0024013083730313896,
          0.002396782565712638,
          0.002394731066608268,
          0.002390206461119344,
          0.0023881558576681,
          0.0023836324627888083,
          0.002381582760332657,
          0.0023770605848646782,
          0.0023747051497037854,
          0.0023701843400067823,
          0.0023681365787858646,
          0.0023636170073722024,
          0.002359098156143651,
          0.002357051840253753,
          0.0023525342421433343,
          0.002350488853605961,
          0.002345972517796703,
          0.0023439280622701013,
          0.002341384021470608,
          0.0023393399924641063,
          0.0023348255578376055,
          0.0023327824705791436,
          0.0023282693222211547,
          0.002326227182519531,
          0.0023217153300811068,
          0.002319674143823061,
          0.0023151635969829555,
          0.00231312337015297,
          0.0023083547459418034,
          0.002306315799328334,
          0.0023018082542715225,
          0.002299770280508066,
          0.002295264072726832,
          0.0022932270778747536,
          0.002288722217591565,
          0.00228668620785461,
          0.0022821827052423712,
          0.0022801476868830506,
          0.0022752354330170294,
          0.00227320140629515,
          0.0022687006816806184,
          0.0022666676600672188,
          0.002262168326276136,
          0.002260136316250123,
          0.0022556383839677117,
          0.00225360739201992,
          0.0022491108721178666,
          0.0022470809047767997,
          0.0022421227396598542,
          0.002237628406058235,
          0.0022355999922475532,
          0.00223110710041365,
          0.0022290797290344367,
          0.0022245882902386014,
          0.00222256196803443,
          0.002218071993674419,
          0.002216046727513463,
          0.002211558229121993,
          0.0022090130170327516,
          0.002204525660952402,
          0.0022025021590177446,
          0.0021980163033042694,
          0.002195993879047868,
          0.0021915095356590444,
          0.0021894881961952556,
          0.0021850053771475123,
          0.0021829851296907427,
          0.0021785038472310362,
          0.0021761904517392534,
          0.0021717107275262926,
          0.002169692691480908,
          0.002165214529292217,
          0.0021631976078595534,
          0.0021587210203617797,
          0.002156705220992202,
          0.0021522302208615215,
          0.0021502155511944686,
          0.0021457421513582904,
          0.0021442669705424387,
          0.002139796195701197,
          0.002137784868332044,
          0.0021333157181068186,
          0.002131305542400435,
          0.002126838030096831,
          0.0021248290139692025,
          0.002120363153038261,
          0.0021158982730250827,
          0.0021138911085217286,
          0.0021117568507266677,
          0.002109750933610832,
          0.0021052894170369156,
          0.002103284687845578,
          0.0020988248710008717,
          0.00209682133800341,
          0.0020923632350515237,
          0.0020903609065543896,
          0.002085904531839882,
          0.0020839034162584012,
          0.0020791634256172938,
          0.002077163681712889,
          0.002072711055866211,
          0.0020707125440158508,
          0.002066261693538961,
          0.0020642644224284344,
          0.0020598153624419393,
          0.002057819340927897,
          0.0020533720866498665,
          0.002051377323593529,
          0.002046643927142668,
          0.00204465028514924,
          0.0020402064575688857,
          0.0020382140910089105,
          0.002033772114048829,
          0.0020317810321788567,
          0.002027340921665858,
          0.0020253511337996336,
          0.0020209129059146538,
          0.0020189244213583914,
          0.002013957609044691,
          0.002011970580171134,
          0.0020075364673966664,
          0.0020055507644459966,
          0.0020011185893842472,
          0.0019966875777046055,
          0.0019947040018092953,
          0.001990274955659165,
          0.0019882927315594294,
          0.0019838656683194445,
          0.0019815219934729593,
          0.001977096867535338,
          0.0019751173085427558,
          0.001970694201598781,
          0.0019687160253691197,
          0.0019642949553796752,
          0.001962318172277585,
          0.001957899157400979,
          0.0019559237778677607,
          0.001951506836498271,
          0.0019489383282924027,
          0.0019445230936481895,
          0.0019425501970084602,
          0.0019381370730409571,
          0.0019361656118783265,
          0.0019317546177075797,
          0.0019297846029214033,
          0.0019253757578687693,
          0.0019234072005848884,
          0.0019190005242312065,
          0.0019165618203666193,
          0.0019121572714018678,
          0.0019101915368035915,
          0.0019057891988691878,
          0.0019038249572245105,
          0.001899424850635276,
          0.0018974621135690326,
          0.0018930642589587755,
          0.0018911030381982632,
          0.001886707456466156,
          0.0018867677870543376,
          0.0018823740084308854,
          0.001877981619612006,
          0.0018760240368694164,
          0.0018716339730196797,
          0.0018696779481314357,
          0.001865290230992863,
          0.0018633357762932272,
          0.0018589504280259385,
          0.001856997555975157,
          0.0018519773369605405,
          0.0018500258523035955,
          0.001845645188067637,
          0.0018436953140698027,
          0.0018393170905340454,
          0.0018373688401659984,
          0.00183299308065846,
          0.0018310464670422387,
          0.0018266731951404047,
          0.001824728231591092,
          0.0018199947348329277,
          0.0018180514842319171,
          0.0018136833799720564,
          0.001811741807823058,
          0.0018073762660481456,
          0.001805436386126151,
          0.0018010734318303309,
          0.001799135258069379,
          0.0017947749164184108,
          0.001792838462945197,
          0.0017884610633659992,
          0.0017865266863576102,
          0.0017821719461679473,
          0.0017802393170284587,
          0.0017758872652964266,
          0.0017739563985542963,
          0.0017696070619542014,
          0.0017676779724534154,
          0.0017633313777976145,
          0.0017589864661096699,
          0.0017567743891122615,
          0.0017524324832196886,
          0.0017505082458008133,
          0.0017461691575324332,
          0.0017442467546395452,
          0.0017399105122729375,
          0.0017379899596514732,
          0.0017336565919184985,
          0.0017317379054519531,
          0.001727407441396493,
          0.0017249667048584755,
          0.0017206390765713772,
          0.0017187239912540492,
          0.0017143993293292892,
          0.0017124861611031476,
          0.0017081644958158956,
          0.0017062532613978908,
          0.001701934623557371,
          0.001700025339916181,
          0.0016957097606544892,
          0.0016937686140465335,
          0.001689456796306573,
          0.001687552016389144,
          0.0016832433248566395,
          0.00168134055039913,
          0.0016770350176964887,
          0.001675134266508468,
          0.0016708319255786558,
          0.0016689332157402974,
          0.001664634100027476,
          0.0016623743006840986,
          0.001658078470062625,
          0.0016561838888215993,
          0.001651891353715694,
          0.0016499988708453316,
          0.0016457096661831037,
          0.0016414225286277223,
          0.0016395334618532153,
          0.0016352497132633582,
          0.0016333627959111254,
          0.0016310705269486103,
          0.0016291853425067545,
          0.001624907804269399,
          0.0016230248049923877,
          0.0016187507584108456,
          0.0016168699645864803,
          0.0016125994472647627,
          0.001610720879313696,
          0.0016064539294919505,
          0.0016045776081559248,
          0.0016001658843026552,
          0.0015982921418683461,
          0.0015940328935657238,
          0.0015921614426735167,
          0.001587905884277606,
          0.001586036746482895,
          0.0015817849184605185,
          0.0015799181156404764,
          0.0015756700591138253,
          0.0015738056134775252,
          0.001569198617312331,
          0.0015673371138683753,
          0.0015630976339741764,
          0.0015612385390418686,
          0.001557002967984888,
          0.0015551463047247598,
          0.001550914686174908,
          0.0015490604781252808,
          0.0015448328564081008,
          0.0015429811272350982,
          0.0015382048813628029,
          0.0015363554754110663,
          0.0015321358735506862,
          0.001527918838967479,
          0.001526073532797873,
          0.0015218606661869063,
          0.001520017930912281,
          0.0015158092798073376,
          0.0015139691407819202,
          0.0015097647533513917,
          0.001507202797063412,
          0.0015030023044824727,
          0.001501167032640313,
          0.0014969709034510811,
          0.0014951383067125532,
          0.0014909465912769726,
          0.0014891166965045912,
          0.001484929446085596,
          0.0014831022804485414,
          0.0014789195470042596,
          0.0014765543021715856,
          0.0014723758275751514,
          0.001470553933160769,
          0.0014663800827494939,
          0.0014645610019801605,
          0.0014603918300986282,
          0.0014585755918160082,
          0.0014544111536979973,
          0.0014525977870861932,
          0.0014484381388458305,
          0.0014464030289445314,
          0.0014422481463253211,
          0.0014404405845350131,
          0.0014362906057582973,
          0.0014344860053760345,
          0.001430340989156695,
          0.0014285393810813595,
          0.001424399386949726,
          0.001422600802494812,
          0.0014184658909696963,
          0.001416210038244637,
          0.0014144157133551304,
          0.0014102881078037687,
          0.0014084968865428697,
          0.001404374517133535,
          0.001402586432467969,
          0.001398469363072738,
          0.001396684448354136,
          0.001392572743696082,
          0.0013907910328620357,
          0.001386571334332104,
          0.0013847931013842775,
          0.0013806925264975606,
          0.0013789175659412736,
          0.0013748225550401648,
          0.0013730509022381397,
          0.00136896152421943,
          0.0013671932150646088,
          0.0013631095399367736,
          0.001361344610818139,
          0.0013571702828096674,
          0.001355408970366079,
          0.0013513371842440805,
          0.0013495793273127653,
          0.0013455134627136942,
          0.0013437590994055126,
          0.001339699230861515,
          0.0013379483997500701,
          0.001333894602979737,
          0.001332147343247781,
          0.0013277685627744707,
          0.0013260245631646075,
          0.0013219824742734575,
          0.0013202421217391575,
          0.0013162063311171752,
          0.0013144696665590937,
          0.0013104402547625008,
          0.0013087073196660069,
          0.0013046843685486672,
          0.001300665562669071,
          0.0012989194703244263,
          0.0012949077390538412,
          0.0012931852527826497,
          0.0012891802078670092,
          0.001287461609324713,
          0.0012834633374609482,
          0.001281748671150416,
          0.0012777572605480309,
          0.0012760465716495713,
          0.0012720621118544448,
          0.001269962098294942,
          0.001265985231109068,
          0.0012642829049901443,
          0.0012603131821440814,
          0.0012586149785828507,
          0.0012546524942125968,
          0.0012529584612692923,
          0.0012490033109844286,
          0.0012473134973504843,
          0.0012433657783877184,
          0.0012410894756512561,
          0.0012371497438963168,
          0.0012354686780743584,
          0.0012315365887011448,
          0.0012298598995265616,
          0.0012259355547851512,
          0.001224263294023108,
          0.0012203467977844387,
          0.0012186790180850648,
          0.0012147704758658485,
          0.0012127202913008262,
          0.0012088199857999402,
          0.0012071614115293536,
          0.001203269282216905,
          0.0012016153552338658,
          0.0011977315130863066,
          0.001193853044486778,
          0.0011922068470006345,
          0.0011883368543412307,
          0.0011866954552625843,
          0.001184765908005026,
          0.0011831283725619551,
          0.0011792738533509108,
          0.0011776412196435621,
          0.001173795500344595,
          0.0011721678281965467,
          0.0011683310297692093,
          0.0011667083798127646,
          0.001162880625315643,
          0.001161263059181211,
          0.0011571270363636618,
          0.0011555148257029683,
          0.0011517060117249328,
          0.0011500990164909199,
          0.0011462996377507838,
          0.0011446979224513142,
          0.001140908110311178,
          0.0011393117404017768,
          0.0011355316284072626,
          0.001133940670416158,
          0.001129771041945991,
          0.0011281858512096352,
          0.0011244261917173416,
          0.0011228465556817168,
          0.0011190970228100595,
          0.0011175230111125643,
          0.0011137837474515112,
          0.0011122154308256425,
          0.001108486581315252,
          0.0011069240315298506,
          0.0011028078776593184,
          0.0011012516099946623,
          0.0010975448752779888,
          0.001093845165264755,
          0.0010922986715822113,
          0.0010886099427669083,
          0.0010870694966087127,
          0.0010833919053939588,
          0.0010818575838172364,
          0.0010781912892196236,
          0.001076520569822565,
          0.0010728665422820175,
          0.0010713452149738094,
          0.0010677028191326265,
          0.0010661878593723288,
          0.0010625572621938504,
          0.0010610487517515304,
          0.0010574301227930943,
          0.0010559281446928127,
          0.0010523216562563832,
          0.0010504586680941373,
          0.0010468655687711213,
          0.001045377473687614,
          0.0010417968871551436,
          0.001040315591314926,
          0.0010367476984844558,
          0.0010352732899793194,
          0.0010317182746261834,
          0.00103025084283118,
          0.001026708891560114,
          0.0010254445197112752,
          0.001021916001863454,
          0.0010204632088318152,
          0.0010169481267557833,
          0.0010155025805726118,
          0.0010120011295312393,
          0.001010562924643285,
          0.0010070753030320698,
          0.0010056445352568367,
          0.0010021709444879591,
          0.0010007160406414104,
          0.0009992960272620982,
          0.0009958424569388841,
          0.0009944301113178325,
          0.0009909910579073478,
          0.0009895864803372899,
          0.0009861621556335545,
          0.000984765447873582,
          0.000981356066806413,
          0.0009799673320096257,
          0.0009763925348140267,
          0.0009750124806659489,
          0.0009716346623816779,
          0.0009702627986973677,
          0.0009669006023761682,
          0.0009655370366171828,
          0.0009621906904151352,
          0.0009608355314218918,
          0.0009575052669059086,
          0.0009561586249641725,
          0.0009524205050578642,
          0.0009510826372998779,
          0.0009477857268674516,
          0.0009464566087376042,
          0.000943176510379608,
          0.0009418562567060314,
          0.000938593215792246,
          0.0009372819427325912,
          0.000934036208223129,
          0.0009327340334896012,
          0.0009294773787637798,
          0.0009281851037124732,
          0.0009249758307357141,
          0.0009236928978317172,
          0.0009205017075648408,
          0.0009192282388207441,
          0.0009160553942043442,
          0.0009128947919336467,
          0.0009116372804074569,
          0.0009084954735780075,
          0.0009070721207367978,
          0.0009039497620555635,
          0.0009027122380458587,
          0.0008996092285203724,
          0.0008983817622803766,
          0.0008952983813405038,
          0.0008940811032566195,
          0.0008910176338102759,
          0.0008898106756574944,
          0.0008867674041150555,
          0.000885239475818415,
          0.0008822185219259621,
          0.0008810335264289143,
          0.0008780333854370682,
          0.0008768591296557064,
          0.0008738800988530126,
          0.0008727167202004361,
          0.0008697591000950919,
          0.0008686067373630492,
          0.0008656708320047432,
          0.0008642334768979473,
          0.0008613217248900525,
          0.0008601928924622121,
          0.0008573035066633561,
          0.0008561861308264151,
          0.0008533194255626314,
          0.0008522136503564233,
          0.0008493699431153366,
          0.0008482759137354929,
          0.0008454555252376125,
          0.0008456665516582497,
          0.0008428611336487494,
          0.0008417866003789001,
          0.0008390050283313283,
          0.0008362394993205011,
          0.0008351852281911745,
          0.0008324441018710553,
          0.0008314022142305614,
          0.0008286858243567596,
          0.0008276564712644706,
          0.000825103530831329,
          0.0008240868610721944,
          0.0008214204974185832,
          0.000820416657299472,
          0.000817776029817194,
          0.0008167851729805966,
          0.0008141706259289655,
          0.000813192906784036,
          0.0008106047868805678,
          0.0008096403605360918,
          0.0008069511980949958,
          0.0008060017853778099,
          0.0008034706233244082,
          0.0008025348342303252,
          0.0008000311909020811,
          0.0007991091823961486,
          0.0007966334130542231,
          0.0007957253426259133,
          0.0007932778043197069,
          0.0007923838296628394,
          0.0007898176099726801,
          0.0007889392015548985,
          0.0007865518104031883,
          0.0007856878304505451,
          0.0007833297840467459,
          0.0007824803910779501,
          0.0007801520520743136,
          0.0007793174045409425,
          0.0007770191365250692,
          0.000776199392863287,
          0.000773817423466825,
          0.0007715710836418428,
          0.0007707770706862021,
          0.0007685617961013678,
          0.0007677831188399908,
          0.0007655992750456885,
          0.0007648360910168024,
          0.0007626840434467914,
          0.0007619365096213811,
          0.0007598166236264006,
          0.0007588620545880921,
          0.0007567756283642008,
          0.0007560603533058497,
          0.0007540068338031264,
          0.0007533076829643572,
          0.0007512874334039432,
          0.0007506045604875297,
          0.0007486179427550639,
          0.0007479515003768673,
          0.000745998875006258,
          0.0007451180662570835,
          0.0007432020397136791,
          0.0007425700314624575,
          0.0007406887430864181,
          0.0007400736295417871,
          0.0007382274337014171,
          0.0007376293616590157,
          0.0007358186099755665,
          0.000735237724444863,
          0.0007334627657670636,
          0.0007324343332977764,
          0.0007306956684351367,
          0.0007301495489600386,
          0.0007284473891088919,
          0.0007279188905443426,
          0.000726253574434363,
          0.0007257428335580528,
          0.0007241146956105773,
          0.0007225118983505458,
          0.0007220312170385899,
          0.0007213177894515712,
          0.0007208503055877397,
          0.000719312870961611,
          0.000718863592162337,
          0.0007173644388723578,
          0.0007169334898583316,
          0.0007154729304342145,
          0.0007150604329132195,
          0.00071363877392495,
          0.0007132448462847013,
          0.0007116276927900475,
          0.0007112543181318973,
          0.0007099153393890196,
          0.0007095607809412904,
          0.000708261626375785,
          0.0007079259917380583,
          0.0007066669407194544,
          0.0007063503335928464,
          0.0007051316580233835,
          0.0007048341782143976,
          0.0007032729755057977,
          0.0007029941045445424,
          0.0007018557924457208,
          0.0007015962384612365,
          0.0007004990780392186,
          0.0007002589284414663,
          0.0006992031590269739,
          0.0006989824967921245,
          0.0006979683487628478,
          0.000697767252211576,
          0.0006966415679725769,
          0.0006964606020824922,
          0.0006955314220685007,
          0.0006953701675964655,
          0.0006944832528195111,
          0.0006936252777935612,
          0.0006934973156471785,
          0.0006926819347787074,
          0.0006925738504837795,
          0.0006918012378537841,
          0.0006918108952758692,
          0.0006910858174351916,
          0.0006910199289503983,
          0.0006903379482489435,
          0.000690292078172293,
          0.000689653334663239,
          0.0006896275167750454,
          0.0006890321390076233,
          0.0006890264017678333,
          0.0006884745069268806,
          0.0006885826920100339,
          0.0006880777278733934,
          0.0006881138651188953,
          0.0006876525863169242,
          0.0006877088565953642,
          0.0006872913439135502,
          0.00068736775292142,
          0.0006869940751231494,
          0.0006870906228787812,
          0.0006867608365234358,
          0.0006867049023390245,
          0.0006864224856739916,
          0.0006865608655803406,
          0.0006863224379708669,
          0.0006864809320426168,
          0.0006862865123792298,
          0.0006864650976238513,
          0.0006863146922936583,
          0.0006865133400590662,
          0.0006864069432583961,
          0.0006869026474215937,
          0.0006868256108909295,
          0.0006867787979952874,
          0.0006870245907569388,
          0.0006870217127267466,
          0.0006872874255187866,
          0.0006873284352463331,
          0.0006876140151251681,
          0.0006876988532735902,
          0.0006880042419609723,
          0.0006881706234668649,
          0.0006884969667312769,
          0.0006886716744645306,
          0.00068901769156078,
          0.0006892359742017839,
          0.0006896015907287965,
          0.0006898633405296502,
          0.0006902484769365521,
          0.0006905535746883295,
          0.0006909581463424695,
          0.0006911504965896656,
          0.0006915750476632541,
          0.0006919678622699592,
          0.0006924116660844747,
          0.0006928474084765806,
          0.0006933103658020296,
          0.0006937888718137557,
          0.0006942708787458256,
          0.0006947919735698423,
          0.0006952929218342829,
          0.0006956998798309602,
          0.0006962210446732204,
          0.0006968298848399352,
          0.0006973697619075018,
          0.0006980206081325636,
          0.0006985790760159204,
          0.0006992717125514404,
          0.0006998486459569789,
          0.0007005828477419787,
          0.0007013457334690364,
          0.00070178084926675,
          0.0007025868999817333,
          0.0007032137621085869,
          0.0007040607418741609,
          0.0007047055801411301,
          0.0007055932310947232,
          0.0007062559031620857,
          0.0007071839594678857,
          0.0007078643199804554,
          0.0007088325081054224,
          0.0007094158760538865,
          0.0007104255335387456,
          0.0007111415392385067,
          0.0007121907574065279,
          0.0007129239957340027,
          0.0007140124795498265,
          0.0007147627939082633,
          0.0007158902418505162,
          0.0007166574732873635,
          0.0007178235778092725,
          0.0007185693316004597,
          0.0007197760482360576,
          0.0007205776841798235,
          0.0007218224177038432,
          0.0007226404770659139,
          0.000723922903104814,
          0.000724757218792525,
          0.0007260770081810761,
          0.0007269274115482117,
          0.000728284230627529,
          0.000729371982145028,
          0.0007307682028751774,
          0.0007316516035889507,
          0.0007330841512627072,
          0.0007339831143123966,
          0.0007354516434302372,
          0.0007369451278314069,
          0.000737870156996132,
          0.0007393990398300931,
          0.0007403391655941818,
          0.0007415397509186888,
          0.0007424894591807088,
          0.0007440753423320742,
          0.0007450398450215434,
          0.000746660159959637,
          0.0007476392804929095,
          0.0007492936682741325,
          0.0007502872297674923,
          0.0007519753296385718,
          0.0007529831549423771,
          0.0007547749335045453,
          0.0007557978772161119,
          0.0007575546020422753,
          0.0007585914464055208,
          0.0007603807759732229,
          0.0007614313437825732,
          0.0007632529128779768,
          0.0007643170271545303,
          0.0007661704701077262,
          0.0007672479540547058,
          0.0007691683631206886,
          0.0007702591177053065,
          0.0007721754191005902,
          0.0007732791868666953,
          0.0007752262573588798,
          0.0007763428630926634,
          0.000778320337604477,
          0.000779449606749545,
          0.0007814571207015531,
          0.0007825988794875814,
          0.0007845894239420565,
          0.0007857441327731528,
          0.0007878121536331118,
          0.0007899006266794987,
          0.0007910759629060253,
          0.000793193131709833,
          0.0007943803201851066,
          0.0007965258252173689,
          0.0007977246965374978,
          0.0007998981797620171,
          0.000801017808439847,
          0.0008032210377973045,
          0.0008044436131343181,
          0.0008066740965760104,
          0.0008079078469571667,
          0.0008101652320700044,
          0.000811409992841809,
          0.0008136939293703452,
          0.0008149495373402145,
          0.000817259677139726,
          0.0008187119928511524,
          0.0008210481545648778,
          0.0008223251617802868,
          0.0008246868273052793,
          0.0008259741950295149,
          0.0008283610240208048,
          0.0008296585949487724,
          0.0008320702496922201,
          0.0008333778680186018,
          0.0008358140135564594,
          0.0008374019321561237,
          0.0008398655974769459,
          0.0008411943660602423,
          0.0008436818309635972,
          0.0008450201763867983,
          0.0008475311148348251,
          0.0008488788879076216,
          0.000851412976764255,
          0.000852770029898318,
          0.0008553269493280715,
          0.0008569012728401833,
          0.0008582705565308861,
          0.0008608575489630264,
          0.0008622357702999385,
          0.0008648448495888166,
          0.0008662318667103172,
          0.0008688627238736271,
          0.0008702583967578034,
          0.0008729107260870254,
          0.0008743149162732705,
          0.0008771505395961372,
          0.0008785638531663406,
          0.0008812599076831092,
          0.0008826814586951318,
          0.0008853980702463885,
          0.0008868277255941086,
          0.0008895646021164628,
          0.0008910022304895563,
          0.0008937590832759242,
          0.00089520455506165,
          0.0008981305745459677,
          0.0008995843271257153,
          0.0009023815307113518,
          0.0009038428662140258,
          0.0009066591866249508,
          0.0009081279806881975,
          0.0009109631432147364,
          0.00091243927325441,
          0.0009152930065455166,
          0.0009167763516896379,
          0.000919793687981703,
          0.0009212839827735389,
          0.000924173603220373,
          0.0009256708742340534,
          0.00092857826916823,
          0.0009300824007194722,
          0.00093300731274469,
          0.0009359446619107458,
          0.0009374603659759928,
          0.0009404148045087756,
          0.0009421223803095273,
          0.0009450942051071612,
          0.0009466232247871778,
          0.0009496116371146685,
          0.0009511469927261277,
          0.0009541517511610246,
          0.0009556933363687831,
          0.0009587142029001218,
          0.000960261913094888,
          0.0009632986528893025,
          0.0009651734857005252,
          0.0009682270178796991,
          0.0009697872290198637,
          0.0009728561597890334,
          0.0009744221847845677,
          0.0009775062893194212,
          0.0009790780300429128,
          0.0009821770868134795,
          0.0009837544464977935,
          0.0009868682371420542,
          0.0009886081659889459,
          0.0009917368376592393,
          0.000993325342568705,
          0.000996468313496395,
          0.0009980621525321148,
          0.0010012192138185412,
          0.0010028182962544304,
          0.0010059892420911708,
          0.0010075934786328367,
          0.0010107781062398036,
          0.0010124620843520108,
          0.001015660594690705,
          0.001017275000054813,
          0.0010204867892760455,
          0.001023708107820745,
          0.0010253309605828646,
          0.0010285652307426801,
          0.0010301928341591071,
          0.0010334398669630612,
          0.0010350721395436288,
          0.001036916725927918,
          0.0010385517487697088,
          0.0010418188373005819,
          0.0010434583973516702,
          0.0010467377607944282,
          0.0010483817800905,
          0.0010516732397665846,
          0.0010533216416373978,
          0.0010566250216299455,
          0.0010582777306961087,
          0.0010621628325232545,
          0.0010638201351446629,
          0.0010671471288004842,
          0.0010688085876499357,
          0.0010721469815118255,
          0.0010738125249224236,
          0.0010771621536789977,
          0.0010788317111545245,
          0.001082192412134837,
          0.0010838659143608863,
          0.0010875023107736524,
          0.0010891800791271982,
          0.00109256315618778,
          0.0010942447308609517,
          0.0010976383993387094,
          0.001099323714459865,
          0.0011027278214767553,
          0.0011044168121270295,
          0.0011078312072514338,
          0.0011095238097402617,
          0.001113131479860238,
          0.0011165641984200048,
          0.001118263374290426,
          0.0011217059784840479,
          0.001123408596090007,
          0.0011268609439473878,
          0.0011285669433329028,
          0.0011320288950306672,
          0.0011337382173742376,
          0.0011372096352501029,
          0.0011389465812377166,
          0.0011424279494193926,
          0.0011441439231731812,
          0.0011476344815931955,
          0.00114935360401103,
          0.001152853221447594,
          0.0011545754375002298,
          0.0011580839847413506,
          0.001159809240214067,
          0.001163326590059823,
          0.0011650597906107444,
          0.0011685859474090423,
          0.0011703171324025468,
          0.001173851840074655,
          0.001175585905466522,
          0.0011791290425994232,
          0.0011808659377901525,
          0.0011844173849326063,
          0.0011861570599944258,
          0.0011897166996222488,
          0.0011921119658288178,
          0.0011956811244908893,
          0.0011974270342150122,
          0.00120100414371877,
          0.0012027526841769647,
          0.0012063376325043037,
          0.0012080887571110856,
          0.0012116814339302418,
          0.001215279799454741,
          0.0012170353935961808,
          0.0012190750816058317,
          0.0012208319563400225,
          0.0012244417897521794,
          0.0012262010989332944,
          0.0012298183062488222,
          0.0012315800065608481,
          0.0012352044846209703,
          0.0012369685334593459,
          0.0012406001807686727,
          0.00124236653616771,
          0.0012460578774586843,
          0.0012478267804321263,
          0.0012514732905471164,
          0.0012532444154805063,
          0.0012568977926739546,
          0.001258671099647009,
          0.0012623312486323964,
          0.0012641066983913177,
          0.0012677735252559638,
          0.0012695510793047265,
          0.0012734651859682325,
          0.0012752449484138388,
          0.0012789250402693113,
          0.0012807068300175071,
          0.0012843933232504282,
          0.0012861771035261953,
          0.0012898699099178907,
          0.00129165564458369,
          0.0012953546771743449,
          0.001297142330721261,
          0.0013007944988067811,
          0.0013025840106512237,
          0.001306295415333451,
          0.0013080867749272853,
          0.0013118041496890554,
          0.0013155259856544618,
          0.0013173205862706738,
          0.0013210482532925044,
          0.001322844611277798,
          0.0013265780296846219,
          0.0013286223725622345,
          0.0013323618992323262,
          0.001334161872006052,
          0.0013379069902812461,
          0.0013397086229586094,
          0.0013434592567052315,
          0.0013452625184231153,
          0.0013490185927216845,
          0.001350823453072416,
          0.0013545848940242251,
          0.001356672761714089,
          0.0013604403628340474,
          0.0013622486981738052,
          0.001366021515094359,
          0.0013678313581007835,
          0.0013716093203139745,
          0.0013734206425284707,
          0.0013772036806054917,
          0.001379016453924406,
          0.0013828044994207227,
          0.001384814831303402,
          0.0013886084792840779,
          0.0013904243220775308,
          0.001394222838218758,
          0.001396040048334009,
          0.0013998433672551419,
          0.001401661918409256,
          0.001405469975623539,
          0.0014072898419222922,
          0.001411102573994091,
          0.0014112013716593521,
          0.0014150165165311027,
          0.0014188351856793638,
          0.0014206579557097334,
          0.0014244811548793919,
          0.001426305156215514,
          0.0014301328249926514,
          0.0014319580333800514,
          0.0014357901121902993,
          0.0014376165037650504,
          0.0014418648105734037,
          0.0014436927054076296,
          0.0014475340104307952,
          0.0014493630399529027,
          0.001453208576972264,
          0.001455038718468067,
          0.0014588884314379084,
          0.001460719662431957,
          0.0014645734958489611,
          0.0014664057943043173,
          0.001470889348070775,
          0.0014727231407842974,
          0.00147658556523162,
          0.001478420380800647,
          0.0014822867611017033,
          0.0014841225783693613,
          0.0014879928623121473,
          0.0014898296606034949,
          0.0014937037966837221,
          0.001495541555492345,
          0.0014997225646011562,
          0.0015015615164873295,
          0.0015054436845186564,
          0.0015072835554482318,
          0.001511169421978832,
          0.001513010192385363,
          0.0015168997088108854,
          0.0015187413594293072,
          0.001522634477826159,
          0.001526530391048546,
          0.0015285241357034718,
          0.001532423868562611,
          0.001534268085682501,
          0.0015381712911496242,
          0.0015400163183861427,
          0.0015439229510520952,
          0.0015457687704511505,
          0.0015496787854309268,
          0.0015515253792654567,
          0.0015554387323639238,
          0.0015576613263516012,
          0.0015615779569580009,
          0.0015634261767401864,
          0.0015673460576801953,
          0.001569194999623436,
          0.0015731180885315812,
          0.0015749677359112502,
          0.001578893990998866,
          0.0015807443272862819,
          0.0015846737072852384,
          0.0015867585031346819,
          0.0015906915423032366,
          0.0015925434228189778,
          0.0015964795021621212,
          0.0015983320222646205,
          0.0016022711022361544,
          0.001604124246429476,
          0.0016080662880643092,
          0.001609920040996011,
          0.001613865005759914,
          0.0016158916678265065,
          0.0016198394078492987,
          0.0016216942836530543,
          0.001625644870682222,
          0.001627500310167431,
          0.0016314537072128254,
          0.0016354093376056368,
          0.0016372658666008917,
          0.0016412242446353373,
          0.001643081298576756,
          0.001645240604056786,
          0.001647097803319555,
          0.0016510602158099066,
          0.0016529179173871166,
          0.0016568829851192912,
          0.0016587411754043655,
          0.0016627088638656953,
          0.001664567529486208,
          0.0016685378047880414,
          0.0016703969324705548,
          0.001674468214551208,
          0.0016763278013996793,
          0.0016803032592972071,
          0.0016821632817353765,
          0.00168614122576834,
          0.0016880016710471963,
          0.0016919820689843637,
          0.0016938429245823444,
          0.0016978257445796725,
          73.07598617282258,
          8.630213905093498,
          8.630800615397357,
          8.631388016098883,
          8.631974984657313,
          8.632562643653596,
          8.6331498706377,
          8.633737787985048,
          8.63432527341864,
          8.634913449287597,
          8.635501193472988,
          8.636089681115058,
          8.636677684181723,
          8.637266377664107,
          8.637854639644852,
          8.638443592147015,
          8.639032674117491,
          8.639621324791213,
          8.640210665825036,
          8.640799575824909,
          8.641389176192938,
          8.641978360361495,
          8.642568220287865,
          8.643157649311476,
          8.643747768767575,
          8.644337457583891,
          8.64492783674141,
          8.645517785407938,
          8.646108424323566,
          8.646698632978728,
          8.647289531956579,
          8.647880117830383,
          8.648471277072762,
          8.649062006219385,
          8.649653425688248,
          8.65024441532419,
          8.650836095289424,
          8.651427345407082,
          8.652019285795477,
          8.652610796600106,
          8.653202997748526,
          8.653794913967145,
          8.654387376067147,
          8.654979408715961,
          8.655572131773965,
          8.656164425611571,
          8.656757409800035,
          8.657349964851294,
          8.657943210195299,
          8.65853602666617,
          8.659129533437913,
          8.659722156179612,
          8.660315924683506,
          8.660909823930233,
          8.66150329474147,
          8.662097455799604,
          8.662691188489186,
          8.663285611417232,
          8.663879606043254,
          8.664474290949274,
          8.665068547817434,
          8.665663590217882,
          8.666258109496903,
          8.666853318939962,
          8.66744810066017,
          8.668043572618904,
          8.668638616921866,
          8.669234351487205,
          8.669829658398566,
          8.670425655679336,
          8.671021225570666,
          8.671617364466682,
          8.672213197276065,
          8.672809720208528,
          8.673405816165102,
          8.674002602319526,
          8.674598961565314,
          8.675196011000661,
          8.675792633594044,
          8.676389946484933,
          8.676986832700859,
          8.677584470518827,
          8.678181620583858,
          8.67877946073178,
          8.67937687468536,
          8.679974978731684,
          8.68057265671553,
          8.681171024751954,
          8.681768966760455,
          8.682367598994349,
          8.682966363262505,
          8.683564471353094,
          8.68416349991601,
          8.684762102760613,
          8.685361395811476,
          8.685960263376879,
          8.686559821058191,
          8.687158953404717,
          8.687758775775908,
          8.688358173045346,
          8.68895826044764,
          8.689557772286008,
          8.690158124668189,
          8.690758052050818,
          8.691358669601756,
          8.691958862418476,
          8.692559745313629,
          8.693160203624908,
          8.693761351924321,
          8.694362075873531,
          8.694963489885929,
          8.695564919381095,
          8.696166599618403,
          8.696767855575622,
          8.69736980173043,
          8.697971323870535,
          8.698573536052919,
          8.699175324404129,
          8.699777802707485,
          8.700379857413687,
          8.700982602147356,
          8.701584882745642,
          8.70218789403134,
          8.702790481921035,
          8.703393759907193,
          8.703996614633358,
          8.704600159366253,
          8.705203837522754,
          8.705807092595245,
          8.70641103774693,
          8.707014560048732,
          8.707618419289625,
          8.708222209163024,
          8.708826688968905,
          8.709430746244527,
          8.710035493561499,
          8.710639818481713,
          8.711244833305935,
          8.711849425867053,
          8.712454708440724,
          8.713059568920784,
          8.713665213882324,
          8.714270342523612,
          8.714876161030876,
          8.715481557829884,
          8.71608764460435,
          8.716693309673671,
          8.71729966474452,
          8.717905598211766,
          8.718512221691158,
          8.719118423834452,
          8.719725341555616,
          8.72033181251015,
          8.720938973298141,
          8.72154571313599,
          8.722153142884407,
          8.722760151783973,
          8.723367850555091,
          8.723975128545892,
          8.724583096485315,
          8.725190643879824,
          8.725798905757499,
          8.726406722701059,
          8.727015229413764,
          8.727623870942091,
          8.72823209233842,
          8.728841003610398,
          8.72944949477177,
          8.730058675784864,
          8.730667436955606,
          8.731276887990111,
          8.731885816553437,
          8.73249553769749,
          8.733104839169004,
          8.733714830576236,
          8.734324402546605,
          8.734934664363438,
          8.735544506896106,
          8.736155039217941,
          8.736765152426482,
          8.737375955534544,
          8.737986181299764,
          8.73859725519625,
          8.739207910182527,
          8.739819255075227,
          8.740430181293524,
          8.741041797329343,
          8.74165299484347,
          8.742264882085905,
          8.74287635107583,
          8.74348850987144,
          8.744100320488524,
          8.744712750943435,
          8.745324763317189,
          8.745937465536807,
          8.74654974984594,
          8.7471627239448,
          8.747775280286172,
          8.748388526328174,
          8.749001354849865,
          8.749614873182306,
          8.750228052190165,
          8.75084128942228,
          8.751455216341652,
          8.75206872612293,
          8.75268292566986,
          8.753296708148556,
          8.753911180387103,
          8.754525235627337,
          8.755139980705852,
          8.755754309023073,
          8.756369405738708,
          8.756984007330285,
          8.757599298648485,
          8.758214173595283,
          8.758829738216749,
          8.759444886602298,
          8.760060724689803,
          8.760676146545844,
          8.761292258215015,
          8.761907953890454,
          8.762524445350266,
          8.76314041510368,
          8.763757074525959,
          8.76437331827969,
          8.764990251814144,
          8.765606769815449,
          8.76622397746204,
          8.766840769711067,
          8.767458251716553,
          8.768075318497283,
          8.768693236854354,
          8.76931057847578,
          8.769928609742292,
          8.77054622614285,
          8.771164532235101,
          8.77178242362937,
          8.77240100458043,
          8.773019723011165,
          8.7736380269937,
          8.774257020656938,
          8.774876018756478,
          8.775495288079759,
          8.776114143160683,
          8.776733687997607,
          8.777352818765458,
          8.777972639135106,
          8.778592045655698,
          8.779212141689735,
          8.779831824113176,
          8.780452196129847,
          8.78107230784302,
          8.78169295609684,
          8.782313190880476,
          8.782934115333626,
          8.783554626555281,
          8.784175827390898,
          8.784796615117392,
          8.785418092336393,
          8.786039156718065,
          8.78666091067237,
          8.78728239453826,
          8.78790442548919,
          8.788526043744142,
          8.789148351680945,
          8.78977024712765,
          8.7903928322011,
          8.791015004841487,
          8.791637867086141,
          8.79226031720231,
          8.79288345687167,
          8.793505930090749,
          8.794129347741267,
          8.794752353405924,
          8.795376048765956,
          8.795999882984665,
          8.79662330559983,
          8.797247417787863,
          8.797871118410688,
          8.798495508654637,
          8.799119487605186,
          8.799744295070818,
          8.800368552610129,
          8.800993499628065,
          8.801618035682596,
          8.802243261328908,
          8.802868076083188,
          8.803493580458168,
          8.804118673947341,
          8.804744457170843,
          8.805369829813896,
          8.80599621579958,
          8.806621867960041,
          8.807248209582275,
          8.807874141019317,
          8.808500762031922,
          8.809126972930818,
          8.809753873402085,
          8.810380363831388,
          8.811007543946516,
          8.811634314195059,
          8.8122619599893,
          8.812889010384925,
          8.813516750258714,
          8.81414408075992,
          8.814772100755892,
          8.815399711483678,
          8.816028011735984,
          8.816655902726735,
          8.817284483355666,
          8.81791265496415,
          8.818541375052488,
          8.819170376466715,
          8.819798969010042,
          8.820428251184646,
          8.82105712472964,
          8.821686687818534,
          8.822315842467026,
          8.822945686507033,
          8.823575122380152,
          8.824205247792195,
          8.824835233390033,
          8.825465640482786,
          8.826095639454243,
          8.826726328044483,
          8.82735660878774,
          8.82798757906207,
          8.828618141646556,
          8.829249393674901,
          8.82988023825492,
          8.830511772361405,
          8.83114292243071,
          8.83177473882896,
          8.8324061478574,
          8.833038246557981,
          8.833669938163204,
          8.834302319288488,
          8.834934293508196,
          8.835566957160122,
          8.836199214181612,
          8.83683216065252,
          8.837464777891444,
          8.83809800742241,
          8.838730830500472,
          8.839364343174319,
          8.839997449506058,
          8.840631245412391,
          8.841264635166706,
          8.84189871434345,
          8.842532935337362,
          8.84316675044814,
          8.843800830710956,
          8.84443492983829,
          8.845069718416138,
          8.845704101445637,
          8.84633917404056,
          8.846973841193181,
          8.847609197844081,
          8.848244149158166,
          8.848879790053974,
          8.849515025855135,
          8.850151099142712,
          8.850786619679829,
          8.851422829625854,
          8.8520586348782,
          8.852695129655,
          8.853331219746034,
          8.853967999392655,
          8.854604374491894,
          8.855241439099535,
          8.855878099468532,
          8.856515527135896,
          8.857152472946282,
          8.857790108158216,
          8.858427339499345,
          8.859065260260307,
          8.859702777256679,
          8.86034098373644,
          8.86097878639443,
          8.861617278684973,
          8.86225536742992,
          8.862894151164529,
          8.863532526135325,
          8.864171590501172,
          8.864810251755575,
          8.865449602489306,
          8.86608909643633,
          8.866728187359437,
          8.867367967740398,
          8.868007345373796,
          8.86864741248409,
          8.869286787936801,
          8.869927141713736,
          8.870567092923213,
          8.871207733692433,
          8.871847972171265,
          8.87248890005832,
          8.873129425846697,
          8.873770641022922,
          8.874411454213353,
          8.87505295694186,
          8.875694269537776,
          8.87633606007754,
          8.876977448844405,
          8.8776195271684,
          8.878261203963977,
          8.878903570229927,
          8.879545535127324,
          8.880188189409191,
          8.880830442599821,
          8.8814733852274,
          8.882115740116678,
          8.882758971116123,
          8.88340180110625,
          8.884045320650904,
          8.884688439463968,
          8.885332247745785,
          8.885975655455821,
          8.88661975254835,
          8.887263449347136,
          8.887907835548221,
          8.888551273761415,
          8.889195949356495,
          8.889840769480609,
          8.890485189677765,
          8.89113029934216,
          8.891775009153891,
          8.892420408432905,
          8.893065407933618,
          8.893711096987335,
          8.894356386507718,
          8.895002829406124,
          8.895648409419563,
          8.896294678881041,
          8.896940549182268,
          8.897587108951274,
          8.898233269667617,
          8.898880119851903,
          8.89952657105846,
          8.900173711818798,
          8.900820453846437,
          8.901467920407002,
          8.902114953435431,
          8.902762675880439,
          8.903410000031974,
          8.904058013522034,
          8.904705628891934,
          8.905353933666161,
          8.906001840264237,
          8.906650436418277,
          8.907298634642393,
          8.907947466061772,
          8.908595956008467,
          8.90924513534111,
          8.909893917150425,
          8.9105433884654,
          8.911192462331762,
          8.911842225606078,
          8.912491591572792,
          8.913141647033513,
          8.913791848661203,
          8.914441528291787,
          8.915092022325949,
          8.915742119389348,
          8.916392906047081,
          8.917043295915809,
          8.917694375326693,
          8.918345058142473,
          8.918996430350324,
          8.919647406242314,
          8.92029907161354,
          8.920950204245505,
          8.921602162798502,
          8.922253725219015,
          8.922905977141546,
          8.923557833244644,
          8.924210378764466,
          8.924862528561185,
          8.925515367689894,
          8.926167811375661,
          8.926820944480733,
          8.927473654037366,
          8.928127081228876,
          8.928780113062649,
          8.92943383447044,
          8.930087160768158,
          8.930741176555419,
          8.931394797427334,
          8.932049107670956,
          8.932703023247697,
          8.933357628250782,
          8.934011937428643,
          8.934666837451086,
          8.935321342990811,
          8.935976538079519,
          8.936631338900291,
          8.937286829153265,
          8.93794246707862,
          8.93859771092624,
          8.939253644229296,
          8.939909183767732,
          8.940564838459684,
          8.941220673811669,
          8.941877198516162,
          8.942533329801732,
          8.943190150527602,
          8.94384657791081,
          8.944503694735973,
          8.945160418294977,
          8.945817831417253,
          8.946474851488846,
          8.947132662238843,
          8.947789979026817,
          8.948447985210276,
          8.949105598721648,
          8.949763901749616,
          8.950421812182276,
          8.951080412133301,
          8.95173861956566,
          8.952397516604993,
          8.953056021374897,
          8.953715223217483,
          8.954374025566983,
          8.955033517225049,
          8.955692617156105,
          8.956352406550279,
          8.957011804163203,
          8.957671891307257,
          8.958331586746997,
          8.958991971806329,
          8.959651965411199,
          8.960312726454806,
          8.960973018392904,
          8.961633999848821,
          8.962295130524048,
          8.962955870152888,
          8.963617299324453,
          8.964278337613042,
          8.96494006536105,
          8.965601402475608,
          8.966263429171772,
          8.966925389475783,
          8.967587715512433,
          8.968249651036771,
          8.968912276202369,
          8.96957451113891,
          8.97023743563315,
          8.97089997006212,
          8.971563193965588,
          8.972226028086187,
          8.972889551705917,
          8.97355282900372,
          8.974216652653869,
          8.974880086642926,
          8.975544210322472,
          8.976207944526227,
          8.976872368369651,
          8.977536402966903,
          8.978201126989248,
          8.978865462081917,
          8.979530486722469,
          8.980195104858373,
          8.980860430225352,
          8.981525366751558,
          8.98219099298551,
          8.982856230564185,
          8.983522157800245,
          8.984187696578452,
          8.984853924864913,
          8.985519764977692,
          8.986186294689125,
          8.986852570001577,
          8.987518862662544,
          8.988185844874748,
          8.988852439258627,
          8.989519723316162,
          8.990186619689347,
          8.990854205641872,
          8.991521403987901,
          8.992189292037107,
          8.99285679273084,
          8.993525279156914,
          8.994193082537615,
          8.99486157545626,
          8.9955296814363,
          8.996198477044734,
          8.996866885793008,
          8.997535984206523,
          8.998204695805295,
          8.998874097127992,
          8.999543111920413,
          9.00021269157487,
          9.000882009634328,
          9.001552017187336,
          9.002221638692813,
          9.002891949815368,
          9.003561874903648,
          9.004232489678872,
          9.004902718432719,
          9.005573636997774,
          9.00624416985941,
          9.00691579969924,
          9.007586637010267,
          9.008258163902976,
          9.008929305509616,
          9.0096011367896,
          9.010272582862477,
          9.01094471861317,
          9.011617006588722,
          9.012288909659647,
          9.012961502416008,
          9.013633779209341,
          9.014306677013495,
          9.014979190103597,
          9.015652392975527,
          9.016325211386713,
          9.016998719497629,
          9.017671843313838,
          9.018345656747837,
          9.019019086139883,
          9.019693205275034,
          9.020366974135616,
          9.02104139907911,
          9.021715440138491,
          9.022390171005373,
          9.023064518242235,
          9.02373955520458,
          9.024414208768835,
          9.025089551845868,
          9.025764511843452,
          9.026440161545016,
          9.027115568727305,
          9.02779152521448,
          9.028467098616755,
          9.029143361854155,
          9.029819242293684,
          9.030495812485984,
          9.031172000047379,
          9.031848877279776,
          9.032525372135412,
          9.033202556755672,
          9.033879237500267,
          9.034556729580581,
          9.035233839376918,
          9.035911639102235,
          9.036589592661763,
          9.037267164341214,
          9.037945425805331,
          9.038623305468423,
          9.03930187500983,
          9.039980063004844,
          9.040658456515494,
          9.041336953064663,
          9.042016139361916,
          9.042694944535087,
          9.043374439483761,
          9.044053553388913,
          9.044733357108136,
          9.045412779863371,
          9.046092892527078,
          9.046772624481218,
          9.047453187228696,
          9.04813322869955,
          9.048813959851277,
          9.049494310781876,
          9.050175351552198,
          9.050856012083562,
          9.051537362461103,
          9.052218332712622,
          9.052899992904612,
          9.053581273225424,
          9.054263191556357,
          9.054944782019353,
          9.055627062260818,
          9.056308963054843,
          9.056991553754122,
          9.057673765021075,
          9.058356666232799,
          9.059039188158119,
          9.059722400024398,
          9.060405232860155,
          9.06108890493315,
          9.061772583329555,
          9.062455882859842,
          9.06313987241419,
          9.063823483292984,
          9.064507784148038,
          9.06519170652825,
          9.065876318738724,
          9.066560552763287,
          9.067245476713396,
          9.067930160739351,
          9.068615396683922,
          9.069300254604284,
          9.069985802551745,
          9.07067097273177,
          9.07135683285828,
          9.072042315418974,
          9.072728487813079,
          9.073414282897522,
          9.07410076791099,
          9.074787133276555,
          9.075473931223232,
          9.076160352022354,
          9.076847462820234,
          9.07753419679343,
          9.07822162065255,
          9.078908667822988,
          9.079596404864587,
          9.08028376544155,
          9.080971815952886,
          9.081659605883694,
          9.08234797012829,
          9.08303595810351,
          9.083724636116814,
          9.084412938118488,
          9.085101930077455,
          9.08579054619451,
          9.086479852188816,
          9.08716931544512,
          9.087858403015094,
          9.088547810918604,
          9.089237213282908,
          9.089927305610116,
          9.090617022744633,
          9.091307429872478,
          9.091997461921789,
          9.092688183973216,
          9.093378531027204,
          9.094069568180071,
          9.09476023062627,
          9.095451721718339,
          9.096142699771217,
          9.09683436773004,
          9.09752566137819,
          9.098217645094548,
          9.098909254516611,
          9.099601554048112,
          9.100293479367267,
          9.10098609489332,
          9.101678336497448,
          9.102371285612415,
          9.103063843647076,
          9.10375709169675,
          9.104449966221221,
          9.105143530889938,
          9.105836722115939,
          9.10653060349501,
          9.107224111513531,
          9.107918309782699,
          9.108612134949672,
          9.109306671367028,
          9.110000813804355,
          9.110695646366576,
          9.111390106256712,
          9.112085256303049,
          9.112780565045863,
          9.113475501415511,
          9.114171127768678,
          9.11486638200779,
          9.115562326361148,
          9.11625814260741,
          9.11695440532712,
          9.117650295901582,
          9.118346876860954,
          9.119043085967535,
          9.11973998531466,
          9.120436513012447,
          9.121133730872007,
          9.12183057734191,
          9.122528114071766,
          9.123225400762411,
          9.123923256606487,
          9.124620741227075,
          9.125318916247469,
          9.126016720304458,
          9.12671521458423,
          9.127413338137762,
          9.128112151868402,
          9.128810595099669,
          9.129509728573938,
          9.130208701467357,
          9.130908155101096,
          9.131607238369188,
          9.132307012086788,
          9.133006415633822,
          9.133706509584583,
          9.134406233569585,
          9.135106647814329,
          9.135806692386552,
          9.136507427317328,
          9.137207214057014,
          9.137908269858515,
          9.138609486009056,
          9.13931033291769,
          9.140011870243365,
          9.140713038344469,
          9.141414896906145,
          9.142116386359504,
          9.142818566307096,
          9.143520377440694,
          9.1442226930115,
          9.144924825874366,
          9.145627649074227,
          9.146330103894293,
          9.147033249150898,
          9.147736026111664,
          9.148439493552395,
          9.149142592747548,
          9.149846382522883,
          9.150549804346984,
          9.151254264414904,
          9.151958009250018,
          9.152662444443235,
          9.153366512120373,
          9.15407127028831,
          9.154775661024157,
          9.15548074229467,
          9.156185456151592,
          9.156890860676214,
          9.15759589808162,
          9.158301748737275,
          9.159007109897363,
          9.159713161504634,
          9.160418846460766,
          9.161125221963605,
          9.161831230900146,
          9.16253793039473,
          9.163244263407675,
          9.163951287078852,
          9.164658472920514,
          9.165365332595478,
          9.166072842962299,
          9.166779987313632,
          9.167487822286814,
          9.168195291540162,
          9.168903451370602,
          9.16961124558935,
          9.170319730340886,
          9.171027849743059,
          9.171736659812325,
          9.172445002033271,
          9.173154137423658,
          9.173862907601514,
          9.174572368525796,
          9.175281464566739,
          9.175991251211155,
          9.17670067317925,
          9.177410785706636,
          9.178120533754903,
          9.178830972529806,
          9.179541238352634,
          9.180252003674054,
          9.180962404653762,
          9.18167349644047,
          9.182384224182314,
          9.18309564265442,
          9.18380669728865,
          9.18451844251047,
          9.18522982419091,
          9.185941896593821,
          9.186653694109184,
          9.187366093878934,
          9.18807813021209,
          9.188790857447872,
          9.189503221478718,
          9.190216276301962,
          9.190928968128254,
          9.191642350670204,
          9.192355897256068,
          9.193069081106707,
          9.193782545316296,
          9.194496057645669,
          9.195210260755768,
          9.195924101504998,
          9.196638633169854,
          9.197352802592723,
          9.198067662878776,
          9.198782161040794,
          9.199497350168844,
          9.20021217747055,
          9.20092766382912,
          9.201642820390855,
          9.202358667765948,
          9.203074153689625,
          9.203790330561755,
          9.204506146068777,
          9.205222652504709,
          9.205938797694355,
          9.206655633916421,
          9.207372109156696,
          9.208089329574957,
          9.208806135035537,
          9.20952363137627,
          9.210240767177021,
          9.21095859396064,
          9.211676060290793,
          9.212394217650262,
          9.213112014609772,
          9.213830502669492,
          9.214548630627268,
          9.215267489071069,
          9.215985948207898,
          9.216705098293344,
          9.217423888719306,
          9.218143370197305,
          9.218863017410612,
          9.219582305073027,
          9.220302283784779,
          9.221021903244647,
          9.221742213792098,
          9.222462130128346,
          9.22318277264953,
          9.223903056191318,
          9.224624030905458,
          9.225344646873932,
          9.226065953906282,
          9.226786902402573,
          9.227508541953176,
          9.228229823135237,
          9.228951795476307,
          9.229673248085444,
          9.230395553285096,
          9.231117500322963,
          9.231840138638223,
          9.232562419059326,
          9.233285390682447,
          9.234008004588517,
          9.234731309621546,
          9.235454257204179,
          9.23617789605171,
          9.236901421127808,
          9.237625394077075,
          9.238349009816284,
          9.239073316775494,
          9.23979726685812,
          9.24052190808572,
          9.241246192614158,
          9.241971168245941,
          9.24269578737966,
          9.243421097754759,
          9.244145592292703,
          9.244871237684217,
          9.2455970504606,
          9.246322507118398,
          9.247048655120997,
          9.24777444709219,
          9.24850093042381,
          9.24922705781167,
          9.24995387666566,
          9.250680339877219,
          9.251407707377142,
          9.252134506680589,
          9.252861997267425,
          9.253589132625613,
          9.254316959406228,
          9.255044431045887,
          9.255772594123625,
          9.256500402180968,
          9.25722890171706,
          9.257957046567052,
          9.25868595688947,
          9.259414438663146,
          9.260143611799629,
          9.260872430631911,
          9.261601940899842,
          9.262331096984997,
          9.26306094452188,
          9.26379043796418,
          9.26452062296507,
          9.265250454139988,
          9.26598112588119,
          9.266711295020198,
          9.267442155668,
          9.268172662806707,
          9.268903861593653,
          9.26963470699321,
          9.270366243991663,
          9.271097427724156,
          9.27182930316282,
          9.272561347841364,
          9.273293184878323,
          9.274025568469911,
          9.274757599309035,
          9.275490321863229,
          9.276222691901467,
          9.276955753548274,
          9.277688462924248,
          9.278421863802558,
          9.279154912646849,
          9.279888653166326,
          9.280621948710309,
          9.281356028927805,
          9.282089757257351,
          9.282824177386045,
          9.28355824586431,
          9.284293006134222,
          9.285027414900007,
          9.285762515351362,
          9.286497264602065,
          9.28723270564617,
          9.28796804487632,
          9.288703826865998,
          9.289439257833703,
          9.290175380720164,
          9.290911152855536,
          9.291647616868932,
          9.292383730245987,
          9.29312053546102,
          9.293856990342995,
          9.294594137105848,
          9.295330917257994,
          9.296068405694026,
          9.296805544075072,
          9.297543374429761,
          9.29828085493531,
          9.29901902737442,
          9.299757370942995,
          9.300495364809198,
          9.30123405072674,
          9.301972387246714,
          9.30271107519307,
          9.303449754737265,
          9.304189126187104,
          9.304928148691946,
          9.305667863211669,
          9.306407228875942,
          9.307147286606472,
          9.307886995538679,
          9.308627396613547,
          9.309367449228205,
          9.310108177493094,
          9.310848573893374,
          9.311589662290618,
          9.312330402648461,
          9.313071835112751,
          9.313812919627983,
          9.314554696268841,
          9.315296125083007,
          9.31603824613243,
          9.316780019529407,
          9.317522464285952,
          9.318264582547743,
          9.319007392899646,
          9.319749856119746,
          9.320493011539954,
          9.321235819918959,
          9.32197932051703,
          9.322722474164594,
          9.323466320141677,
          9.3242098194407,
          9.324954095437764,
          9.32569794056359,
          9.32644247794128,
          9.327187188322597,
          9.327931552480806,
          9.328676608945006,
          9.329421319368318,
          9.330166722025698,
          9.330911778915944,
          9.331657528183296,
          9.332402934713912,
          9.33314903072046,
          9.333894781175221,
          9.334641223973353,
          9.33538732159163,
          9.336134111547677,
          9.336880556374872,
          9.337627693534035,
          9.33837448583836,
          9.339121970586111,
          9.33986921375398,
          9.34061704634458,
          9.341364534197863,
          9.342112714690781,
          9.342860550753636,
          9.343609079319313,
          9.344357263670181,
          9.345106140452797,
          9.345854673295138,
          9.346603898680893,
          9.347352739118499,
          9.348102313244869,
          9.348851543614616,
          9.349601466692185,
          9.350351046222496,
          9.35110131842249,
          9.35185124729177,
          9.352601868693844,
          9.353352147105163,
          9.354103118096251,
          9.354853820370389,
          9.355604623558676,
          9.356356119331654,
          9.357107272474218,
          9.357859118379839,
          9.358610621780231,
          9.359362817898688,
          9.360114671670187,
          9.360867218205916,
          9.361619422703455,
          9.36237225021501,
          9.363124805487454,
          9.363878053448422,
          9.364630959765092,
          9.365384558916595,
          9.366137816449905,
          9.366891766872493,
          9.367645375802306,
          9.368399677668561,
          9.369153638351316,
          9.369908378114282,
          9.370662690791418,
          9.371417696263846,
          9.372172361013757,
          9.372927718672258,
          9.373682735733924,
          9.374438445726122,
          9.375193815114978,
          9.37594987761434,
          9.376705599819546,
          9.377462289990731,
          9.378218365369145,
          9.378975133651316,
          9.37973156213473,
          9.380488683635747,
          9.381245465431096,
          9.38200294026608,
          9.38276059176665,
          9.383517903897804,
          9.384275909101852,
          9.385033808452299,
          9.385792167735643,
          9.386550187902197,
          9.387308901212613,
          9.388067275716011,
          9.388826343327198,
          9.389585072250625,
          9.390344494277782,
          9.391103577829508,
          9.39186335463188,
          9.39262287682331,
          9.393383008548929,
          9.39414280211821,
          9.39490328897708,
          9.395663437891109,
          9.39642428005862,
          9.397184784467157,
          9.397945982059802,
          9.398706842171602,
          9.399468395615559,
          9.400229801724869,
          9.400991711291367,
          9.4017532835324,
          9.402515549210365,
          9.403277477874223,
          9.4040400999063,
          9.404802385109933,
          9.40556536361312,
          9.406328005566396,
          9.407091340934848,
          9.407853805464338,
          9.408617497903126,
          9.409380853981084,
          9.410144903546573,
          9.41090913180015,
          9.411673024064733,
          9.412437609826872,
          9.413201859760195,
          9.413966803174414,
          9.414731411105501,
          9.415496711821298,
          9.416261677830766,
          9.417027337382004,
          9.417792661751092,
          9.418558679712605,
          9.41932436261967,
          9.420090739143152,
          9.420856780707197,
          9.421623516003644,
          9.422389916620599,
          9.423157147149169,
          9.423923907108149,
          9.424691360630128,
          9.4254584799728,
          9.426226292962939,
          9.426993771900827,
          9.427761944510605,
          9.428529783163526,
          9.42929831560531,
          9.430066514370745,
          9.430835611689409,
          9.431604170905663,
          9.43237342370846,
          9.433142343369258,
          9.433911956799877,
          9.434681237085009,
          9.435451211165063,
          9.43622085222736,
          9.43699118720246,
          9.437761189440586,
          9.438531899780209,
          9.439302776543206,
          9.440073320758717,
          9.440844558983022,
          9.441615464907679,
          9.44238706477328,
          9.443158332495019,
          9.443930294123215,
          9.444701923889017,
          9.445474247678835,
          9.446246390717636,
          9.447019076885699,
          9.447791431449373,
          9.448564480115152,
          9.449337197457426,
          9.450110608867965,
          9.450883689144161,
          9.451657463322249,
          9.45243090671338,
          9.453205044191254,
          9.45397874793255,
          9.454753248728375,
          9.455527418798429,
          9.456302283165178,
          9.457076817088165,
          9.457852045274002,
          9.458626943139482,
          9.459402535234233,
          9.460177797323253,
          9.460953753694982,
          9.461729458189515,
          9.46250577911569,
          9.463281770262805,
          9.464058455837417,
          9.464834811915534,
          9.465611862354937,
          9.466388583487575,
          9.467165998948257,
          9.467943597070004,
          9.46872086616962,
          9.469498250526302,
          9.470275885276104,
          9.471054214387514,
          9.47183221494943,
          9.472610909993117,
          9.473389276650286,
          9.474168337684276,
          9.474947070495038,
          9.475726497901366,
          9.476505597203003,
          9.477285682482806,
          9.478065148724003,
          9.478845309461448,
          9.479625142601458,
          9.480405670358522,
          9.481185870614857,
          9.481966765515912,
          9.482747333013648,
          9.483528595309673,
          9.484309530420779,
          9.48509106376327,
          9.485872366659741,
          9.486654364189516,
          9.487436035075543,
          9.488218400716123,
          9.489000439810392,
          9.489783173687016,
          9.490565581114765,
          9.49134868344626,
          9.492131459646464,
          9.492915126068546,
          9.493698271298761,
          9.494482111368157,
          9.495265625716435,
          9.496049834958747,
          9.496834228819857,
          9.497618297186136,
          9.49840306039614,
          9.499187498396688,
          9.499972631362086,
          9.500757629367804,
          9.501543132422865,
          9.502328310497857,
          9.503114183655558,
          9.503899732085229,
          9.504685975565934,
          9.505471894510606,
          9.506258508441428,
          9.507044798122054,
          9.50783178291052,
          9.508618478748877,
          9.50940583458307,
          9.510192866298471,
          9.510980593339461,
          9.511767996612862,
          9.512556095015647,
          9.513343869909225,
          9.514132339900925,
          9.514920486603247,
          9.515709328559208,
          9.51649778964209,
          9.517287003657177,
          9.518075894581546,
          9.518865480944381,
          9.519654744436957,
          9.520444703337095,
          9.521234339592182,
          9.522024671124921,
          9.522814680332283,
          9.523605384940701,
          9.524395275710594,
          9.525186353634208,
          9.525977618129597,
          9.526768560782772,
          9.52756019894408,
          9.528351515362306,
          9.529143527219942,
          9.52993521750028,
          9.53072760337631,
          9.531519667896594,
          9.532312543280797,
          9.533104982347348,
          9.533898116849734,
          9.534690930542519,
          9.535484439861646,
          9.53627762833903,
          9.537071512539098,
          9.537865076030581,
          9.538659335302595,
          9.539453274187107,
          9.540247902097947,
          9.54104221649956,
          9.541837226555149,
          9.542631916705158,
          9.543427302634056,
          9.544222368757005,
          9.545018130723088,
          9.545813572917261,
          9.546609711112607,
          9.547405529857778,
          9.548201952681639,
          9.548998148031949,
          9.549795039190778,
          9.550591611415792,
          9.551388879574601,
          9.552185828900063,
          9.55298347419134,
          9.55378080081491,
          9.554578823463789,
          9.55537703482275,
          9.556175260514287,
          9.556973849845534,
          9.55777212099624,
          9.558571088284506,
          9.559369737615468,
          9.560169083054454,
          9.56096811073125,
          9.56176783448673,
          9.562567240703634,
          9.563367343157847,
          9.564167288540634,
          9.564967769939084,
          9.565767934067626,
          9.56656879452589,
          9.567369338003209,
          9.56817057774872,
          9.568971500708857,
          9.569773119875054,
          9.570574422546208,
          9.57137642158266,
          9.572178334909406,
          9.572980714152973,
          9.573782777104432,
          9.574585536482012,
          9.575387979923294,
          9.576191119762315,
          9.576993943794934,
          9.577797464196674,
          9.57860066908291,
          9.579404570465178,
          9.580208101380226,
          9.581012383890236,
          9.581816351055675,
          9.58262101487725,
          9.583425363711132,
          9.584230409107143,
          9.58503564532263,
          9.585840566783583,
          9.5866461849508,
          9.58745148858865,
          9.588257147362993,
          9.589062833547436,
          9.589869216415156,
          9.590675285208192,
          9.591482050747109,
          9.592288502346367,
          9.5930956507249,
          9.593902485266705,
          9.594710016715611,
          9.595517234652847,
          9.596325146984448,
          9.59713274845083,
          9.59794104670301,
          9.59874903183302,
          9.599557713943932,
          9.600366083068362,
          9.601175149141774,
          9.60198390236482,
          9.602793352665106,
          9.603602490440739,
          9.604412339934669,
          9.605221862428396,
          9.606032081812517,
          9.606841989195134,
          9.60765259363088,
          9.608462886101393,
          9.609273875692981,
          9.610084553455534,
          9.610895928402645,
          9.611706991846988,
          9.612519090626579,
          9.613330540133948,
          9.6141426867713,
          9.614955026531245,
          9.61576705515136,
          9.616579781115716,
          9.617392196205302,
          9.618205308479219,
          9.619018110204852,
          9.619831609212348,
          9.620644840054586,
          9.621458726065871,
          9.622272301768545,
          9.623086574919457,
          9.623900538055548,
          9.624715198613389,
          9.62552954932227,
          9.62634459736042,
          9.627159335876902,
          9.62797477185285,
          9.628790011472816,
          9.629605835631164,
          9.630421350476464,
          9.631237562948119,
          9.632053466400125,
          9.63287006742001,
          9.63368635961959,
          9.634503349361031,
          9.635320030511005,
          9.63613740939963,
          9.636954537690054,
          9.637772305897135,
          9.638589765721818,
          9.639407923420405,
          9.640225773030961,
          9.64104432045702,
          9.641862559994795,
          9.64268149728943,
          9.643500126991324,
          9.644319454614728,
          9.645138505634725,
          9.64595772110935,
          9.646777634432578,
          9.647597240696228,
          9.648417544874595,
          9.6492375421317,
          9.650058237339994,
          9.65087862573224,
          9.651699712274372,
          9.652520492197079,
          9.653342140552303,
          9.654163312338092,
          9.654985182157892,
          9.655806745887352,
          9.656629007783954,
          9.657450963728962,
          9.658273617812256,
          9.659095966082313,
          9.659919012656506,
          9.660741753648168,
          9.661565145659566,
          9.662388279539035,
          9.66321211164066,
          9.664035638656706,
          9.66485986402873,
          9.665683784420862,
          9.666508403207045,
          9.667332717119368,
          9.668157729558796,
          9.668982437421835,
          9.66980804531452,
          9.670633147454549,
          9.671458948039872,
          9.672284444481386,
          9.673110639535997,
          9.673936530618423,
          9.674763120220488,
          9.675589907136295,
          9.676416390511978,
          9.677243572465112,
          9.678070633420052,
          9.678898210833921,
          9.67972548488652,
          9.680553457723558,
          9.681381127497282,
          9.682209496031776,
          9.683037561705836,
          9.683866326083107,
          9.684694787898042,
          9.685523948551532,
          9.686352852697683,
          9.687182409834065,
          9.688011664620886,
          9.688841618454571,
          9.689671270204155,
          9.690501620911224,
          9.69133166977007,
          9.69216241752998,
          9.692992863740875,
          9.693824008987878,
          9.694654838912886,
          9.695486381830905,
          9.696317623414586,
          9.697149564210143,
          9.697981203969595,
          9.698813542918769,
          9.699645580968893,
          9.700478318185944,
          9.701310754869894,
          9.70214389075712,
          9.70297679369664,
          9.703810328505266,
          9.70464356306219,
          9.705477496999675,
          9.706311630555808,
          9.707145464228711,
          9.707979997246774,
          9.708814230456188,
          9.709649163180975,
          9.710483796396906,
          9.711318678584938,
          9.712153712071128,
          9.712989444962338,
          9.71382487884884,
          9.714661012310684,
          9.715496846809982,
          9.716333380958233,
          9.71716961628552,
          9.718006551332973,
          9.718843187893171,
          9.7196806204506,
          9.720517658521404,
          9.721355396203162,
          9.72219283593552,
          9.72303097535082,
          9.723868816958557,
          9.724707358323714,
          9.725545601923589,
          9.726384545484928,
          9.727223191516389,
          9.728062441695734,
          9.728901490342206,
          9.729741238808407,
          9.730580690316899,
          9.73142084178395,
          9.732260696435285,
          9.733101251021159,
          9.73394150893362,
          9.734782466985024,
          9.735623128532808,
          9.736464483797622,
          9.737306047399288,
          9.738147314774631,
          9.738989282395298,
          9.73983095409257,
          9.740673325981337,
          9.741515402152533,
          9.742358178494587,
          9.743200659355571,
          9.74404384055977,
          9.744886605273711,
          9.745730191443613,
          9.746573482417256,
          9.747417473851307,
          9.74826117039138,
          9.74910556733866,
          9.74994966959872,
          9.750794472212371,
          9.751638980441772,
          9.752484189164639,
          9.753329352867521,
          9.754174968084898,
          9.755020289071883,
          9.755866310802906,
          9.756712038639572,
          9.757558467101413,
          9.758404601908781,
          9.759251437288496,
          9.760097979317786,
          9.760945222059505,
          9.761791988398366,
          9.762639638517236,
          9.763486995572897,
          9.764335053526757,
          9.765182818654305,
          9.766031284594444,
          9.76687945791596,
          9.767728332030714,
          9.768577410452,
          9.769426196566465,
          9.770275168168414,
          9.771124363159226,
          9.771974259121029,
          9.772823863254736,
          9.77367416843482,
          9.774524181931247,
          9.77537489651836,
          9.776225319532976,
          9.777076443780475,
          9.777927276760812,
          9.778779039062329,
          9.779630282360328,
          9.780482226787997,
          9.781333880460938,
          9.782186235439413,
          9.783038299741373,
          9.783891065361301,
          9.784743540449488,
          9.785596716997688,
          9.78644960332016,
          9.787303325684965,
          9.788156623576436,
          9.78901062275926,
          9.789864332296679,
          9.790718743302355,
          9.791572864740811,
          9.792427687693339,
          9.793282221191088,
          9.794137456345608,
          9.79499240231892,
          9.795848268910568,
          9.796703627776315,
          9.79755968823023,
          9.798415460051842,
          9.799271933539494,
          9.800128613653492,
          9.800985005285684,
          9.801842098622657,
          9.802698903817916,
          9.803556410862384,
          9.804413664988868,
          9.805271585948574,
          9.80612921899066,
          9.806987554073656,
          9.807845601546376,
          9.808704351009723,
          9.809562813073141,
          9.810421977109545,
          9.811280854087016,
          9.812140433049723,
          9.812999775654871,
          9.813859769840949,
          9.814719477226243,
          9.81557988682311,
          9.81644000992709,
          9.817300835192947,
          9.818161374176821,
          9.81902261527252,
          9.81988357039443,
          9.820745227806418,
          9.821606591581865,
          9.822468665446458,
          9.823330453564138,
          9.824192944166148,
          9.825055149262766,
          9.825918056827941,
          9.826780679098842,
          9.827644003789041,
          9.828507043527349,
          9.82937078579728,
          9.830233630163377,
          9.831097790171578,
          9.831962158964464,
          9.832826243433907,
          9.83369103045687,
          9.83455553327025,
          9.83542073871963,
          9.836285660006963,
          9.837151284143493,
          9.838016624361178,
          9.838882719256718,
          9.839748478688108,
          9.840614940839025,
          9.841481119658537,
          9.842348001344785,
          9.843214599814358,
          9.844081901232714,
          9.844948919482675,
          9.845816640862497,
          9.846684079383815
         ],
         "yaxis": "y"
        }
       ],
       "layout": {
        "legend": {
         "tracegroupgap": 0
        },
        "margin": {
         "t": 60
        },
        "template": {
         "data": {
          "bar": [
           {
            "error_x": {
             "color": "#2a3f5f"
            },
            "error_y": {
             "color": "#2a3f5f"
            },
            "marker": {
             "line": {
              "color": "#E5ECF6",
              "width": 0.5
             },
             "pattern": {
              "fillmode": "overlay",
              "size": 10,
              "solidity": 0.2
             }
            },
            "type": "bar"
           }
          ],
          "barpolar": [
           {
            "marker": {
             "line": {
              "color": "#E5ECF6",
              "width": 0.5
             },
             "pattern": {
              "fillmode": "overlay",
              "size": 10,
              "solidity": 0.2
             }
            },
            "type": "barpolar"
           }
          ],
          "carpet": [
           {
            "aaxis": {
             "endlinecolor": "#2a3f5f",
             "gridcolor": "white",
             "linecolor": "white",
             "minorgridcolor": "white",
             "startlinecolor": "#2a3f5f"
            },
            "baxis": {
             "endlinecolor": "#2a3f5f",
             "gridcolor": "white",
             "linecolor": "white",
             "minorgridcolor": "white",
             "startlinecolor": "#2a3f5f"
            },
            "type": "carpet"
           }
          ],
          "choropleth": [
           {
            "colorbar": {
             "outlinewidth": 0,
             "ticks": ""
            },
            "type": "choropleth"
           }
          ],
          "contour": [
           {
            "colorbar": {
             "outlinewidth": 0,
             "ticks": ""
            },
            "colorscale": [
             [
              0,
              "#0d0887"
             ],
             [
              0.1111111111111111,
              "#46039f"
             ],
             [
              0.2222222222222222,
              "#7201a8"
             ],
             [
              0.3333333333333333,
              "#9c179e"
             ],
             [
              0.4444444444444444,
              "#bd3786"
             ],
             [
              0.5555555555555556,
              "#d8576b"
             ],
             [
              0.6666666666666666,
              "#ed7953"
             ],
             [
              0.7777777777777778,
              "#fb9f3a"
             ],
             [
              0.8888888888888888,
              "#fdca26"
             ],
             [
              1,
              "#f0f921"
             ]
            ],
            "type": "contour"
           }
          ],
          "contourcarpet": [
           {
            "colorbar": {
             "outlinewidth": 0,
             "ticks": ""
            },
            "type": "contourcarpet"
           }
          ],
          "heatmap": [
           {
            "colorbar": {
             "outlinewidth": 0,
             "ticks": ""
            },
            "colorscale": [
             [
              0,
              "#0d0887"
             ],
             [
              0.1111111111111111,
              "#46039f"
             ],
             [
              0.2222222222222222,
              "#7201a8"
             ],
             [
              0.3333333333333333,
              "#9c179e"
             ],
             [
              0.4444444444444444,
              "#bd3786"
             ],
             [
              0.5555555555555556,
              "#d8576b"
             ],
             [
              0.6666666666666666,
              "#ed7953"
             ],
             [
              0.7777777777777778,
              "#fb9f3a"
             ],
             [
              0.8888888888888888,
              "#fdca26"
             ],
             [
              1,
              "#f0f921"
             ]
            ],
            "type": "heatmap"
           }
          ],
          "heatmapgl": [
           {
            "colorbar": {
             "outlinewidth": 0,
             "ticks": ""
            },
            "colorscale": [
             [
              0,
              "#0d0887"
             ],
             [
              0.1111111111111111,
              "#46039f"
             ],
             [
              0.2222222222222222,
              "#7201a8"
             ],
             [
              0.3333333333333333,
              "#9c179e"
             ],
             [
              0.4444444444444444,
              "#bd3786"
             ],
             [
              0.5555555555555556,
              "#d8576b"
             ],
             [
              0.6666666666666666,
              "#ed7953"
             ],
             [
              0.7777777777777778,
              "#fb9f3a"
             ],
             [
              0.8888888888888888,
              "#fdca26"
             ],
             [
              1,
              "#f0f921"
             ]
            ],
            "type": "heatmapgl"
           }
          ],
          "histogram": [
           {
            "marker": {
             "pattern": {
              "fillmode": "overlay",
              "size": 10,
              "solidity": 0.2
             }
            },
            "type": "histogram"
           }
          ],
          "histogram2d": [
           {
            "colorbar": {
             "outlinewidth": 0,
             "ticks": ""
            },
            "colorscale": [
             [
              0,
              "#0d0887"
             ],
             [
              0.1111111111111111,
              "#46039f"
             ],
             [
              0.2222222222222222,
              "#7201a8"
             ],
             [
              0.3333333333333333,
              "#9c179e"
             ],
             [
              0.4444444444444444,
              "#bd3786"
             ],
             [
              0.5555555555555556,
              "#d8576b"
             ],
             [
              0.6666666666666666,
              "#ed7953"
             ],
             [
              0.7777777777777778,
              "#fb9f3a"
             ],
             [
              0.8888888888888888,
              "#fdca26"
             ],
             [
              1,
              "#f0f921"
             ]
            ],
            "type": "histogram2d"
           }
          ],
          "histogram2dcontour": [
           {
            "colorbar": {
             "outlinewidth": 0,
             "ticks": ""
            },
            "colorscale": [
             [
              0,
              "#0d0887"
             ],
             [
              0.1111111111111111,
              "#46039f"
             ],
             [
              0.2222222222222222,
              "#7201a8"
             ],
             [
              0.3333333333333333,
              "#9c179e"
             ],
             [
              0.4444444444444444,
              "#bd3786"
             ],
             [
              0.5555555555555556,
              "#d8576b"
             ],
             [
              0.6666666666666666,
              "#ed7953"
             ],
             [
              0.7777777777777778,
              "#fb9f3a"
             ],
             [
              0.8888888888888888,
              "#fdca26"
             ],
             [
              1,
              "#f0f921"
             ]
            ],
            "type": "histogram2dcontour"
           }
          ],
          "mesh3d": [
           {
            "colorbar": {
             "outlinewidth": 0,
             "ticks": ""
            },
            "type": "mesh3d"
           }
          ],
          "parcoords": [
           {
            "line": {
             "colorbar": {
              "outlinewidth": 0,
              "ticks": ""
             }
            },
            "type": "parcoords"
           }
          ],
          "pie": [
           {
            "automargin": true,
            "type": "pie"
           }
          ],
          "scatter": [
           {
            "fillpattern": {
             "fillmode": "overlay",
             "size": 10,
             "solidity": 0.2
            },
            "type": "scatter"
           }
          ],
          "scatter3d": [
           {
            "line": {
             "colorbar": {
              "outlinewidth": 0,
              "ticks": ""
             }
            },
            "marker": {
             "colorbar": {
              "outlinewidth": 0,
              "ticks": ""
             }
            },
            "type": "scatter3d"
           }
          ],
          "scattercarpet": [
           {
            "marker": {
             "colorbar": {
              "outlinewidth": 0,
              "ticks": ""
             }
            },
            "type": "scattercarpet"
           }
          ],
          "scattergeo": [
           {
            "marker": {
             "colorbar": {
              "outlinewidth": 0,
              "ticks": ""
             }
            },
            "type": "scattergeo"
           }
          ],
          "scattergl": [
           {
            "marker": {
             "colorbar": {
              "outlinewidth": 0,
              "ticks": ""
             }
            },
            "type": "scattergl"
           }
          ],
          "scattermapbox": [
           {
            "marker": {
             "colorbar": {
              "outlinewidth": 0,
              "ticks": ""
             }
            },
            "type": "scattermapbox"
           }
          ],
          "scatterpolar": [
           {
            "marker": {
             "colorbar": {
              "outlinewidth": 0,
              "ticks": ""
             }
            },
            "type": "scatterpolar"
           }
          ],
          "scatterpolargl": [
           {
            "marker": {
             "colorbar": {
              "outlinewidth": 0,
              "ticks": ""
             }
            },
            "type": "scatterpolargl"
           }
          ],
          "scatterternary": [
           {
            "marker": {
             "colorbar": {
              "outlinewidth": 0,
              "ticks": ""
             }
            },
            "type": "scatterternary"
           }
          ],
          "surface": [
           {
            "colorbar": {
             "outlinewidth": 0,
             "ticks": ""
            },
            "colorscale": [
             [
              0,
              "#0d0887"
             ],
             [
              0.1111111111111111,
              "#46039f"
             ],
             [
              0.2222222222222222,
              "#7201a8"
             ],
             [
              0.3333333333333333,
              "#9c179e"
             ],
             [
              0.4444444444444444,
              "#bd3786"
             ],
             [
              0.5555555555555556,
              "#d8576b"
             ],
             [
              0.6666666666666666,
              "#ed7953"
             ],
             [
              0.7777777777777778,
              "#fb9f3a"
             ],
             [
              0.8888888888888888,
              "#fdca26"
             ],
             [
              1,
              "#f0f921"
             ]
            ],
            "type": "surface"
           }
          ],
          "table": [
           {
            "cells": {
             "fill": {
              "color": "#EBF0F8"
             },
             "line": {
              "color": "white"
             }
            },
            "header": {
             "fill": {
              "color": "#C8D4E3"
             },
             "line": {
              "color": "white"
             }
            },
            "type": "table"
           }
          ]
         },
         "layout": {
          "annotationdefaults": {
           "arrowcolor": "#2a3f5f",
           "arrowhead": 0,
           "arrowwidth": 1
          },
          "autotypenumbers": "strict",
          "coloraxis": {
           "colorbar": {
            "outlinewidth": 0,
            "ticks": ""
           }
          },
          "colorscale": {
           "diverging": [
            [
             0,
             "#8e0152"
            ],
            [
             0.1,
             "#c51b7d"
            ],
            [
             0.2,
             "#de77ae"
            ],
            [
             0.3,
             "#f1b6da"
            ],
            [
             0.4,
             "#fde0ef"
            ],
            [
             0.5,
             "#f7f7f7"
            ],
            [
             0.6,
             "#e6f5d0"
            ],
            [
             0.7,
             "#b8e186"
            ],
            [
             0.8,
             "#7fbc41"
            ],
            [
             0.9,
             "#4d9221"
            ],
            [
             1,
             "#276419"
            ]
           ],
           "sequential": [
            [
             0,
             "#0d0887"
            ],
            [
             0.1111111111111111,
             "#46039f"
            ],
            [
             0.2222222222222222,
             "#7201a8"
            ],
            [
             0.3333333333333333,
             "#9c179e"
            ],
            [
             0.4444444444444444,
             "#bd3786"
            ],
            [
             0.5555555555555556,
             "#d8576b"
            ],
            [
             0.6666666666666666,
             "#ed7953"
            ],
            [
             0.7777777777777778,
             "#fb9f3a"
            ],
            [
             0.8888888888888888,
             "#fdca26"
            ],
            [
             1,
             "#f0f921"
            ]
           ],
           "sequentialminus": [
            [
             0,
             "#0d0887"
            ],
            [
             0.1111111111111111,
             "#46039f"
            ],
            [
             0.2222222222222222,
             "#7201a8"
            ],
            [
             0.3333333333333333,
             "#9c179e"
            ],
            [
             0.4444444444444444,
             "#bd3786"
            ],
            [
             0.5555555555555556,
             "#d8576b"
            ],
            [
             0.6666666666666666,
             "#ed7953"
            ],
            [
             0.7777777777777778,
             "#fb9f3a"
            ],
            [
             0.8888888888888888,
             "#fdca26"
            ],
            [
             1,
             "#f0f921"
            ]
           ]
          },
          "colorway": [
           "#636efa",
           "#EF553B",
           "#00cc96",
           "#ab63fa",
           "#FFA15A",
           "#19d3f3",
           "#FF6692",
           "#B6E880",
           "#FF97FF",
           "#FECB52"
          ],
          "font": {
           "color": "#2a3f5f"
          },
          "geo": {
           "bgcolor": "white",
           "lakecolor": "white",
           "landcolor": "#E5ECF6",
           "showlakes": true,
           "showland": true,
           "subunitcolor": "white"
          },
          "hoverlabel": {
           "align": "left"
          },
          "hovermode": "closest",
          "mapbox": {
           "style": "light"
          },
          "paper_bgcolor": "white",
          "plot_bgcolor": "#E5ECF6",
          "polar": {
           "angularaxis": {
            "gridcolor": "white",
            "linecolor": "white",
            "ticks": ""
           },
           "bgcolor": "#E5ECF6",
           "radialaxis": {
            "gridcolor": "white",
            "linecolor": "white",
            "ticks": ""
           }
          },
          "scene": {
           "xaxis": {
            "backgroundcolor": "#E5ECF6",
            "gridcolor": "white",
            "gridwidth": 2,
            "linecolor": "white",
            "showbackground": true,
            "ticks": "",
            "zerolinecolor": "white"
           },
           "yaxis": {
            "backgroundcolor": "#E5ECF6",
            "gridcolor": "white",
            "gridwidth": 2,
            "linecolor": "white",
            "showbackground": true,
            "ticks": "",
            "zerolinecolor": "white"
           },
           "zaxis": {
            "backgroundcolor": "#E5ECF6",
            "gridcolor": "white",
            "gridwidth": 2,
            "linecolor": "white",
            "showbackground": true,
            "ticks": "",
            "zerolinecolor": "white"
           }
          },
          "shapedefaults": {
           "line": {
            "color": "#2a3f5f"
           }
          },
          "ternary": {
           "aaxis": {
            "gridcolor": "white",
            "linecolor": "white",
            "ticks": ""
           },
           "baxis": {
            "gridcolor": "white",
            "linecolor": "white",
            "ticks": ""
           },
           "bgcolor": "#E5ECF6",
           "caxis": {
            "gridcolor": "white",
            "linecolor": "white",
            "ticks": ""
           }
          },
          "title": {
           "x": 0.05
          },
          "xaxis": {
           "automargin": true,
           "gridcolor": "white",
           "linecolor": "white",
           "ticks": "",
           "title": {
            "standoff": 15
           },
           "zerolinecolor": "white",
           "zerolinewidth": 2
          },
          "yaxis": {
           "automargin": true,
           "gridcolor": "white",
           "linecolor": "white",
           "ticks": "",
           "title": {
            "standoff": 15
           },
           "zerolinecolor": "white",
           "zerolinewidth": 2
          }
         }
        },
        "xaxis": {
         "anchor": "y",
         "domain": [
          0,
          1
         ],
         "title": {
          "text": "Time"
         }
        },
        "yaxis": {
         "anchor": "x",
         "domain": [
          0,
          1
         ],
         "title": {
          "text": "angle error"
         }
        }
       }
      }
     },
     "metadata": {},
     "output_type": "display_data"
    }
   ],
   "source": [
    "fig = px.scatter(error, x='Time', y='angle error', hover_data=['operation'])\n",
    "fig.show()"
   ]
  },
  {
   "cell_type": "markdown",
   "metadata": {},
   "source": [
    "# Plot Reference Profile Q from Basilisk against Simulink"
   ]
  },
  {
   "cell_type": "markdown",
   "metadata": {},
   "source": [
    "## Load Simulink Data"
   ]
  },
  {
   "cell_type": "code",
   "execution_count": 156,
   "metadata": {},
   "outputs": [
    {
     "data": {
      "text/html": [
       "<div>\n",
       "<style scoped>\n",
       "    .dataframe tbody tr th:only-of-type {\n",
       "        vertical-align: middle;\n",
       "    }\n",
       "\n",
       "    .dataframe tbody tr th {\n",
       "        vertical-align: top;\n",
       "    }\n",
       "\n",
       "    .dataframe thead th {\n",
       "        text-align: right;\n",
       "    }\n",
       "</style>\n",
       "<table border=\"1\" class=\"dataframe\">\n",
       "  <thead>\n",
       "    <tr style=\"text-align: right;\">\n",
       "      <th></th>\n",
       "      <th># Time (s)</th>\n",
       "      <th>q0</th>\n",
       "      <th>q1</th>\n",
       "      <th>q2</th>\n",
       "      <th>q3</th>\n",
       "    </tr>\n",
       "  </thead>\n",
       "  <tbody>\n",
       "    <tr>\n",
       "      <th>0</th>\n",
       "      <td>0.1</td>\n",
       "      <td>260300.0</td>\n",
       "      <td>330410.0</td>\n",
       "      <td>249190.0</td>\n",
       "      <td>872340.0</td>\n",
       "    </tr>\n",
       "    <tr>\n",
       "      <th>1</th>\n",
       "      <td>0.2</td>\n",
       "      <td>260260.0</td>\n",
       "      <td>330440.0</td>\n",
       "      <td>249190.0</td>\n",
       "      <td>872340.0</td>\n",
       "    </tr>\n",
       "    <tr>\n",
       "      <th>2</th>\n",
       "      <td>0.3</td>\n",
       "      <td>260230.0</td>\n",
       "      <td>330480.0</td>\n",
       "      <td>249190.0</td>\n",
       "      <td>872330.0</td>\n",
       "    </tr>\n",
       "    <tr>\n",
       "      <th>3</th>\n",
       "      <td>0.4</td>\n",
       "      <td>260200.0</td>\n",
       "      <td>330510.0</td>\n",
       "      <td>249190.0</td>\n",
       "      <td>872330.0</td>\n",
       "    </tr>\n",
       "    <tr>\n",
       "      <th>4</th>\n",
       "      <td>0.5</td>\n",
       "      <td>260160.0</td>\n",
       "      <td>330550.0</td>\n",
       "      <td>249190.0</td>\n",
       "      <td>872330.0</td>\n",
       "    </tr>\n",
       "    <tr>\n",
       "      <th>...</th>\n",
       "      <td>...</td>\n",
       "      <td>...</td>\n",
       "      <td>...</td>\n",
       "      <td>...</td>\n",
       "      <td>...</td>\n",
       "    </tr>\n",
       "    <tr>\n",
       "      <th>5294</th>\n",
       "      <td>529.5</td>\n",
       "      <td>7003.0</td>\n",
       "      <td>-536690.0</td>\n",
       "      <td>-146170.0</td>\n",
       "      <td>-830990.0</td>\n",
       "    </tr>\n",
       "    <tr>\n",
       "      <th>5295</th>\n",
       "      <td>529.6</td>\n",
       "      <td>7066.1</td>\n",
       "      <td>-536730.0</td>\n",
       "      <td>-146120.0</td>\n",
       "      <td>-830970.0</td>\n",
       "    </tr>\n",
       "    <tr>\n",
       "      <th>5296</th>\n",
       "      <td>529.7</td>\n",
       "      <td>7129.2</td>\n",
       "      <td>-536770.0</td>\n",
       "      <td>-146080.0</td>\n",
       "      <td>-830950.0</td>\n",
       "    </tr>\n",
       "    <tr>\n",
       "      <th>5297</th>\n",
       "      <td>529.8</td>\n",
       "      <td>7192.3</td>\n",
       "      <td>-536810.0</td>\n",
       "      <td>-146040.0</td>\n",
       "      <td>-830930.0</td>\n",
       "    </tr>\n",
       "    <tr>\n",
       "      <th>5298</th>\n",
       "      <td>529.9</td>\n",
       "      <td>7255.4</td>\n",
       "      <td>-536850.0</td>\n",
       "      <td>-145990.0</td>\n",
       "      <td>-830920.0</td>\n",
       "    </tr>\n",
       "  </tbody>\n",
       "</table>\n",
       "<p>5299 rows × 5 columns</p>\n",
       "</div>"
      ],
      "text/plain": [
       "      # Time (s)        q0        q1        q2        q3\n",
       "0            0.1  260300.0  330410.0  249190.0  872340.0\n",
       "1            0.2  260260.0  330440.0  249190.0  872340.0\n",
       "2            0.3  260230.0  330480.0  249190.0  872330.0\n",
       "3            0.4  260200.0  330510.0  249190.0  872330.0\n",
       "4            0.5  260160.0  330550.0  249190.0  872330.0\n",
       "...          ...       ...       ...       ...       ...\n",
       "5294       529.5    7003.0 -536690.0 -146170.0 -830990.0\n",
       "5295       529.6    7066.1 -536730.0 -146120.0 -830970.0\n",
       "5296       529.7    7129.2 -536770.0 -146080.0 -830950.0\n",
       "5297       529.8    7192.3 -536810.0 -146040.0 -830930.0\n",
       "5298       529.9    7255.4 -536850.0 -145990.0 -830920.0\n",
       "\n",
       "[5299 rows x 5 columns]"
      ]
     },
     "execution_count": 156,
     "metadata": {},
     "output_type": "execute_result"
    }
   ],
   "source": [
    "data3 = f'../../ff1-aoc/simq.csv'\n",
    "\n",
    "df_simulink = pd.read_csv(data3, header=0,names=['# Time (s)', 'q0', 'q1', 'q2', 'q3'])\n",
    "df_simulink"
   ]
  },
  {
   "cell_type": "markdown",
   "metadata": {},
   "source": [
    "# Compare J2 Propagator PV against Orekit True PV"
   ]
  },
  {
   "cell_type": "code",
   "execution_count": 157,
   "metadata": {},
   "outputs": [
    {
     "data": {
      "text/html": [
       "<div>\n",
       "<style scoped>\n",
       "    .dataframe tbody tr th:only-of-type {\n",
       "        vertical-align: middle;\n",
       "    }\n",
       "\n",
       "    .dataframe tbody tr th {\n",
       "        vertical-align: top;\n",
       "    }\n",
       "\n",
       "    .dataframe thead th {\n",
       "        text-align: right;\n",
       "    }\n",
       "</style>\n",
       "<table border=\"1\" class=\"dataframe\">\n",
       "  <thead>\n",
       "    <tr style=\"text-align: right;\">\n",
       "      <th></th>\n",
       "      <th># Time (s)</th>\n",
       "      <th>v_satPosJ2_calc[0]</th>\n",
       "      <th>v_satPosJ2_calc[1]</th>\n",
       "      <th>v_satPosJ2_calc[2]</th>\n",
       "    </tr>\n",
       "  </thead>\n",
       "  <tbody>\n",
       "    <tr>\n",
       "      <th>0</th>\n",
       "      <td>0.0</td>\n",
       "      <td>0.000000e+00</td>\n",
       "      <td>0.000000e+00</td>\n",
       "      <td>0.000000e+00</td>\n",
       "    </tr>\n",
       "    <tr>\n",
       "      <th>1</th>\n",
       "      <td>0.1</td>\n",
       "      <td>0.000000e+00</td>\n",
       "      <td>0.000000e+00</td>\n",
       "      <td>0.000000e+00</td>\n",
       "    </tr>\n",
       "    <tr>\n",
       "      <th>2</th>\n",
       "      <td>0.2</td>\n",
       "      <td>0.000000e+00</td>\n",
       "      <td>0.000000e+00</td>\n",
       "      <td>0.000000e+00</td>\n",
       "    </tr>\n",
       "    <tr>\n",
       "      <th>3</th>\n",
       "      <td>0.3</td>\n",
       "      <td>0.000000e+00</td>\n",
       "      <td>0.000000e+00</td>\n",
       "      <td>0.000000e+00</td>\n",
       "    </tr>\n",
       "    <tr>\n",
       "      <th>4</th>\n",
       "      <td>0.4</td>\n",
       "      <td>0.000000e+00</td>\n",
       "      <td>0.000000e+00</td>\n",
       "      <td>0.000000e+00</td>\n",
       "    </tr>\n",
       "    <tr>\n",
       "      <th>...</th>\n",
       "      <td>...</td>\n",
       "      <td>...</td>\n",
       "      <td>...</td>\n",
       "      <td>...</td>\n",
       "    </tr>\n",
       "    <tr>\n",
       "      <th>2396</th>\n",
       "      <td>239.6</td>\n",
       "      <td>-6.505212e+06</td>\n",
       "      <td>-1.748263e+06</td>\n",
       "      <td>1.774789e+06</td>\n",
       "    </tr>\n",
       "    <tr>\n",
       "      <th>2397</th>\n",
       "      <td>239.7</td>\n",
       "      <td>-6.505054e+06</td>\n",
       "      <td>-1.748111e+06</td>\n",
       "      <td>1.775513e+06</td>\n",
       "    </tr>\n",
       "    <tr>\n",
       "      <th>2398</th>\n",
       "      <td>239.8</td>\n",
       "      <td>-6.504896e+06</td>\n",
       "      <td>-1.747959e+06</td>\n",
       "      <td>1.776237e+06</td>\n",
       "    </tr>\n",
       "    <tr>\n",
       "      <th>2399</th>\n",
       "      <td>239.9</td>\n",
       "      <td>-6.504738e+06</td>\n",
       "      <td>-1.747808e+06</td>\n",
       "      <td>1.776961e+06</td>\n",
       "    </tr>\n",
       "    <tr>\n",
       "      <th>2400</th>\n",
       "      <td>240.0</td>\n",
       "      <td>-6.504580e+06</td>\n",
       "      <td>-1.747656e+06</td>\n",
       "      <td>1.777685e+06</td>\n",
       "    </tr>\n",
       "  </tbody>\n",
       "</table>\n",
       "<p>2401 rows × 4 columns</p>\n",
       "</div>"
      ],
      "text/plain": [
       "      # Time (s)  v_satPosJ2_calc[0]  v_satPosJ2_calc[1]  v_satPosJ2_calc[2]\n",
       "0            0.0        0.000000e+00        0.000000e+00        0.000000e+00\n",
       "1            0.1        0.000000e+00        0.000000e+00        0.000000e+00\n",
       "2            0.2        0.000000e+00        0.000000e+00        0.000000e+00\n",
       "3            0.3        0.000000e+00        0.000000e+00        0.000000e+00\n",
       "4            0.4        0.000000e+00        0.000000e+00        0.000000e+00\n",
       "...          ...                 ...                 ...                 ...\n",
       "2396       239.6       -6.505212e+06       -1.748263e+06        1.774789e+06\n",
       "2397       239.7       -6.505054e+06       -1.748111e+06        1.775513e+06\n",
       "2398       239.8       -6.504896e+06       -1.747959e+06        1.776237e+06\n",
       "2399       239.9       -6.504738e+06       -1.747808e+06        1.776961e+06\n",
       "2400       240.0       -6.504580e+06       -1.747656e+06        1.777685e+06\n",
       "\n",
       "[2401 rows x 4 columns]"
      ]
     },
     "execution_count": 157,
     "metadata": {},
     "output_type": "execute_result"
    }
   ],
   "source": [
    "df2"
   ]
  },
  {
   "cell_type": "code",
   "execution_count": 158,
   "metadata": {},
   "outputs": [],
   "source": [
    "epoch2 = []\n",
    "time = start_epoch\n",
    "for i in range (len(df2)):\n",
    "    time = start_epoch + df2['# Time (s)'][i]\n",
    "    epoch2.append(pd.Timestamp(time.get_datetime()))\n",
    "df2['# Time (s)'] = epoch2\n",
    "df2 = df2[(df2['# Time (s)'] >= start_specific_timestamp) & (df2['# Time (s)'] <= end_specific_timestamp)]\n",
    "df2 = df2.reset_index(drop=True)\n",
    "# df2 = df2.drop(columns=['Unnamed: 0'])"
   ]
  },
  {
   "cell_type": "code",
   "execution_count": 159,
   "metadata": {},
   "outputs": [
    {
     "ename": "KeyError",
     "evalue": "\"['quaternion', 'quaternion_conjugate'] not found in axis\"",
     "output_type": "error",
     "traceback": [
      "\u001b[0;31m---------------------------------------------------------------------------\u001b[0m",
      "\u001b[0;31mKeyError\u001b[0m                                  Traceback (most recent call last)",
      "\u001b[0;32m/tmp/ipykernel_34715/2538938705.py\u001b[0m in \u001b[0;36m<module>\u001b[0;34m\u001b[0m\n\u001b[0;32m----> 1\u001b[0;31m \u001b[0mdf1\u001b[0m \u001b[0;34m=\u001b[0m \u001b[0mdf_orekit\u001b[0m\u001b[0;34m.\u001b[0m\u001b[0mdrop\u001b[0m\u001b[0;34m(\u001b[0m\u001b[0mcolumns\u001b[0m\u001b[0;34m=\u001b[0m\u001b[0;34m[\u001b[0m\u001b[0;34m'operation'\u001b[0m\u001b[0;34m,\u001b[0m\u001b[0;34m'quaternion'\u001b[0m\u001b[0;34m,\u001b[0m\u001b[0;34m'quaternion_conjugate'\u001b[0m\u001b[0;34m]\u001b[0m\u001b[0;34m)\u001b[0m\u001b[0;34m\u001b[0m\u001b[0;34m\u001b[0m\u001b[0m\n\u001b[0m\u001b[1;32m      2\u001b[0m \u001b[0mdf1\u001b[0m\u001b[0;34m\u001b[0m\u001b[0;34m\u001b[0m\u001b[0m\n",
      "\u001b[0;32m~/miniforge3/envs/mda-core-env/lib/python3.10/site-packages/pandas/core/frame.py\u001b[0m in \u001b[0;36mdrop\u001b[0;34m(self, labels, axis, index, columns, level, inplace, errors)\u001b[0m\n\u001b[1;32m   5579\u001b[0m                 \u001b[0mweight\u001b[0m  \u001b[0;36m1.0\u001b[0m     \u001b[0;36m0.8\u001b[0m\u001b[0;34m\u001b[0m\u001b[0;34m\u001b[0m\u001b[0m\n\u001b[1;32m   5580\u001b[0m         \"\"\"\n\u001b[0;32m-> 5581\u001b[0;31m         return super().drop(\n\u001b[0m\u001b[1;32m   5582\u001b[0m             \u001b[0mlabels\u001b[0m\u001b[0;34m=\u001b[0m\u001b[0mlabels\u001b[0m\u001b[0;34m,\u001b[0m\u001b[0;34m\u001b[0m\u001b[0;34m\u001b[0m\u001b[0m\n\u001b[1;32m   5583\u001b[0m             \u001b[0maxis\u001b[0m\u001b[0;34m=\u001b[0m\u001b[0maxis\u001b[0m\u001b[0;34m,\u001b[0m\u001b[0;34m\u001b[0m\u001b[0;34m\u001b[0m\u001b[0m\n",
      "\u001b[0;32m~/miniforge3/envs/mda-core-env/lib/python3.10/site-packages/pandas/core/generic.py\u001b[0m in \u001b[0;36mdrop\u001b[0;34m(self, labels, axis, index, columns, level, inplace, errors)\u001b[0m\n\u001b[1;32m   4786\u001b[0m         \u001b[0;32mfor\u001b[0m \u001b[0maxis\u001b[0m\u001b[0;34m,\u001b[0m \u001b[0mlabels\u001b[0m \u001b[0;32min\u001b[0m \u001b[0maxes\u001b[0m\u001b[0;34m.\u001b[0m\u001b[0mitems\u001b[0m\u001b[0;34m(\u001b[0m\u001b[0;34m)\u001b[0m\u001b[0;34m:\u001b[0m\u001b[0;34m\u001b[0m\u001b[0;34m\u001b[0m\u001b[0m\n\u001b[1;32m   4787\u001b[0m             \u001b[0;32mif\u001b[0m \u001b[0mlabels\u001b[0m \u001b[0;32mis\u001b[0m \u001b[0;32mnot\u001b[0m \u001b[0;32mNone\u001b[0m\u001b[0;34m:\u001b[0m\u001b[0;34m\u001b[0m\u001b[0;34m\u001b[0m\u001b[0m\n\u001b[0;32m-> 4788\u001b[0;31m                 \u001b[0mobj\u001b[0m \u001b[0;34m=\u001b[0m \u001b[0mobj\u001b[0m\u001b[0;34m.\u001b[0m\u001b[0m_drop_axis\u001b[0m\u001b[0;34m(\u001b[0m\u001b[0mlabels\u001b[0m\u001b[0;34m,\u001b[0m \u001b[0maxis\u001b[0m\u001b[0;34m,\u001b[0m \u001b[0mlevel\u001b[0m\u001b[0;34m=\u001b[0m\u001b[0mlevel\u001b[0m\u001b[0;34m,\u001b[0m \u001b[0merrors\u001b[0m\u001b[0;34m=\u001b[0m\u001b[0merrors\u001b[0m\u001b[0;34m)\u001b[0m\u001b[0;34m\u001b[0m\u001b[0;34m\u001b[0m\u001b[0m\n\u001b[0m\u001b[1;32m   4789\u001b[0m \u001b[0;34m\u001b[0m\u001b[0m\n\u001b[1;32m   4790\u001b[0m         \u001b[0;32mif\u001b[0m \u001b[0minplace\u001b[0m\u001b[0;34m:\u001b[0m\u001b[0;34m\u001b[0m\u001b[0;34m\u001b[0m\u001b[0m\n",
      "\u001b[0;32m~/miniforge3/envs/mda-core-env/lib/python3.10/site-packages/pandas/core/generic.py\u001b[0m in \u001b[0;36m_drop_axis\u001b[0;34m(self, labels, axis, level, errors, only_slice)\u001b[0m\n\u001b[1;32m   4828\u001b[0m                 \u001b[0mnew_axis\u001b[0m \u001b[0;34m=\u001b[0m \u001b[0maxis\u001b[0m\u001b[0;34m.\u001b[0m\u001b[0mdrop\u001b[0m\u001b[0;34m(\u001b[0m\u001b[0mlabels\u001b[0m\u001b[0;34m,\u001b[0m \u001b[0mlevel\u001b[0m\u001b[0;34m=\u001b[0m\u001b[0mlevel\u001b[0m\u001b[0;34m,\u001b[0m \u001b[0merrors\u001b[0m\u001b[0;34m=\u001b[0m\u001b[0merrors\u001b[0m\u001b[0;34m)\u001b[0m\u001b[0;34m\u001b[0m\u001b[0;34m\u001b[0m\u001b[0m\n\u001b[1;32m   4829\u001b[0m             \u001b[0;32melse\u001b[0m\u001b[0;34m:\u001b[0m\u001b[0;34m\u001b[0m\u001b[0;34m\u001b[0m\u001b[0m\n\u001b[0;32m-> 4830\u001b[0;31m                 \u001b[0mnew_axis\u001b[0m \u001b[0;34m=\u001b[0m \u001b[0maxis\u001b[0m\u001b[0;34m.\u001b[0m\u001b[0mdrop\u001b[0m\u001b[0;34m(\u001b[0m\u001b[0mlabels\u001b[0m\u001b[0;34m,\u001b[0m \u001b[0merrors\u001b[0m\u001b[0;34m=\u001b[0m\u001b[0merrors\u001b[0m\u001b[0;34m)\u001b[0m\u001b[0;34m\u001b[0m\u001b[0;34m\u001b[0m\u001b[0m\n\u001b[0m\u001b[1;32m   4831\u001b[0m             \u001b[0mindexer\u001b[0m \u001b[0;34m=\u001b[0m \u001b[0maxis\u001b[0m\u001b[0;34m.\u001b[0m\u001b[0mget_indexer\u001b[0m\u001b[0;34m(\u001b[0m\u001b[0mnew_axis\u001b[0m\u001b[0;34m)\u001b[0m\u001b[0;34m\u001b[0m\u001b[0;34m\u001b[0m\u001b[0m\n\u001b[1;32m   4832\u001b[0m \u001b[0;34m\u001b[0m\u001b[0m\n",
      "\u001b[0;32m~/miniforge3/envs/mda-core-env/lib/python3.10/site-packages/pandas/core/indexes/base.py\u001b[0m in \u001b[0;36mdrop\u001b[0;34m(self, labels, errors)\u001b[0m\n\u001b[1;32m   7068\u001b[0m         \u001b[0;32mif\u001b[0m \u001b[0mmask\u001b[0m\u001b[0;34m.\u001b[0m\u001b[0many\u001b[0m\u001b[0;34m(\u001b[0m\u001b[0;34m)\u001b[0m\u001b[0;34m:\u001b[0m\u001b[0;34m\u001b[0m\u001b[0;34m\u001b[0m\u001b[0m\n\u001b[1;32m   7069\u001b[0m             \u001b[0;32mif\u001b[0m \u001b[0merrors\u001b[0m \u001b[0;34m!=\u001b[0m \u001b[0;34m\"ignore\"\u001b[0m\u001b[0;34m:\u001b[0m\u001b[0;34m\u001b[0m\u001b[0;34m\u001b[0m\u001b[0m\n\u001b[0;32m-> 7070\u001b[0;31m                 \u001b[0;32mraise\u001b[0m \u001b[0mKeyError\u001b[0m\u001b[0;34m(\u001b[0m\u001b[0;34mf\"{labels[mask].tolist()} not found in axis\"\u001b[0m\u001b[0;34m)\u001b[0m\u001b[0;34m\u001b[0m\u001b[0;34m\u001b[0m\u001b[0m\n\u001b[0m\u001b[1;32m   7071\u001b[0m             \u001b[0mindexer\u001b[0m \u001b[0;34m=\u001b[0m \u001b[0mindexer\u001b[0m\u001b[0;34m[\u001b[0m\u001b[0;34m~\u001b[0m\u001b[0mmask\u001b[0m\u001b[0;34m]\u001b[0m\u001b[0;34m\u001b[0m\u001b[0;34m\u001b[0m\u001b[0m\n\u001b[1;32m   7072\u001b[0m         \u001b[0;32mreturn\u001b[0m \u001b[0mself\u001b[0m\u001b[0;34m.\u001b[0m\u001b[0mdelete\u001b[0m\u001b[0;34m(\u001b[0m\u001b[0mindexer\u001b[0m\u001b[0;34m)\u001b[0m\u001b[0;34m\u001b[0m\u001b[0;34m\u001b[0m\u001b[0m\n",
      "\u001b[0;31mKeyError\u001b[0m: \"['quaternion', 'quaternion_conjugate'] not found in axis\""
     ]
    },
    {
     "ename": "",
     "evalue": "",
     "output_type": "error",
     "traceback": [
      "\u001b[1;31mThe Kernel crashed while executing code in the current cell or a previous cell. \n",
      "\u001b[1;31mPlease review the code in the cell(s) to identify a possible cause of the failure. \n",
      "\u001b[1;31mClick <a href='https://aka.ms/vscodeJupyterKernelCrash'>here</a> for more info. \n",
      "\u001b[1;31mView Jupyter <a href='command:jupyter.viewOutput'>log</a> for further details."
     ]
    }
   ],
   "source": [
    "df1 = df_orekit.drop(columns=['operation','quaternion','quaternion_conjugate'])\n",
    "df1"
   ]
  },
  {
   "cell_type": "code",
   "execution_count": null,
   "metadata": {},
   "outputs": [],
   "source": [
    "errorp = pd.DataFrame()\n",
    "errorp['time'] = df2['# Time (s)']\n",
    "errorp['px'] = df2['v_satPosJ2_calc[0]'] - df1['px']\n",
    "errorp['py'] = df2['v_satPosJ2_calc[1]'] - df1['py']\n",
    "errorp['pz'] = df2['v_satPosJ2_calc[2]'] - df1['pz']\n",
    "# errorp['vx'] = df2['vx'] - df1['vx']\n",
    "# errorp['vy'] = df2['vy'] - df1['vy']\n",
    "# errorp['vz'] = df2['vz'] - df1['vz']\n",
    "errorp"
   ]
  },
  {
   "cell_type": "code",
   "execution_count": null,
   "metadata": {},
   "outputs": [],
   "source": [
    "fig = go.Figure()\n",
    "fig.add_trace(go.Scatter(x=errorp['time'], y=errorp['px']))\n",
    "fig.add_trace(go.Scatter(x=errorp['time'], y=errorp['py']))\n",
    "fig.add_trace(go.Scatter(x=errorp['time'], y=errorp['pz']))\n",
    "plot_font = dict(family=\"Courier New, monospace\", size=18, color=\"RebeccaPurple\")\n",
    "fig.update_layout(\n",
    "    font_family=\"Courier New\",\n",
    "    font_color=\"black\",\n",
    "    title_font_family=\"Times New Roman\",\n",
    "    title_font_color=\"red\",\n",
    "    legend_title_font_color=\"green\",\n",
    "    title = 'Error Plot: J2 Prop vs Orekit True'\n",
    ")"
   ]
  },
  {
   "cell_type": "markdown",
   "metadata": {},
   "source": [
    "# J2 Propagator Error Analysis"
   ]
  },
  {
   "cell_type": "markdown",
   "metadata": {},
   "source": [
    "## J2 Propagator - Simulink vs Basilisk"
   ]
  },
  {
   "cell_type": "code",
   "execution_count": null,
   "metadata": {},
   "outputs": [],
   "source": [
    "%%script false\n",
    "\n",
    "# Load simulink data into dataframe\n",
    "matfile1 = f'../data/J2possimulink.mat'\n",
    "matfile2 = f'../data/J2velsimulink.mat'\n",
    "\n",
    "with h5py.File(matfile1, 'r') as file1:\n",
    "    data1 = file1['j2pos'][:]\n",
    "    print(list(file1.keys()))\n",
    "\n",
    "with h5py.File(matfile2, 'r') as file2:\n",
    "    data2 = file2['j2vel'][:]\n",
    "    print(list(file2.keys()))\n",
    "\n",
    "df8 = pd.DataFrame(data1)\n",
    "df9 = pd.DataFrame(data2)\n",
    "df8 = pd.DataFrame(df8, columns=['# Time (s)','v_J2X','v_J2Y','v_J2Z'])\n",
    "df1_combined = pd.merge(df8,df9,on='# Time (s)', how='right')\n",
    "epoch4 = []\n",
    "for i in range (len(df1_combined)):\n",
    "    time = start_epoch + df1_combined['# Time (s)'][i]\n",
    "    epoch4.append(pd.Timestamp(time.get_datetime()))\n",
    "df1_combined['# Time (s)'] = epoch4\n",
    "df1_combined = df1_combined[(df1_combined['# Time (s)'] >= start_specific_timestamp) & (df1_combined['# Time (s)'] <= end_specific_timestamp)]\n",
    "df1_combined = df1_combined.dropna()\n",
    "df1_combined = df1_combined.reset_index(drop=True)\n",
    "\n",
    "df8"
   ]
  },
  {
   "cell_type": "code",
   "execution_count": null,
   "metadata": {},
   "outputs": [],
   "source": [
    "%%script false\n",
    "df2"
   ]
  },
  {
   "cell_type": "code",
   "execution_count": 25,
   "metadata": {},
   "outputs": [],
   "source": [
    "%%script false\n",
    "df6['# Time (s)'] = df6['# Time (s)'].astype('float64')\n",
    "epoch5 = []\n",
    "for i in range (len(df6)):\n",
    "    time = start_epoch + df6['# Time (s)'][i]\n",
    "    epoch5.append(pd.Timestamp(time.get_datetime()))\n",
    "df6['# Time (s)'] = epoch5\n",
    "df6 = df6[(df6['# Time (s)'] >= start_specific_timestamp) & (df6['# Time (s)'] <= end_specific_timestamp)]\n",
    "df2_combined = pd.merge(df2,df6,on='# Time (s)', how='right')\n",
    "df2_combined = df2_combined.dropna()\n",
    "df2_combined = df2_combined.reset_index(drop=True)\n",
    "\n",
    "specific_time = '2022-05-01 16:50:00'\n",
    "\n",
    "# # Filter the row where the 'time' column matches the specific time\n",
    "# filtered_row = df2_combined[df2_combined['# Time (s)'] == specific_time]\n",
    "# filtered_row"
   ]
  },
  {
   "cell_type": "code",
   "execution_count": null,
   "metadata": {},
   "outputs": [],
   "source": [
    "%%script false\n",
    "errorv = pd.DataFrame()\n",
    "errorv['time'] = df2_combined['# Time (s)']\n",
    "errorv['px'] = df2_combined['v_satPosJ2_calc[0]'] - df1_combined['v_J2X']\n",
    "errorv['py'] = df2_combined['v_satPosJ2_calc[1]'] - df1_combined['v_J2Y']\n",
    "errorv['pz'] = df2_combined['v_satPosJ2_calc[2]'] - df1_combined['v_J2Z']\n",
    "errorv['vx'] = df2_combined['v_satVelJ2_calc[0]'] - df1_combined['v_J2vx']\n",
    "errorv['vy'] = df2_combined['v_satVelJ2_calc[0]'] - df1_combined['v_J2vy']\n",
    "errorv['vz'] = df2_combined['v_satVelJ2_calc[0]'] - df1_combined['v_J2vz']\n",
    "errorv"
   ]
  },
  {
   "cell_type": "code",
   "execution_count": null,
   "metadata": {},
   "outputs": [],
   "source": [
    "%%script false\n",
    "\n",
    "fig = go.Figure()\n",
    "fig.add_trace(go.Scatter(x=errorv['time'], y=errorv['px']))\n",
    "fig.add_trace(go.Scatter(x=errorv['time'], y=errorv['py']))\n",
    "fig.add_trace(go.Scatter(x=errorv['time'], y=errorv['pz']))\n",
    "\n",
    "# fig = px.line(errorv, x=\"time\", y=\"px\")\n",
    "# fig = px.line(errorv, x=\"time\", y=\"py\")\n",
    "# fig2 = px.scatter(errorv, x=\"time\", y=\"pz\")\n",
    "# fig.show()\n",
    "# # fig1.show()\n",
    "# fig2.show()"
   ]
  },
  {
   "cell_type": "markdown",
   "metadata": {},
   "source": [
    "## J2 Propagator - Simulink vs Orekit"
   ]
  },
  {
   "cell_type": "code",
   "execution_count": null,
   "metadata": {},
   "outputs": [],
   "source": [
    "%%script false\n",
    "errort = pd.DataFrame()\n",
    "errort['time'] = df1_combined['# Time (s)']\n",
    "errort['px'] = df1_combined['v_J2X'] - df1['px']\n",
    "errort['py'] = df1_combined['v_J2Y'] - df1['py']\n",
    "errort['pz'] = df1_combined['v_J2Z'] - df1['pz']\n",
    "# errort['vx'] = df1_combined['v_J2vx'] - df1_combined['v_J2vx']\n",
    "# errort['vy'] = df1_combined['v_J2vy'] - df1_combined['v_J2vy']\n",
    "# errort['vz'] = df1_combined['v_J2vz'] - df1_combined['v_J2vz']\n",
    "errort"
   ]
  },
  {
   "cell_type": "code",
   "execution_count": null,
   "metadata": {},
   "outputs": [],
   "source": [
    "%%script false\n",
    "fig = go.Figure()\n",
    "fig.add_trace(go.Scatter(x=errort['time'], y=errort['px']))\n",
    "fig.add_trace(go.Scatter(x=errort['time'], y=errort['py']))\n",
    "fig.add_trace(go.Scatter(x=errort['time'], y=errort['pz']))\n"
   ]
  }
 ],
 "metadata": {
  "kernelspec": {
   "display_name": "fds-core-env",
   "language": "python",
   "name": "python3"
  },
  "language_info": {
   "codemirror_mode": {
    "name": "ipython",
    "version": 3
   },
   "file_extension": ".py",
   "mimetype": "text/x-python",
   "name": "python",
   "nbconvert_exporter": "python",
   "pygments_lexer": "ipython3",
   "version": "3.10.14"
  }
 },
 "nbformat": 4,
 "nbformat_minor": 2
}
