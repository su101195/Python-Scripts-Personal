{
 "cells": [
  {
   "cell_type": "code",
   "execution_count": 1,
   "metadata": {},
   "outputs": [
    {
     "name": "stderr",
     "output_type": "stream",
     "text": [
      "/tmp/ipykernel_30516/1602109483.py:1: DeprecationWarning: \n",
      "Pyarrow will become a required dependency of pandas in the next major release of pandas (pandas 3.0),\n",
      "(to allow more performant data types, such as the Arrow string type, and better interoperability with other libraries)\n",
      "but was not found to be installed on your system.\n",
      "If this would cause problems for you,\n",
      "please provide us feedback at https://github.com/pandas-dev/pandas/issues/54466\n",
      "        \n",
      "  import pandas as pd\n"
     ]
    }
   ],
   "source": [
    "import pandas as pd\n",
    "import os\n",
    "from mda_core.time import Time\n",
    "from mda_core import utils\n",
    "import json"
   ]
  },
  {
   "cell_type": "code",
   "execution_count": 2,
   "metadata": {},
   "outputs": [],
   "source": [
    "try:\n",
    "    Filepath = f'./set7test1_measurementData_mainGPS_sws.csv'\n",
    "\n",
    "except: raise FileExistsError(\"File Not found!\")"
   ]
  },
  {
   "cell_type": "code",
   "execution_count": 3,
   "metadata": {},
   "outputs": [
    {
     "data": {
      "text/html": [
       "<div>\n",
       "<style scoped>\n",
       "    .dataframe tbody tr th:only-of-type {\n",
       "        vertical-align: middle;\n",
       "    }\n",
       "\n",
       "    .dataframe tbody tr th {\n",
       "        vertical-align: top;\n",
       "    }\n",
       "\n",
       "    .dataframe thead th {\n",
       "        text-align: right;\n",
       "    }\n",
       "</style>\n",
       "<table border=\"1\" class=\"dataframe\">\n",
       "  <thead>\n",
       "    <tr style=\"text-align: right;\">\n",
       "      <th></th>\n",
       "      <th>Unnamed: 0</th>\n",
       "      <th>time</th>\n",
       "      <th>Px</th>\n",
       "      <th>Py</th>\n",
       "      <th>Pz</th>\n",
       "      <th>Vx</th>\n",
       "      <th>Vy</th>\n",
       "      <th>Vz</th>\n",
       "      <th>valid</th>\n",
       "    </tr>\n",
       "  </thead>\n",
       "  <tbody>\n",
       "    <tr>\n",
       "      <th>0</th>\n",
       "      <td>0</td>\n",
       "      <td>2022-05-01T16:47:50.000000000</td>\n",
       "      <td>504048.406463</td>\n",
       "      <td>6.909754e+06</td>\n",
       "      <td>-14206.244278</td>\n",
       "      <td>1508.525507</td>\n",
       "      <td>-102.703044</td>\n",
       "      <td>7517.940859</td>\n",
       "      <td>1</td>\n",
       "    </tr>\n",
       "    <tr>\n",
       "      <th>1</th>\n",
       "      <td>1</td>\n",
       "      <td>2022-05-01T16:47:51.000000000</td>\n",
       "      <td>505557.012646</td>\n",
       "      <td>6.909649e+06</td>\n",
       "      <td>-6690.492513</td>\n",
       "      <td>1507.878952</td>\n",
       "      <td>-111.222023</td>\n",
       "      <td>7518.008061</td>\n",
       "      <td>1</td>\n",
       "    </tr>\n",
       "    <tr>\n",
       "      <th>2</th>\n",
       "      <td>2</td>\n",
       "      <td>2022-05-01T16:47:52.000000000</td>\n",
       "      <td>507066.437538</td>\n",
       "      <td>6.909531e+06</td>\n",
       "      <td>829.899851</td>\n",
       "      <td>1507.260616</td>\n",
       "      <td>-119.621177</td>\n",
       "      <td>7518.032608</td>\n",
       "      <td>1</td>\n",
       "    </tr>\n",
       "    <tr>\n",
       "      <th>3</th>\n",
       "      <td>3</td>\n",
       "      <td>2022-05-01T16:47:53.000000000</td>\n",
       "      <td>508570.777812</td>\n",
       "      <td>6.909407e+06</td>\n",
       "      <td>8348.891023</td>\n",
       "      <td>1506.675473</td>\n",
       "      <td>-128.154075</td>\n",
       "      <td>7517.901568</td>\n",
       "      <td>1</td>\n",
       "    </tr>\n",
       "    <tr>\n",
       "      <th>4</th>\n",
       "      <td>4</td>\n",
       "      <td>2022-05-01T16:47:54.000000000</td>\n",
       "      <td>510078.737250</td>\n",
       "      <td>6.909273e+06</td>\n",
       "      <td>15866.374990</td>\n",
       "      <td>1506.073839</td>\n",
       "      <td>-136.585450</td>\n",
       "      <td>7517.956047</td>\n",
       "      <td>1</td>\n",
       "    </tr>\n",
       "  </tbody>\n",
       "</table>\n",
       "</div>"
      ],
      "text/plain": [
       "   Unnamed: 0                           time             Px            Py  \\\n",
       "0           0  2022-05-01T16:47:50.000000000  504048.406463  6.909754e+06   \n",
       "1           1  2022-05-01T16:47:51.000000000  505557.012646  6.909649e+06   \n",
       "2           2  2022-05-01T16:47:52.000000000  507066.437538  6.909531e+06   \n",
       "3           3  2022-05-01T16:47:53.000000000  508570.777812  6.909407e+06   \n",
       "4           4  2022-05-01T16:47:54.000000000  510078.737250  6.909273e+06   \n",
       "\n",
       "             Pz           Vx          Vy           Vz  valid  \n",
       "0 -14206.244278  1508.525507 -102.703044  7517.940859      1  \n",
       "1  -6690.492513  1507.878952 -111.222023  7518.008061      1  \n",
       "2    829.899851  1507.260616 -119.621177  7518.032608      1  \n",
       "3   8348.891023  1506.675473 -128.154075  7517.901568      1  \n",
       "4  15866.374990  1506.073839 -136.585450  7517.956047      1  "
      ]
     },
     "execution_count": 3,
     "metadata": {},
     "output_type": "execute_result"
    }
   ],
   "source": [
    "data = pd.read_csv(Filepath)\n",
    "data.head()"
   ]
  },
  {
   "cell_type": "code",
   "execution_count": 4,
   "metadata": {},
   "outputs": [],
   "source": [
    "dict = data.to_dict('records')\n",
    "\n",
    "with open('data.json', 'w', encoding='utf-8') as fp:\n",
    "    fp.write(json.dumps(dict, indent=4))"
   ]
  }
 ],
 "metadata": {
  "kernelspec": {
   "display_name": "fds-core-env",
   "language": "python",
   "name": "python3"
  },
  "language_info": {
   "codemirror_mode": {
    "name": "ipython",
    "version": 3
   },
   "file_extension": ".py",
   "mimetype": "text/x-python",
   "name": "python",
   "nbconvert_exporter": "python",
   "pygments_lexer": "ipython3",
   "version": "3.10.13"
  }
 },
 "nbformat": 4,
 "nbformat_minor": 2
}
